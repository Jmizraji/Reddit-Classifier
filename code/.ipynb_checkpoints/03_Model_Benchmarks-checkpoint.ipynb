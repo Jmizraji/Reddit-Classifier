{
 "cells": [
  {
   "cell_type": "code",
   "execution_count": 189,
   "metadata": {},
   "outputs": [],
   "source": [
    "#Imports\n",
    "import requests\n",
    "import pandas as pd\n",
    "from bs4 import BeautifulSoup\n",
    "import time\n",
    "import datetime as dt\n",
    "import praw\n",
    "\n",
    "import seaborn as sns\n",
    "import matplotlib.pyplot as plt\n",
    "\n",
    "from sklearn.model_selection import train_test_split, GridSearchCV, cross_val_score\n",
    "from sklearn.pipeline import Pipeline\n",
    "from sklearn.linear_model import LogisticRegression\n",
    "from sklearn.metrics import confusion_matrix, plot_confusion_matrix\n",
    "from sklearn.feature_extraction.text import CountVectorizer, TfidfVectorizer\n",
    "from sklearn.ensemble import RandomForestClassifier, ExtraTreesClassifier"
   ]
  },
  {
   "cell_type": "code",
   "execution_count": 190,
   "metadata": {},
   "outputs": [],
   "source": [
    "#allows all columns to be scrolled\n",
    "pd.set_option('display.max_columns', None)\n",
    "\n",
    "# Source:https://stackoverflow.com/questions/47022070/display-all-dataframe-columns-in-a-jupyter-python-notebook/47022213 "
   ]
  },
  {
   "cell_type": "code",
   "execution_count": 191,
   "metadata": {},
   "outputs": [],
   "source": [
    "#displays all text in dataframes\n",
    "pd.set_option('display.max_colwidth', None)\n",
    "\n",
    "# https://stackoverflow.com/questions/25351968/how-to-display-full-non-truncated-dataframe-information-in-html-when-convertin"
   ]
  },
  {
   "cell_type": "markdown",
   "metadata": {},
   "source": [
    "# Read In Our Data"
   ]
  },
  {
   "cell_type": "code",
   "execution_count": 192,
   "metadata": {},
   "outputs": [],
   "source": [
    "#posts\n",
    "alexa = pd.read_csv('./data/alexa_subreddit.csv')\n",
    "google = pd.read_csv('./data/googlehome_subreddit.csv')"
   ]
  },
  {
   "cell_type": "code",
   "execution_count": 193,
   "metadata": {},
   "outputs": [],
   "source": [
    "#comments\n",
    "alexa_comments = pd.read_csv('./data/alexa_comments_subreddit.csv')\n",
    "google_comments = pd.read_csv('./data/googlehome_comments_subreddit.csv')"
   ]
  },
  {
   "cell_type": "code",
   "execution_count": 147,
   "metadata": {},
   "outputs": [
    {
     "data": {
      "text/html": [
       "<div>\n",
       "<style scoped>\n",
       "    .dataframe tbody tr th:only-of-type {\n",
       "        vertical-align: middle;\n",
       "    }\n",
       "\n",
       "    .dataframe tbody tr th {\n",
       "        vertical-align: top;\n",
       "    }\n",
       "\n",
       "    .dataframe thead th {\n",
       "        text-align: right;\n",
       "    }\n",
       "</style>\n",
       "<table border=\"1\" class=\"dataframe\">\n",
       "  <thead>\n",
       "    <tr style=\"text-align: right;\">\n",
       "      <th></th>\n",
       "      <th>Unnamed: 0</th>\n",
       "      <th>subreddit</th>\n",
       "      <th>id</th>\n",
       "      <th>name</th>\n",
       "      <th>title</th>\n",
       "      <th>selftext</th>\n",
       "      <th>score</th>\n",
       "      <th>flair</th>\n",
       "      <th>url</th>\n",
       "      <th>author</th>\n",
       "      <th>created</th>\n",
       "    </tr>\n",
       "  </thead>\n",
       "  <tbody>\n",
       "    <tr>\n",
       "      <th>574</th>\n",
       "      <td>574</td>\n",
       "      <td>alexa</td>\n",
       "      <td>hjxdgc</td>\n",
       "      <td>t3_hjxdgc</td>\n",
       "      <td>Alexa getting less intelligent all the time.</td>\n",
       "      <td>Alexa cancel my 8:10 am reminder\\n\\nyou have n...</td>\n",
       "      <td>70</td>\n",
       "      <td>NaN</td>\n",
       "      <td>https://www.reddit.com/r/alexa/comments/hjxdgc...</td>\n",
       "      <td>yendor5</td>\n",
       "      <td>2020-07-02 06:51:09</td>\n",
       "    </tr>\n",
       "  </tbody>\n",
       "</table>\n",
       "</div>"
      ],
      "text/plain": [
       "     Unnamed: 0 subreddit      id       name  \\\n",
       "574         574     alexa  hjxdgc  t3_hjxdgc   \n",
       "\n",
       "                                            title  \\\n",
       "574  Alexa getting less intelligent all the time.   \n",
       "\n",
       "                                              selftext  score  flair  \\\n",
       "574  Alexa cancel my 8:10 am reminder\\n\\nyou have n...     70    NaN   \n",
       "\n",
       "                                                   url   author  \\\n",
       "574  https://www.reddit.com/r/alexa/comments/hjxdgc...  yendor5   \n",
       "\n",
       "                created  \n",
       "574 2020-07-02 06:51:09  "
      ]
     },
     "execution_count": 147,
     "metadata": {},
     "output_type": "execute_result"
    }
   ],
   "source": [
    "# can we link by comment_link_id\n",
    "alexa[alexa['name'] == 't3_hjxdgc']"
   ]
  },
  {
   "cell_type": "code",
   "execution_count": 135,
   "metadata": {},
   "outputs": [
    {
     "data": {
      "text/html": [
       "<div>\n",
       "<style scoped>\n",
       "    .dataframe tbody tr th:only-of-type {\n",
       "        vertical-align: middle;\n",
       "    }\n",
       "\n",
       "    .dataframe tbody tr th {\n",
       "        vertical-align: top;\n",
       "    }\n",
       "\n",
       "    .dataframe thead th {\n",
       "        text-align: right;\n",
       "    }\n",
       "</style>\n",
       "<table border=\"1\" class=\"dataframe\">\n",
       "  <thead>\n",
       "    <tr style=\"text-align: right;\">\n",
       "      <th></th>\n",
       "      <th>Unnamed: 0</th>\n",
       "      <th>comment_id</th>\n",
       "      <th>comment_parent_id</th>\n",
       "      <th>comment_body</th>\n",
       "      <th>comment_link_id</th>\n",
       "    </tr>\n",
       "  </thead>\n",
       "  <tbody>\n",
       "    <tr>\n",
       "      <th>2360</th>\n",
       "      <td>2360</td>\n",
       "      <td>fwqe7pq</td>\n",
       "      <td>t3_hjxdgc</td>\n",
       "      <td>Alexa turn on living room lights\\n-\\nDo you me...</td>\n",
       "      <td>t3_hjxdgc</td>\n",
       "    </tr>\n",
       "    <tr>\n",
       "      <th>2361</th>\n",
       "      <td>2361</td>\n",
       "      <td>fwqch63</td>\n",
       "      <td>t3_hjxdgc</td>\n",
       "      <td>Genuinely prepared to abandon the alexa ecosys...</td>\n",
       "      <td>t3_hjxdgc</td>\n",
       "    </tr>\n",
       "  </tbody>\n",
       "</table>\n",
       "</div>"
      ],
      "text/plain": [
       "      Unnamed: 0 comment_id comment_parent_id  \\\n",
       "2360        2360    fwqe7pq         t3_hjxdgc   \n",
       "2361        2361    fwqch63         t3_hjxdgc   \n",
       "\n",
       "                                           comment_body comment_link_id  \n",
       "2360  Alexa turn on living room lights\\n-\\nDo you me...       t3_hjxdgc  \n",
       "2361  Genuinely prepared to abandon the alexa ecosys...       t3_hjxdgc  "
      ]
     },
     "execution_count": 135,
     "metadata": {},
     "output_type": "execute_result"
    }
   ],
   "source": [
    "alexa_comments[alexa_comments['comment_link_id'] == 't3_hjxdgc'].head(2)"
   ]
  },
  {
   "cell_type": "code",
   "execution_count": 105,
   "metadata": {},
   "outputs": [],
   "source": [
    "#how to join so that we can do analysis\n",
    "alexa_comments_merged = pd.merge(left=alexa_comments, right=alexa, how='left',left_on='comment_link_id', right_on='name')"
   ]
  },
  {
   "cell_type": "code",
   "execution_count": 132,
   "metadata": {},
   "outputs": [
    {
     "data": {
      "text/html": [
       "<div>\n",
       "<style scoped>\n",
       "    .dataframe tbody tr th:only-of-type {\n",
       "        vertical-align: middle;\n",
       "    }\n",
       "\n",
       "    .dataframe tbody tr th {\n",
       "        vertical-align: top;\n",
       "    }\n",
       "\n",
       "    .dataframe thead th {\n",
       "        text-align: right;\n",
       "    }\n",
       "</style>\n",
       "<table border=\"1\" class=\"dataframe\">\n",
       "  <thead>\n",
       "    <tr style=\"text-align: right;\">\n",
       "      <th></th>\n",
       "      <th>comment_body</th>\n",
       "    </tr>\n",
       "  </thead>\n",
       "  <tbody>\n",
       "    <tr>\n",
       "      <th>216</th>\n",
       "      <td>first thing i recommend to friends about alexa...</td>\n",
       "    </tr>\n",
       "    <tr>\n",
       "      <th>491</th>\n",
       "      <td>That's so bad photoshop, just look at the beze...</td>\n",
       "    </tr>\n",
       "    <tr>\n",
       "      <th>627</th>\n",
       "      <td>Yeah it’s confusing because the tv supports BE...</td>\n",
       "    </tr>\n",
       "    <tr>\n",
       "      <th>2218</th>\n",
       "      <td>It looks like a 2.1 setup with echo will only ...</td>\n",
       "    </tr>\n",
       "    <tr>\n",
       "      <th>2691</th>\n",
       "      <td>Google home is not the holy grail but at least...</td>\n",
       "    </tr>\n",
       "    <tr>\n",
       "      <th>2737</th>\n",
       "      <td>i'm annoyed that i can cast apple music to goo...</td>\n",
       "    </tr>\n",
       "    <tr>\n",
       "      <th>2943</th>\n",
       "      <td>i switched from google home to alexa back abou...</td>\n",
       "    </tr>\n",
       "    <tr>\n",
       "      <th>3895</th>\n",
       "      <td>Sonos it is. Probably the simplest solution, e...</td>\n",
       "    </tr>\n",
       "    <tr>\n",
       "      <th>4344</th>\n",
       "      <td>i removed the alexa app from my computer becau...</td>\n",
       "    </tr>\n",
       "    <tr>\n",
       "      <th>4458</th>\n",
       "      <td>Not surprising that Google has a better answer...</td>\n",
       "    </tr>\n",
       "  </tbody>\n",
       "</table>\n",
       "</div>"
      ],
      "text/plain": [
       "                                           comment_body\n",
       "216   first thing i recommend to friends about alexa...\n",
       "491   That's so bad photoshop, just look at the beze...\n",
       "627   Yeah it’s confusing because the tv supports BE...\n",
       "2218  It looks like a 2.1 setup with echo will only ...\n",
       "2691  Google home is not the holy grail but at least...\n",
       "2737  i'm annoyed that i can cast apple music to goo...\n",
       "2943  i switched from google home to alexa back abou...\n",
       "3895  Sonos it is. Probably the simplest solution, e...\n",
       "4344  i removed the alexa app from my computer becau...\n",
       "4458  Not surprising that Google has a better answer..."
      ]
     },
     "execution_count": 132,
     "metadata": {},
     "output_type": "execute_result"
    }
   ],
   "source": [
    "alexa_comments_merged[alexa_comments_merged['comment_body'].str.contains('alexa.*google|google.*alexa', regex=True)][['comment_body']]\n",
    "\n",
    "#https://stackoverflow.com/questions/4389644/regex-to-match-string-containing-two-names-in-any-order\n",
    "#^(?=.*\\bjack\\b)(?=.*\\bjames\\b)(?=.*\\bjason\\b)(?=.*\\bjules\\b).*$"
   ]
  },
  {
   "cell_type": "code",
   "execution_count": 140,
   "metadata": {},
   "outputs": [],
   "source": [
    "#same dataframes in a list for easy exploration and data cleaning\n",
    "dfs = [alexa, google]\n",
    "comments_dfs = [alexa_comments, google_comments]"
   ]
  },
  {
   "cell_type": "markdown",
   "metadata": {},
   "source": [
    "# Data Cleaning"
   ]
  },
  {
   "cell_type": "markdown",
   "metadata": {},
   "source": [
    "## Posts"
   ]
  },
  {
   "cell_type": "markdown",
   "metadata": {},
   "source": [
    "### Change `created` to datetime"
   ]
  },
  {
   "cell_type": "code",
   "execution_count": 141,
   "metadata": {},
   "outputs": [],
   "source": [
    "def created_to_datetime(dataframe):   \n",
    "    dataframe['created'] = dataframe['created'].apply(lambda x: dt.datetime.fromtimestamp(x).strftime('%Y-%m-%d %H:%M:%S')) #credit: https://www.w3resource.com/python-exercises/date-time-exercise/python-date-time-exercise-6.php\n",
    "    dataframe['created'] = pd.to_datetime(dataframe['created']) \n",
    "    \n",
    "    return dataframe.head(2)"
   ]
  },
  {
   "cell_type": "code",
   "execution_count": 142,
   "metadata": {},
   "outputs": [],
   "source": [
    "#change all dataframes created column to datetime\n",
    "for df in dfs:\n",
    "    created_to_datetime(df)"
   ]
  },
  {
   "cell_type": "markdown",
   "metadata": {},
   "source": [
    "### Review dataframe shape and min date to see how dateframes compare"
   ]
  },
  {
   "cell_type": "code",
   "execution_count": 143,
   "metadata": {},
   "outputs": [
    {
     "name": "stdout",
     "output_type": "stream",
     "text": [
      "alexa Shape: (998, 11)\n",
      "2020-05-26 15:06:10\n",
      "\n",
      "googlehome Shape: (966, 11)\n",
      "2020-07-26 08:16:13\n",
      "\n"
     ]
    }
   ],
   "source": [
    "for df in dfs:   \n",
    "    print(f'{df[\"subreddit\"][0]} Shape: {df.shape}')\n",
    "    print(df['created'].min())\n",
    "    print()"
   ]
  },
  {
   "cell_type": "code",
   "execution_count": 187,
   "metadata": {},
   "outputs": [
    {
     "data": {
      "image/png": "[encoded data removed]",
      "text/plain": [
       "<Figure size 432x288 with 1 Axes>"
      ]
     },
     "metadata": {
      "needs_background": "light"
     },
     "output_type": "display_data"
    }
   ],
   "source": [
    "alexa_posts_ct = alexa['created'].dt.strftime('%b %Y').value_counts(ascending=True) \n",
    "sns.barplot(alexa_posts_ct.index, alexa_posts_ct.values)\n",
    "plt.title('Alexa Posts Over Time')\n",
    "plt.show() #need to fix the x axis"
   ]
  },
  {
   "cell_type": "code",
   "execution_count": 186,
   "metadata": {},
   "outputs": [
    {
     "data": {
      "image/png": "[encoded data removed]",
      "text/plain": [
       "<Figure size 432x288 with 1 Axes>"
      ]
     },
     "metadata": {
      "needs_background": "light"
     },
     "output_type": "display_data"
    }
   ],
   "source": [
    "google_posts_ct = google['created'].dt.strftime('%b %Y').value_counts(ascending=True)\n",
    "sns.barplot(google_posts_ct.index, google_posts_ct.values)\n",
    "plt.title('Google Posts Over Time')\n",
    "plt.show()"
   ]
  },
  {
   "cell_type": "code",
   "execution_count": 188,
   "metadata": {},
   "outputs": [
    {
     "name": "stderr",
     "output_type": "stream",
     "text": [
      "No handles with labels found to put in legend.\n"
     ]
    },
    {
     "data": {
      "text/plain": [
       "<matplotlib.legend.Legend at 0x7fd3de744650>"
      ]
     },
     "execution_count": 188,
     "metadata": {},
     "output_type": "execute_result"
    },
    {
     "data": {
      "image/png": "[encoded data removed]",
      "text/plain": [
       "<Figure size 432x288 with 1 Axes>"
      ]
     },
     "metadata": {
      "needs_background": "light"
     },
     "output_type": "display_data"
    }
   ],
   "source": [
    "sns.lineplot(alexa_posts_ct.index, alexa_posts_ct.values)\n",
    "sns.lineplot(google_posts_ct.index, google_posts_ct.values)\n",
    "plt.legend()"
   ]
  },
  {
   "cell_type": "markdown",
   "metadata": {},
   "source": [
    "## Comments"
   ]
  },
  {
   "cell_type": "markdown",
   "metadata": {},
   "source": [
    "### Drop the `Unnamed: 0` column"
   ]
  },
  {
   "cell_type": "code",
   "execution_count": 151,
   "metadata": {},
   "outputs": [],
   "source": [
    "alexa_comments.drop(columns='Unnamed: 0', inplace=True)\n",
    "google_comments.drop(columns='Unnamed: 0', inplace=True)"
   ]
  },
  {
   "cell_type": "markdown",
   "metadata": {},
   "source": [
    "# Exploratory Data Analysis"
   ]
  },
  {
   "cell_type": "markdown",
   "metadata": {},
   "source": [
    "### How many net upvotes do posts have?"
   ]
  },
  {
   "cell_type": "code",
   "execution_count": 11,
   "metadata": {},
   "outputs": [
    {
     "data": {
      "image/png": "[encoded data removed]",
      "text/plain": [
       "<Figure size 576x432 with 1 Axes>"
      ]
     },
     "metadata": {
      "needs_background": "light"
     },
     "output_type": "display_data"
    }
   ],
   "source": [
    "plt.figure(figsize=(8,6))\n",
    "sns.boxplot(alexa['score'])\n",
    "plt.title(f'Boxplot of Alexa Upvotes');"
   ]
  },
  {
   "cell_type": "code",
   "execution_count": 12,
   "metadata": {},
   "outputs": [
    {
     "data": {
      "image/png": "[encoded data removed]",
      "text/plain": [
       "<Figure size 576x432 with 1 Axes>"
      ]
     },
     "metadata": {
      "needs_background": "light"
     },
     "output_type": "display_data"
    }
   ],
   "source": [
    "plt.figure(figsize=(8,6))\n",
    "sns.boxplot(google['score'])\n",
    "plt.title(f'Boxplots of Google Upvotes');"
   ]
  },
  {
   "cell_type": "markdown",
   "metadata": {},
   "source": [
    "#### Google has a lot more posts with > 200 upvotes. "
   ]
  },
  {
   "cell_type": "markdown",
   "metadata": {},
   "source": [
    "### Posts With The Most Upvotes"
   ]
  },
  {
   "cell_type": "code",
   "execution_count": 165,
   "metadata": {},
   "outputs": [
    {
     "data": {
      "text/html": [
       "<div>\n",
       "<style scoped>\n",
       "    .dataframe tbody tr th:only-of-type {\n",
       "        vertical-align: middle;\n",
       "    }\n",
       "\n",
       "    .dataframe tbody tr th {\n",
       "        vertical-align: top;\n",
       "    }\n",
       "\n",
       "    .dataframe thead th {\n",
       "        text-align: right;\n",
       "    }\n",
       "</style>\n",
       "<table border=\"1\" class=\"dataframe\">\n",
       "  <thead>\n",
       "    <tr style=\"text-align: right;\">\n",
       "      <th></th>\n",
       "      <th>title</th>\n",
       "      <th>selftext</th>\n",
       "      <th>url</th>\n",
       "      <th>flair</th>\n",
       "      <th>score</th>\n",
       "    </tr>\n",
       "  </thead>\n",
       "  <tbody>\n",
       "    <tr>\n",
       "      <th>184</th>\n",
       "      <td>Nice</td>\n",
       "      <td>NaN</td>\n",
       "      <td>https://i.redd.it/o9lfyi1gb8g51.jpg</td>\n",
       "      <td>NaN</td>\n",
       "      <td>236</td>\n",
       "    </tr>\n",
       "    <tr>\n",
       "      <th>251</th>\n",
       "      <td>I created a skill that will play “Piano Man” by Billy Joel so it will play the line “it’s 9 o’clock on a Saturday” at exactly 9:00 on a Saturday.</td>\n",
       "      <td>NaN</td>\n",
       "      <td>https://i.redd.it/lfgnpy5zgpe51.jpg</td>\n",
       "      <td>NaN</td>\n",
       "      <td>188</td>\n",
       "    </tr>\n",
       "    <tr>\n",
       "      <th>697</th>\n",
       "      <td>the alexa app is crap. it's slow, laggy, fully of bugs, and just a pain in the arse to use.</td>\n",
       "      <td>title.  \\n\\n\\nthe actual devices are fine, but the app is shit.</td>\n",
       "      <td>https://www.reddit.com/r/alexa/comments/hdapdz/the_alexa_app_is_crap_its_slow_laggy_fully_of/</td>\n",
       "      <td>NaN</td>\n",
       "      <td>168</td>\n",
       "    </tr>\n",
       "    <tr>\n",
       "      <th>473</th>\n",
       "      <td>My kids have worked out how to set reminders on their siblings Echo from their own</td>\n",
       "      <td>NaN</td>\n",
       "      <td>https://i.redd.it/edjdlfj7soa51.jpg</td>\n",
       "      <td>NaN</td>\n",
       "      <td>156</td>\n",
       "    </tr>\n",
       "    <tr>\n",
       "      <th>618</th>\n",
       "      <td>Did she just troll me?</td>\n",
       "      <td>NaN</td>\n",
       "      <td>https://i.redd.it/hfidedl6si751.jpg</td>\n",
       "      <td>NaN</td>\n",
       "      <td>146</td>\n",
       "    </tr>\n",
       "    <tr>\n",
       "      <th>549</th>\n",
       "      <td>My Alexa woke up to a fart, been some time since i laughed so hard</td>\n",
       "      <td>NaN</td>\n",
       "      <td>https://streamable.com/r6lm9u</td>\n",
       "      <td>NaN</td>\n",
       "      <td>114</td>\n",
       "    </tr>\n",
       "    <tr>\n",
       "      <th>778</th>\n",
       "      <td>Got my Alexa glasses today!</td>\n",
       "      <td>NaN</td>\n",
       "      <td>https://i.redd.it/12y9ilc4ix451.jpg</td>\n",
       "      <td>NaN</td>\n",
       "      <td>99</td>\n",
       "    </tr>\n",
       "    <tr>\n",
       "      <th>898</th>\n",
       "      <td>I am currently working on an Alexa skill that lets users play YouTube videos via audio on Alexa devices without a screen/ plays the video on those devices with a screen. Essentially this is a skill that lets users listen to music/videos for free without a subscription!</td>\n",
       "      <td>Please post additional features you would like me to add to this skill in the replies below! Thanks!</td>\n",
       "      <td>https://www.reddit.com/r/alexa/comments/gwm3bm/i_am_currently_working_on_an_alexa_skill_that/</td>\n",
       "      <td>NaN</td>\n",
       "      <td>76</td>\n",
       "    </tr>\n",
       "    <tr>\n",
       "      <th>42</th>\n",
       "      <td>Anyone Else Get Really Annoyed by Alexa’s “By the way...”</td>\n",
       "      <td>I know this might be a picky thing, but it seriously annoys me so much when Alexa does the “By the way...” thing. I think it’s mostly because I usually just want a quick answer without having to wait for Alexa to say her whole spiel about how much she can do for me as an assistant. It’s happened to me twice today: once when turning on the lights and another when I asked her for the weather. It bugs me so much and I wish there was an option to disable it.</td>\n",
       "      <td>https://www.reddit.com/r/alexa/comments/iep0ee/anyone_else_get_really_annoyed_by_alexas_by_the/</td>\n",
       "      <td>NaN</td>\n",
       "      <td>75</td>\n",
       "    </tr>\n",
       "    <tr>\n",
       "      <th>609</th>\n",
       "      <td>Reminders like this please.</td>\n",
       "      <td>\"Alexa, I've put my red jacket in the storage container in the spare room.\"\\n\\nMonths later.\\n\\n\"Alexa, Where is my red jacket?\"\\n\\n\"You'll find your red jacket in the storage container in the spare room.\"\\n\\nMake this happen.</td>\n",
       "      <td>https://www.reddit.com/r/alexa/comments/hhvy2x/reminders_like_this_please/</td>\n",
       "      <td>NaN</td>\n",
       "      <td>73</td>\n",
       "    </tr>\n",
       "    <tr>\n",
       "      <th>71</th>\n",
       "      <td>Looking to give away an Alexa Echo to someone who could use it.</td>\n",
       "      <td>No karma whoring, likes, subscribes, whatever. I'd like to give my Alexa to someone who could use it. I imagine that seniors have an easier time summoning an Alexa than turning on a radio, or figuring out how to use their phones for live listening.\\n\\nIf you, or someone you know can use an an Alexa, I'll ship it to you. I'll pay for the shipping. If I can make someone feel less lonely during everything that's going on, I feel like I've succeeded.\\n\\nSend me a PM, I'll send it this week.\\n\\nThanks reddit :)\\n\\nEdit: 2020-08-21: Thank you for all the kind messages. Alexa has found a forever home.</td>\n",
       "      <td>https://www.reddit.com/r/alexa/comments/id1b82/looking_to_give_away_an_alexa_echo_to_someone_who/</td>\n",
       "      <td>NaN</td>\n",
       "      <td>72</td>\n",
       "    </tr>\n",
       "    <tr>\n",
       "      <th>574</th>\n",
       "      <td>Alexa getting less intelligent all the time.</td>\n",
       "      <td>Alexa cancel my 8:10 am reminder\\n\\nyou have nothing on your calendar for 8:10 am\\n\\nAlexa what are my reminders?\\n\\nyou have a reminder at 8:10 am\\n\\nAlexa cancel my 8:10 am reminder\\n\\nyou have nothing on your calendar for 8:10 am\\n\\nAlexa what's on my calendar today\\n\\nyou have a reminder at 8:10 am......\\n\\n:(</td>\n",
       "      <td>https://www.reddit.com/r/alexa/comments/hjxdgc/alexa_getting_less_intelligent_all_the_time/</td>\n",
       "      <td>NaN</td>\n",
       "      <td>70</td>\n",
       "    </tr>\n",
       "    <tr>\n",
       "      <th>344</th>\n",
       "      <td>I just asked Alexa, \"What cell phone should I buy?\" and she told me that I should buy a Samsung Galaxy S6 because a 2015 article from Tom's Guide said it was the best new phone out there....</td>\n",
       "      <td>NaN</td>\n",
       "      <td>https://www.reddit.com/r/alexa/comments/hxz0z9/i_just_asked_alexa_what_cell_phone_should_i_buy/</td>\n",
       "      <td>NaN</td>\n",
       "      <td>67</td>\n",
       "    </tr>\n",
       "    <tr>\n",
       "      <th>931</th>\n",
       "      <td>end my suffering</td>\n",
       "      <td>NaN</td>\n",
       "      <td>https://i.redd.it/z0kw2rsp5f251.jpg</td>\n",
       "      <td>NaN</td>\n",
       "      <td>67</td>\n",
       "    </tr>\n",
       "    <tr>\n",
       "      <th>526</th>\n",
       "      <td>A new feature apparently!</td>\n",
       "      <td>NaN</td>\n",
       "      <td>https://i.redd.it/7a6s6l6mip951.jpg</td>\n",
       "      <td>NaN</td>\n",
       "      <td>64</td>\n",
       "    </tr>\n",
       "    <tr>\n",
       "      <th>126</th>\n",
       "      <td>Is it just me ...</td>\n",
       "      <td>or has anyone else noticed that it's harder for Alexa to hear you when you call her name? This started couple of months ago. Normally, Alexa hears me and responds even when I am saying something else that even sounds remotely like Alexa. It still does this when watching TV and a character says something equally similar. However, now, when listening to news or events that have commercials, Alexa doesn't hear me at all unless I'm standing right next to her and yelling her name. I can stand 10 feet away and yell it five times and she won't hear it. I notice that this always and only happens during commercials, when I want to say \"Alexa, skip.\" Did Amazon make Alexa harder to hear so that people can't easily skip commercials? If not, any suggestions on getting Alexa to hear me better?</td>\n",
       "      <td>https://www.reddit.com/r/alexa/comments/iaakca/is_it_just_me/</td>\n",
       "      <td>NaN</td>\n",
       "      <td>60</td>\n",
       "    </tr>\n",
       "    <tr>\n",
       "      <th>25</th>\n",
       "      <td>My Alexa gave me this as a notification while I was in the room with it, in dead silence</td>\n",
       "      <td>NaN</td>\n",
       "      <td>https://v.redd.it/cjeb0tcf0ui51</td>\n",
       "      <td>NaN</td>\n",
       "      <td>57</td>\n",
       "    </tr>\n",
       "    <tr>\n",
       "      <th>241</th>\n",
       "      <td>Alexa cancel all my alarms</td>\n",
       "      <td>NaN</td>\n",
       "      <td>https://i.redd.it/yhvr7oriwye51.jpg</td>\n",
       "      <td>NaN</td>\n",
       "      <td>55</td>\n",
       "    </tr>\n",
       "    <tr>\n",
       "      <th>709</th>\n",
       "      <td>What's your lowest effort set-up reddit? This is mine, taking about 8 minutes including taking the dot out of the box, bending the nail out a bit and locating the piece holding the dot on the nail.</td>\n",
       "      <td>NaN</td>\n",
       "      <td>https://i.redd.it/4ehh9y86t3651.jpg</td>\n",
       "      <td>NaN</td>\n",
       "      <td>55</td>\n",
       "    </tr>\n",
       "    <tr>\n",
       "      <th>313</th>\n",
       "      <td>No, Alexa. You definitely did not do what I wanted.</td>\n",
       "      <td>NaN</td>\n",
       "      <td>https://i.redd.it/vp5vdwdx1nd51.jpg</td>\n",
       "      <td>NaN</td>\n",
       "      <td>51</td>\n",
       "    </tr>\n",
       "  </tbody>\n",
       "</table>\n",
       "</div>"
      ],
      "text/plain": [
       "                                                                                                                                                                                                                                                                             title  \\\n",
       "184                                                                                                                                                                                                                                                                           Nice   \n",
       "251                                                                                                                              I created a skill that will play “Piano Man” by Billy Joel so it will play the line “it’s 9 o’clock on a Saturday” at exactly 9:00 on a Saturday.   \n",
       "697                                                                                                                                                                                    the alexa app is crap. it's slow, laggy, fully of bugs, and just a pain in the arse to use.   \n",
       "473                                                                                                                                                                                             My kids have worked out how to set reminders on their siblings Echo from their own   \n",
       "618                                                                                                                                                                                                                                                         Did she just troll me?   \n",
       "549                                                                                                                                                                                                             My Alexa woke up to a fart, been some time since i laughed so hard   \n",
       "778                                                                                                                                                                                                                                                    Got my Alexa glasses today!   \n",
       "898  I am currently working on an Alexa skill that lets users play YouTube videos via audio on Alexa devices without a screen/ plays the video on those devices with a screen. Essentially this is a skill that lets users listen to music/videos for free without a subscription!   \n",
       "42                                                                                                                                                                                                                       Anyone Else Get Really Annoyed by Alexa’s “By the way...”   \n",
       "609                                                                                                                                                                                                                                                    Reminders like this please.   \n",
       "71                                                                                                                                                                                                                 Looking to give away an Alexa Echo to someone who could use it.   \n",
       "574                                                                                                                                                                                                                                   Alexa getting less intelligent all the time.   \n",
       "344                                                                                 I just asked Alexa, \"What cell phone should I buy?\" and she told me that I should buy a Samsung Galaxy S6 because a 2015 article from Tom's Guide said it was the best new phone out there....   \n",
       "931                                                                                                                                                                                                                                                               end my suffering   \n",
       "526                                                                                                                                                                                                                                                      A new feature apparently!   \n",
       "126                                                                                                                                                                                                                                                              Is it just me ...   \n",
       "25                                                                                                                                                                                        My Alexa gave me this as a notification while I was in the room with it, in dead silence   \n",
       "241                                                                                                                                                                                                                                                     Alexa cancel all my alarms   \n",
       "709                                                                          What's your lowest effort set-up reddit? This is mine, taking about 8 minutes including taking the dot out of the box, bending the nail out a bit and locating the piece holding the dot on the nail.   \n",
       "313                                                                                                                                                                                                                            No, Alexa. You definitely did not do what I wanted.   \n",
       "\n",
       "                                                                                                                                                                                                                                                                                                                                                                                                                                                                                                                                                                                                                                                                                                                                                                                                                    selftext  \\\n",
       "184                                                                                                                                                                                                                                                                                                                                                                                                                                                                                                                                                                                                                                                                                                                                                                                                                      NaN   \n",
       "251                                                                                                                                                                                                                                                                                                                                                                                                                                                                                                                                                                                                                                                                                                                                                                                                                      NaN   \n",
       "697                                                                                                                                                                                                                                                                                                                                                                                                                                                                                                                                                                                                                                                                                                                                                          title.  \\n\\n\\nthe actual devices are fine, but the app is shit.   \n",
       "473                                                                                                                                                                                                                                                                                                                                                                                                                                                                                                                                                                                                                                                                                                                                                                                                                      NaN   \n",
       "618                                                                                                                                                                                                                                                                                                                                                                                                                                                                                                                                                                                                                                                                                                                                                                                                                      NaN   \n",
       "549                                                                                                                                                                                                                                                                                                                                                                                                                                                                                                                                                                                                                                                                                                                                                                                                                      NaN   \n",
       "778                                                                                                                                                                                                                                                                                                                                                                                                                                                                                                                                                                                                                                                                                                                                                                                                                      NaN   \n",
       "898                                                                                                                                                                                                                                                                                                                                                                                                                                                                                                                                                                                                                                                                                                                     Please post additional features you would like me to add to this skill in the replies below! Thanks!   \n",
       "42                                                                                                                                                                                                                                                                                                                                                I know this might be a picky thing, but it seriously annoys me so much when Alexa does the “By the way...” thing. I think it’s mostly because I usually just want a quick answer without having to wait for Alexa to say her whole spiel about how much she can do for me as an assistant. It’s happened to me twice today: once when turning on the lights and another when I asked her for the weather. It bugs me so much and I wish there was an option to disable it.   \n",
       "609                                                                                                                                                                                                                                                                                                                                                                                                                                                                                                                                                                                       \"Alexa, I've put my red jacket in the storage container in the spare room.\"\\n\\nMonths later.\\n\\n\"Alexa, Where is my red jacket?\"\\n\\n\"You'll find your red jacket in the storage container in the spare room.\"\\n\\nMake this happen.   \n",
       "71                                                                                                                                                                                                 No karma whoring, likes, subscribes, whatever. I'd like to give my Alexa to someone who could use it. I imagine that seniors have an easier time summoning an Alexa than turning on a radio, or figuring out how to use their phones for live listening.\\n\\nIf you, or someone you know can use an an Alexa, I'll ship it to you. I'll pay for the shipping. If I can make someone feel less lonely during everything that's going on, I feel like I've succeeded.\\n\\nSend me a PM, I'll send it this week.\\n\\nThanks reddit :)\\n\\nEdit: 2020-08-21: Thank you for all the kind messages. Alexa has found a forever home.   \n",
       "574                                                                                                                                                                                                                                                                                                                                                                                                                                                                                              Alexa cancel my 8:10 am reminder\\n\\nyou have nothing on your calendar for 8:10 am\\n\\nAlexa what are my reminders?\\n\\nyou have a reminder at 8:10 am\\n\\nAlexa cancel my 8:10 am reminder\\n\\nyou have nothing on your calendar for 8:10 am\\n\\nAlexa what's on my calendar today\\n\\nyou have a reminder at 8:10 am......\\n\\n:(   \n",
       "344                                                                                                                                                                                                                                                                                                                                                                                                                                                                                                                                                                                                                                                                                                                                                                                                                      NaN   \n",
       "931                                                                                                                                                                                                                                                                                                                                                                                                                                                                                                                                                                                                                                                                                                                                                                                                                      NaN   \n",
       "526                                                                                                                                                                                                                                                                                                                                                                                                                                                                                                                                                                                                                                                                                                                                                                                                                      NaN   \n",
       "126  or has anyone else noticed that it's harder for Alexa to hear you when you call her name? This started couple of months ago. Normally, Alexa hears me and responds even when I am saying something else that even sounds remotely like Alexa. It still does this when watching TV and a character says something equally similar. However, now, when listening to news or events that have commercials, Alexa doesn't hear me at all unless I'm standing right next to her and yelling her name. I can stand 10 feet away and yell it five times and she won't hear it. I notice that this always and only happens during commercials, when I want to say \"Alexa, skip.\" Did Amazon make Alexa harder to hear so that people can't easily skip commercials? If not, any suggestions on getting Alexa to hear me better?   \n",
       "25                                                                                                                                                                                                                                                                                                                                                                                                                                                                                                                                                                                                                                                                                                                                                                                                                       NaN   \n",
       "241                                                                                                                                                                                                                                                                                                                                                                                                                                                                                                                                                                                                                                                                                                                                                                                                                      NaN   \n",
       "709                                                                                                                                                                                                                                                                                                                                                                                                                                                                                                                                                                                                                                                                                                                                                                                                                      NaN   \n",
       "313                                                                                                                                                                                                                                                                                                                                                                                                                                                                                                                                                                                                                                                                                                                                                                                                                      NaN   \n",
       "\n",
       "                                                                                                   url  \\\n",
       "184                                                                https://i.redd.it/o9lfyi1gb8g51.jpg   \n",
       "251                                                                https://i.redd.it/lfgnpy5zgpe51.jpg   \n",
       "697      https://www.reddit.com/r/alexa/comments/hdapdz/the_alexa_app_is_crap_its_slow_laggy_fully_of/   \n",
       "473                                                                https://i.redd.it/edjdlfj7soa51.jpg   \n",
       "618                                                                https://i.redd.it/hfidedl6si751.jpg   \n",
       "549                                                                      https://streamable.com/r6lm9u   \n",
       "778                                                                https://i.redd.it/12y9ilc4ix451.jpg   \n",
       "898      https://www.reddit.com/r/alexa/comments/gwm3bm/i_am_currently_working_on_an_alexa_skill_that/   \n",
       "42     https://www.reddit.com/r/alexa/comments/iep0ee/anyone_else_get_really_annoyed_by_alexas_by_the/   \n",
       "609                         https://www.reddit.com/r/alexa/comments/hhvy2x/reminders_like_this_please/   \n",
       "71   https://www.reddit.com/r/alexa/comments/id1b82/looking_to_give_away_an_alexa_echo_to_someone_who/   \n",
       "574        https://www.reddit.com/r/alexa/comments/hjxdgc/alexa_getting_less_intelligent_all_the_time/   \n",
       "344    https://www.reddit.com/r/alexa/comments/hxz0z9/i_just_asked_alexa_what_cell_phone_should_i_buy/   \n",
       "931                                                                https://i.redd.it/z0kw2rsp5f251.jpg   \n",
       "526                                                                https://i.redd.it/7a6s6l6mip951.jpg   \n",
       "126                                      https://www.reddit.com/r/alexa/comments/iaakca/is_it_just_me/   \n",
       "25                                                                     https://v.redd.it/cjeb0tcf0ui51   \n",
       "241                                                                https://i.redd.it/yhvr7oriwye51.jpg   \n",
       "709                                                                https://i.redd.it/4ehh9y86t3651.jpg   \n",
       "313                                                                https://i.redd.it/vp5vdwdx1nd51.jpg   \n",
       "\n",
       "     flair  score  \n",
       "184    NaN    236  \n",
       "251    NaN    188  \n",
       "697    NaN    168  \n",
       "473    NaN    156  \n",
       "618    NaN    146  \n",
       "549    NaN    114  \n",
       "778    NaN     99  \n",
       "898    NaN     76  \n",
       "42     NaN     75  \n",
       "609    NaN     73  \n",
       "71     NaN     72  \n",
       "574    NaN     70  \n",
       "344    NaN     67  \n",
       "931    NaN     67  \n",
       "526    NaN     64  \n",
       "126    NaN     60  \n",
       "25     NaN     57  \n",
       "241    NaN     55  \n",
       "709    NaN     55  \n",
       "313    NaN     51  "
      ]
     },
     "execution_count": 165,
     "metadata": {},
     "output_type": "execute_result"
    }
   ],
   "source": [
    "# Alexa\n",
    "alexa[['title','selftext','url','flair','score']].sort_values(by='score', ascending=False).head(20)"
   ]
  },
  {
   "cell_type": "code",
   "execution_count": 166,
   "metadata": {},
   "outputs": [
    {
     "data": {
      "text/html": [
       "<div>\n",
       "<style scoped>\n",
       "    .dataframe tbody tr th:only-of-type {\n",
       "        vertical-align: middle;\n",
       "    }\n",
       "\n",
       "    .dataframe tbody tr th {\n",
       "        vertical-align: top;\n",
       "    }\n",
       "\n",
       "    .dataframe thead th {\n",
       "        text-align: right;\n",
       "    }\n",
       "</style>\n",
       "<table border=\"1\" class=\"dataframe\">\n",
       "  <thead>\n",
       "    <tr style=\"text-align: right;\">\n",
       "      <th></th>\n",
       "      <th>title</th>\n",
       "      <th>selftext</th>\n",
       "      <th>url</th>\n",
       "      <th>flair</th>\n",
       "      <th>score</th>\n",
       "    </tr>\n",
       "  </thead>\n",
       "  <tbody>\n",
       "    <tr>\n",
       "      <th>426</th>\n",
       "      <td>I really should be more specific.</td>\n",
       "      <td>NaN</td>\n",
       "      <td>https://i.redd.it/qfxdlkw1vmg51.jpg</td>\n",
       "      <td>NaN</td>\n",
       "      <td>910</td>\n",
       "    </tr>\n",
       "    <tr>\n",
       "      <th>314</th>\n",
       "      <td>I got rick rolled by Assistant</td>\n",
       "      <td>NaN</td>\n",
       "      <td>https://i.imgur.com/faZ8yFG.png</td>\n",
       "      <td>NaN</td>\n",
       "      <td>824</td>\n",
       "    </tr>\n",
       "    <tr>\n",
       "      <th>928</th>\n",
       "      <td>I made a free and open-source application which allows you to send commands to Google Assistant that will execute after a certain amount of time. Now you can say stuff like: \"Hey Google, turn off the lights after 10 minutes\"</td>\n",
       "      <td>NaN</td>\n",
       "      <td>https://github.com/wiseindy/timer-for-google-assistant</td>\n",
       "      <td>Hacks</td>\n",
       "      <td>762</td>\n",
       "    </tr>\n",
       "    <tr>\n",
       "      <th>666</th>\n",
       "      <td>Google \"Nest-ing\" Camera</td>\n",
       "      <td>NaN</td>\n",
       "      <td>https://www.reddit.com/gallery/i4bucb</td>\n",
       "      <td>Tips</td>\n",
       "      <td>678</td>\n",
       "    </tr>\n",
       "    <tr>\n",
       "      <th>81</th>\n",
       "      <td>Cat just threw up and I was telling them to stop doing it and Google laid this on me</td>\n",
       "      <td>NaN</td>\n",
       "      <td>https://imgur.com/UZrp4fi</td>\n",
       "      <td>Other</td>\n",
       "      <td>611</td>\n",
       "    </tr>\n",
       "    <tr>\n",
       "      <th>38</th>\n",
       "      <td>Dark mode has arrived, at long last!</td>\n",
       "      <td>NaN</td>\n",
       "      <td>https://i.redd.it/qhfofco2r5j51.png</td>\n",
       "      <td>NaN</td>\n",
       "      <td>606</td>\n",
       "    </tr>\n",
       "    <tr>\n",
       "      <th>100</th>\n",
       "      <td>Google WiFi finally merge into Google home app</td>\n",
       "      <td>NaN</td>\n",
       "      <td>https://i.redd.it/5rhv7zoliri51.png</td>\n",
       "      <td>News</td>\n",
       "      <td>576</td>\n",
       "    </tr>\n",
       "    <tr>\n",
       "      <th>210</th>\n",
       "      <td>Notification: \"Someone is at the front door\"</td>\n",
       "      <td>NaN</td>\n",
       "      <td>https://v.redd.it/efa7h4k85xh51</td>\n",
       "      <td>NaN</td>\n",
       "      <td>534</td>\n",
       "    </tr>\n",
       "    <tr>\n",
       "      <th>869</th>\n",
       "      <td>Today, my kid accidentally dropped and broke glassware and then I received this message. I was happy it recognized. Should I be concerned?? I read somewhere that Google Assistant would not process until it's prompted with \" Ok Google\"</td>\n",
       "      <td>NaN</td>\n",
       "      <td>https://i.redd.it/6rty0juh6wd51.png</td>\n",
       "      <td>NaN</td>\n",
       "      <td>508</td>\n",
       "    </tr>\n",
       "    <tr>\n",
       "      <th>783</th>\n",
       "      <td>My partner was drunk and home alone last night and...</td>\n",
       "      <td>NaN</td>\n",
       "      <td>https://i.redd.it/t8we0uvhzee51.jpg</td>\n",
       "      <td>NaN</td>\n",
       "      <td>485</td>\n",
       "    </tr>\n",
       "    <tr>\n",
       "      <th>822</th>\n",
       "      <td>groan...</td>\n",
       "      <td>NaN</td>\n",
       "      <td>https://i.redd.it/ve8k00z8r6e51.png</td>\n",
       "      <td>NaN</td>\n",
       "      <td>476</td>\n",
       "    </tr>\n",
       "    <tr>\n",
       "      <th>515</th>\n",
       "      <td>Do yourself a favor and ask google “what sound does a camel make?”</td>\n",
       "      <td>Also they have many responses to keep you entertained. That is all</td>\n",
       "      <td>https://www.reddit.com/r/googlehome/comments/i78wm3/do_yourself_a_favor_and_ask_google_what_sound/</td>\n",
       "      <td>Tips</td>\n",
       "      <td>452</td>\n",
       "    </tr>\n",
       "    <tr>\n",
       "      <th>602</th>\n",
       "      <td>Can anybody attest to this?</td>\n",
       "      <td>NaN</td>\n",
       "      <td>https://i.redd.it/j91xveu5cof51.jpg</td>\n",
       "      <td>NaN</td>\n",
       "      <td>441</td>\n",
       "    </tr>\n",
       "    <tr>\n",
       "      <th>649</th>\n",
       "      <td>I'm not sure which timer t'd'dat'fer</td>\n",
       "      <td>NaN</td>\n",
       "      <td>https://v.redd.it/hmynwniusef51</td>\n",
       "      <td>GH Trigger Warning</td>\n",
       "      <td>434</td>\n",
       "    </tr>\n",
       "    <tr>\n",
       "      <th>905</th>\n",
       "      <td>Usually I have good experiences with my fleet of Homes, this was an unpleasant surprise.</td>\n",
       "      <td>NaN</td>\n",
       "      <td>https://i.redd.it/zjwmsu2n6od51.png</td>\n",
       "      <td>Bug</td>\n",
       "      <td>431</td>\n",
       "    </tr>\n",
       "    <tr>\n",
       "      <th>114</th>\n",
       "      <td>Can we have a dark mode for Google Home app. And Google Home widgets for android.</td>\n",
       "      <td>It looks like google home is the only app that's left to adapt dark mode out of all apps. \\nI have to blind my eyes everytime I use the app to turn on things in dark. \\n\\nAnd can we have like Google Home widgets for android ? I know they're going to implement system wide google home controls with Android 11. We all know not most of the phones we have now will be getting Android 11 updates and it depends on the phone manufacturers either. For now the only way to control smart home things is either by opening app which takes time to load and by using assistant. In both the cases they usually take time to get simple things done like turning on and off things. \\n\\nHaving widgets would be a simple thing to implement and a great way to get things done on the go. Without having to wait for the app to open and look for things or by triggering assistant to control things.</td>\n",
       "      <td>https://www.reddit.com/r/googlehome/comments/iepdsn/can_we_have_a_dark_mode_for_google_home_app_and/</td>\n",
       "      <td>Features WishList</td>\n",
       "      <td>426</td>\n",
       "    </tr>\n",
       "    <tr>\n",
       "      <th>403</th>\n",
       "      <td>Last night's GH moment. I love living in the future...</td>\n",
       "      <td>Super sleepy me: \"Hey Google, set an alarm for 8:45\"  \\nGH: \"For when?\"  \\nMe: \"8:45\"  \\nGHPoS: \"I'm sorry, when is the alarm for?\"  \\nMe: \"8:45 am\"  \\nGHPoS: \"I can only set an alarm for a specific time, when is the alarm for?\"  \\nMe: \"EIGHT FOORTYYY-FIIIVE AYE EMMM\"  \\nGHPoS: \"I can only set an alarm for a specific time, when is the alarm for?\"  \\nMe, no longer sleepy: \"Eight hours from now\"  \\nGHPoS: \"Alarm set for 8:46\"</td>\n",
       "      <td>https://www.reddit.com/r/googlehome/comments/i92tm8/last_nights_gh_moment_i_love_living_in_the_future/</td>\n",
       "      <td>Bug</td>\n",
       "      <td>420</td>\n",
       "    </tr>\n",
       "    <tr>\n",
       "      <th>568</th>\n",
       "      <td>After having a Google Home for a little over a year I just realized this</td>\n",
       "      <td>When setting an alarm I'd say hey Google, set alarm for 9:00, Wait it  for to register, then repeat the same process for 9:30. However I just realize that I can do them all in one shot \"hey Google set alarms for 9:00 and 9:30... FML</td>\n",
       "      <td>https://www.reddit.com/r/googlehome/comments/i6exc3/after_having_a_google_home_for_a_little_over_a/</td>\n",
       "      <td>Other</td>\n",
       "      <td>382</td>\n",
       "    </tr>\n",
       "    <tr>\n",
       "      <th>536</th>\n",
       "      <td>TIL you can control bulbs by color temperature with Assistant</td>\n",
       "      <td>NaN</td>\n",
       "      <td>https://i.imgur.com/wvI4qa7.png</td>\n",
       "      <td>Tips</td>\n",
       "      <td>380</td>\n",
       "    </tr>\n",
       "    <tr>\n",
       "      <th>844</th>\n",
       "      <td>Google just made my dumb smoke detectors smart</td>\n",
       "      <td>Burned something in the kitchen and the cheap $10 smoke detector went off. Then I got a notification on my phone that google heard the smoke detector going off. Pretty rad google.\\n\\nEDIT: Spelling and here's a link to a screenshot of the notification:  https://imgur.com/gallery/wjRUqmo</td>\n",
       "      <td>https://www.reddit.com/r/googlehome/comments/i0v9bf/google_just_made_my_dumb_smoke_detectors_smart/</td>\n",
       "      <td>NaN</td>\n",
       "      <td>366</td>\n",
       "    </tr>\n",
       "  </tbody>\n",
       "</table>\n",
       "</div>"
      ],
      "text/plain": [
       "                                                                                                                                                                                                                                          title  \\\n",
       "426                                                                                                                                                                                                           I really should be more specific.   \n",
       "314                                                                                                                                                                                                              I got rick rolled by Assistant   \n",
       "928            I made a free and open-source application which allows you to send commands to Google Assistant that will execute after a certain amount of time. Now you can say stuff like: \"Hey Google, turn off the lights after 10 minutes\"   \n",
       "666                                                                                                                                                                                                                    Google \"Nest-ing\" Camera   \n",
       "81                                                                                                                                                         Cat just threw up and I was telling them to stop doing it and Google laid this on me   \n",
       "38                                                                                                                                                                                                         Dark mode has arrived, at long last!   \n",
       "100                                                                                                                                                                                              Google WiFi finally merge into Google home app   \n",
       "210                                                                                                                                                                                                Notification: \"Someone is at the front door\"   \n",
       "869  Today, my kid accidentally dropped and broke glassware and then I received this message. I was happy it recognized. Should I be concerned?? I read somewhere that Google Assistant would not process until it's prompted with \" Ok Google\"   \n",
       "783                                                                                                                                                                                       My partner was drunk and home alone last night and...   \n",
       "822                                                                                                                                                                                                                                    groan...   \n",
       "515                                                                                                                                                                          Do yourself a favor and ask google “what sound does a camel make?”   \n",
       "602                                                                                                                                                                                                                 Can anybody attest to this?   \n",
       "649                                                                                                                                                                                                        I'm not sure which timer t'd'dat'fer   \n",
       "905                                                                                                                                                    Usually I have good experiences with my fleet of Homes, this was an unpleasant surprise.   \n",
       "114                                                                                                                                                           Can we have a dark mode for Google Home app. And Google Home widgets for android.   \n",
       "403                                                                                                                                                                                      Last night's GH moment. I love living in the future...   \n",
       "568                                                                                                                                                                    After having a Google Home for a little over a year I just realized this   \n",
       "536                                                                                                                                                                               TIL you can control bulbs by color temperature with Assistant   \n",
       "844                                                                                                                                                                                              Google just made my dumb smoke detectors smart   \n",
       "\n",
       "                                                                                                                                                                                                                                                                                                                                                                                                                                                                                                                                                                                                                                                                                                                                                                                                                                                                                                        selftext  \\\n",
       "426                                                                                                                                                                                                                                                                                                                                                                                                                                                                                                                                                                                                                                                                                                                                                                                                                                                                                                          NaN   \n",
       "314                                                                                                                                                                                                                                                                                                                                                                                                                                                                                                                                                                                                                                                                                                                                                                                                                                                                                                          NaN   \n",
       "928                                                                                                                                                                                                                                                                                                                                                                                                                                                                                                                                                                                                                                                                                                                                                                                                                                                                                                          NaN   \n",
       "666                                                                                                                                                                                                                                                                                                                                                                                                                                                                                                                                                                                                                                                                                                                                                                                                                                                                                                          NaN   \n",
       "81                                                                                                                                                                                                                                                                                                                                                                                                                                                                                                                                                                                                                                                                                                                                                                                                                                                                                                           NaN   \n",
       "38                                                                                                                                                                                                                                                                                                                                                                                                                                                                                                                                                                                                                                                                                                                                                                                                                                                                                                           NaN   \n",
       "100                                                                                                                                                                                                                                                                                                                                                                                                                                                                                                                                                                                                                                                                                                                                                                                                                                                                                                          NaN   \n",
       "210                                                                                                                                                                                                                                                                                                                                                                                                                                                                                                                                                                                                                                                                                                                                                                                                                                                                                                          NaN   \n",
       "869                                                                                                                                                                                                                                                                                                                                                                                                                                                                                                                                                                                                                                                                                                                                                                                                                                                                                                          NaN   \n",
       "783                                                                                                                                                                                                                                                                                                                                                                                                                                                                                                                                                                                                                                                                                                                                                                                                                                                                                                          NaN   \n",
       "822                                                                                                                                                                                                                                                                                                                                                                                                                                                                                                                                                                                                                                                                                                                                                                                                                                                                                                          NaN   \n",
       "515                                                                                                                                                                                                                                                                                                                                                                                                                                                                                                                                                                                                                                                                                                                                                                                                                                           Also they have many responses to keep you entertained. That is all   \n",
       "602                                                                                                                                                                                                                                                                                                                                                                                                                                                                                                                                                                                                                                                                                                                                                                                                                                                                                                          NaN   \n",
       "649                                                                                                                                                                                                                                                                                                                                                                                                                                                                                                                                                                                                                                                                                                                                                                                                                                                                                                          NaN   \n",
       "905                                                                                                                                                                                                                                                                                                                                                                                                                                                                                                                                                                                                                                                                                                                                                                                                                                                                                                          NaN   \n",
       "114  It looks like google home is the only app that's left to adapt dark mode out of all apps. \\nI have to blind my eyes everytime I use the app to turn on things in dark. \\n\\nAnd can we have like Google Home widgets for android ? I know they're going to implement system wide google home controls with Android 11. We all know not most of the phones we have now will be getting Android 11 updates and it depends on the phone manufacturers either. For now the only way to control smart home things is either by opening app which takes time to load and by using assistant. In both the cases they usually take time to get simple things done like turning on and off things. \\n\\nHaving widgets would be a simple thing to implement and a great way to get things done on the go. Without having to wait for the app to open and look for things or by triggering assistant to control things.   \n",
       "403                                                                                                                                                                                                                                                                                                                                                                                                                                                                  Super sleepy me: \"Hey Google, set an alarm for 8:45\"  \\nGH: \"For when?\"  \\nMe: \"8:45\"  \\nGHPoS: \"I'm sorry, when is the alarm for?\"  \\nMe: \"8:45 am\"  \\nGHPoS: \"I can only set an alarm for a specific time, when is the alarm for?\"  \\nMe: \"EIGHT FOORTYYY-FIIIVE AYE EMMM\"  \\nGHPoS: \"I can only set an alarm for a specific time, when is the alarm for?\"  \\nMe, no longer sleepy: \"Eight hours from now\"  \\nGHPoS: \"Alarm set for 8:46\"   \n",
       "568                                                                                                                                                                                                                                                                                                                                                                                                                                                                                                                                                                                                                                                                     When setting an alarm I'd say hey Google, set alarm for 9:00, Wait it  for to register, then repeat the same process for 9:30. However I just realize that I can do them all in one shot \"hey Google set alarms for 9:00 and 9:30... FML   \n",
       "536                                                                                                                                                                                                                                                                                                                                                                                                                                                                                                                                                                                                                                                                                                                                                                                                                                                                                                          NaN   \n",
       "844                                                                                                                                                                                                                                                                                                                                                                                                                                                                                                                                                                                                             Burned something in the kitchen and the cheap $10 smoke detector went off. Then I got a notification on my phone that google heard the smoke detector going off. Pretty rad google.\\n\\nEDIT: Spelling and here's a link to a screenshot of the notification:  https://imgur.com/gallery/wjRUqmo    \n",
       "\n",
       "                                                                                                        url  \\\n",
       "426                                                                     https://i.redd.it/qfxdlkw1vmg51.jpg   \n",
       "314                                                                         https://i.imgur.com/faZ8yFG.png   \n",
       "928                                                  https://github.com/wiseindy/timer-for-google-assistant   \n",
       "666                                                                   https://www.reddit.com/gallery/i4bucb   \n",
       "81                                                                                https://imgur.com/UZrp4fi   \n",
       "38                                                                      https://i.redd.it/qhfofco2r5j51.png   \n",
       "100                                                                     https://i.redd.it/5rhv7zoliri51.png   \n",
       "210                                                                         https://v.redd.it/efa7h4k85xh51   \n",
       "869                                                                     https://i.redd.it/6rty0juh6wd51.png   \n",
       "783                                                                     https://i.redd.it/t8we0uvhzee51.jpg   \n",
       "822                                                                     https://i.redd.it/ve8k00z8r6e51.png   \n",
       "515      https://www.reddit.com/r/googlehome/comments/i78wm3/do_yourself_a_favor_and_ask_google_what_sound/   \n",
       "602                                                                     https://i.redd.it/j91xveu5cof51.jpg   \n",
       "649                                                                         https://v.redd.it/hmynwniusef51   \n",
       "905                                                                     https://i.redd.it/zjwmsu2n6od51.png   \n",
       "114    https://www.reddit.com/r/googlehome/comments/iepdsn/can_we_have_a_dark_mode_for_google_home_app_and/   \n",
       "403  https://www.reddit.com/r/googlehome/comments/i92tm8/last_nights_gh_moment_i_love_living_in_the_future/   \n",
       "568     https://www.reddit.com/r/googlehome/comments/i6exc3/after_having_a_google_home_for_a_little_over_a/   \n",
       "536                                                                         https://i.imgur.com/wvI4qa7.png   \n",
       "844     https://www.reddit.com/r/googlehome/comments/i0v9bf/google_just_made_my_dumb_smoke_detectors_smart/   \n",
       "\n",
       "                  flair  score  \n",
       "426                 NaN    910  \n",
       "314                 NaN    824  \n",
       "928               Hacks    762  \n",
       "666                Tips    678  \n",
       "81                Other    611  \n",
       "38                  NaN    606  \n",
       "100                News    576  \n",
       "210                 NaN    534  \n",
       "869                 NaN    508  \n",
       "783                 NaN    485  \n",
       "822                 NaN    476  \n",
       "515                Tips    452  \n",
       "602                 NaN    441  \n",
       "649  GH Trigger Warning    434  \n",
       "905                 Bug    431  \n",
       "114   Features WishList    426  \n",
       "403                 Bug    420  \n",
       "568               Other    382  \n",
       "536                Tips    380  \n",
       "844                 NaN    366  "
      ]
     },
     "execution_count": 166,
     "metadata": {},
     "output_type": "execute_result"
    }
   ],
   "source": [
    "#googlehome\n",
    "google[['title','selftext','url','flair','score']].sort_values(by='score', ascending=False).head(20)"
   ]
  },
  {
   "cell_type": "markdown",
   "metadata": {},
   "source": [
    "#### What have we learned? Funny images and videos get the most upvotes, feature requests, and collective user frustrations also get upvoted."
   ]
  },
  {
   "cell_type": "markdown",
   "metadata": {},
   "source": [
    "### Is there a correlation between upvotes and comments?"
   ]
  },
  {
   "cell_type": "code",
   "execution_count": 216,
   "metadata": {},
   "outputs": [
    {
     "ename": "KeyError",
     "evalue": "'num_comments'",
     "output_type": "error",
     "traceback": [
      "\u001b[0;31m---------------------------------------------------------------------------\u001b[0m",
      "\u001b[0;31mKeyError\u001b[0m                                  Traceback (most recent call last)",
      "\u001b[0;32m~/anaconda3/envs/dsi/lib/python3.7/site-packages/pandas/core/indexes/base.py\u001b[0m in \u001b[0;36mget_loc\u001b[0;34m(self, key, method, tolerance)\u001b[0m\n\u001b[1;32m   2888\u001b[0m             \u001b[0;32mtry\u001b[0m\u001b[0;34m:\u001b[0m\u001b[0;34m\u001b[0m\u001b[0;34m\u001b[0m\u001b[0m\n\u001b[0;32m-> 2889\u001b[0;31m                 \u001b[0;32mreturn\u001b[0m \u001b[0mself\u001b[0m\u001b[0;34m.\u001b[0m\u001b[0m_engine\u001b[0m\u001b[0;34m.\u001b[0m\u001b[0mget_loc\u001b[0m\u001b[0;34m(\u001b[0m\u001b[0mcasted_key\u001b[0m\u001b[0;34m)\u001b[0m\u001b[0;34m\u001b[0m\u001b[0;34m\u001b[0m\u001b[0m\n\u001b[0m\u001b[1;32m   2890\u001b[0m             \u001b[0;32mexcept\u001b[0m \u001b[0mKeyError\u001b[0m \u001b[0;32mas\u001b[0m \u001b[0merr\u001b[0m\u001b[0;34m:\u001b[0m\u001b[0;34m\u001b[0m\u001b[0;34m\u001b[0m\u001b[0m\n",
      "\u001b[0;32mpandas/_libs/index.pyx\u001b[0m in \u001b[0;36mpandas._libs.index.IndexEngine.get_loc\u001b[0;34m()\u001b[0m\n",
      "\u001b[0;32mpandas/_libs/index.pyx\u001b[0m in \u001b[0;36mpandas._libs.index.IndexEngine.get_loc\u001b[0;34m()\u001b[0m\n",
      "\u001b[0;32mpandas/_libs/hashtable_class_helper.pxi\u001b[0m in \u001b[0;36mpandas._libs.hashtable.PyObjectHashTable.get_item\u001b[0;34m()\u001b[0m\n",
      "\u001b[0;32mpandas/_libs/hashtable_class_helper.pxi\u001b[0m in \u001b[0;36mpandas._libs.hashtable.PyObjectHashTable.get_item\u001b[0;34m()\u001b[0m\n",
      "\u001b[0;31mKeyError\u001b[0m: 'num_comments'",
      "\nThe above exception was the direct cause of the following exception:\n",
      "\u001b[0;31mKeyError\u001b[0m                                  Traceback (most recent call last)",
      "\u001b[0;32m<ipython-input-216-c9f0d2820f4c>\u001b[0m in \u001b[0;36m<module>\u001b[0;34m\u001b[0m\n\u001b[1;32m      1\u001b[0m \u001b[0;31m#Alexa\u001b[0m\u001b[0;34m\u001b[0m\u001b[0;34m\u001b[0m\u001b[0;34m\u001b[0m\u001b[0m\n\u001b[0;32m----> 2\u001b[0;31m \u001b[0msns\u001b[0m\u001b[0;34m.\u001b[0m\u001b[0mscatterplot\u001b[0m\u001b[0;34m(\u001b[0m\u001b[0malexa\u001b[0m\u001b[0;34m[\u001b[0m\u001b[0;34m'num_comments'\u001b[0m\u001b[0;34m]\u001b[0m\u001b[0;34m,\u001b[0m \u001b[0malexa\u001b[0m\u001b[0;34m[\u001b[0m\u001b[0;34m'score'\u001b[0m\u001b[0;34m]\u001b[0m\u001b[0;34m)\u001b[0m\u001b[0;34m\u001b[0m\u001b[0;34m\u001b[0m\u001b[0m\n\u001b[0m",
      "\u001b[0;32m~/anaconda3/envs/dsi/lib/python3.7/site-packages/pandas/core/frame.py\u001b[0m in \u001b[0;36m__getitem__\u001b[0;34m(self, key)\u001b[0m\n\u001b[1;32m   2897\u001b[0m             \u001b[0;32mif\u001b[0m \u001b[0mself\u001b[0m\u001b[0;34m.\u001b[0m\u001b[0mcolumns\u001b[0m\u001b[0;34m.\u001b[0m\u001b[0mnlevels\u001b[0m \u001b[0;34m>\u001b[0m \u001b[0;36m1\u001b[0m\u001b[0;34m:\u001b[0m\u001b[0;34m\u001b[0m\u001b[0;34m\u001b[0m\u001b[0m\n\u001b[1;32m   2898\u001b[0m                 \u001b[0;32mreturn\u001b[0m \u001b[0mself\u001b[0m\u001b[0;34m.\u001b[0m\u001b[0m_getitem_multilevel\u001b[0m\u001b[0;34m(\u001b[0m\u001b[0mkey\u001b[0m\u001b[0;34m)\u001b[0m\u001b[0;34m\u001b[0m\u001b[0;34m\u001b[0m\u001b[0m\n\u001b[0;32m-> 2899\u001b[0;31m             \u001b[0mindexer\u001b[0m \u001b[0;34m=\u001b[0m \u001b[0mself\u001b[0m\u001b[0;34m.\u001b[0m\u001b[0mcolumns\u001b[0m\u001b[0;34m.\u001b[0m\u001b[0mget_loc\u001b[0m\u001b[0;34m(\u001b[0m\u001b[0mkey\u001b[0m\u001b[0;34m)\u001b[0m\u001b[0;34m\u001b[0m\u001b[0;34m\u001b[0m\u001b[0m\n\u001b[0m\u001b[1;32m   2900\u001b[0m             \u001b[0;32mif\u001b[0m \u001b[0mis_integer\u001b[0m\u001b[0;34m(\u001b[0m\u001b[0mindexer\u001b[0m\u001b[0;34m)\u001b[0m\u001b[0;34m:\u001b[0m\u001b[0;34m\u001b[0m\u001b[0;34m\u001b[0m\u001b[0m\n\u001b[1;32m   2901\u001b[0m                 \u001b[0mindexer\u001b[0m \u001b[0;34m=\u001b[0m \u001b[0;34m[\u001b[0m\u001b[0mindexer\u001b[0m\u001b[0;34m]\u001b[0m\u001b[0;34m\u001b[0m\u001b[0;34m\u001b[0m\u001b[0m\n",
      "\u001b[0;32m~/anaconda3/envs/dsi/lib/python3.7/site-packages/pandas/core/indexes/base.py\u001b[0m in \u001b[0;36mget_loc\u001b[0;34m(self, key, method, tolerance)\u001b[0m\n\u001b[1;32m   2889\u001b[0m                 \u001b[0;32mreturn\u001b[0m \u001b[0mself\u001b[0m\u001b[0;34m.\u001b[0m\u001b[0m_engine\u001b[0m\u001b[0;34m.\u001b[0m\u001b[0mget_loc\u001b[0m\u001b[0;34m(\u001b[0m\u001b[0mcasted_key\u001b[0m\u001b[0;34m)\u001b[0m\u001b[0;34m\u001b[0m\u001b[0;34m\u001b[0m\u001b[0m\n\u001b[1;32m   2890\u001b[0m             \u001b[0;32mexcept\u001b[0m \u001b[0mKeyError\u001b[0m \u001b[0;32mas\u001b[0m \u001b[0merr\u001b[0m\u001b[0;34m:\u001b[0m\u001b[0;34m\u001b[0m\u001b[0;34m\u001b[0m\u001b[0m\n\u001b[0;32m-> 2891\u001b[0;31m                 \u001b[0;32mraise\u001b[0m \u001b[0mKeyError\u001b[0m\u001b[0;34m(\u001b[0m\u001b[0mkey\u001b[0m\u001b[0;34m)\u001b[0m \u001b[0;32mfrom\u001b[0m \u001b[0merr\u001b[0m\u001b[0;34m\u001b[0m\u001b[0;34m\u001b[0m\u001b[0m\n\u001b[0m\u001b[1;32m   2892\u001b[0m \u001b[0;34m\u001b[0m\u001b[0m\n\u001b[1;32m   2893\u001b[0m         \u001b[0;32mif\u001b[0m \u001b[0mtolerance\u001b[0m \u001b[0;32mis\u001b[0m \u001b[0;32mnot\u001b[0m \u001b[0;32mNone\u001b[0m\u001b[0;34m:\u001b[0m\u001b[0;34m\u001b[0m\u001b[0;34m\u001b[0m\u001b[0m\n",
      "\u001b[0;31mKeyError\u001b[0m: 'num_comments'"
     ]
    }
   ],
   "source": [
    "#Alexa\n",
    "sns.scatterplot(alexa['num_comments'], alexa['score'])"
   ]
  },
  {
   "cell_type": "code",
   "execution_count": 217,
   "metadata": {},
   "outputs": [
    {
     "ename": "KeyError",
     "evalue": "'num_comments'",
     "output_type": "error",
     "traceback": [
      "\u001b[0;31m---------------------------------------------------------------------------\u001b[0m",
      "\u001b[0;31mKeyError\u001b[0m                                  Traceback (most recent call last)",
      "\u001b[0;32m~/anaconda3/envs/dsi/lib/python3.7/site-packages/pandas/core/indexes/base.py\u001b[0m in \u001b[0;36mget_loc\u001b[0;34m(self, key, method, tolerance)\u001b[0m\n\u001b[1;32m   2888\u001b[0m             \u001b[0;32mtry\u001b[0m\u001b[0;34m:\u001b[0m\u001b[0;34m\u001b[0m\u001b[0;34m\u001b[0m\u001b[0m\n\u001b[0;32m-> 2889\u001b[0;31m                 \u001b[0;32mreturn\u001b[0m \u001b[0mself\u001b[0m\u001b[0;34m.\u001b[0m\u001b[0m_engine\u001b[0m\u001b[0;34m.\u001b[0m\u001b[0mget_loc\u001b[0m\u001b[0;34m(\u001b[0m\u001b[0mcasted_key\u001b[0m\u001b[0;34m)\u001b[0m\u001b[0;34m\u001b[0m\u001b[0;34m\u001b[0m\u001b[0m\n\u001b[0m\u001b[1;32m   2890\u001b[0m             \u001b[0;32mexcept\u001b[0m \u001b[0mKeyError\u001b[0m \u001b[0;32mas\u001b[0m \u001b[0merr\u001b[0m\u001b[0;34m:\u001b[0m\u001b[0;34m\u001b[0m\u001b[0;34m\u001b[0m\u001b[0m\n",
      "\u001b[0;32mpandas/_libs/index.pyx\u001b[0m in \u001b[0;36mpandas._libs.index.IndexEngine.get_loc\u001b[0;34m()\u001b[0m\n",
      "\u001b[0;32mpandas/_libs/index.pyx\u001b[0m in \u001b[0;36mpandas._libs.index.IndexEngine.get_loc\u001b[0;34m()\u001b[0m\n",
      "\u001b[0;32mpandas/_libs/hashtable_class_helper.pxi\u001b[0m in \u001b[0;36mpandas._libs.hashtable.PyObjectHashTable.get_item\u001b[0;34m()\u001b[0m\n",
      "\u001b[0;32mpandas/_libs/hashtable_class_helper.pxi\u001b[0m in \u001b[0;36mpandas._libs.hashtable.PyObjectHashTable.get_item\u001b[0;34m()\u001b[0m\n",
      "\u001b[0;31mKeyError\u001b[0m: 'num_comments'",
      "\nThe above exception was the direct cause of the following exception:\n",
      "\u001b[0;31mKeyError\u001b[0m                                  Traceback (most recent call last)",
      "\u001b[0;32m<ipython-input-217-117d8122f203>\u001b[0m in \u001b[0;36m<module>\u001b[0;34m\u001b[0m\n\u001b[1;32m      1\u001b[0m \u001b[0;31m#Google\u001b[0m\u001b[0;34m\u001b[0m\u001b[0;34m\u001b[0m\u001b[0;34m\u001b[0m\u001b[0m\n\u001b[0;32m----> 2\u001b[0;31m \u001b[0msns\u001b[0m\u001b[0;34m.\u001b[0m\u001b[0mscatterplot\u001b[0m\u001b[0;34m(\u001b[0m\u001b[0mgoogle\u001b[0m\u001b[0;34m[\u001b[0m\u001b[0;34m'num_comments'\u001b[0m\u001b[0;34m]\u001b[0m\u001b[0;34m,\u001b[0m \u001b[0mgoogle\u001b[0m\u001b[0;34m[\u001b[0m\u001b[0;34m'score'\u001b[0m\u001b[0;34m]\u001b[0m\u001b[0;34m)\u001b[0m\u001b[0;34m\u001b[0m\u001b[0;34m\u001b[0m\u001b[0m\n\u001b[0m",
      "\u001b[0;32m~/anaconda3/envs/dsi/lib/python3.7/site-packages/pandas/core/frame.py\u001b[0m in \u001b[0;36m__getitem__\u001b[0;34m(self, key)\u001b[0m\n\u001b[1;32m   2897\u001b[0m             \u001b[0;32mif\u001b[0m \u001b[0mself\u001b[0m\u001b[0;34m.\u001b[0m\u001b[0mcolumns\u001b[0m\u001b[0;34m.\u001b[0m\u001b[0mnlevels\u001b[0m \u001b[0;34m>\u001b[0m \u001b[0;36m1\u001b[0m\u001b[0;34m:\u001b[0m\u001b[0;34m\u001b[0m\u001b[0;34m\u001b[0m\u001b[0m\n\u001b[1;32m   2898\u001b[0m                 \u001b[0;32mreturn\u001b[0m \u001b[0mself\u001b[0m\u001b[0;34m.\u001b[0m\u001b[0m_getitem_multilevel\u001b[0m\u001b[0;34m(\u001b[0m\u001b[0mkey\u001b[0m\u001b[0;34m)\u001b[0m\u001b[0;34m\u001b[0m\u001b[0;34m\u001b[0m\u001b[0m\n\u001b[0;32m-> 2899\u001b[0;31m             \u001b[0mindexer\u001b[0m \u001b[0;34m=\u001b[0m \u001b[0mself\u001b[0m\u001b[0;34m.\u001b[0m\u001b[0mcolumns\u001b[0m\u001b[0;34m.\u001b[0m\u001b[0mget_loc\u001b[0m\u001b[0;34m(\u001b[0m\u001b[0mkey\u001b[0m\u001b[0;34m)\u001b[0m\u001b[0;34m\u001b[0m\u001b[0;34m\u001b[0m\u001b[0m\n\u001b[0m\u001b[1;32m   2900\u001b[0m             \u001b[0;32mif\u001b[0m \u001b[0mis_integer\u001b[0m\u001b[0;34m(\u001b[0m\u001b[0mindexer\u001b[0m\u001b[0;34m)\u001b[0m\u001b[0;34m:\u001b[0m\u001b[0;34m\u001b[0m\u001b[0;34m\u001b[0m\u001b[0m\n\u001b[1;32m   2901\u001b[0m                 \u001b[0mindexer\u001b[0m \u001b[0;34m=\u001b[0m \u001b[0;34m[\u001b[0m\u001b[0mindexer\u001b[0m\u001b[0;34m]\u001b[0m\u001b[0;34m\u001b[0m\u001b[0;34m\u001b[0m\u001b[0m\n",
      "\u001b[0;32m~/anaconda3/envs/dsi/lib/python3.7/site-packages/pandas/core/indexes/base.py\u001b[0m in \u001b[0;36mget_loc\u001b[0;34m(self, key, method, tolerance)\u001b[0m\n\u001b[1;32m   2889\u001b[0m                 \u001b[0;32mreturn\u001b[0m \u001b[0mself\u001b[0m\u001b[0;34m.\u001b[0m\u001b[0m_engine\u001b[0m\u001b[0;34m.\u001b[0m\u001b[0mget_loc\u001b[0m\u001b[0;34m(\u001b[0m\u001b[0mcasted_key\u001b[0m\u001b[0;34m)\u001b[0m\u001b[0;34m\u001b[0m\u001b[0;34m\u001b[0m\u001b[0m\n\u001b[1;32m   2890\u001b[0m             \u001b[0;32mexcept\u001b[0m \u001b[0mKeyError\u001b[0m \u001b[0;32mas\u001b[0m \u001b[0merr\u001b[0m\u001b[0;34m:\u001b[0m\u001b[0;34m\u001b[0m\u001b[0;34m\u001b[0m\u001b[0m\n\u001b[0;32m-> 2891\u001b[0;31m                 \u001b[0;32mraise\u001b[0m \u001b[0mKeyError\u001b[0m\u001b[0;34m(\u001b[0m\u001b[0mkey\u001b[0m\u001b[0;34m)\u001b[0m \u001b[0;32mfrom\u001b[0m \u001b[0merr\u001b[0m\u001b[0;34m\u001b[0m\u001b[0;34m\u001b[0m\u001b[0m\n\u001b[0m\u001b[1;32m   2892\u001b[0m \u001b[0;34m\u001b[0m\u001b[0m\n\u001b[1;32m   2893\u001b[0m         \u001b[0;32mif\u001b[0m \u001b[0mtolerance\u001b[0m \u001b[0;32mis\u001b[0m \u001b[0;32mnot\u001b[0m \u001b[0;32mNone\u001b[0m\u001b[0;34m:\u001b[0m\u001b[0;34m\u001b[0m\u001b[0;34m\u001b[0m\u001b[0m\n",
      "\u001b[0;31mKeyError\u001b[0m: 'num_comments'"
     ]
    }
   ],
   "source": [
    "#Google\n",
    "sns.scatterplot(google['num_comments'], google['score'])"
   ]
  },
  {
   "cell_type": "markdown",
   "metadata": {},
   "source": [
    "### Exploring Flair Categories"
   ]
  },
  {
   "cell_type": "markdown",
   "metadata": {},
   "source": [
    "#### Alexa"
   ]
  },
  {
   "cell_type": "code",
   "execution_count": 167,
   "metadata": {},
   "outputs": [
    {
     "data": {
      "text/plain": [
       "Series([], dtype: int64)"
      ]
     },
     "execution_count": 167,
     "metadata": {},
     "output_type": "execute_result"
    }
   ],
   "source": [
    "#alexa has no categories\n",
    "alexa[['flair']].value_counts()"
   ]
  },
  {
   "cell_type": "markdown",
   "metadata": {},
   "source": [
    "#### Is it possible to use use NLP to create Flair categories similar to Google? EX. Help, Feature Wishlist"
   ]
  },
  {
   "cell_type": "code",
   "execution_count": null,
   "metadata": {},
   "outputs": [],
   "source": []
  },
  {
   "cell_type": "markdown",
   "metadata": {},
   "source": [
    "#### Google"
   ]
  },
  {
   "cell_type": "code",
   "execution_count": 171,
   "metadata": {},
   "outputs": [
    {
     "data": {
      "text/plain": [
       "flair              \n",
       "Help                   259\n",
       "Bug                     54\n",
       "Other                   28\n",
       "Commands | How To's     18\n",
       "Features WishList       17\n",
       "Tips                    11\n",
       "News                     9\n",
       "NSFW - Language          5\n",
       "GH Trigger Warning       4\n",
       "Hacks                    3\n",
       "Product Review           1\n",
       "dtype: int64"
      ]
     },
     "execution_count": 171,
     "metadata": {},
     "output_type": "execute_result"
    }
   ],
   "source": [
    "google[['flair']].value_counts()"
   ]
  },
  {
   "cell_type": "code",
   "execution_count": 204,
   "metadata": {},
   "outputs": [
    {
     "data": {
      "image/png": "[encoded data removed]",
      "text/plain": [
       "<Figure size 1008x576 with 1 Axes>"
      ]
     },
     "metadata": {
      "needs_background": "light"
     },
     "output_type": "display_data"
    }
   ],
   "source": [
    "plt.figure(figsize=(14,8))\n",
    "sns.barplot(google[['flair']].value_counts(normalize=True).index, \n",
    "            google[['flair']].value_counts(normalize=True).values, \n",
    "            alpha=0.8);\n",
    "plt.title('Google Home Posts by Flair', fontsize=16)\n",
    "plt.xticks(rotation=45);"
   ]
  },
  {
   "cell_type": "markdown",
   "metadata": {},
   "source": [
    "#### We can infer here that most posts are related to help/bug questions. "
   ]
  },
  {
   "cell_type": "code",
   "execution_count": 57,
   "metadata": {},
   "outputs": [],
   "source": [
    "#word counts based on help categories? Feature wish list? Bugs?"
   ]
  },
  {
   "cell_type": "code",
   "execution_count": 58,
   "metadata": {},
   "outputs": [],
   "source": [
    "# attach comments to help to do a sentiment analysis"
   ]
  },
  {
   "cell_type": "markdown",
   "metadata": {},
   "source": [
    "# Let's prep our data to make a model"
   ]
  },
  {
   "cell_type": "markdown",
   "metadata": {},
   "source": [
    "### Combine dataframes"
   ]
  },
  {
   "cell_type": "code",
   "execution_count": 15,
   "metadata": {},
   "outputs": [
    {
     "data": {
      "text/html": [
       "<div>\n",
       "<style scoped>\n",
       "    .dataframe tbody tr th:only-of-type {\n",
       "        vertical-align: middle;\n",
       "    }\n",
       "\n",
       "    .dataframe tbody tr th {\n",
       "        vertical-align: top;\n",
       "    }\n",
       "\n",
       "    .dataframe thead th {\n",
       "        text-align: right;\n",
       "    }\n",
       "</style>\n",
       "<table border=\"1\" class=\"dataframe\">\n",
       "  <thead>\n",
       "    <tr style=\"text-align: right;\">\n",
       "      <th></th>\n",
       "      <th>subreddit</th>\n",
       "      <th>id</th>\n",
       "      <th>name</th>\n",
       "      <th>title</th>\n",
       "      <th>selftext</th>\n",
       "      <th>score</th>\n",
       "      <th>flair</th>\n",
       "      <th>url</th>\n",
       "      <th>author</th>\n",
       "      <th>created</th>\n",
       "    </tr>\n",
       "  </thead>\n",
       "  <tbody>\n",
       "    <tr>\n",
       "      <th>0</th>\n",
       "      <td>googlehome</td>\n",
       "      <td>igqw0v</td>\n",
       "      <td>t3_igqw0v</td>\n",
       "      <td>How can I force my Google Home devices to conn...</td>\n",
       "      <td>I've been getting some stability problems and ...</td>\n",
       "      <td>1</td>\n",
       "      <td>Help</td>\n",
       "      <td>https://www.reddit.com/r/googlehome/comments/i...</td>\n",
       "      <td>tsyneil</td>\n",
       "      <td>2020-08-25 19:53:13</td>\n",
       "    </tr>\n",
       "    <tr>\n",
       "      <th>1</th>\n",
       "      <td>googlehome</td>\n",
       "      <td>igqtv1</td>\n",
       "      <td>t3_igqtv1</td>\n",
       "      <td>WTH GOOGLE. I WAS LISTENING TO MUSIC WHEN RAND...</td>\n",
       "      <td>NaN</td>\n",
       "      <td>0</td>\n",
       "      <td>Bug</td>\n",
       "      <td>https://www.reddit.com/gallery/igqtv1</td>\n",
       "      <td>F34R_TheRamen</td>\n",
       "      <td>2020-08-25 19:49:10</td>\n",
       "    </tr>\n",
       "    <tr>\n",
       "      <th>2</th>\n",
       "      <td>googlehome</td>\n",
       "      <td>igq50f</td>\n",
       "      <td>t3_igq50f</td>\n",
       "      <td>Google Home updates</td>\n",
       "      <td>NaN</td>\n",
       "      <td>2</td>\n",
       "      <td>NaN</td>\n",
       "      <td>https://9to5google.com/2020/08/25/google-home-...</td>\n",
       "      <td>JeremyPatrickMartin</td>\n",
       "      <td>2020-08-25 19:04:37</td>\n",
       "    </tr>\n",
       "    <tr>\n",
       "      <th>3</th>\n",
       "      <td>googlehome</td>\n",
       "      <td>igq3da</td>\n",
       "      <td>t3_igq3da</td>\n",
       "      <td>Anyone have the issue with their audio groups ...</td>\n",
       "      <td>NaN</td>\n",
       "      <td>1</td>\n",
       "      <td>Help</td>\n",
       "      <td>https://www.reddit.com/r/googlehome/comments/i...</td>\n",
       "      <td>Dynamite2197</td>\n",
       "      <td>2020-08-25 19:01:54</td>\n",
       "    </tr>\n",
       "    <tr>\n",
       "      <th>4</th>\n",
       "      <td>googlehome</td>\n",
       "      <td>igpf5w</td>\n",
       "      <td>t3_igpf5w</td>\n",
       "      <td>Your Google Home Isn't Set Up Yet....</td>\n",
       "      <td>Someone please help me! \\n\\nI moved into a new...</td>\n",
       "      <td>1</td>\n",
       "      <td>NaN</td>\n",
       "      <td>https://www.reddit.com/r/googlehome/comments/i...</td>\n",
       "      <td>natty-b0h</td>\n",
       "      <td>2020-08-25 18:19:15</td>\n",
       "    </tr>\n",
       "    <tr>\n",
       "      <th>...</th>\n",
       "      <td>...</td>\n",
       "      <td>...</td>\n",
       "      <td>...</td>\n",
       "      <td>...</td>\n",
       "      <td>...</td>\n",
       "      <td>...</td>\n",
       "      <td>...</td>\n",
       "      <td>...</td>\n",
       "      <td>...</td>\n",
       "      <td>...</td>\n",
       "    </tr>\n",
       "    <tr>\n",
       "      <th>993</th>\n",
       "      <td>alexa</td>\n",
       "      <td>grflj0</td>\n",
       "      <td>t3_grflj0</td>\n",
       "      <td>The Alexa in my room just played music in a di...</td>\n",
       "      <td>I said goodnight to my Alexa in my room and sh...</td>\n",
       "      <td>1</td>\n",
       "      <td>NaN</td>\n",
       "      <td>https://www.reddit.com/r/alexa/comments/grflj0...</td>\n",
       "      <td>endmemes</td>\n",
       "      <td>2020-05-27 01:10:50</td>\n",
       "    </tr>\n",
       "    <tr>\n",
       "      <th>994</th>\n",
       "      <td>alexa</td>\n",
       "      <td>gref7d</td>\n",
       "      <td>t3_gref7d</td>\n",
       "      <td>Are there any decent stock market skills?</td>\n",
       "      <td>I’d like to be able to set up Alexa to tell me...</td>\n",
       "      <td>2</td>\n",
       "      <td>NaN</td>\n",
       "      <td>https://www.reddit.com/r/alexa/comments/gref7d...</td>\n",
       "      <td>xrblizzardx</td>\n",
       "      <td>2020-05-26 23:36:27</td>\n",
       "    </tr>\n",
       "    <tr>\n",
       "      <th>995</th>\n",
       "      <td>alexa</td>\n",
       "      <td>grc5zb</td>\n",
       "      <td>t3_grc5zb</td>\n",
       "      <td>Alexa won't play Spotify Liked Songs via voice...</td>\n",
       "      <td>EDIT: Seems I figured it out... it was because...</td>\n",
       "      <td>1</td>\n",
       "      <td>NaN</td>\n",
       "      <td>https://www.reddit.com/r/alexa/comments/grc5zb...</td>\n",
       "      <td>Inkerlink</td>\n",
       "      <td>2020-05-26 20:44:54</td>\n",
       "    </tr>\n",
       "    <tr>\n",
       "      <th>996</th>\n",
       "      <td>alexa</td>\n",
       "      <td>gr7hih</td>\n",
       "      <td>t3_gr7hih</td>\n",
       "      <td>\"Alexa, what is the purpose of Memorial Day?\"</td>\n",
       "      <td>**Me:** \"Alexa, what is the purpose of Memoria...</td>\n",
       "      <td>4</td>\n",
       "      <td>NaN</td>\n",
       "      <td>https://www.reddit.com/r/alexa/comments/gr7hih...</td>\n",
       "      <td>Coldblackice</td>\n",
       "      <td>2020-05-26 15:47:18</td>\n",
       "    </tr>\n",
       "    <tr>\n",
       "      <th>997</th>\n",
       "      <td>alexa</td>\n",
       "      <td>gr6r7l</td>\n",
       "      <td>t3_gr6r7l</td>\n",
       "      <td>Amusing Routines</td>\n",
       "      <td>I there’s a sub called r/alexaroutines but the...</td>\n",
       "      <td>5</td>\n",
       "      <td>NaN</td>\n",
       "      <td>https://www.reddit.com/r/alexa/comments/gr6r7l...</td>\n",
       "      <td>aliv3insid3</td>\n",
       "      <td>2020-05-26 15:06:10</td>\n",
       "    </tr>\n",
       "  </tbody>\n",
       "</table>\n",
       "<p>1964 rows × 10 columns</p>\n",
       "</div>"
      ],
      "text/plain": [
       "      subreddit      id       name  \\\n",
       "0    googlehome  igqw0v  t3_igqw0v   \n",
       "1    googlehome  igqtv1  t3_igqtv1   \n",
       "2    googlehome  igq50f  t3_igq50f   \n",
       "3    googlehome  igq3da  t3_igq3da   \n",
       "4    googlehome  igpf5w  t3_igpf5w   \n",
       "..          ...     ...        ...   \n",
       "993       alexa  grflj0  t3_grflj0   \n",
       "994       alexa  gref7d  t3_gref7d   \n",
       "995       alexa  grc5zb  t3_grc5zb   \n",
       "996       alexa  gr7hih  t3_gr7hih   \n",
       "997       alexa  gr6r7l  t3_gr6r7l   \n",
       "\n",
       "                                                 title  \\\n",
       "0    How can I force my Google Home devices to conn...   \n",
       "1    WTH GOOGLE. I WAS LISTENING TO MUSIC WHEN RAND...   \n",
       "2                                  Google Home updates   \n",
       "3    Anyone have the issue with their audio groups ...   \n",
       "4                Your Google Home Isn't Set Up Yet....   \n",
       "..                                                 ...   \n",
       "993  The Alexa in my room just played music in a di...   \n",
       "994          Are there any decent stock market skills?   \n",
       "995  Alexa won't play Spotify Liked Songs via voice...   \n",
       "996      \"Alexa, what is the purpose of Memorial Day?\"   \n",
       "997                                   Amusing Routines   \n",
       "\n",
       "                                              selftext  score flair  \\\n",
       "0    I've been getting some stability problems and ...      1  Help   \n",
       "1                                                  NaN      0   Bug   \n",
       "2                                                  NaN      2   NaN   \n",
       "3                                                  NaN      1  Help   \n",
       "4    Someone please help me! \\n\\nI moved into a new...      1   NaN   \n",
       "..                                                 ...    ...   ...   \n",
       "993  I said goodnight to my Alexa in my room and sh...      1   NaN   \n",
       "994  I’d like to be able to set up Alexa to tell me...      2   NaN   \n",
       "995  EDIT: Seems I figured it out... it was because...      1   NaN   \n",
       "996  **Me:** \"Alexa, what is the purpose of Memoria...      4   NaN   \n",
       "997  I there’s a sub called r/alexaroutines but the...      5   NaN   \n",
       "\n",
       "                                                   url               author  \\\n",
       "0    https://www.reddit.com/r/googlehome/comments/i...              tsyneil   \n",
       "1                https://www.reddit.com/gallery/igqtv1        F34R_TheRamen   \n",
       "2    https://9to5google.com/2020/08/25/google-home-...  JeremyPatrickMartin   \n",
       "3    https://www.reddit.com/r/googlehome/comments/i...         Dynamite2197   \n",
       "4    https://www.reddit.com/r/googlehome/comments/i...            natty-b0h   \n",
       "..                                                 ...                  ...   \n",
       "993  https://www.reddit.com/r/alexa/comments/grflj0...             endmemes   \n",
       "994  https://www.reddit.com/r/alexa/comments/gref7d...          xrblizzardx   \n",
       "995  https://www.reddit.com/r/alexa/comments/grc5zb...            Inkerlink   \n",
       "996  https://www.reddit.com/r/alexa/comments/gr7hih...         Coldblackice   \n",
       "997  https://www.reddit.com/r/alexa/comments/gr6r7l...          aliv3insid3   \n",
       "\n",
       "                created  \n",
       "0   2020-08-25 19:53:13  \n",
       "1   2020-08-25 19:49:10  \n",
       "2   2020-08-25 19:04:37  \n",
       "3   2020-08-25 19:01:54  \n",
       "4   2020-08-25 18:19:15  \n",
       "..                  ...  \n",
       "993 2020-05-27 01:10:50  \n",
       "994 2020-05-26 23:36:27  \n",
       "995 2020-05-26 20:44:54  \n",
       "996 2020-05-26 15:47:18  \n",
       "997 2020-05-26 15:06:10  \n",
       "\n",
       "[1964 rows x 10 columns]"
      ]
     },
     "execution_count": 15,
     "metadata": {},
     "output_type": "execute_result"
    }
   ],
   "source": [
    "#Use concat\n",
    "alexa_google = pd.concat([google, alexa]).drop(columns='Unnamed: 0')\n",
    "alexa_google"
   ]
  },
  {
   "cell_type": "markdown",
   "metadata": {},
   "source": [
    "### Binarize subreddit column"
   ]
  },
  {
   "cell_type": "markdown",
   "metadata": {},
   "source": [
    "#### Google Home = 0\n",
    "#### Alexa = 1"
   ]
  },
  {
   "cell_type": "code",
   "execution_count": 16,
   "metadata": {},
   "outputs": [
    {
     "data": {
      "text/html": [
       "<div>\n",
       "<style scoped>\n",
       "    .dataframe tbody tr th:only-of-type {\n",
       "        vertical-align: middle;\n",
       "    }\n",
       "\n",
       "    .dataframe tbody tr th {\n",
       "        vertical-align: top;\n",
       "    }\n",
       "\n",
       "    .dataframe thead th {\n",
       "        text-align: right;\n",
       "    }\n",
       "</style>\n",
       "<table border=\"1\" class=\"dataframe\">\n",
       "  <thead>\n",
       "    <tr style=\"text-align: right;\">\n",
       "      <th></th>\n",
       "      <th>subreddit</th>\n",
       "      <th>id</th>\n",
       "      <th>name</th>\n",
       "      <th>title</th>\n",
       "      <th>selftext</th>\n",
       "      <th>score</th>\n",
       "      <th>flair</th>\n",
       "      <th>url</th>\n",
       "      <th>author</th>\n",
       "      <th>created</th>\n",
       "      <th>class</th>\n",
       "    </tr>\n",
       "  </thead>\n",
       "  <tbody>\n",
       "    <tr>\n",
       "      <th>0</th>\n",
       "      <td>googlehome</td>\n",
       "      <td>igqw0v</td>\n",
       "      <td>t3_igqw0v</td>\n",
       "      <td>How can I force my Google Home devices to conn...</td>\n",
       "      <td>I've been getting some stability problems and ...</td>\n",
       "      <td>1</td>\n",
       "      <td>Help</td>\n",
       "      <td>https://www.reddit.com/r/googlehome/comments/i...</td>\n",
       "      <td>tsyneil</td>\n",
       "      <td>2020-08-25 19:53:13</td>\n",
       "      <td>0</td>\n",
       "    </tr>\n",
       "    <tr>\n",
       "      <th>1</th>\n",
       "      <td>googlehome</td>\n",
       "      <td>igqtv1</td>\n",
       "      <td>t3_igqtv1</td>\n",
       "      <td>WTH GOOGLE. I WAS LISTENING TO MUSIC WHEN RAND...</td>\n",
       "      <td>NaN</td>\n",
       "      <td>0</td>\n",
       "      <td>Bug</td>\n",
       "      <td>https://www.reddit.com/gallery/igqtv1</td>\n",
       "      <td>F34R_TheRamen</td>\n",
       "      <td>2020-08-25 19:49:10</td>\n",
       "      <td>0</td>\n",
       "    </tr>\n",
       "  </tbody>\n",
       "</table>\n",
       "</div>"
      ],
      "text/plain": [
       "    subreddit      id       name  \\\n",
       "0  googlehome  igqw0v  t3_igqw0v   \n",
       "1  googlehome  igqtv1  t3_igqtv1   \n",
       "\n",
       "                                               title  \\\n",
       "0  How can I force my Google Home devices to conn...   \n",
       "1  WTH GOOGLE. I WAS LISTENING TO MUSIC WHEN RAND...   \n",
       "\n",
       "                                            selftext  score flair  \\\n",
       "0  I've been getting some stability problems and ...      1  Help   \n",
       "1                                                NaN      0   Bug   \n",
       "\n",
       "                                                 url         author  \\\n",
       "0  https://www.reddit.com/r/googlehome/comments/i...        tsyneil   \n",
       "1              https://www.reddit.com/gallery/igqtv1  F34R_TheRamen   \n",
       "\n",
       "              created  class  \n",
       "0 2020-08-25 19:53:13      0  \n",
       "1 2020-08-25 19:49:10      0  "
      ]
     },
     "execution_count": 16,
     "metadata": {},
     "output_type": "execute_result"
    }
   ],
   "source": [
    "#Google = 0, Alexa = 1\n",
    "alexa_google['class'] = alexa_google['subreddit'].map({\"googlehome\":0,\n",
    "                                                       \"alexa\":1})\n",
    "alexa_google.head(2)"
   ]
  },
  {
   "cell_type": "markdown",
   "metadata": {},
   "source": [
    "### Check for null values"
   ]
  },
  {
   "cell_type": "code",
   "execution_count": 17,
   "metadata": {},
   "outputs": [
    {
     "data": {
      "text/plain": [
       "subreddit       0\n",
       "id              0\n",
       "name            0\n",
       "title           0\n",
       "selftext      335\n",
       "score           0\n",
       "flair        1555\n",
       "url             0\n",
       "author          7\n",
       "created         0\n",
       "class           0\n",
       "dtype: int64"
      ]
     },
     "execution_count": 17,
     "metadata": {},
     "output_type": "execute_result"
    }
   ],
   "source": [
    "alexa_google.isnull().sum()"
   ]
  },
  {
   "cell_type": "markdown",
   "metadata": {},
   "source": [
    "### Combine `title` and `selftext` columns"
   ]
  },
  {
   "cell_type": "markdown",
   "metadata": {},
   "source": [
    "##### We are doing this to also solve the problem of null values in selftext."
   ]
  },
  {
   "cell_type": "code",
   "execution_count": 18,
   "metadata": {},
   "outputs": [],
   "source": [
    "#First let's add an empty string to the null values in selftext\n",
    "alexa_google['selftext'].fillna('',inplace=True)"
   ]
  },
  {
   "cell_type": "code",
   "execution_count": 205,
   "metadata": {},
   "outputs": [
    {
     "data": {
      "text/html": [
       "<div>\n",
       "<style scoped>\n",
       "    .dataframe tbody tr th:only-of-type {\n",
       "        vertical-align: middle;\n",
       "    }\n",
       "\n",
       "    .dataframe tbody tr th {\n",
       "        vertical-align: top;\n",
       "    }\n",
       "\n",
       "    .dataframe thead th {\n",
       "        text-align: right;\n",
       "    }\n",
       "</style>\n",
       "<table border=\"1\" class=\"dataframe\">\n",
       "  <thead>\n",
       "    <tr style=\"text-align: right;\">\n",
       "      <th></th>\n",
       "      <th>subreddit</th>\n",
       "      <th>id</th>\n",
       "      <th>name</th>\n",
       "      <th>title</th>\n",
       "      <th>selftext</th>\n",
       "      <th>score</th>\n",
       "      <th>flair</th>\n",
       "      <th>url</th>\n",
       "      <th>author</th>\n",
       "      <th>created</th>\n",
       "      <th>class</th>\n",
       "      <th>text</th>\n",
       "    </tr>\n",
       "  </thead>\n",
       "  <tbody>\n",
       "    <tr>\n",
       "      <th>0</th>\n",
       "      <td>googlehome</td>\n",
       "      <td>igqw0v</td>\n",
       "      <td>t3_igqw0v</td>\n",
       "      <td>How can I force my Google Home devices to connect to my 2.4 GHz wifi?</td>\n",
       "      <td>I've been getting some stability problems and this seems like a promising solution, but I'm not sure how to do it.</td>\n",
       "      <td>1</td>\n",
       "      <td>Help</td>\n",
       "      <td>https://www.reddit.com/r/googlehome/comments/igqw0v/how_can_i_force_my_google_home_devices_to_connect/</td>\n",
       "      <td>tsyneil</td>\n",
       "      <td>2020-08-25 19:53:13</td>\n",
       "      <td>0</td>\n",
       "      <td>How can I force my Google Home devices to connect to my 2.4 GHz wifi? I've been getting some stability problems and this seems like a promising solution, but I'm not sure how to do it.</td>\n",
       "    </tr>\n",
       "    <tr>\n",
       "      <th>1</th>\n",
       "      <td>googlehome</td>\n",
       "      <td>igqtv1</td>\n",
       "      <td>t3_igqtv1</td>\n",
       "      <td>WTH GOOGLE. I WAS LISTENING TO MUSIC WHEN RANDOMLY THE STEVEN UNIVERSE SOUNDTRACK STARTED PLAYING. THIS A COINCIDENCE OR WAS I HACKED BY A SYMPATHETIC FAN I NEED HELP NOW</td>\n",
       "      <td></td>\n",
       "      <td>0</td>\n",
       "      <td>Bug</td>\n",
       "      <td>https://www.reddit.com/gallery/igqtv1</td>\n",
       "      <td>F34R_TheRamen</td>\n",
       "      <td>2020-08-25 19:49:10</td>\n",
       "      <td>0</td>\n",
       "      <td>WTH GOOGLE. I WAS LISTENING TO MUSIC WHEN RANDOMLY THE STEVEN UNIVERSE SOUNDTRACK STARTED PLAYING. THIS A COINCIDENCE OR WAS I HACKED BY A SYMPATHETIC FAN I NEED HELP NOW</td>\n",
       "    </tr>\n",
       "  </tbody>\n",
       "</table>\n",
       "</div>"
      ],
      "text/plain": [
       "    subreddit      id       name  \\\n",
       "0  googlehome  igqw0v  t3_igqw0v   \n",
       "1  googlehome  igqtv1  t3_igqtv1   \n",
       "\n",
       "                                                                                                                                                                        title  \\\n",
       "0                                                                                                       How can I force my Google Home devices to connect to my 2.4 GHz wifi?   \n",
       "1  WTH GOOGLE. I WAS LISTENING TO MUSIC WHEN RANDOMLY THE STEVEN UNIVERSE SOUNDTRACK STARTED PLAYING. THIS A COINCIDENCE OR WAS I HACKED BY A SYMPATHETIC FAN I NEED HELP NOW   \n",
       "\n",
       "                                                                                                             selftext  \\\n",
       "0  I've been getting some stability problems and this seems like a promising solution, but I'm not sure how to do it.   \n",
       "1                                                                                                                       \n",
       "\n",
       "   score flair  \\\n",
       "0      1  Help   \n",
       "1      0   Bug   \n",
       "\n",
       "                                                                                                      url  \\\n",
       "0  https://www.reddit.com/r/googlehome/comments/igqw0v/how_can_i_force_my_google_home_devices_to_connect/   \n",
       "1                                                                   https://www.reddit.com/gallery/igqtv1   \n",
       "\n",
       "          author             created  class  \\\n",
       "0        tsyneil 2020-08-25 19:53:13      0   \n",
       "1  F34R_TheRamen 2020-08-25 19:49:10      0   \n",
       "\n",
       "                                                                                                                                                                                       text  \n",
       "0  How can I force my Google Home devices to connect to my 2.4 GHz wifi? I've been getting some stability problems and this seems like a promising solution, but I'm not sure how to do it.  \n",
       "1               WTH GOOGLE. I WAS LISTENING TO MUSIC WHEN RANDOMLY THE STEVEN UNIVERSE SOUNDTRACK STARTED PLAYING. THIS A COINCIDENCE OR WAS I HACKED BY A SYMPATHETIC FAN I NEED HELP NOW   "
      ]
     },
     "execution_count": 205,
     "metadata": {},
     "output_type": "execute_result"
    }
   ],
   "source": [
    "# Combine the title and selftext columns\n",
    "alexa_google['text'] = alexa_google['title'] + ' ' + alexa_google['selftext']\n",
    "alexa_google.head(2)"
   ]
  },
  {
   "cell_type": "code",
   "execution_count": 206,
   "metadata": {},
   "outputs": [
    {
     "data": {
      "text/plain": [
       "subreddit       0\n",
       "id              0\n",
       "name            0\n",
       "title           0\n",
       "selftext        0\n",
       "score           0\n",
       "flair        1555\n",
       "url             0\n",
       "author          7\n",
       "created         0\n",
       "class           0\n",
       "text            0\n",
       "dtype: int64"
      ]
     },
     "execution_count": 206,
     "metadata": {},
     "output_type": "execute_result"
    }
   ],
   "source": [
    "#check our work\n",
    "alexa_google.isnull().sum()"
   ]
  },
  {
   "cell_type": "markdown",
   "metadata": {},
   "source": [
    "## Save our data for later use"
   ]
  },
  {
   "cell_type": "code",
   "execution_count": 208,
   "metadata": {},
   "outputs": [],
   "source": [
    "alexa_google.to_csv('./data/alexa_google_cleaned.csv',index=False)"
   ]
  },
  {
   "cell_type": "markdown",
   "metadata": {},
   "source": [
    "# Additional Exploratory Data Analysis"
   ]
  },
  {
   "cell_type": "markdown",
   "metadata": {},
   "source": [
    "## Sentiment Analysis"
   ]
  },
  {
   "cell_type": "code",
   "execution_count": 209,
   "metadata": {},
   "outputs": [
    {
     "name": "stdout",
     "output_type": "stream",
     "text": [
      "[{'neg': 0.111, 'neu': 0.752, 'pos': 0.136, 'compound': -0.0111, 'text': \"How can I force my Google Home devices to connect to my 2.4 GHz wifi? I've been getting some stability problems and this seems like a promising solution, but I'm not sure how to do it.\"}, {'neg': 0.173, 'neu': 0.54, 'pos': 0.287, 'compound': 0.4588, 'text': 'WTH GOOGLE. I WAS LISTENING TO MUSIC WHEN RANDOMLY THE STEVEN UNIVERSE SOUNDTRACK STARTED PLAYING. THIS A COINCIDENCE OR WAS I HACKED BY A SYMPATHETIC FAN I NEED HELP NOW '}, {'neg': 0.0, 'neu': 1.0, 'pos': 0.0, 'compound': 0.0, 'text': 'Google Home updates '}]\n"
     ]
    }
   ],
   "source": [
    "from nltk.sentiment.vader import SentimentIntensityAnalyzer as SIA\n",
    "\n",
    "sia = SIA()\n",
    "results = []\n",
    "\n",
    "for line in alexa_google['text']:\n",
    "    pol_score = sia.polarity_scores(line)\n",
    "    pol_score['text'] = line\n",
    "    results.append(pol_score)\n",
    "\n",
    "print(results[:3])"
   ]
  },
  {
   "cell_type": "code",
   "execution_count": 210,
   "metadata": {},
   "outputs": [
    {
     "data": {
      "text/html": [
       "<div>\n",
       "<style scoped>\n",
       "    .dataframe tbody tr th:only-of-type {\n",
       "        vertical-align: middle;\n",
       "    }\n",
       "\n",
       "    .dataframe tbody tr th {\n",
       "        vertical-align: top;\n",
       "    }\n",
       "\n",
       "    .dataframe thead th {\n",
       "        text-align: right;\n",
       "    }\n",
       "</style>\n",
       "<table border=\"1\" class=\"dataframe\">\n",
       "  <thead>\n",
       "    <tr style=\"text-align: right;\">\n",
       "      <th></th>\n",
       "      <th>neg</th>\n",
       "      <th>neu</th>\n",
       "      <th>pos</th>\n",
       "      <th>compound</th>\n",
       "      <th>text</th>\n",
       "    </tr>\n",
       "  </thead>\n",
       "  <tbody>\n",
       "    <tr>\n",
       "      <th>0</th>\n",
       "      <td>0.111</td>\n",
       "      <td>0.752</td>\n",
       "      <td>0.136</td>\n",
       "      <td>-0.0111</td>\n",
       "      <td>How can I force my Google Home devices to connect to my 2.4 GHz wifi? I've been getting some stability problems and this seems like a promising solution, but I'm not sure how to do it.</td>\n",
       "    </tr>\n",
       "    <tr>\n",
       "      <th>1</th>\n",
       "      <td>0.173</td>\n",
       "      <td>0.540</td>\n",
       "      <td>0.287</td>\n",
       "      <td>0.4588</td>\n",
       "      <td>WTH GOOGLE. I WAS LISTENING TO MUSIC WHEN RANDOMLY THE STEVEN UNIVERSE SOUNDTRACK STARTED PLAYING. THIS A COINCIDENCE OR WAS I HACKED BY A SYMPATHETIC FAN I NEED HELP NOW</td>\n",
       "    </tr>\n",
       "    <tr>\n",
       "      <th>2</th>\n",
       "      <td>0.000</td>\n",
       "      <td>1.000</td>\n",
       "      <td>0.000</td>\n",
       "      <td>0.0000</td>\n",
       "      <td>Google Home updates</td>\n",
       "    </tr>\n",
       "    <tr>\n",
       "      <th>3</th>\n",
       "      <td>0.000</td>\n",
       "      <td>0.893</td>\n",
       "      <td>0.107</td>\n",
       "      <td>0.5859</td>\n",
       "      <td>Anyone have the issue with their audio groups where they don’t play at the same time? One speaker will play and the other does nothing even though they’re both in the same group. I just set them up and they both work individually.</td>\n",
       "    </tr>\n",
       "    <tr>\n",
       "      <th>4</th>\n",
       "      <td>0.037</td>\n",
       "      <td>0.858</td>\n",
       "      <td>0.105</td>\n",
       "      <td>0.8669</td>\n",
       "      <td>Your Google Home Isn't Set Up Yet.... Someone please help me! \\n\\nI moved into a new apartment building and set up my google home mini. It worked fine for about 2 days and then it started saying that it wasn't set up yet. I have set it up about a million times since then and still nothing. I always finish all the steps too and then it does the dumb update and then tells me to talk to the speaker but it's the same bs again \"not set up yet...go to the app...blah blah blah\"\\n\\n&amp;#x200B;\\n\\nAlso, in the app I can see the play music button, the routines, etc. It just won't perform any of it. I also tried contacting google but they just told me to fill out a feedback form. Please, help! I will throw this out the window.</td>\n",
       "    </tr>\n",
       "  </tbody>\n",
       "</table>\n",
       "</div>"
      ],
      "text/plain": [
       "     neg    neu    pos  compound  \\\n",
       "0  0.111  0.752  0.136   -0.0111   \n",
       "1  0.173  0.540  0.287    0.4588   \n",
       "2  0.000  1.000  0.000    0.0000   \n",
       "3  0.000  0.893  0.107    0.5859   \n",
       "4  0.037  0.858  0.105    0.8669   \n",
       "\n",
       "                                                                                                                                                                                                                                                                                                                                                                                                                                                                                                                                                                                                                                                                                                                                                 text  \n",
       "0                                                                                                                                                                                                                                                                                                                                                                                                                                                                                                                                                            How can I force my Google Home devices to connect to my 2.4 GHz wifi? I've been getting some stability problems and this seems like a promising solution, but I'm not sure how to do it.  \n",
       "1                                                                                                                                                                                                                                                                                                                                                                                                                                                                                                                                                                         WTH GOOGLE. I WAS LISTENING TO MUSIC WHEN RANDOMLY THE STEVEN UNIVERSE SOUNDTRACK STARTED PLAYING. THIS A COINCIDENCE OR WAS I HACKED BY A SYMPATHETIC FAN I NEED HELP NOW   \n",
       "2                                                                                                                                                                                                                                                                                                                                                                                                                                                                                                                                                                                                                                                                                                                                Google Home updates   \n",
       "3                                                                                                                                                                                                                                                                                                                                                                                                                                                                                                             Anyone have the issue with their audio groups where they don’t play at the same time? One speaker will play and the other does nothing even though they’re both in the same group. I just set them up and they both work individually.   \n",
       "4  Your Google Home Isn't Set Up Yet.... Someone please help me! \\n\\nI moved into a new apartment building and set up my google home mini. It worked fine for about 2 days and then it started saying that it wasn't set up yet. I have set it up about a million times since then and still nothing. I always finish all the steps too and then it does the dumb update and then tells me to talk to the speaker but it's the same bs again \"not set up yet...go to the app...blah blah blah\"\\n\\n&#x200B;\\n\\nAlso, in the app I can see the play music button, the routines, etc. It just won't perform any of it. I also tried contacting google but they just told me to fill out a feedback form. Please, help! I will throw this out the window.  "
      ]
     },
     "execution_count": 210,
     "metadata": {},
     "output_type": "execute_result"
    }
   ],
   "source": [
    "df = pd.DataFrame.from_records(results)\n",
    "df.head()"
   ]
  },
  {
   "cell_type": "code",
   "execution_count": 212,
   "metadata": {},
   "outputs": [
    {
     "data": {
      "text/html": [
       "<div>\n",
       "<style scoped>\n",
       "    .dataframe tbody tr th:only-of-type {\n",
       "        vertical-align: middle;\n",
       "    }\n",
       "\n",
       "    .dataframe tbody tr th {\n",
       "        vertical-align: top;\n",
       "    }\n",
       "\n",
       "    .dataframe thead th {\n",
       "        text-align: right;\n",
       "    }\n",
       "</style>\n",
       "<table border=\"1\" class=\"dataframe\">\n",
       "  <thead>\n",
       "    <tr style=\"text-align: right;\">\n",
       "      <th></th>\n",
       "      <th>neg</th>\n",
       "      <th>neu</th>\n",
       "      <th>pos</th>\n",
       "      <th>compound</th>\n",
       "      <th>text</th>\n",
       "      <th>subreddit</th>\n",
       "      <th>id</th>\n",
       "      <th>name</th>\n",
       "      <th>title</th>\n",
       "      <th>selftext</th>\n",
       "      <th>score</th>\n",
       "      <th>flair</th>\n",
       "      <th>url</th>\n",
       "      <th>author</th>\n",
       "      <th>created</th>\n",
       "      <th>class</th>\n",
       "    </tr>\n",
       "  </thead>\n",
       "  <tbody>\n",
       "    <tr>\n",
       "      <th>0</th>\n",
       "      <td>0.111</td>\n",
       "      <td>0.752</td>\n",
       "      <td>0.136</td>\n",
       "      <td>-0.0111</td>\n",
       "      <td>How can I force my Google Home devices to connect to my 2.4 GHz wifi? I've been getting some stability problems and this seems like a promising solution, but I'm not sure how to do it.</td>\n",
       "      <td>googlehome</td>\n",
       "      <td>igqw0v</td>\n",
       "      <td>t3_igqw0v</td>\n",
       "      <td>How can I force my Google Home devices to connect to my 2.4 GHz wifi?</td>\n",
       "      <td>I've been getting some stability problems and this seems like a promising solution, but I'm not sure how to do it.</td>\n",
       "      <td>1</td>\n",
       "      <td>Help</td>\n",
       "      <td>https://www.reddit.com/r/googlehome/comments/igqw0v/how_can_i_force_my_google_home_devices_to_connect/</td>\n",
       "      <td>tsyneil</td>\n",
       "      <td>2020-08-25 19:53:13</td>\n",
       "      <td>0</td>\n",
       "    </tr>\n",
       "    <tr>\n",
       "      <th>1</th>\n",
       "      <td>0.173</td>\n",
       "      <td>0.540</td>\n",
       "      <td>0.287</td>\n",
       "      <td>0.4588</td>\n",
       "      <td>WTH GOOGLE. I WAS LISTENING TO MUSIC WHEN RANDOMLY THE STEVEN UNIVERSE SOUNDTRACK STARTED PLAYING. THIS A COINCIDENCE OR WAS I HACKED BY A SYMPATHETIC FAN I NEED HELP NOW</td>\n",
       "      <td>googlehome</td>\n",
       "      <td>igqtv1</td>\n",
       "      <td>t3_igqtv1</td>\n",
       "      <td>WTH GOOGLE. I WAS LISTENING TO MUSIC WHEN RANDOMLY THE STEVEN UNIVERSE SOUNDTRACK STARTED PLAYING. THIS A COINCIDENCE OR WAS I HACKED BY A SYMPATHETIC FAN I NEED HELP NOW</td>\n",
       "      <td></td>\n",
       "      <td>0</td>\n",
       "      <td>Bug</td>\n",
       "      <td>https://www.reddit.com/gallery/igqtv1</td>\n",
       "      <td>F34R_TheRamen</td>\n",
       "      <td>2020-08-25 19:49:10</td>\n",
       "      <td>0</td>\n",
       "    </tr>\n",
       "  </tbody>\n",
       "</table>\n",
       "</div>"
      ],
      "text/plain": [
       "     neg    neu    pos  compound  \\\n",
       "0  0.111  0.752  0.136   -0.0111   \n",
       "1  0.173  0.540  0.287    0.4588   \n",
       "\n",
       "                                                                                                                                                                                       text  \\\n",
       "0  How can I force my Google Home devices to connect to my 2.4 GHz wifi? I've been getting some stability problems and this seems like a promising solution, but I'm not sure how to do it.   \n",
       "1               WTH GOOGLE. I WAS LISTENING TO MUSIC WHEN RANDOMLY THE STEVEN UNIVERSE SOUNDTRACK STARTED PLAYING. THIS A COINCIDENCE OR WAS I HACKED BY A SYMPATHETIC FAN I NEED HELP NOW    \n",
       "\n",
       "    subreddit      id       name  \\\n",
       "0  googlehome  igqw0v  t3_igqw0v   \n",
       "1  googlehome  igqtv1  t3_igqtv1   \n",
       "\n",
       "                                                                                                                                                                        title  \\\n",
       "0                                                                                                       How can I force my Google Home devices to connect to my 2.4 GHz wifi?   \n",
       "1  WTH GOOGLE. I WAS LISTENING TO MUSIC WHEN RANDOMLY THE STEVEN UNIVERSE SOUNDTRACK STARTED PLAYING. THIS A COINCIDENCE OR WAS I HACKED BY A SYMPATHETIC FAN I NEED HELP NOW   \n",
       "\n",
       "                                                                                                             selftext  \\\n",
       "0  I've been getting some stability problems and this seems like a promising solution, but I'm not sure how to do it.   \n",
       "1                                                                                                                       \n",
       "\n",
       "   score flair  \\\n",
       "0      1  Help   \n",
       "1      0   Bug   \n",
       "\n",
       "                                                                                                      url  \\\n",
       "0  https://www.reddit.com/r/googlehome/comments/igqw0v/how_can_i_force_my_google_home_devices_to_connect/   \n",
       "1                                                                   https://www.reddit.com/gallery/igqtv1   \n",
       "\n",
       "          author             created  class  \n",
       "0        tsyneil 2020-08-25 19:53:13      0  \n",
       "1  F34R_TheRamen 2020-08-25 19:49:10      0  "
      ]
     },
     "execution_count": 212,
     "metadata": {},
     "output_type": "execute_result"
    }
   ],
   "source": [
    "sentiment = pd.merge(left=df, right=alexa_google, how='left', right_on='text', left_on='text')\n",
    "sentiment.head(2)"
   ]
  },
  {
   "cell_type": "code",
   "execution_count": 213,
   "metadata": {},
   "outputs": [
    {
     "data": {
      "image/png": "[encoded data removed]",
      "text/plain": [
       "<Figure size 864x576 with 1 Axes>"
      ]
     },
     "metadata": {
      "needs_background": "light"
     },
     "output_type": "display_data"
    }
   ],
   "source": [
    "plt.figure(figsize=(12,8))\n",
    "sns.scatterplot('neg','pos', data=sentiment, hue='subreddit',palette='bright', alpha=0.3)\n",
    "plt.title('Sentiment Analysis of Google Home and Alexa Posts');"
   ]
  },
  {
   "cell_type": "code",
   "execution_count": 214,
   "metadata": {},
   "outputs": [
    {
     "data": {
      "image/png": "[encoded data removed]",
      "text/plain": [
       "<Figure size 432x288 with 1 Axes>"
      ]
     },
     "metadata": {
      "needs_background": "light"
     },
     "output_type": "display_data"
    }
   ],
   "source": [
    "sentiment[sentiment['subreddit'] == 'googlehome'][['neg','neu','pos']].sum().plot(kind='bar')\n",
    "plt.title('Sentiment Analysis of Google Home Posts');"
   ]
  },
  {
   "cell_type": "code",
   "execution_count": 215,
   "metadata": {},
   "outputs": [
    {
     "data": {
      "image/png": "[encoded data removed]",
      "text/plain": [
       "<Figure size 432x288 with 1 Axes>"
      ]
     },
     "metadata": {
      "needs_background": "light"
     },
     "output_type": "display_data"
    }
   ],
   "source": [
    "sentiment[sentiment['subreddit'] == 'alexa'][['neg','neu','pos']].sum().plot(kind='bar')\n",
    "plt.title('Sentiment Analysis of Alexa Posts');"
   ]
  },
  {
   "cell_type": "markdown",
   "metadata": {},
   "source": [
    "### Train test split"
   ]
  },
  {
   "cell_type": "code",
   "execution_count": 21,
   "metadata": {},
   "outputs": [],
   "source": [
    "X = alexa_google['text']\n",
    "y = alexa_google['class']"
   ]
  },
  {
   "cell_type": "code",
   "execution_count": 22,
   "metadata": {},
   "outputs": [],
   "source": [
    "X_train, X_test, y_train, y_test = train_test_split(X,y, stratify=y)"
   ]
  },
  {
   "cell_type": "markdown",
   "metadata": {},
   "source": [
    "### Baseline"
   ]
  },
  {
   "cell_type": "code",
   "execution_count": 23,
   "metadata": {},
   "outputs": [
    {
     "data": {
      "text/plain": [
       "1    0.508147\n",
       "0    0.491853\n",
       "Name: class, dtype: float64"
      ]
     },
     "execution_count": 23,
     "metadata": {},
     "output_type": "execute_result"
    }
   ],
   "source": [
    "y.value_counts(normalize=True)"
   ]
  },
  {
   "cell_type": "markdown",
   "metadata": {},
   "source": [
    "### Our baseline is to predict correct more than 50% of the time"
   ]
  },
  {
   "cell_type": "markdown",
   "metadata": {},
   "source": [
    "# Logistic Regression"
   ]
  },
  {
   "cell_type": "markdown",
   "metadata": {},
   "source": [
    "### Pipeline"
   ]
  },
  {
   "cell_type": "markdown",
   "metadata": {},
   "source": [
    "Going to add `CountVectorizer` with `stop_words='english'` to remove the common words from the dataset"
   ]
  },
  {
   "cell_type": "code",
   "execution_count": 24,
   "metadata": {},
   "outputs": [],
   "source": [
    "pipe_lr = Pipeline([\n",
    "    ('cvec', CountVectorizer(stop_words='english')),\n",
    "    ('lr', LogisticRegression())\n",
    "])"
   ]
  },
  {
   "cell_type": "code",
   "execution_count": 25,
   "metadata": {},
   "outputs": [],
   "source": [
    "pipe_params_lr = {\n",
    "    'cvec__max_features' : [2000, 3000, 4000, 5000], \n",
    "    'cvec__min_df' : [2,3],\n",
    "    'cvec__max_df' : [.90,95],\n",
    "    'cvec__ngram_range' : [(1,1), (1,2)]\n",
    "}"
   ]
  },
  {
   "cell_type": "code",
   "execution_count": 26,
   "metadata": {},
   "outputs": [],
   "source": [
    "gs_lr = GridSearchCV(pipe_lr, # what object are we optimizing?\n",
    "                  param_grid=pipe_params_lr, # what parameters values are we searching?\n",
    "                  cv = 5) # 5-fold cross-validation."
   ]
  },
  {
   "cell_type": "code",
   "execution_count": 27,
   "metadata": {},
   "outputs": [
    {
     "data": {
      "text/plain": [
       "GridSearchCV(cv=5,\n",
       "             estimator=Pipeline(steps=[('cvec',\n",
       "                                        CountVectorizer(stop_words='english')),\n",
       "                                       ('lr', LogisticRegression())]),\n",
       "             param_grid={'cvec__max_df': [0.9, 95],\n",
       "                         'cvec__max_features': [2000, 3000, 4000, 5000],\n",
       "                         'cvec__min_df': [2, 3],\n",
       "                         'cvec__ngram_range': [(1, 1), (1, 2)]})"
      ]
     },
     "execution_count": 27,
     "metadata": {},
     "output_type": "execute_result"
    }
   ],
   "source": [
    "gs_lr.fit(X_train, y_train)"
   ]
  },
  {
   "cell_type": "code",
   "execution_count": 28,
   "metadata": {},
   "outputs": [
    {
     "data": {
      "text/plain": [
       "Pipeline(steps=[('cvec',\n",
       "                 CountVectorizer(max_df=0.9, max_features=2000, min_df=2,\n",
       "                                 ngram_range=(1, 2), stop_words='english')),\n",
       "                ('lr', LogisticRegression())])"
      ]
     },
     "execution_count": 28,
     "metadata": {},
     "output_type": "execute_result"
    }
   ],
   "source": [
    "gs_lr.best_estimator_"
   ]
  },
  {
   "cell_type": "code",
   "execution_count": 29,
   "metadata": {},
   "outputs": [
    {
     "name": "stdout",
     "output_type": "stream",
     "text": [
      "Train accuracy: 0.9966055668703326\n",
      "Test accuracy: 0.9327902240325866\n"
     ]
    }
   ],
   "source": [
    "print(f'Train accuracy: {gs_lr.score(X_train, y_train)}')\n",
    "print(f'Test accuracy: {gs_lr.score(X_test, y_test)}')"
   ]
  },
  {
   "cell_type": "code",
   "execution_count": 30,
   "metadata": {},
   "outputs": [],
   "source": [
    "preds_lr = gs_lr.predict(X_test)\n",
    "\n",
    "# Save confusion matrix values\n",
    "tn, fp, fn, tp = confusion_matrix(y_test, preds_lr).ravel()"
   ]
  },
  {
   "cell_type": "code",
   "execution_count": 31,
   "metadata": {},
   "outputs": [
    {
     "data": {
      "image/png": "[encoded data removed]",
      "text/plain": [
       "<Figure size 432x288 with 2 Axes>"
      ]
     },
     "metadata": {
      "needs_background": "light"
     },
     "output_type": "display_data"
    }
   ],
   "source": [
    "# View confusion matrix\n",
    "plot_confusion_matrix(gs_lr, X_test, y_test, cmap='Blues', values_format='d');"
   ]
  },
  {
   "cell_type": "code",
   "execution_count": 94,
   "metadata": {},
   "outputs": [
    {
     "data": {
      "image/png": "[encoded data removed]",
      "text/plain": [
       "<Figure size 432x288 with 2 Axes>"
      ]
     },
     "metadata": {
      "needs_background": "light"
     },
     "output_type": "display_data"
    }
   ],
   "source": [
    "# View normalized confusion matrix\n",
    "plot_confusion_matrix(gs_lr, X_test, y_test, cmap='Blues', normalize='true');"
   ]
  },
  {
   "cell_type": "markdown",
   "metadata": {},
   "source": [
    "- We predict Alexa, when it is actually Alexa 95% of the time\n",
    "- We predict GoogleHome, when it is actually GoogleHome 92% of the time\n",
    "- We predict Alexa, when it is actually GoogleHome 8.3% of the time\n",
    "- We predict GoogleHome, when is actually Alexa 5.2% of the time"
   ]
  },
  {
   "cell_type": "markdown",
   "metadata": {},
   "source": [
    "# Random Forest"
   ]
  },
  {
   "cell_type": "code",
   "execution_count": 32,
   "metadata": {},
   "outputs": [],
   "source": [
    "pipe_rf = Pipeline([\n",
    "    ('cvec', CountVectorizer(stop_words='english')),\n",
    "    ('rf', RandomForestClassifier())\n",
    "])"
   ]
  },
  {
   "cell_type": "code",
   "execution_count": 33,
   "metadata": {},
   "outputs": [],
   "source": [
    "model_params = {}\n",
    "count = 0"
   ]
  },
  {
   "cell_type": "code",
   "execution_count": 35,
   "metadata": {},
   "outputs": [
    {
     "data": {
      "text/html": [
       "<div>\n",
       "<style scoped>\n",
       "    .dataframe tbody tr th:only-of-type {\n",
       "        vertical-align: middle;\n",
       "    }\n",
       "\n",
       "    .dataframe tbody tr th {\n",
       "        vertical-align: top;\n",
       "    }\n",
       "\n",
       "    .dataframe thead th {\n",
       "        text-align: right;\n",
       "    }\n",
       "</style>\n",
       "<table border=\"1\" class=\"dataframe\">\n",
       "  <thead>\n",
       "    <tr style=\"text-align: right;\">\n",
       "      <th></th>\n",
       "      <th>rf__max_depth</th>\n",
       "      <th>rf__max_features</th>\n",
       "      <th>rf__n_estimators</th>\n",
       "      <th>score</th>\n",
       "    </tr>\n",
       "  </thead>\n",
       "  <tbody>\n",
       "    <tr>\n",
       "      <th>model_1</th>\n",
       "      <td>6</td>\n",
       "      <td>None</td>\n",
       "      <td>90</td>\n",
       "      <td>0.923279</td>\n",
       "    </tr>\n",
       "  </tbody>\n",
       "</table>\n",
       "</div>"
      ],
      "text/plain": [
       "         rf__max_depth rf__max_features  rf__n_estimators     score\n",
       "model_1              6             None                90  0.923279"
      ]
     },
     "execution_count": 35,
     "metadata": {},
     "output_type": "execute_result"
    }
   ],
   "source": [
    "#Scaffolding\n",
    "\n",
    "params_rf = {\n",
    "    'rf__n_estimators' : [85,90,95], #number of trees\n",
    "    'rf__max_features' : [None], \n",
    "    'rf__max_depth' : [6]\n",
    "    \n",
    "}\n",
    "\n",
    "gs_rf = GridSearchCV(pipe_rf, \n",
    "                 param_grid=params_rf,\n",
    "                 cv=5)\n",
    "\n",
    "gs_rf.fit(X_train, y_train)\n",
    "\n",
    "#this takes the best params dictionary and adds a column called score\n",
    "gs_rf.best_params_['score'] = gs_rf.best_score_\n",
    "\n",
    "#make a counter\n",
    "count +=1\n",
    "\n",
    "#create new column with best params\n",
    "model_params[f'model_{count}'] = gs_rf.best_params_\n",
    "\n",
    "#orient sideways\n",
    "model_df = pd.DataFrame.from_dict(model_params, orient='index')\n",
    "model_df"
   ]
  },
  {
   "cell_type": "markdown",
   "metadata": {},
   "source": [
    "## Our models are both performing above 90% accuracy, let's investigate why?"
   ]
  },
  {
   "cell_type": "markdown",
   "metadata": {},
   "source": [
    "---------"
   ]
  },
  {
   "cell_type": "markdown",
   "metadata": {},
   "source": [
    "# Most Frequent Words"
   ]
  },
  {
   "cell_type": "code",
   "execution_count": 37,
   "metadata": {},
   "outputs": [],
   "source": [
    "def most_freq(subreddit):\n",
    "    \n",
    "    #instantiate CountVectorizer\n",
    "    cvec_df = CountVectorizer(stop_words='english')\n",
    "    \n",
    "    #select subreddit and fit\n",
    "    X_series = alexa_google[alexa_google['subreddit'] == subreddit]['text']\n",
    "    X_series =  cvec_df.fit_transform(X_series)\n",
    "    \n",
    "    #convert to a dataframe\n",
    "    X_df = pd.DataFrame(X_series.toarray(),\n",
    "    columns=cvec_df.get_feature_names())\n",
    "    \n",
    "    # create empty dictionary\n",
    "    top_words = {}\n",
    "\n",
    "    # loop through columns\n",
    "    for i in X_df.columns:\n",
    "        # save sum of each column in dictionary\n",
    "        top_words[i] =  X_df[i].sum()\n",
    "\n",
    "    # top_words to dataframe sorted by highest occurance\n",
    "    most_freq = pd.DataFrame(sorted(top_words.items(), key = lambda x: x[1], reverse = True))\n",
    "    \n",
    "    return most_freq"
   ]
  },
  {
   "cell_type": "markdown",
   "metadata": {},
   "source": [
    "### GoogleHome"
   ]
  },
  {
   "cell_type": "code",
   "execution_count": 38,
   "metadata": {},
   "outputs": [],
   "source": [
    "google_most_freq =  most_freq('googlehome')"
   ]
  },
  {
   "cell_type": "code",
   "execution_count": 39,
   "metadata": {},
   "outputs": [
    {
     "data": {
      "image/png": "[encoded data removed]",
      "text/plain": [
       "<Figure size 1440x576 with 1 Axes>"
      ]
     },
     "metadata": {
      "needs_background": "light"
     },
     "output_type": "display_data"
    }
   ],
   "source": [
    "plt.figure(figsize=(20,8))\n",
    "plt.bar(google_most_freq[0][:25], google_most_freq[1][:25])\n",
    "plt.title('Most Frequent Words in GoogleHome Subreddit');"
   ]
  },
  {
   "cell_type": "markdown",
   "metadata": {},
   "source": [
    "### Alexa"
   ]
  },
  {
   "cell_type": "code",
   "execution_count": 40,
   "metadata": {},
   "outputs": [],
   "source": [
    "alexa_most_freq = most_freq('alexa')"
   ]
  },
  {
   "cell_type": "code",
   "execution_count": 41,
   "metadata": {},
   "outputs": [
    {
     "data": {
      "image/png": "[encoded data removed]",
      "text/plain": [
       "<Figure size 1440x576 with 1 Axes>"
      ]
     },
     "metadata": {
      "needs_background": "light"
     },
     "output_type": "display_data"
    }
   ],
   "source": [
    "plt.figure(figsize=(20,8))\n",
    "plt.bar(alexa_most_freq[0][:25], alexa_most_freq[1][:25])\n",
    "plt.title('Most Frequent Words in Alexa Subreddit');"
   ]
  }
 ],
 "metadata": {
  "kernelspec": {
   "display_name": "Python 3",
   "language": "python",
   "name": "python3"
  },
  "language_info": {
   "codemirror_mode": {
    "name": "ipython",
    "version": 3
   },
   "file_extension": ".py",
   "mimetype": "text/x-python",
   "name": "python",
   "nbconvert_exporter": "python",
   "pygments_lexer": "ipython3",
   "version": "3.7.7"
  }
 },
 "nbformat": 4,
 "nbformat_minor": 4
}
