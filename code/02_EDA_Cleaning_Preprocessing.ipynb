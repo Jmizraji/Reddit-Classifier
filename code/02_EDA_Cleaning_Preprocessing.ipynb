{
 "cells": [
  {
   "cell_type": "code",
   "execution_count": 1,
   "metadata": {},
   "outputs": [],
   "source": [
    "#Imports\n",
    "import requests\n",
    "import pandas as pd\n",
    "import numpy as np\n",
    "from bs4 import BeautifulSoup\n",
    "import time\n",
    "import datetime as dt\n",
    "import praw\n",
    "import nltk\n",
    "\n",
    "import seaborn as sns\n",
    "import matplotlib.pyplot as plt\n",
    "\n",
    "from nltk.sentiment.vader import SentimentIntensityAnalyzer\n",
    "from sklearn.model_selection import train_test_split, GridSearchCV, cross_val_score\n",
    "from sklearn.pipeline import Pipeline\n",
    "from sklearn.linear_model import LogisticRegression\n",
    "from sklearn.metrics import confusion_matrix, plot_confusion_matrix\n",
    "from sklearn.feature_extraction.text import CountVectorizer, TfidfVectorizer\n",
    "from sklearn.ensemble import RandomForestClassifier, ExtraTreesClassifier"
   ]
  },
  {
   "cell_type": "code",
   "execution_count": 2,
   "metadata": {},
   "outputs": [],
   "source": [
    "#allows all columns to be scrolled\n",
    "pd.set_option('display.max_columns', None)\n",
    "\n",
    "# Source:https://stackoverflow.com/questions/47022070/display-all-dataframe-columns-in-a-jupyter-python-notebook/47022213 "
   ]
  },
  {
   "cell_type": "code",
   "execution_count": 3,
   "metadata": {},
   "outputs": [],
   "source": [
    "#displays all text in dataframes\n",
    "pd.set_option('display.max_colwidth', None)\n",
    "\n",
    "# https://stackoverflow.com/questions/25351968/how-to-display-full-non-truncated-dataframe-information-in-html-when-convertin"
   ]
  },
  {
   "cell_type": "markdown",
   "metadata": {},
   "source": [
    "# Table of Contents\n",
    "\n",
    "* [Read In Our Data](#Read-In-Out-Data)\n",
    "* [Data Cleaning](#Data-Cleaning)\n",
    "    * [Posts](#Posts)\n",
    "    * [Comments](#Comments)\n",
    "* [Exploratory Data Analysis](#Exploratory-Data-Analysis)\n",
    "    * [Scores](#What-is-the-score-of-each-post?)\n",
    "    * [Correlations](#Is-there-a-correlation-between-upvotes-and-comments?-Other-correlations?)\n",
    "    * [Comments](#Distribution-of-Comments)\n",
    "    * [Flair Categories](#Exploring-Flair-Categories)\n",
    "* [Model Prep](#Let's-prep-our-data-to-make-a-model)\n",
    "* [Additional Exploratory Data Analysis](#Additional-Exploratory-Data-Analysis)\n",
    "    * [Sentiment Analysis - Post Title & Body](#Sentiment-Analysis---Post-Title-and-Body)\n",
    "    * [Sentiment Analysis - Comments](#Sentiment-Analysis---Comments)\n",
    "    * [Company Comparisons](#Exploring-Company-Comparisons)\n"
   ]
  },
  {
   "cell_type": "markdown",
   "metadata": {},
   "source": [
    "# Read In Our Data"
   ]
  },
  {
   "cell_type": "code",
   "execution_count": 4,
   "metadata": {},
   "outputs": [],
   "source": [
    "#posts\n",
    "alexa = pd.read_csv('./data/alexa_subreddit.csv')\n",
    "google = pd.read_csv('./data/googlehome_subreddit.csv')"
   ]
  },
  {
   "cell_type": "code",
   "execution_count": 5,
   "metadata": {},
   "outputs": [],
   "source": [
    "#comments\n",
    "alexa_comments = pd.read_csv('./data/alexa_comments_subreddit.csv')\n",
    "google_comments = pd.read_csv('./data/googlehome_comments_subreddit.csv')"
   ]
  },
  {
   "cell_type": "code",
   "execution_count": 6,
   "metadata": {},
   "outputs": [],
   "source": [
    "#same dataframes in a list for easy exploration and data cleaning\n",
    "dfs = [alexa, google]\n",
    "comments_dfs = [alexa_comments, google_comments]"
   ]
  },
  {
   "cell_type": "markdown",
   "metadata": {},
   "source": [
    "# Data Cleaning"
   ]
  },
  {
   "cell_type": "markdown",
   "metadata": {},
   "source": [
    "## Posts"
   ]
  },
  {
   "cell_type": "markdown",
   "metadata": {},
   "source": [
    "### Drop the `Unnamed: 0` column"
   ]
  },
  {
   "cell_type": "code",
   "execution_count": 7,
   "metadata": {},
   "outputs": [],
   "source": [
    "alexa.drop(columns='Unnamed: 0', inplace=True)\n",
    "google.drop(columns='Unnamed: 0', inplace=True)"
   ]
  },
  {
   "cell_type": "markdown",
   "metadata": {},
   "source": [
    "### Change `created` to datetime"
   ]
  },
  {
   "cell_type": "code",
   "execution_count": 8,
   "metadata": {},
   "outputs": [],
   "source": [
    "def created_to_datetime(dataframe):   \n",
    "    dataframe['created'] = dataframe['created'].apply(lambda x: dt.datetime.fromtimestamp(x).strftime('%Y-%m-%d %H:%M:%S')) #credit: https://www.w3resource.com/python-exercises/date-time-exercise/python-date-time-exercise-6.php\n",
    "    dataframe['created'] = pd.to_datetime(dataframe['created']) \n",
    "    \n",
    "    return dataframe.head(2)"
   ]
  },
  {
   "cell_type": "code",
   "execution_count": 9,
   "metadata": {},
   "outputs": [],
   "source": [
    "#change all dataframes 'created' column to datetime\n",
    "for df in dfs:\n",
    "    created_to_datetime(df)"
   ]
  },
  {
   "cell_type": "markdown",
   "metadata": {},
   "source": [
    "### Review dataframe `shape` and `min()` date to see how dateframes compare"
   ]
  },
  {
   "cell_type": "code",
   "execution_count": 10,
   "metadata": {},
   "outputs": [
    {
     "name": "stdout",
     "output_type": "stream",
     "text": [
      "alexa Shape: (998, 12)\n",
      "Earliest Date Collected:  2020-05-26 15:47:18\n",
      "\n",
      "googlehome Shape: (962, 12)\n",
      "Earliest Date Collected:  2020-07-27 18:17:42\n",
      "\n",
      "Alexa Comments Shape: (4482, 5)\n",
      "Google Home Comments Shape: (6233, 5)\n"
     ]
    }
   ],
   "source": [
    "for df in dfs:   \n",
    "    print(f'{df[\"subreddit\"][0]} Shape: {df.shape}')\n",
    "    print(f\"Earliest Date Collected:  {df['created'].min()}\")\n",
    "    print()\n",
    "\n",
    "#comments\n",
    "print(f'Alexa Comments Shape: {alexa_comments.shape}')\n",
    "print(f'Google Home Comments Shape: {google_comments.shape}')"
   ]
  },
  {
   "cell_type": "markdown",
   "metadata": {},
   "source": [
    "### Posts Over Time"
   ]
  },
  {
   "cell_type": "code",
   "execution_count": 11,
   "metadata": {},
   "outputs": [
    {
     "data": {
      "image/png": "[encoded data removed]",
      "text/plain": [
       "<Figure size 576x432 with 1 Axes>"
      ]
     },
     "metadata": {
      "needs_background": "light"
     },
     "output_type": "display_data"
    }
   ],
   "source": [
    "alexa_posts_ct = alexa['created'].dt.strftime('%b %Y').value_counts(sort=False) \n",
    "\n",
    "plt.figure(figsize=(8,6))\n",
    "sns.barplot(alexa_posts_ct.index, alexa_posts_ct.values, palette='Blues')\n",
    "plt.title('Alexa Posts Over Time', fontsize=16)\n",
    "plt.savefig('./imgs/alexa_posts.jpeg',bbox_inches='tight');"
   ]
  },
  {
   "cell_type": "code",
   "execution_count": 12,
   "metadata": {},
   "outputs": [
    {
     "data": {
      "image/png": "[encoded data removed]",
      "text/plain": [
       "<Figure size 576x432 with 1 Axes>"
      ]
     },
     "metadata": {
      "needs_background": "light"
     },
     "output_type": "display_data"
    }
   ],
   "source": [
    "google_posts_ct = google['created'].dt.strftime('%b %Y').value_counts(sort=False)\n",
    "\n",
    "plt.figure(figsize=(8,6))\n",
    "sns.barplot(google_posts_ct.index, google_posts_ct.values, palette='Blues')\n",
    "plt.title('Google Posts Over Time',fontsize=16)\n",
    "plt.savefig('./imgs/google_posts.jpeg',bbox_inches='tight');"
   ]
  },
  {
   "cell_type": "markdown",
   "metadata": {},
   "source": [
    "## Comments"
   ]
  },
  {
   "cell_type": "markdown",
   "metadata": {},
   "source": [
    "### Drop the `Unnamed: 0` column"
   ]
  },
  {
   "cell_type": "code",
   "execution_count": 13,
   "metadata": {},
   "outputs": [],
   "source": [
    "alexa_comments.drop(columns='Unnamed: 0', inplace=True)\n",
    "google_comments.drop(columns='Unnamed: 0', inplace=True)"
   ]
  },
  {
   "cell_type": "markdown",
   "metadata": {},
   "source": [
    "# Exploratory Data Analysis"
   ]
  },
  {
   "cell_type": "markdown",
   "metadata": {},
   "source": [
    "### What is the score of each post?"
   ]
  },
  {
   "cell_type": "markdown",
   "metadata": {},
   "source": [
    "Score is a measure of `upvotes - downvotes`"
   ]
  },
  {
   "cell_type": "code",
   "execution_count": 14,
   "metadata": {},
   "outputs": [
    {
     "data": {
      "image/png": "[encoded data removed]",
      "text/plain": [
       "<Figure size 576x432 with 1 Axes>"
      ]
     },
     "metadata": {
      "needs_background": "light"
     },
     "output_type": "display_data"
    }
   ],
   "source": [
    "plt.figure(figsize=(8,6))\n",
    "sns.boxplot(alexa['score'])\n",
    "plt.title(f'Distribution of Alexa Scores', fontsize=16);\n",
    "plt.savefig('./imgs/alexa_scores.jpeg',bbox_inches='tight');"
   ]
  },
  {
   "cell_type": "code",
   "execution_count": 15,
   "metadata": {},
   "outputs": [
    {
     "data": {
      "image/png": "[encoded data removed]",
      "text/plain": [
       "<Figure size 576x432 with 1 Axes>"
      ]
     },
     "metadata": {
      "needs_background": "light"
     },
     "output_type": "display_data"
    }
   ],
   "source": [
    "plt.figure(figsize=(8,6))\n",
    "sns.boxplot(google['score'])\n",
    "plt.title(f'Distribution of Google Home Scores',fontsize=16);\n",
    "plt.savefig('./imgs/google_scores.jpeg',bbox_inches='tight');"
   ]
  },
  {
   "cell_type": "markdown",
   "metadata": {},
   "source": [
    "### Posts With The Highest Scores"
   ]
  },
  {
   "cell_type": "code",
   "execution_count": 16,
   "metadata": {},
   "outputs": [
    {
     "data": {
      "text/html": [
       "<div>\n",
       "<style scoped>\n",
       "    .dataframe tbody tr th:only-of-type {\n",
       "        vertical-align: middle;\n",
       "    }\n",
       "\n",
       "    .dataframe tbody tr th {\n",
       "        vertical-align: top;\n",
       "    }\n",
       "\n",
       "    .dataframe thead th {\n",
       "        text-align: right;\n",
       "    }\n",
       "</style>\n",
       "<table border=\"1\" class=\"dataframe\">\n",
       "  <thead>\n",
       "    <tr style=\"text-align: right;\">\n",
       "      <th></th>\n",
       "      <th>title</th>\n",
       "      <th>selftext</th>\n",
       "      <th>url</th>\n",
       "      <th>flair</th>\n",
       "      <th>score</th>\n",
       "    </tr>\n",
       "  </thead>\n",
       "  <tbody>\n",
       "    <tr>\n",
       "      <th>189</th>\n",
       "      <td>Nice</td>\n",
       "      <td>NaN</td>\n",
       "      <td>https://i.redd.it/o9lfyi1gb8g51.jpg</td>\n",
       "      <td>NaN</td>\n",
       "      <td>231</td>\n",
       "    </tr>\n",
       "    <tr>\n",
       "      <th>256</th>\n",
       "      <td>I created a skill that will play “Piano Man” by Billy Joel so it will play the line “it’s 9 o’clock on a Saturday” at exactly 9:00 on a Saturday.</td>\n",
       "      <td>NaN</td>\n",
       "      <td>https://i.redd.it/lfgnpy5zgpe51.jpg</td>\n",
       "      <td>NaN</td>\n",
       "      <td>186</td>\n",
       "    </tr>\n",
       "    <tr>\n",
       "      <th>698</th>\n",
       "      <td>the alexa app is crap. it's slow, laggy, fully of bugs, and just a pain in the arse to use.</td>\n",
       "      <td>title.  \\n\\n\\nthe actual devices are fine, but the app is shit.</td>\n",
       "      <td>https://www.reddit.com/r/alexa/comments/hdapdz/the_alexa_app_is_crap_its_slow_laggy_fully_of/</td>\n",
       "      <td>NaN</td>\n",
       "      <td>172</td>\n",
       "    </tr>\n",
       "    <tr>\n",
       "      <th>475</th>\n",
       "      <td>My kids have worked out how to set reminders on their siblings Echo from their own</td>\n",
       "      <td>NaN</td>\n",
       "      <td>https://i.redd.it/edjdlfj7soa51.jpg</td>\n",
       "      <td>NaN</td>\n",
       "      <td>158</td>\n",
       "    </tr>\n",
       "    <tr>\n",
       "      <th>619</th>\n",
       "      <td>Did she just troll me?</td>\n",
       "      <td>NaN</td>\n",
       "      <td>https://i.redd.it/hfidedl6si751.jpg</td>\n",
       "      <td>NaN</td>\n",
       "      <td>145</td>\n",
       "    </tr>\n",
       "    <tr>\n",
       "      <th>551</th>\n",
       "      <td>My Alexa woke up to a fart, been some time since i laughed so hard</td>\n",
       "      <td>NaN</td>\n",
       "      <td>https://streamable.com/r6lm9u</td>\n",
       "      <td>NaN</td>\n",
       "      <td>117</td>\n",
       "    </tr>\n",
       "    <tr>\n",
       "      <th>779</th>\n",
       "      <td>Got my Alexa glasses today!</td>\n",
       "      <td>NaN</td>\n",
       "      <td>https://i.redd.it/12y9ilc4ix451.jpg</td>\n",
       "      <td>NaN</td>\n",
       "      <td>97</td>\n",
       "    </tr>\n",
       "    <tr>\n",
       "      <th>610</th>\n",
       "      <td>Reminders like this please.</td>\n",
       "      <td>\"Alexa, I've put my red jacket in the storage container in the spare room.\"\\n\\nMonths later.\\n\\n\"Alexa, Where is my red jacket?\"\\n\\n\"You'll find your red jacket in the storage container in the spare room.\"\\n\\nMake this happen.</td>\n",
       "      <td>https://www.reddit.com/r/alexa/comments/hhvy2x/reminders_like_this_please/</td>\n",
       "      <td>NaN</td>\n",
       "      <td>80</td>\n",
       "    </tr>\n",
       "    <tr>\n",
       "      <th>899</th>\n",
       "      <td>I am currently working on an Alexa skill that lets users play YouTube videos via audio on Alexa devices without a screen/ plays the video on those devices with a screen. Essentially this is a skill that lets users listen to music/videos for free without a subscription!</td>\n",
       "      <td>Please post additional features you would like me to add to this skill in the replies below! Thanks!</td>\n",
       "      <td>https://www.reddit.com/r/alexa/comments/gwm3bm/i_am_currently_working_on_an_alexa_skill_that/</td>\n",
       "      <td>NaN</td>\n",
       "      <td>78</td>\n",
       "    </tr>\n",
       "    <tr>\n",
       "      <th>48</th>\n",
       "      <td>Anyone Else Get Really Annoyed by Alexa’s “By the way...”</td>\n",
       "      <td>I know this might be a picky thing, but it seriously annoys me so much when Alexa does the “By the way...” thing. I think it’s mostly because I usually just want a quick answer without having to wait for Alexa to say her whole spiel about how much she can do for me as an assistant. It’s happened to me twice today: once when turning on the lights and another when I asked her for the weather. It bugs me so much and I wish there was an option to disable it.</td>\n",
       "      <td>https://www.reddit.com/r/alexa/comments/iep0ee/anyone_else_get_really_annoyed_by_alexas_by_the/</td>\n",
       "      <td>NaN</td>\n",
       "      <td>73</td>\n",
       "    </tr>\n",
       "    <tr>\n",
       "      <th>348</th>\n",
       "      <td>I just asked Alexa, \"What cell phone should I buy?\" and she told me that I should buy a Samsung Galaxy S6 because a 2015 article from Tom's Guide said it was the best new phone out there....</td>\n",
       "      <td>NaN</td>\n",
       "      <td>https://www.reddit.com/r/alexa/comments/hxz0z9/i_just_asked_alexa_what_cell_phone_should_i_buy/</td>\n",
       "      <td>NaN</td>\n",
       "      <td>69</td>\n",
       "    </tr>\n",
       "    <tr>\n",
       "      <th>528</th>\n",
       "      <td>A new feature apparently!</td>\n",
       "      <td>NaN</td>\n",
       "      <td>https://i.redd.it/7a6s6l6mip951.jpg</td>\n",
       "      <td>NaN</td>\n",
       "      <td>67</td>\n",
       "    </tr>\n",
       "    <tr>\n",
       "      <th>76</th>\n",
       "      <td>Looking to give away an Alexa Echo to someone who could use it.</td>\n",
       "      <td>No karma whoring, likes, subscribes, whatever. I'd like to give my Alexa to someone who could use it. I imagine that seniors have an easier time summoning an Alexa than turning on a radio, or figuring out how to use their phones for live listening.\\n\\nIf you, or someone you know can use an an Alexa, I'll ship it to you. I'll pay for the shipping. If I can make someone feel less lonely during everything that's going on, I feel like I've succeeded.\\n\\nSend me a PM, I'll send it this week.\\n\\nThanks reddit :)\\n\\nEdit: 2020-08-21: Thank you for all the kind messages. Alexa has found a forever home.</td>\n",
       "      <td>https://www.reddit.com/r/alexa/comments/id1b82/looking_to_give_away_an_alexa_echo_to_someone_who/</td>\n",
       "      <td>NaN</td>\n",
       "      <td>66</td>\n",
       "    </tr>\n",
       "    <tr>\n",
       "      <th>575</th>\n",
       "      <td>Alexa getting less intelligent all the time.</td>\n",
       "      <td>Alexa cancel my 8:10 am reminder\\n\\nyou have nothing on your calendar for 8:10 am\\n\\nAlexa what are my reminders?\\n\\nyou have a reminder at 8:10 am\\n\\nAlexa cancel my 8:10 am reminder\\n\\nyou have nothing on your calendar for 8:10 am\\n\\nAlexa what's on my calendar today\\n\\nyou have a reminder at 8:10 am......\\n\\n:(</td>\n",
       "      <td>https://www.reddit.com/r/alexa/comments/hjxdgc/alexa_getting_less_intelligent_all_the_time/</td>\n",
       "      <td>NaN</td>\n",
       "      <td>65</td>\n",
       "    </tr>\n",
       "    <tr>\n",
       "      <th>932</th>\n",
       "      <td>end my suffering</td>\n",
       "      <td>NaN</td>\n",
       "      <td>https://i.redd.it/z0kw2rsp5f251.jpg</td>\n",
       "      <td>NaN</td>\n",
       "      <td>64</td>\n",
       "    </tr>\n",
       "    <tr>\n",
       "      <th>130</th>\n",
       "      <td>Is it just me ...</td>\n",
       "      <td>or has anyone else noticed that it's harder for Alexa to hear you when you call her name? This started couple of months ago. Normally, Alexa hears me and responds even when I am saying something else that even sounds remotely like Alexa. It still does this when watching TV and a character says something equally similar. However, now, when listening to news or events that have commercials, Alexa doesn't hear me at all unless I'm standing right next to her and yelling her name. I can stand 10 feet away and yell it five times and she won't hear it. I notice that this always and only happens during commercials, when I want to say \"Alexa, skip.\" Did Amazon make Alexa harder to hear so that people can't easily skip commercials? If not, any suggestions on getting Alexa to hear me better?</td>\n",
       "      <td>https://www.reddit.com/r/alexa/comments/iaakca/is_it_just_me/</td>\n",
       "      <td>NaN</td>\n",
       "      <td>59</td>\n",
       "    </tr>\n",
       "    <tr>\n",
       "      <th>33</th>\n",
       "      <td>My Alexa gave me this as a notification while I was in the room with it, in dead silence</td>\n",
       "      <td>NaN</td>\n",
       "      <td>https://v.redd.it/cjeb0tcf0ui51</td>\n",
       "      <td>NaN</td>\n",
       "      <td>59</td>\n",
       "    </tr>\n",
       "    <tr>\n",
       "      <th>710</th>\n",
       "      <td>What's your lowest effort set-up reddit? This is mine, taking about 8 minutes including taking the dot out of the box, bending the nail out a bit and locating the piece holding the dot on the nail.</td>\n",
       "      <td>NaN</td>\n",
       "      <td>https://i.redd.it/4ehh9y86t3651.jpg</td>\n",
       "      <td>NaN</td>\n",
       "      <td>53</td>\n",
       "    </tr>\n",
       "    <tr>\n",
       "      <th>332</th>\n",
       "      <td>Alexa guard now rolling out in the UK. Finally.</td>\n",
       "      <td>NaN</td>\n",
       "      <td>https://i.redd.it/bqnqmv23ffd51.png</td>\n",
       "      <td>NaN</td>\n",
       "      <td>47</td>\n",
       "    </tr>\n",
       "    <tr>\n",
       "      <th>214</th>\n",
       "      <td>Channeling my inner Mr. Burns, for the moment a Roomba will have to do.</td>\n",
       "      <td>NaN</td>\n",
       "      <td>https://v.redd.it/ceisoc54wnf51</td>\n",
       "      <td>NaN</td>\n",
       "      <td>46</td>\n",
       "    </tr>\n",
       "  </tbody>\n",
       "</table>\n",
       "</div>"
      ],
      "text/plain": [
       "                                                                                                                                                                                                                                                                             title  \\\n",
       "189                                                                                                                                                                                                                                                                           Nice   \n",
       "256                                                                                                                              I created a skill that will play “Piano Man” by Billy Joel so it will play the line “it’s 9 o’clock on a Saturday” at exactly 9:00 on a Saturday.   \n",
       "698                                                                                                                                                                                    the alexa app is crap. it's slow, laggy, fully of bugs, and just a pain in the arse to use.   \n",
       "475                                                                                                                                                                                             My kids have worked out how to set reminders on their siblings Echo from their own   \n",
       "619                                                                                                                                                                                                                                                         Did she just troll me?   \n",
       "551                                                                                                                                                                                                             My Alexa woke up to a fart, been some time since i laughed so hard   \n",
       "779                                                                                                                                                                                                                                                    Got my Alexa glasses today!   \n",
       "610                                                                                                                                                                                                                                                    Reminders like this please.   \n",
       "899  I am currently working on an Alexa skill that lets users play YouTube videos via audio on Alexa devices without a screen/ plays the video on those devices with a screen. Essentially this is a skill that lets users listen to music/videos for free without a subscription!   \n",
       "48                                                                                                                                                                                                                       Anyone Else Get Really Annoyed by Alexa’s “By the way...”   \n",
       "348                                                                                 I just asked Alexa, \"What cell phone should I buy?\" and she told me that I should buy a Samsung Galaxy S6 because a 2015 article from Tom's Guide said it was the best new phone out there....   \n",
       "528                                                                                                                                                                                                                                                      A new feature apparently!   \n",
       "76                                                                                                                                                                                                                 Looking to give away an Alexa Echo to someone who could use it.   \n",
       "575                                                                                                                                                                                                                                   Alexa getting less intelligent all the time.   \n",
       "932                                                                                                                                                                                                                                                               end my suffering   \n",
       "130                                                                                                                                                                                                                                                              Is it just me ...   \n",
       "33                                                                                                                                                                                        My Alexa gave me this as a notification while I was in the room with it, in dead silence   \n",
       "710                                                                          What's your lowest effort set-up reddit? This is mine, taking about 8 minutes including taking the dot out of the box, bending the nail out a bit and locating the piece holding the dot on the nail.   \n",
       "332                                                                                                                                                                                                                                Alexa guard now rolling out in the UK. Finally.   \n",
       "214                                                                                                                                                                                                        Channeling my inner Mr. Burns, for the moment a Roomba will have to do.   \n",
       "\n",
       "                                                                                                                                                                                                                                                                                                                                                                                                                                                                                                                                                                                                                                                                                                                                                                                                                    selftext  \\\n",
       "189                                                                                                                                                                                                                                                                                                                                                                                                                                                                                                                                                                                                                                                                                                                                                                                                                      NaN   \n",
       "256                                                                                                                                                                                                                                                                                                                                                                                                                                                                                                                                                                                                                                                                                                                                                                                                                      NaN   \n",
       "698                                                                                                                                                                                                                                                                                                                                                                                                                                                                                                                                                                                                                                                                                                                                                          title.  \\n\\n\\nthe actual devices are fine, but the app is shit.   \n",
       "475                                                                                                                                                                                                                                                                                                                                                                                                                                                                                                                                                                                                                                                                                                                                                                                                                      NaN   \n",
       "619                                                                                                                                                                                                                                                                                                                                                                                                                                                                                                                                                                                                                                                                                                                                                                                                                      NaN   \n",
       "551                                                                                                                                                                                                                                                                                                                                                                                                                                                                                                                                                                                                                                                                                                                                                                                                                      NaN   \n",
       "779                                                                                                                                                                                                                                                                                                                                                                                                                                                                                                                                                                                                                                                                                                                                                                                                                      NaN   \n",
       "610                                                                                                                                                                                                                                                                                                                                                                                                                                                                                                                                                                                       \"Alexa, I've put my red jacket in the storage container in the spare room.\"\\n\\nMonths later.\\n\\n\"Alexa, Where is my red jacket?\"\\n\\n\"You'll find your red jacket in the storage container in the spare room.\"\\n\\nMake this happen.   \n",
       "899                                                                                                                                                                                                                                                                                                                                                                                                                                                                                                                                                                                                                                                                                                                     Please post additional features you would like me to add to this skill in the replies below! Thanks!   \n",
       "48                                                                                                                                                                                                                                                                                                                                                I know this might be a picky thing, but it seriously annoys me so much when Alexa does the “By the way...” thing. I think it’s mostly because I usually just want a quick answer without having to wait for Alexa to say her whole spiel about how much she can do for me as an assistant. It’s happened to me twice today: once when turning on the lights and another when I asked her for the weather. It bugs me so much and I wish there was an option to disable it.   \n",
       "348                                                                                                                                                                                                                                                                                                                                                                                                                                                                                                                                                                                                                                                                                                                                                                                                                      NaN   \n",
       "528                                                                                                                                                                                                                                                                                                                                                                                                                                                                                                                                                                                                                                                                                                                                                                                                                      NaN   \n",
       "76                                                                                                                                                                                                 No karma whoring, likes, subscribes, whatever. I'd like to give my Alexa to someone who could use it. I imagine that seniors have an easier time summoning an Alexa than turning on a radio, or figuring out how to use their phones for live listening.\\n\\nIf you, or someone you know can use an an Alexa, I'll ship it to you. I'll pay for the shipping. If I can make someone feel less lonely during everything that's going on, I feel like I've succeeded.\\n\\nSend me a PM, I'll send it this week.\\n\\nThanks reddit :)\\n\\nEdit: 2020-08-21: Thank you for all the kind messages. Alexa has found a forever home.   \n",
       "575                                                                                                                                                                                                                                                                                                                                                                                                                                                                                              Alexa cancel my 8:10 am reminder\\n\\nyou have nothing on your calendar for 8:10 am\\n\\nAlexa what are my reminders?\\n\\nyou have a reminder at 8:10 am\\n\\nAlexa cancel my 8:10 am reminder\\n\\nyou have nothing on your calendar for 8:10 am\\n\\nAlexa what's on my calendar today\\n\\nyou have a reminder at 8:10 am......\\n\\n:(   \n",
       "932                                                                                                                                                                                                                                                                                                                                                                                                                                                                                                                                                                                                                                                                                                                                                                                                                      NaN   \n",
       "130  or has anyone else noticed that it's harder for Alexa to hear you when you call her name? This started couple of months ago. Normally, Alexa hears me and responds even when I am saying something else that even sounds remotely like Alexa. It still does this when watching TV and a character says something equally similar. However, now, when listening to news or events that have commercials, Alexa doesn't hear me at all unless I'm standing right next to her and yelling her name. I can stand 10 feet away and yell it five times and she won't hear it. I notice that this always and only happens during commercials, when I want to say \"Alexa, skip.\" Did Amazon make Alexa harder to hear so that people can't easily skip commercials? If not, any suggestions on getting Alexa to hear me better?   \n",
       "33                                                                                                                                                                                                                                                                                                                                                                                                                                                                                                                                                                                                                                                                                                                                                                                                                       NaN   \n",
       "710                                                                                                                                                                                                                                                                                                                                                                                                                                                                                                                                                                                                                                                                                                                                                                                                                      NaN   \n",
       "332                                                                                                                                                                                                                                                                                                                                                                                                                                                                                                                                                                                                                                                                                                                                                                                                                      NaN   \n",
       "214                                                                                                                                                                                                                                                                                                                                                                                                                                                                                                                                                                                                                                                                                                                                                                                                                      NaN   \n",
       "\n",
       "                                                                                                   url  \\\n",
       "189                                                                https://i.redd.it/o9lfyi1gb8g51.jpg   \n",
       "256                                                                https://i.redd.it/lfgnpy5zgpe51.jpg   \n",
       "698      https://www.reddit.com/r/alexa/comments/hdapdz/the_alexa_app_is_crap_its_slow_laggy_fully_of/   \n",
       "475                                                                https://i.redd.it/edjdlfj7soa51.jpg   \n",
       "619                                                                https://i.redd.it/hfidedl6si751.jpg   \n",
       "551                                                                      https://streamable.com/r6lm9u   \n",
       "779                                                                https://i.redd.it/12y9ilc4ix451.jpg   \n",
       "610                         https://www.reddit.com/r/alexa/comments/hhvy2x/reminders_like_this_please/   \n",
       "899      https://www.reddit.com/r/alexa/comments/gwm3bm/i_am_currently_working_on_an_alexa_skill_that/   \n",
       "48     https://www.reddit.com/r/alexa/comments/iep0ee/anyone_else_get_really_annoyed_by_alexas_by_the/   \n",
       "348    https://www.reddit.com/r/alexa/comments/hxz0z9/i_just_asked_alexa_what_cell_phone_should_i_buy/   \n",
       "528                                                                https://i.redd.it/7a6s6l6mip951.jpg   \n",
       "76   https://www.reddit.com/r/alexa/comments/id1b82/looking_to_give_away_an_alexa_echo_to_someone_who/   \n",
       "575        https://www.reddit.com/r/alexa/comments/hjxdgc/alexa_getting_less_intelligent_all_the_time/   \n",
       "932                                                                https://i.redd.it/z0kw2rsp5f251.jpg   \n",
       "130                                      https://www.reddit.com/r/alexa/comments/iaakca/is_it_just_me/   \n",
       "33                                                                     https://v.redd.it/cjeb0tcf0ui51   \n",
       "710                                                                https://i.redd.it/4ehh9y86t3651.jpg   \n",
       "332                                                                https://i.redd.it/bqnqmv23ffd51.png   \n",
       "214                                                                    https://v.redd.it/ceisoc54wnf51   \n",
       "\n",
       "     flair  score  \n",
       "189    NaN    231  \n",
       "256    NaN    186  \n",
       "698    NaN    172  \n",
       "475    NaN    158  \n",
       "619    NaN    145  \n",
       "551    NaN    117  \n",
       "779    NaN     97  \n",
       "610    NaN     80  \n",
       "899    NaN     78  \n",
       "48     NaN     73  \n",
       "348    NaN     69  \n",
       "528    NaN     67  \n",
       "76     NaN     66  \n",
       "575    NaN     65  \n",
       "932    NaN     64  \n",
       "130    NaN     59  \n",
       "33     NaN     59  \n",
       "710    NaN     53  \n",
       "332    NaN     47  \n",
       "214    NaN     46  "
      ]
     },
     "execution_count": 16,
     "metadata": {},
     "output_type": "execute_result"
    }
   ],
   "source": [
    "# Alexa\n",
    "alexa[['title','selftext','url','flair','score']].sort_values(by='score', ascending=False).head(20)"
   ]
  },
  {
   "cell_type": "code",
   "execution_count": 17,
   "metadata": {},
   "outputs": [
    {
     "data": {
      "text/html": [
       "<div>\n",
       "<style scoped>\n",
       "    .dataframe tbody tr th:only-of-type {\n",
       "        vertical-align: middle;\n",
       "    }\n",
       "\n",
       "    .dataframe tbody tr th {\n",
       "        vertical-align: top;\n",
       "    }\n",
       "\n",
       "    .dataframe thead th {\n",
       "        text-align: right;\n",
       "    }\n",
       "</style>\n",
       "<table border=\"1\" class=\"dataframe\">\n",
       "  <thead>\n",
       "    <tr style=\"text-align: right;\">\n",
       "      <th></th>\n",
       "      <th>title</th>\n",
       "      <th>selftext</th>\n",
       "      <th>url</th>\n",
       "      <th>flair</th>\n",
       "      <th>score</th>\n",
       "    </tr>\n",
       "  </thead>\n",
       "  <tbody>\n",
       "    <tr>\n",
       "      <th>465</th>\n",
       "      <td>I really should be more specific.</td>\n",
       "      <td>NaN</td>\n",
       "      <td>https://i.redd.it/qfxdlkw1vmg51.jpg</td>\n",
       "      <td>NaN</td>\n",
       "      <td>910</td>\n",
       "    </tr>\n",
       "    <tr>\n",
       "      <th>78</th>\n",
       "      <td>Dark mode has arrived, at long last!</td>\n",
       "      <td>NaN</td>\n",
       "      <td>https://i.redd.it/qhfofco2r5j51.png</td>\n",
       "      <td>NaN</td>\n",
       "      <td>845</td>\n",
       "    </tr>\n",
       "    <tr>\n",
       "      <th>353</th>\n",
       "      <td>I got rick rolled by Assistant</td>\n",
       "      <td>NaN</td>\n",
       "      <td>https://i.imgur.com/faZ8yFG.png</td>\n",
       "      <td>NaN</td>\n",
       "      <td>826</td>\n",
       "    </tr>\n",
       "    <tr>\n",
       "      <th>705</th>\n",
       "      <td>Google \"Nest-ing\" Camera</td>\n",
       "      <td>NaN</td>\n",
       "      <td>https://www.reddit.com/gallery/i4bucb</td>\n",
       "      <td>Tips</td>\n",
       "      <td>676</td>\n",
       "    </tr>\n",
       "    <tr>\n",
       "      <th>120</th>\n",
       "      <td>Cat just threw up and I was telling them to stop doing it and Google laid this on me</td>\n",
       "      <td>NaN</td>\n",
       "      <td>https://imgur.com/UZrp4fi</td>\n",
       "      <td>Other</td>\n",
       "      <td>609</td>\n",
       "    </tr>\n",
       "    <tr>\n",
       "      <th>139</th>\n",
       "      <td>Google WiFi finally merge into Google home app</td>\n",
       "      <td>NaN</td>\n",
       "      <td>https://i.redd.it/5rhv7zoliri51.png</td>\n",
       "      <td>News</td>\n",
       "      <td>571</td>\n",
       "    </tr>\n",
       "    <tr>\n",
       "      <th>249</th>\n",
       "      <td>Notification: \"Someone is at the front door\"</td>\n",
       "      <td>NaN</td>\n",
       "      <td>https://v.redd.it/efa7h4k85xh51</td>\n",
       "      <td>NaN</td>\n",
       "      <td>533</td>\n",
       "    </tr>\n",
       "    <tr>\n",
       "      <th>908</th>\n",
       "      <td>Today, my kid accidentally dropped and broke glassware and then I received this message. I was happy it recognized. Should I be concerned?? I read somewhere that Google Assistant would not process until it's prompted with \" Ok Google\"</td>\n",
       "      <td>NaN</td>\n",
       "      <td>https://i.redd.it/6rty0juh6wd51.png</td>\n",
       "      <td>NaN</td>\n",
       "      <td>503</td>\n",
       "    </tr>\n",
       "    <tr>\n",
       "      <th>822</th>\n",
       "      <td>My partner was drunk and home alone last night and...</td>\n",
       "      <td>NaN</td>\n",
       "      <td>https://i.redd.it/t8we0uvhzee51.jpg</td>\n",
       "      <td>NaN</td>\n",
       "      <td>490</td>\n",
       "    </tr>\n",
       "    <tr>\n",
       "      <th>861</th>\n",
       "      <td>groan...</td>\n",
       "      <td>NaN</td>\n",
       "      <td>https://i.redd.it/ve8k00z8r6e51.png</td>\n",
       "      <td>NaN</td>\n",
       "      <td>474</td>\n",
       "    </tr>\n",
       "    <tr>\n",
       "      <th>554</th>\n",
       "      <td>Do yourself a favor and ask google “what sound does a camel make?”</td>\n",
       "      <td>Also they have many responses to keep you entertained. That is all</td>\n",
       "      <td>https://www.reddit.com/r/googlehome/comments/i78wm3/do_yourself_a_favor_and_ask_google_what_sound/</td>\n",
       "      <td>Tips</td>\n",
       "      <td>447</td>\n",
       "    </tr>\n",
       "    <tr>\n",
       "      <th>641</th>\n",
       "      <td>Can anybody attest to this?</td>\n",
       "      <td>NaN</td>\n",
       "      <td>https://i.redd.it/j91xveu5cof51.jpg</td>\n",
       "      <td>NaN</td>\n",
       "      <td>438</td>\n",
       "    </tr>\n",
       "    <tr>\n",
       "      <th>688</th>\n",
       "      <td>I'm not sure which timer t'd'dat'fer</td>\n",
       "      <td>NaN</td>\n",
       "      <td>https://v.redd.it/hmynwniusef51</td>\n",
       "      <td>GH Trigger Warning</td>\n",
       "      <td>433</td>\n",
       "    </tr>\n",
       "    <tr>\n",
       "      <th>944</th>\n",
       "      <td>Usually I have good experiences with my fleet of Homes, this was an unpleasant surprise.</td>\n",
       "      <td>NaN</td>\n",
       "      <td>https://i.redd.it/zjwmsu2n6od51.png</td>\n",
       "      <td>Bug</td>\n",
       "      <td>428</td>\n",
       "    </tr>\n",
       "    <tr>\n",
       "      <th>153</th>\n",
       "      <td>Can we have a dark mode for Google Home app. And Google Home widgets for android.</td>\n",
       "      <td>It looks like google home is the only app that's left to adapt dark mode out of all apps. \\nI have to blind my eyes everytime I use the app to turn on things in dark. \\n\\nAnd can we have like Google Home widgets for android ? I know they're going to implement system wide google home controls with Android 11. We all know not most of the phones we have now will be getting Android 11 updates and it depends on the phone manufacturers either. For now the only way to control smart home things is either by opening app which takes time to load and by using assistant. In both the cases they usually take time to get simple things done like turning on and off things. \\n\\nHaving widgets would be a simple thing to implement and a great way to get things done on the go. Without having to wait for the app to open and look for things or by triggering assistant to control things.</td>\n",
       "      <td>https://www.reddit.com/r/googlehome/comments/iepdsn/can_we_have_a_dark_mode_for_google_home_app_and/</td>\n",
       "      <td>Features WishList</td>\n",
       "      <td>421</td>\n",
       "    </tr>\n",
       "    <tr>\n",
       "      <th>442</th>\n",
       "      <td>Last night's GH moment. I love living in the future...</td>\n",
       "      <td>Super sleepy me: \"Hey Google, set an alarm for 8:45\"  \\nGH: \"For when?\"  \\nMe: \"8:45\"  \\nGHPoS: \"I'm sorry, when is the alarm for?\"  \\nMe: \"8:45 am\"  \\nGHPoS: \"I can only set an alarm for a specific time, when is the alarm for?\"  \\nMe: \"EIGHT FOORTYYY-FIIIVE AYE EMMM\"  \\nGHPoS: \"I can only set an alarm for a specific time, when is the alarm for?\"  \\nMe, no longer sleepy: \"Eight hours from now\"  \\nGHPoS: \"Alarm set for 8:46\"</td>\n",
       "      <td>https://www.reddit.com/r/googlehome/comments/i92tm8/last_nights_gh_moment_i_love_living_in_the_future/</td>\n",
       "      <td>Bug</td>\n",
       "      <td>417</td>\n",
       "    </tr>\n",
       "    <tr>\n",
       "      <th>607</th>\n",
       "      <td>After having a Google Home for a little over a year I just realized this</td>\n",
       "      <td>When setting an alarm I'd say hey Google, set alarm for 9:00, Wait it  for to register, then repeat the same process for 9:30. However I just realize that I can do them all in one shot \"hey Google set alarms for 9:00 and 9:30... FML</td>\n",
       "      <td>https://www.reddit.com/r/googlehome/comments/i6exc3/after_having_a_google_home_for_a_little_over_a/</td>\n",
       "      <td>Other</td>\n",
       "      <td>380</td>\n",
       "    </tr>\n",
       "    <tr>\n",
       "      <th>575</th>\n",
       "      <td>TIL you can control bulbs by color temperature with Assistant</td>\n",
       "      <td>NaN</td>\n",
       "      <td>https://i.imgur.com/wvI4qa7.png</td>\n",
       "      <td>Tips</td>\n",
       "      <td>376</td>\n",
       "    </tr>\n",
       "    <tr>\n",
       "      <th>883</th>\n",
       "      <td>Google just made my dumb smoke detectors smart</td>\n",
       "      <td>Burned something in the kitchen and the cheap $10 smoke detector went off. Then I got a notification on my phone that google heard the smoke detector going off. Pretty rad google.\\n\\nEDIT: Spelling and here's a link to a screenshot of the notification:  https://imgur.com/gallery/wjRUqmo</td>\n",
       "      <td>https://www.reddit.com/r/googlehome/comments/i0v9bf/google_just_made_my_dumb_smoke_detectors_smart/</td>\n",
       "      <td>NaN</td>\n",
       "      <td>367</td>\n",
       "    </tr>\n",
       "    <tr>\n",
       "      <th>103</th>\n",
       "      <td>With classes starting up, I thought I'd repost this. I recently built a Google Home app, Grillme, that lets you get quizzed by your assistant. You can add quizzes and have your assistant quiz you. Hope it can help some of you study: https://grillme.dev/!</td>\n",
       "      <td>NaN</td>\n",
       "      <td>https://youtu.be/6nsCrY6VBYg</td>\n",
       "      <td>Commands | How To's</td>\n",
       "      <td>354</td>\n",
       "    </tr>\n",
       "  </tbody>\n",
       "</table>\n",
       "</div>"
      ],
      "text/plain": [
       "                                                                                                                                                                                                                                                              title  \\\n",
       "465                                                                                                                                                                                                                               I really should be more specific.   \n",
       "78                                                                                                                                                                                                                             Dark mode has arrived, at long last!   \n",
       "353                                                                                                                                                                                                                                  I got rick rolled by Assistant   \n",
       "705                                                                                                                                                                                                                                        Google \"Nest-ing\" Camera   \n",
       "120                                                                                                                                                                            Cat just threw up and I was telling them to stop doing it and Google laid this on me   \n",
       "139                                                                                                                                                                                                                  Google WiFi finally merge into Google home app   \n",
       "249                                                                                                                                                                                                                    Notification: \"Someone is at the front door\"   \n",
       "908                      Today, my kid accidentally dropped and broke glassware and then I received this message. I was happy it recognized. Should I be concerned?? I read somewhere that Google Assistant would not process until it's prompted with \" Ok Google\"   \n",
       "822                                                                                                                                                                                                           My partner was drunk and home alone last night and...   \n",
       "861                                                                                                                                                                                                                                                        groan...   \n",
       "554                                                                                                                                                                                              Do yourself a favor and ask google “what sound does a camel make?”   \n",
       "641                                                                                                                                                                                                                                     Can anybody attest to this?   \n",
       "688                                                                                                                                                                                                                            I'm not sure which timer t'd'dat'fer   \n",
       "944                                                                                                                                                                        Usually I have good experiences with my fleet of Homes, this was an unpleasant surprise.   \n",
       "153                                                                                                                                                                               Can we have a dark mode for Google Home app. And Google Home widgets for android.   \n",
       "442                                                                                                                                                                                                          Last night's GH moment. I love living in the future...   \n",
       "607                                                                                                                                                                                        After having a Google Home for a little over a year I just realized this   \n",
       "575                                                                                                                                                                                                   TIL you can control bulbs by color temperature with Assistant   \n",
       "883                                                                                                                                                                                                                  Google just made my dumb smoke detectors smart   \n",
       "103  With classes starting up, I thought I'd repost this. I recently built a Google Home app, Grillme, that lets you get quizzed by your assistant. You can add quizzes and have your assistant quiz you. Hope it can help some of you study: https://grillme.dev/!   \n",
       "\n",
       "                                                                                                                                                                                                                                                                                                                                                                                                                                                                                                                                                                                                                                                                                                                                                                                                                                                                                                        selftext  \\\n",
       "465                                                                                                                                                                                                                                                                                                                                                                                                                                                                                                                                                                                                                                                                                                                                                                                                                                                                                                          NaN   \n",
       "78                                                                                                                                                                                                                                                                                                                                                                                                                                                                                                                                                                                                                                                                                                                                                                                                                                                                                                           NaN   \n",
       "353                                                                                                                                                                                                                                                                                                                                                                                                                                                                                                                                                                                                                                                                                                                                                                                                                                                                                                          NaN   \n",
       "705                                                                                                                                                                                                                                                                                                                                                                                                                                                                                                                                                                                                                                                                                                                                                                                                                                                                                                          NaN   \n",
       "120                                                                                                                                                                                                                                                                                                                                                                                                                                                                                                                                                                                                                                                                                                                                                                                                                                                                                                          NaN   \n",
       "139                                                                                                                                                                                                                                                                                                                                                                                                                                                                                                                                                                                                                                                                                                                                                                                                                                                                                                          NaN   \n",
       "249                                                                                                                                                                                                                                                                                                                                                                                                                                                                                                                                                                                                                                                                                                                                                                                                                                                                                                          NaN   \n",
       "908                                                                                                                                                                                                                                                                                                                                                                                                                                                                                                                                                                                                                                                                                                                                                                                                                                                                                                          NaN   \n",
       "822                                                                                                                                                                                                                                                                                                                                                                                                                                                                                                                                                                                                                                                                                                                                                                                                                                                                                                          NaN   \n",
       "861                                                                                                                                                                                                                                                                                                                                                                                                                                                                                                                                                                                                                                                                                                                                                                                                                                                                                                          NaN   \n",
       "554                                                                                                                                                                                                                                                                                                                                                                                                                                                                                                                                                                                                                                                                                                                                                                                                                                           Also they have many responses to keep you entertained. That is all   \n",
       "641                                                                                                                                                                                                                                                                                                                                                                                                                                                                                                                                                                                                                                                                                                                                                                                                                                                                                                          NaN   \n",
       "688                                                                                                                                                                                                                                                                                                                                                                                                                                                                                                                                                                                                                                                                                                                                                                                                                                                                                                          NaN   \n",
       "944                                                                                                                                                                                                                                                                                                                                                                                                                                                                                                                                                                                                                                                                                                                                                                                                                                                                                                          NaN   \n",
       "153  It looks like google home is the only app that's left to adapt dark mode out of all apps. \\nI have to blind my eyes everytime I use the app to turn on things in dark. \\n\\nAnd can we have like Google Home widgets for android ? I know they're going to implement system wide google home controls with Android 11. We all know not most of the phones we have now will be getting Android 11 updates and it depends on the phone manufacturers either. For now the only way to control smart home things is either by opening app which takes time to load and by using assistant. In both the cases they usually take time to get simple things done like turning on and off things. \\n\\nHaving widgets would be a simple thing to implement and a great way to get things done on the go. Without having to wait for the app to open and look for things or by triggering assistant to control things.   \n",
       "442                                                                                                                                                                                                                                                                                                                                                                                                                                                                  Super sleepy me: \"Hey Google, set an alarm for 8:45\"  \\nGH: \"For when?\"  \\nMe: \"8:45\"  \\nGHPoS: \"I'm sorry, when is the alarm for?\"  \\nMe: \"8:45 am\"  \\nGHPoS: \"I can only set an alarm for a specific time, when is the alarm for?\"  \\nMe: \"EIGHT FOORTYYY-FIIIVE AYE EMMM\"  \\nGHPoS: \"I can only set an alarm for a specific time, when is the alarm for?\"  \\nMe, no longer sleepy: \"Eight hours from now\"  \\nGHPoS: \"Alarm set for 8:46\"   \n",
       "607                                                                                                                                                                                                                                                                                                                                                                                                                                                                                                                                                                                                                                                                     When setting an alarm I'd say hey Google, set alarm for 9:00, Wait it  for to register, then repeat the same process for 9:30. However I just realize that I can do them all in one shot \"hey Google set alarms for 9:00 and 9:30... FML   \n",
       "575                                                                                                                                                                                                                                                                                                                                                                                                                                                                                                                                                                                                                                                                                                                                                                                                                                                                                                          NaN   \n",
       "883                                                                                                                                                                                                                                                                                                                                                                                                                                                                                                                                                                                                             Burned something in the kitchen and the cheap $10 smoke detector went off. Then I got a notification on my phone that google heard the smoke detector going off. Pretty rad google.\\n\\nEDIT: Spelling and here's a link to a screenshot of the notification:  https://imgur.com/gallery/wjRUqmo    \n",
       "103                                                                                                                                                                                                                                                                                                                                                                                                                                                                                                                                                                                                                                                                                                                                                                                                                                                                                                          NaN   \n",
       "\n",
       "                                                                                                        url  \\\n",
       "465                                                                     https://i.redd.it/qfxdlkw1vmg51.jpg   \n",
       "78                                                                      https://i.redd.it/qhfofco2r5j51.png   \n",
       "353                                                                         https://i.imgur.com/faZ8yFG.png   \n",
       "705                                                                   https://www.reddit.com/gallery/i4bucb   \n",
       "120                                                                               https://imgur.com/UZrp4fi   \n",
       "139                                                                     https://i.redd.it/5rhv7zoliri51.png   \n",
       "249                                                                         https://v.redd.it/efa7h4k85xh51   \n",
       "908                                                                     https://i.redd.it/6rty0juh6wd51.png   \n",
       "822                                                                     https://i.redd.it/t8we0uvhzee51.jpg   \n",
       "861                                                                     https://i.redd.it/ve8k00z8r6e51.png   \n",
       "554      https://www.reddit.com/r/googlehome/comments/i78wm3/do_yourself_a_favor_and_ask_google_what_sound/   \n",
       "641                                                                     https://i.redd.it/j91xveu5cof51.jpg   \n",
       "688                                                                         https://v.redd.it/hmynwniusef51   \n",
       "944                                                                     https://i.redd.it/zjwmsu2n6od51.png   \n",
       "153    https://www.reddit.com/r/googlehome/comments/iepdsn/can_we_have_a_dark_mode_for_google_home_app_and/   \n",
       "442  https://www.reddit.com/r/googlehome/comments/i92tm8/last_nights_gh_moment_i_love_living_in_the_future/   \n",
       "607     https://www.reddit.com/r/googlehome/comments/i6exc3/after_having_a_google_home_for_a_little_over_a/   \n",
       "575                                                                         https://i.imgur.com/wvI4qa7.png   \n",
       "883     https://www.reddit.com/r/googlehome/comments/i0v9bf/google_just_made_my_dumb_smoke_detectors_smart/   \n",
       "103                                                                            https://youtu.be/6nsCrY6VBYg   \n",
       "\n",
       "                   flair  score  \n",
       "465                  NaN    910  \n",
       "78                   NaN    845  \n",
       "353                  NaN    826  \n",
       "705                 Tips    676  \n",
       "120                Other    609  \n",
       "139                 News    571  \n",
       "249                  NaN    533  \n",
       "908                  NaN    503  \n",
       "822                  NaN    490  \n",
       "861                  NaN    474  \n",
       "554                 Tips    447  \n",
       "641                  NaN    438  \n",
       "688   GH Trigger Warning    433  \n",
       "944                  Bug    428  \n",
       "153    Features WishList    421  \n",
       "442                  Bug    417  \n",
       "607                Other    380  \n",
       "575                 Tips    376  \n",
       "883                  NaN    367  \n",
       "103  Commands | How To's    354  "
      ]
     },
     "execution_count": 17,
     "metadata": {},
     "output_type": "execute_result"
    }
   ],
   "source": [
    "#googlehome\n",
    "google[['title','selftext','url','flair','score']].sort_values(by='score', ascending=False).head(20)"
   ]
  },
  {
   "cell_type": "markdown",
   "metadata": {},
   "source": [
    "#### What have we learned? Funny images and videos get the most upvotes, feature requests, and collective user frustrations also get upvoted."
   ]
  },
  {
   "cell_type": "markdown",
   "metadata": {},
   "source": [
    "### Is there a correlation between upvotes and comments? Other correlations?"
   ]
  },
  {
   "cell_type": "markdown",
   "metadata": {},
   "source": [
    "### Alexa"
   ]
  },
  {
   "cell_type": "code",
   "execution_count": 18,
   "metadata": {},
   "outputs": [
    {
     "data": {
      "image/png": "[encoded data removed]",
      "text/plain": [
       "<Figure size 432x288 with 2 Axes>"
      ]
     },
     "metadata": {
      "needs_background": "light"
     },
     "output_type": "display_data"
    }
   ],
   "source": [
    "corr = alexa[['score','upvote_ratio','num_comments']].corr()\n",
    "mask = np.zeros_like(corr)\n",
    "mask[np.triu_indices_from(mask)] = True\n",
    "sns.heatmap(corr,vmin=-1, vmax=1, annot=True,cmap='coolwarm', mask=mask)\n",
    "plt.title('Correlation Between Alexa Features');"
   ]
  },
  {
   "cell_type": "code",
   "execution_count": 19,
   "metadata": {},
   "outputs": [
    {
     "data": {
      "image/png": "[encoded data removed]",
      "text/plain": [
       "<Figure size 432x288 with 1 Axes>"
      ]
     },
     "metadata": {
      "needs_background": "light"
     },
     "output_type": "display_data"
    }
   ],
   "source": [
    "#Alexa\n",
    "sns.scatterplot(alexa['num_comments'], alexa['score']);"
   ]
  },
  {
   "cell_type": "markdown",
   "metadata": {},
   "source": [
    "### Google"
   ]
  },
  {
   "cell_type": "code",
   "execution_count": 20,
   "metadata": {},
   "outputs": [
    {
     "data": {
      "image/png": "[encoded data removed]",
      "text/plain": [
       "<Figure size 432x288 with 2 Axes>"
      ]
     },
     "metadata": {
      "needs_background": "light"
     },
     "output_type": "display_data"
    }
   ],
   "source": [
    "corr = google[['score','upvote_ratio','num_comments']].corr()\n",
    "mask = np.zeros_like(corr)\n",
    "mask[np.triu_indices_from(mask)] = True\n",
    "sns.heatmap(corr,vmin=-1, vmax=1, annot=True,cmap='coolwarm', mask=mask)\n",
    "plt.title('Correlation Between Google Home Features');"
   ]
  },
  {
   "cell_type": "code",
   "execution_count": 21,
   "metadata": {},
   "outputs": [
    {
     "data": {
      "image/png": "[encoded data removed]",
      "text/plain": [
       "<Figure size 432x288 with 1 Axes>"
      ]
     },
     "metadata": {
      "needs_background": "light"
     },
     "output_type": "display_data"
    }
   ],
   "source": [
    "#Google\n",
    "sns.scatterplot(google['num_comments'], google['score']);"
   ]
  },
  {
   "cell_type": "markdown",
   "metadata": {},
   "source": [
    "## Distribution of Comments"
   ]
  },
  {
   "cell_type": "code",
   "execution_count": 22,
   "metadata": {},
   "outputs": [
    {
     "data": {
      "image/png": "[encoded data removed]",
      "text/plain": [
       "<Figure size 1296x720 with 2 Axes>"
      ]
     },
     "metadata": {
      "needs_background": "light"
     },
     "output_type": "display_data"
    }
   ],
   "source": [
    "fig, (ax1, ax2) = plt.subplots(ncols=2,figsize=(18,10))\n",
    "sns.distplot(alexa['num_comments'], ax=ax1,kde=False)\n",
    "ax1.set_xlabel('Number of Comments')\n",
    "ax1.set_ylabel('Comment Frequency')\n",
    "ax1.set_title('Distribution of Comments for Alexa Posts', fontsize=16);\n",
    "\n",
    "sns.boxplot(alexa['num_comments'], ax=ax2)\n",
    "ax2.set_xlabel('Number of Comments')\n",
    "ax2.set_title('Distribution of Comments for Alexa Posts',fontsize=16);\n",
    "plt.savefig('./imgs/alexa_comments.jpeg',bbox_inches='tight');\n",
    "\n",
    "#saving a subplot - https://stackoverflow.com/questions/4325733/save-a-subplot-in-matplotlib \n",
    "extent = ax2.get_window_extent().transformed(fig.dpi_scale_trans.inverted())\n",
    "fig.savefig('./imgs/alexa_comments_box.jpeg', bbox_inches=extent.expanded(1.1, 1.2))"
   ]
  },
  {
   "cell_type": "code",
   "execution_count": 23,
   "metadata": {},
   "outputs": [
    {
     "data": {
      "image/png": "[encoded data removed]",
      "text/plain": [
       "<Figure size 1296x720 with 2 Axes>"
      ]
     },
     "metadata": {
      "needs_background": "light"
     },
     "output_type": "display_data"
    }
   ],
   "source": [
    "fig, (ax1, ax2) = plt.subplots(ncols=2,figsize=(18,10))\n",
    "sns.distplot(google['num_comments'], ax=ax1,kde=False)\n",
    "ax1.set_xlabel('Number of Comments')\n",
    "ax1.set_ylabel('Comment Frequency')\n",
    "ax1.set_title('Distribution of Comments for Google Home Posts',fontsize=16);\n",
    "\n",
    "sns.boxplot(google['num_comments'], ax=ax2)\n",
    "ax2.set_xlabel('Number of Comments')\n",
    "ax2.set_title('Distribution of Comments for Google Home Posts',fontsize=16);\n",
    "plt.savefig('./imgs/google_comments.jpeg',bbox_inches='tight');\n",
    "\n",
    "#saving a subplot - https://stackoverflow.com/questions/4325733/save-a-subplot-in-matplotlib \n",
    "extent = ax2.get_window_extent().transformed(fig.dpi_scale_trans.inverted())\n",
    "fig.savefig('./imgs/google_comments_box.jpeg', bbox_inches=extent.expanded(1.1, 1.2))"
   ]
  },
  {
   "cell_type": "markdown",
   "metadata": {},
   "source": [
    "#### What have we learned? Since the Google Home subreddit has a higher member counts, number of comments for each post are also higher."
   ]
  },
  {
   "cell_type": "markdown",
   "metadata": {},
   "source": [
    "## Most Commented Posts"
   ]
  },
  {
   "cell_type": "markdown",
   "metadata": {},
   "source": [
    "### Alexa"
   ]
  },
  {
   "cell_type": "code",
   "execution_count": 24,
   "metadata": {},
   "outputs": [
    {
     "data": {
      "text/html": [
       "<div>\n",
       "<style scoped>\n",
       "    .dataframe tbody tr th:only-of-type {\n",
       "        vertical-align: middle;\n",
       "    }\n",
       "\n",
       "    .dataframe tbody tr th {\n",
       "        vertical-align: top;\n",
       "    }\n",
       "\n",
       "    .dataframe thead th {\n",
       "        text-align: right;\n",
       "    }\n",
       "</style>\n",
       "<table border=\"1\" class=\"dataframe\">\n",
       "  <thead>\n",
       "    <tr style=\"text-align: right;\">\n",
       "      <th></th>\n",
       "      <th>title</th>\n",
       "      <th>selftext</th>\n",
       "      <th>url</th>\n",
       "      <th>flair</th>\n",
       "      <th>score</th>\n",
       "      <th>num_comments</th>\n",
       "    </tr>\n",
       "  </thead>\n",
       "  <tbody>\n",
       "    <tr>\n",
       "      <th>738</th>\n",
       "      <td>Alexa has my smart light colors all wrong?</td>\n",
       "      <td>So i just got my echo dot, and i connected it to my Airlux smart lights. However, when I say \"Alexa, set lights to blue\", she changes them to pink. Every color seems to be the wrong color except for white. I use the Smart Life app for the lights, but I don't think it's that, because when I use Google assistant it changes the colors just fine. Anybody know what the issue is?\\n\\nEDIT: Okay now the same issue is happening with Google assistant. Before I set up my Alexa, Google assistant changed the colors just fine.\\n\\nEDIT 2: Alright apparently this is a big issue that like everybody is experiencing that just started last night, so I guess I just had unfortunate timing. From what I hear this seems to be an update bug or glitch and Amazon devs have said they are working on it.\\n\\nEDIT 3: Okay so now it appears to be fixed, mine started working fine later last night, and it seems many other have had it fixed. I guess it was just an update glitch or something. Thanks for all the replies tho!</td>\n",
       "      <td>https://www.reddit.com/r/alexa/comments/hbl9iq/alexa_has_my_smart_light_colors_all_wrong/</td>\n",
       "      <td>NaN</td>\n",
       "      <td>23</td>\n",
       "      <td>71</td>\n",
       "    </tr>\n",
       "    <tr>\n",
       "      <th>575</th>\n",
       "      <td>Alexa getting less intelligent all the time.</td>\n",
       "      <td>Alexa cancel my 8:10 am reminder\\n\\nyou have nothing on your calendar for 8:10 am\\n\\nAlexa what are my reminders?\\n\\nyou have a reminder at 8:10 am\\n\\nAlexa cancel my 8:10 am reminder\\n\\nyou have nothing on your calendar for 8:10 am\\n\\nAlexa what's on my calendar today\\n\\nyou have a reminder at 8:10 am......\\n\\n:(</td>\n",
       "      <td>https://www.reddit.com/r/alexa/comments/hjxdgc/alexa_getting_less_intelligent_all_the_time/</td>\n",
       "      <td>NaN</td>\n",
       "      <td>65</td>\n",
       "      <td>52</td>\n",
       "    </tr>\n",
       "    <tr>\n",
       "      <th>698</th>\n",
       "      <td>the alexa app is crap. it's slow, laggy, fully of bugs, and just a pain in the arse to use.</td>\n",
       "      <td>title.  \\n\\n\\nthe actual devices are fine, but the app is shit.</td>\n",
       "      <td>https://www.reddit.com/r/alexa/comments/hdapdz/the_alexa_app_is_crap_its_slow_laggy_fully_of/</td>\n",
       "      <td>NaN</td>\n",
       "      <td>172</td>\n",
       "      <td>47</td>\n",
       "    </tr>\n",
       "    <tr>\n",
       "      <th>433</th>\n",
       "      <td>Your Amazon Alexa and Echo Show Are Sneaking Around Your Network Trying To Bypass Your Security Settings And Send Your Personal Information Out Without You Knowing About It</td>\n",
       "      <td>NaN</td>\n",
       "      <td>https://i.redd.it/d9kl0ce87ib51.png</td>\n",
       "      <td>NaN</td>\n",
       "      <td>0</td>\n",
       "      <td>42</td>\n",
       "    </tr>\n",
       "    <tr>\n",
       "      <th>358</th>\n",
       "      <td>Can i get her to stop announcing that she's now connected to bluetooth?</td>\n",
       "      <td>NaN</td>\n",
       "      <td>https://www.reddit.com/r/alexa/comments/hxm6gb/can_i_get_her_to_stop_announcing_that_shes_now/</td>\n",
       "      <td>NaN</td>\n",
       "      <td>22</td>\n",
       "      <td>42</td>\n",
       "    </tr>\n",
       "    <tr>\n",
       "      <th>779</th>\n",
       "      <td>Got my Alexa glasses today!</td>\n",
       "      <td>NaN</td>\n",
       "      <td>https://i.redd.it/12y9ilc4ix451.jpg</td>\n",
       "      <td>NaN</td>\n",
       "      <td>97</td>\n",
       "      <td>34</td>\n",
       "    </tr>\n",
       "    <tr>\n",
       "      <th>591</th>\n",
       "      <td>Favorite Automation or Routine?</td>\n",
       "      <td>Looking to hoard all your good ideas for myself! LOL. \\n\\nWhat is your:\\n- Favorite routine or automation you’ve setup?\\n- Most used?\\n- The one you can’t wait to show people?\\n- The one that’s not very cool but would be super frustrating if it stopped working?\\n- Got anything for pets? (Dogs and aquariums here.)\\n\\nLet me know if I missed anything! I love hearing about all the cool things you guys setup!</td>\n",
       "      <td>https://www.reddit.com/r/alexa/comments/him73r/favorite_automation_or_routine/</td>\n",
       "      <td>NaN</td>\n",
       "      <td>17</td>\n",
       "      <td>34</td>\n",
       "    </tr>\n",
       "    <tr>\n",
       "      <th>764</th>\n",
       "      <td>Amazon Basics smart microwave - my first impressions</td>\n",
       "      <td>I am happy with this device so far, and here's why:\\n\\n1. This $60 device replaces a 16-year-old microwave with a defective button pad. \\n1. I have already used the water preset to make passable tea\\n1. The setup was automatic. I was still reading the directions when it connected.\\n1.  The microwave *looks* like it belongs in my apartment. \\n1. I feel like a total boss just looking at it - \"Alex, play the space 1999 tv theme\"\\n1. I am no longer one of those luddite savages pressing buttons to make the magic box work\\n\\nAs far as complaints, go:\\n\\n1. There's a preset for coffee (*Bleagh!*), but not tea. Savages. \\n1. the magical list of presets is *very* short, but Amazon really played it up as something special. I'm hoping that they add a lot more. \\n\\nOther than that,  I have had this thing for three hours, and I'm pretty happy. But then, I would be happy with any new microwave with working features. My old microwave is a disgusting mess with a broken keypad, so it doesn't take much to make me happy.</td>\n",
       "      <td>https://www.reddit.com/r/alexa/comments/h9uwb8/amazon_basics_smart_microwave_my_first_impressions/</td>\n",
       "      <td>NaN</td>\n",
       "      <td>23</td>\n",
       "      <td>33</td>\n",
       "    </tr>\n",
       "    <tr>\n",
       "      <th>157</th>\n",
       "      <td>Has anyone noticed that Alexa is not being as responsive as about a year ago. I find myself repeating and talking much louder then ever before. ( I have Echo Dot Gen 2. )</td>\n",
       "      <td>More over is there a trend with the older Gen 1,  Gen 2  vs the newer ones.\\n\\n[View Poll](https://www.reddit.com/poll/i95o4a)</td>\n",
       "      <td>https://www.reddit.com/r/alexa/comments/i95o4a/has_anyone_noticed_that_alexa_is_not_being_as/</td>\n",
       "      <td>NaN</td>\n",
       "      <td>45</td>\n",
       "      <td>32</td>\n",
       "    </tr>\n",
       "    <tr>\n",
       "      <th>605</th>\n",
       "      <td>Got my Echo Auto today in the UK. Can’t wait to get to use it.</td>\n",
       "      <td>NaN</td>\n",
       "      <td>https://i.redd.it/layvst9d1v751.jpg</td>\n",
       "      <td>NaN</td>\n",
       "      <td>22</td>\n",
       "      <td>30</td>\n",
       "    </tr>\n",
       "  </tbody>\n",
       "</table>\n",
       "</div>"
      ],
      "text/plain": [
       "                                                                                                                                                                            title  \\\n",
       "738                                                                                                                                    Alexa has my smart light colors all wrong?   \n",
       "575                                                                                                                                  Alexa getting less intelligent all the time.   \n",
       "698                                                                                   the alexa app is crap. it's slow, laggy, fully of bugs, and just a pain in the arse to use.   \n",
       "433  Your Amazon Alexa and Echo Show Are Sneaking Around Your Network Trying To Bypass Your Security Settings And Send Your Personal Information Out Without You Knowing About It   \n",
       "358                                                                                                       Can i get her to stop announcing that she's now connected to bluetooth?   \n",
       "779                                                                                                                                                   Got my Alexa glasses today!   \n",
       "591                                                                                                                                               Favorite Automation or Routine?   \n",
       "764                                                                                                                          Amazon Basics smart microwave - my first impressions   \n",
       "157    Has anyone noticed that Alexa is not being as responsive as about a year ago. I find myself repeating and talking much louder then ever before. ( I have Echo Dot Gen 2. )   \n",
       "605                                                                                                                Got my Echo Auto today in the UK. Can’t wait to get to use it.   \n",
       "\n",
       "                                                                                                                                                                                                                                                                                                                                                                                                                                                                                                                                                                                                                                                                                                                                                                                                                                                                                                                                                                                                                                                      selftext  \\\n",
       "738                  So i just got my echo dot, and i connected it to my Airlux smart lights. However, when I say \"Alexa, set lights to blue\", she changes them to pink. Every color seems to be the wrong color except for white. I use the Smart Life app for the lights, but I don't think it's that, because when I use Google assistant it changes the colors just fine. Anybody know what the issue is?\\n\\nEDIT: Okay now the same issue is happening with Google assistant. Before I set up my Alexa, Google assistant changed the colors just fine.\\n\\nEDIT 2: Alright apparently this is a big issue that like everybody is experiencing that just started last night, so I guess I just had unfortunate timing. From what I hear this seems to be an update bug or glitch and Amazon devs have said they are working on it.\\n\\nEDIT 3: Okay so now it appears to be fixed, mine started working fine later last night, and it seems many other have had it fixed. I guess it was just an update glitch or something. Thanks for all the replies tho!   \n",
       "575                                                                                                                                                                                                                                                                                                                                                                                                                                                                                                                                                                                                                                                                                                                                Alexa cancel my 8:10 am reminder\\n\\nyou have nothing on your calendar for 8:10 am\\n\\nAlexa what are my reminders?\\n\\nyou have a reminder at 8:10 am\\n\\nAlexa cancel my 8:10 am reminder\\n\\nyou have nothing on your calendar for 8:10 am\\n\\nAlexa what's on my calendar today\\n\\nyou have a reminder at 8:10 am......\\n\\n:(   \n",
       "698                                                                                                                                                                                                                                                                                                                                                                                                                                                                                                                                                                                                                                                                                                                                                                                                                                                                                                                                                                                            title.  \\n\\n\\nthe actual devices are fine, but the app is shit.   \n",
       "433                                                                                                                                                                                                                                                                                                                                                                                                                                                                                                                                                                                                                                                                                                                                                                                                                                                                                                                                                                                                                                                        NaN   \n",
       "358                                                                                                                                                                                                                                                                                                                                                                                                                                                                                                                                                                                                                                                                                                                                                                                                                                                                                                                                                                                                                                                        NaN   \n",
       "779                                                                                                                                                                                                                                                                                                                                                                                                                                                                                                                                                                                                                                                                                                                                                                                                                                                                                                                                                                                                                                                        NaN   \n",
       "591                                                                                                                                                                                                                                                                                                                                                                                                                                                                                                                                                                                                                                   Looking to hoard all your good ideas for myself! LOL. \\n\\nWhat is your:\\n- Favorite routine or automation you’ve setup?\\n- Most used?\\n- The one you can’t wait to show people?\\n- The one that’s not very cool but would be super frustrating if it stopped working?\\n- Got anything for pets? (Dogs and aquariums here.)\\n\\nLet me know if I missed anything! I love hearing about all the cool things you guys setup!   \n",
       "764  I am happy with this device so far, and here's why:\\n\\n1. This $60 device replaces a 16-year-old microwave with a defective button pad. \\n1. I have already used the water preset to make passable tea\\n1. The setup was automatic. I was still reading the directions when it connected.\\n1.  The microwave *looks* like it belongs in my apartment. \\n1. I feel like a total boss just looking at it - \"Alex, play the space 1999 tv theme\"\\n1. I am no longer one of those luddite savages pressing buttons to make the magic box work\\n\\nAs far as complaints, go:\\n\\n1. There's a preset for coffee (*Bleagh!*), but not tea. Savages. \\n1. the magical list of presets is *very* short, but Amazon really played it up as something special. I'm hoping that they add a lot more. \\n\\nOther than that,  I have had this thing for three hours, and I'm pretty happy. But then, I would be happy with any new microwave with working features. My old microwave is a disgusting mess with a broken keypad, so it doesn't take much to make me happy.   \n",
       "157                                                                                                                                                                                                                                                                                                                                                                                                                                                                                                                                                                                                                                                                                                                                                                                                                                                                                                                             More over is there a trend with the older Gen 1,  Gen 2  vs the newer ones.\\n\\n[View Poll](https://www.reddit.com/poll/i95o4a)   \n",
       "605                                                                                                                                                                                                                                                                                                                                                                                                                                                                                                                                                                                                                                                                                                                                                                                                                                                                                                                                                                                                                                                        NaN   \n",
       "\n",
       "                                                                                                    url  \\\n",
       "738           https://www.reddit.com/r/alexa/comments/hbl9iq/alexa_has_my_smart_light_colors_all_wrong/   \n",
       "575         https://www.reddit.com/r/alexa/comments/hjxdgc/alexa_getting_less_intelligent_all_the_time/   \n",
       "698       https://www.reddit.com/r/alexa/comments/hdapdz/the_alexa_app_is_crap_its_slow_laggy_fully_of/   \n",
       "433                                                                 https://i.redd.it/d9kl0ce87ib51.png   \n",
       "358      https://www.reddit.com/r/alexa/comments/hxm6gb/can_i_get_her_to_stop_announcing_that_shes_now/   \n",
       "779                                                                 https://i.redd.it/12y9ilc4ix451.jpg   \n",
       "591                      https://www.reddit.com/r/alexa/comments/him73r/favorite_automation_or_routine/   \n",
       "764  https://www.reddit.com/r/alexa/comments/h9uwb8/amazon_basics_smart_microwave_my_first_impressions/   \n",
       "157       https://www.reddit.com/r/alexa/comments/i95o4a/has_anyone_noticed_that_alexa_is_not_being_as/   \n",
       "605                                                                 https://i.redd.it/layvst9d1v751.jpg   \n",
       "\n",
       "     flair  score  num_comments  \n",
       "738    NaN     23            71  \n",
       "575    NaN     65            52  \n",
       "698    NaN    172            47  \n",
       "433    NaN      0            42  \n",
       "358    NaN     22            42  \n",
       "779    NaN     97            34  \n",
       "591    NaN     17            34  \n",
       "764    NaN     23            33  \n",
       "157    NaN     45            32  \n",
       "605    NaN     22            30  "
      ]
     },
     "execution_count": 24,
     "metadata": {},
     "output_type": "execute_result"
    }
   ],
   "source": [
    "# Alexa\n",
    "alexa[['title','selftext','url','flair','score','num_comments']].sort_values(by='num_comments', ascending=False).head(10)"
   ]
  },
  {
   "cell_type": "markdown",
   "metadata": {},
   "source": [
    "#### Posts are about frustrations with the product, new product announcements, and favorite functionality."
   ]
  },
  {
   "cell_type": "markdown",
   "metadata": {},
   "source": [
    "### Google"
   ]
  },
  {
   "cell_type": "code",
   "execution_count": 25,
   "metadata": {},
   "outputs": [
    {
     "data": {
      "text/html": [
       "<div>\n",
       "<style scoped>\n",
       "    .dataframe tbody tr th:only-of-type {\n",
       "        vertical-align: middle;\n",
       "    }\n",
       "\n",
       "    .dataframe tbody tr th {\n",
       "        vertical-align: top;\n",
       "    }\n",
       "\n",
       "    .dataframe thead th {\n",
       "        text-align: right;\n",
       "    }\n",
       "</style>\n",
       "<table border=\"1\" class=\"dataframe\">\n",
       "  <thead>\n",
       "    <tr style=\"text-align: right;\">\n",
       "      <th></th>\n",
       "      <th>title</th>\n",
       "      <th>selftext</th>\n",
       "      <th>url</th>\n",
       "      <th>flair</th>\n",
       "      <th>score</th>\n",
       "      <th>num_comments</th>\n",
       "    </tr>\n",
       "  </thead>\n",
       "  <tbody>\n",
       "    <tr>\n",
       "      <th>681</th>\n",
       "      <td>Monthly Rants and Complaints Thread - August 2020</td>\n",
       "      <td>Please tell us about your Google problems. Post all your rants, complaints, and frustrations here! Vent it all out!</td>\n",
       "      <td>https://www.reddit.com/r/googlehome/comments/i4xxe2/monthly_rants_and_complaints_thread_august_2020/</td>\n",
       "      <td>NaN</td>\n",
       "      <td>12</td>\n",
       "      <td>360</td>\n",
       "    </tr>\n",
       "    <tr>\n",
       "      <th>735</th>\n",
       "      <td>Google Play Music will be discontinued starting September. New Zealand and South Africa you go first.</td>\n",
       "      <td>NaN</td>\n",
       "      <td>https://www.androidpolice.com/2020/08/04/google-play-music-will-be-discontinued-starting-september/</td>\n",
       "      <td>News</td>\n",
       "      <td>298</td>\n",
       "      <td>169</td>\n",
       "    </tr>\n",
       "    <tr>\n",
       "      <th>927</th>\n",
       "      <td>PSA: Per Google, playlists for YouTube Music is not yet supported. I sure hope this happens before they sunset GPM, which is supposed to happen sometime this year.</td>\n",
       "      <td>I hope that the Engineering teams from both GPM and YTM understand that this is a degradation of feature functionality.</td>\n",
       "      <td>https://www.reddit.com/r/googlehome/comments/i00j3d/psa_per_google_playlists_for_youtube_music_is_not/</td>\n",
       "      <td>Bug</td>\n",
       "      <td>247</td>\n",
       "      <td>152</td>\n",
       "    </tr>\n",
       "    <tr>\n",
       "      <th>269</th>\n",
       "      <td>Can anybody tell me what is going on in this video? I have several clips of this taken last night (8/18) it looks like snow but it's summer lol</td>\n",
       "      <td>NaN</td>\n",
       "      <td>https://v.redd.it/cxbeisjqvth51</td>\n",
       "      <td>Help</td>\n",
       "      <td>257</td>\n",
       "      <td>139</td>\n",
       "    </tr>\n",
       "    <tr>\n",
       "      <th>78</th>\n",
       "      <td>Dark mode has arrived, at long last!</td>\n",
       "      <td>NaN</td>\n",
       "      <td>https://i.redd.it/qhfofco2r5j51.png</td>\n",
       "      <td>NaN</td>\n",
       "      <td>845</td>\n",
       "      <td>121</td>\n",
       "    </tr>\n",
       "    <tr>\n",
       "      <th>139</th>\n",
       "      <td>Google WiFi finally merge into Google home app</td>\n",
       "      <td>NaN</td>\n",
       "      <td>https://i.redd.it/5rhv7zoliri51.png</td>\n",
       "      <td>News</td>\n",
       "      <td>571</td>\n",
       "      <td>113</td>\n",
       "    </tr>\n",
       "    <tr>\n",
       "      <th>180</th>\n",
       "      <td>Casual Ad-Free Music on GH Devices in The Future</td>\n",
       "      <td>With the upcoming demise of Google Play music, are we going to be completely unable to listen to ad-free music on our Google and Nest devices?\\n\\nI just tried out Youtube Music and it started playing annoying ads to sign up to Youtube Music Premium after EVERY SONG. What absolute garbage.\\n\\nHow are you guys planning on listening to music in the future? Is there something I'm missing as an option?</td>\n",
       "      <td>https://www.reddit.com/r/googlehome/comments/ie4w4m/casual_adfree_music_on_gh_devices_in_the_future/</td>\n",
       "      <td>NaN</td>\n",
       "      <td>99</td>\n",
       "      <td>97</td>\n",
       "    </tr>\n",
       "    <tr>\n",
       "      <th>607</th>\n",
       "      <td>After having a Google Home for a little over a year I just realized this</td>\n",
       "      <td>When setting an alarm I'd say hey Google, set alarm for 9:00, Wait it  for to register, then repeat the same process for 9:30. However I just realize that I can do them all in one shot \"hey Google set alarms for 9:00 and 9:30... FML</td>\n",
       "      <td>https://www.reddit.com/r/googlehome/comments/i6exc3/after_having_a_google_home_for_a_little_over_a/</td>\n",
       "      <td>Other</td>\n",
       "      <td>380</td>\n",
       "      <td>96</td>\n",
       "    </tr>\n",
       "    <tr>\n",
       "      <th>908</th>\n",
       "      <td>Today, my kid accidentally dropped and broke glassware and then I received this message. I was happy it recognized. Should I be concerned?? I read somewhere that Google Assistant would not process until it's prompted with \" Ok Google\"</td>\n",
       "      <td>NaN</td>\n",
       "      <td>https://i.redd.it/6rty0juh6wd51.png</td>\n",
       "      <td>NaN</td>\n",
       "      <td>503</td>\n",
       "      <td>96</td>\n",
       "    </tr>\n",
       "    <tr>\n",
       "      <th>774</th>\n",
       "      <td>Google Makes Big Bet On ADT</td>\n",
       "      <td>NaN</td>\n",
       "      <td>https://www.thetechie.de/2020/08/google-makes-big-bet-on-adt.html</td>\n",
       "      <td>NaN</td>\n",
       "      <td>145</td>\n",
       "      <td>96</td>\n",
       "    </tr>\n",
       "  </tbody>\n",
       "</table>\n",
       "</div>"
      ],
      "text/plain": [
       "                                                                                                                                                                                                                                          title  \\\n",
       "681                                                                                                                                                                                           Monthly Rants and Complaints Thread - August 2020   \n",
       "735                                                                                                                                       Google Play Music will be discontinued starting September. New Zealand and South Africa you go first.   \n",
       "927                                                                         PSA: Per Google, playlists for YouTube Music is not yet supported. I sure hope this happens before they sunset GPM, which is supposed to happen sometime this year.   \n",
       "269                                                                                             Can anybody tell me what is going on in this video? I have several clips of this taken last night (8/18) it looks like snow but it's summer lol   \n",
       "78                                                                                                                                                                                                         Dark mode has arrived, at long last!   \n",
       "139                                                                                                                                                                                              Google WiFi finally merge into Google home app   \n",
       "180                                                                                                                                                                                            Casual Ad-Free Music on GH Devices in The Future   \n",
       "607                                                                                                                                                                    After having a Google Home for a little over a year I just realized this   \n",
       "908  Today, my kid accidentally dropped and broke glassware and then I received this message. I was happy it recognized. Should I be concerned?? I read somewhere that Google Assistant would not process until it's prompted with \" Ok Google\"   \n",
       "774                                                                                                                                                                                                                 Google Makes Big Bet On ADT   \n",
       "\n",
       "                                                                                                                                                                                                                                                                                                                                                                                                             selftext  \\\n",
       "681                                                                                                                                                                                                                                                                                               Please tell us about your Google problems. Post all your rants, complaints, and frustrations here! Vent it all out!   \n",
       "735                                                                                                                                                                                                                                                                                                                                                                                                               NaN   \n",
       "927                                                                                                                                                                                                                                                                                           I hope that the Engineering teams from both GPM and YTM understand that this is a degradation of feature functionality.   \n",
       "269                                                                                                                                                                                                                                                                                                                                                                                                               NaN   \n",
       "78                                                                                                                                                                                                                                                                                                                                                                                                                NaN   \n",
       "139                                                                                                                                                                                                                                                                                                                                                                                                               NaN   \n",
       "180  With the upcoming demise of Google Play music, are we going to be completely unable to listen to ad-free music on our Google and Nest devices?\\n\\nI just tried out Youtube Music and it started playing annoying ads to sign up to Youtube Music Premium after EVERY SONG. What absolute garbage.\\n\\nHow are you guys planning on listening to music in the future? Is there something I'm missing as an option?   \n",
       "607                                                                                                                                                                          When setting an alarm I'd say hey Google, set alarm for 9:00, Wait it  for to register, then repeat the same process for 9:30. However I just realize that I can do them all in one shot \"hey Google set alarms for 9:00 and 9:30... FML   \n",
       "908                                                                                                                                                                                                                                                                                                                                                                                                               NaN   \n",
       "774                                                                                                                                                                                                                                                                                                                                                                                                               NaN   \n",
       "\n",
       "                                                                                                        url  \\\n",
       "681    https://www.reddit.com/r/googlehome/comments/i4xxe2/monthly_rants_and_complaints_thread_august_2020/   \n",
       "735     https://www.androidpolice.com/2020/08/04/google-play-music-will-be-discontinued-starting-september/   \n",
       "927  https://www.reddit.com/r/googlehome/comments/i00j3d/psa_per_google_playlists_for_youtube_music_is_not/   \n",
       "269                                                                         https://v.redd.it/cxbeisjqvth51   \n",
       "78                                                                      https://i.redd.it/qhfofco2r5j51.png   \n",
       "139                                                                     https://i.redd.it/5rhv7zoliri51.png   \n",
       "180    https://www.reddit.com/r/googlehome/comments/ie4w4m/casual_adfree_music_on_gh_devices_in_the_future/   \n",
       "607     https://www.reddit.com/r/googlehome/comments/i6exc3/after_having_a_google_home_for_a_little_over_a/   \n",
       "908                                                                     https://i.redd.it/6rty0juh6wd51.png   \n",
       "774                                       https://www.thetechie.de/2020/08/google-makes-big-bet-on-adt.html   \n",
       "\n",
       "     flair  score  num_comments  \n",
       "681    NaN     12           360  \n",
       "735   News    298           169  \n",
       "927    Bug    247           152  \n",
       "269   Help    257           139  \n",
       "78     NaN    845           121  \n",
       "139   News    571           113  \n",
       "180    NaN     99            97  \n",
       "607  Other    380            96  \n",
       "908    NaN    503            96  \n",
       "774    NaN    145            96  "
      ]
     },
     "execution_count": 25,
     "metadata": {},
     "output_type": "execute_result"
    }
   ],
   "source": [
    "# Google\n",
    "google[['title','selftext','url','flair','score','num_comments']].sort_values(by='num_comments', ascending=False).head(10)"
   ]
  },
  {
   "cell_type": "markdown",
   "metadata": {},
   "source": [
    "#### The Google Home community has created a monthly rants thread, this can reveal major frustrations with the product. Other posts include product updates and favorite functionality."
   ]
  },
  {
   "cell_type": "markdown",
   "metadata": {},
   "source": [
    "## Exploring Flair Categories"
   ]
  },
  {
   "cell_type": "markdown",
   "metadata": {},
   "source": [
    "These are sub-categories within the subreddit that help group post content."
   ]
  },
  {
   "cell_type": "markdown",
   "metadata": {},
   "source": [
    "#### Alexa"
   ]
  },
  {
   "cell_type": "code",
   "execution_count": 26,
   "metadata": {},
   "outputs": [
    {
     "data": {
      "text/plain": [
       "Series([], dtype: int64)"
      ]
     },
     "execution_count": 26,
     "metadata": {},
     "output_type": "execute_result"
    }
   ],
   "source": [
    "#alexa has no categories\n",
    "alexa[['flair']].value_counts()"
   ]
  },
  {
   "cell_type": "markdown",
   "metadata": {},
   "source": [
    "#### Since no flair categories are available, let's search for posts with keywords that may indicate problems or bugs that need help"
   ]
  },
  {
   "cell_type": "code",
   "execution_count": 27,
   "metadata": {},
   "outputs": [],
   "source": [
    "#search posts with the words that may indicate problems or bugs that need help\n",
    "alexa_bugs = alexa[alexa['title'].str.contains('please help|bug|error|problem|stop working', regex=True) | alexa['selftext'].str.contains('please help|bug|error|problem', regex=True)]"
   ]
  },
  {
   "cell_type": "code",
   "execution_count": 28,
   "metadata": {},
   "outputs": [
    {
     "data": {
      "text/plain": [
       "(95, 12)"
      ]
     },
     "execution_count": 28,
     "metadata": {},
     "output_type": "execute_result"
    }
   ],
   "source": [
    "alexa_bugs.shape"
   ]
  },
  {
   "cell_type": "code",
   "execution_count": 29,
   "metadata": {},
   "outputs": [
    {
     "data": {
      "text/html": [
       "<div>\n",
       "<style scoped>\n",
       "    .dataframe tbody tr th:only-of-type {\n",
       "        vertical-align: middle;\n",
       "    }\n",
       "\n",
       "    .dataframe tbody tr th {\n",
       "        vertical-align: top;\n",
       "    }\n",
       "\n",
       "    .dataframe thead th {\n",
       "        text-align: right;\n",
       "    }\n",
       "</style>\n",
       "<table border=\"1\" class=\"dataframe\">\n",
       "  <thead>\n",
       "    <tr style=\"text-align: right;\">\n",
       "      <th></th>\n",
       "      <th>subreddit</th>\n",
       "      <th>id</th>\n",
       "      <th>comment_link_id</th>\n",
       "      <th>title</th>\n",
       "      <th>selftext</th>\n",
       "      <th>score</th>\n",
       "      <th>upvote_ratio</th>\n",
       "      <th>num_comments</th>\n",
       "      <th>flair</th>\n",
       "      <th>url</th>\n",
       "      <th>author</th>\n",
       "      <th>created</th>\n",
       "    </tr>\n",
       "  </thead>\n",
       "  <tbody>\n",
       "    <tr>\n",
       "      <th>3</th>\n",
       "      <td>alexa</td>\n",
       "      <td>ih4pme</td>\n",
       "      <td>t3_ih4pme</td>\n",
       "      <td>Music / Podcasts not consistent.</td>\n",
       "      <td>If im listening to something (such as a podcast) and I pause, when i come back after a few hours and ask to resume she starts the episode / track fro the beginning instead of where i was.\\n\\nAnyone else has this problem and has a solution?\\n\\nThanks</td>\n",
       "      <td>6</td>\n",
       "      <td>0.88</td>\n",
       "      <td>0</td>\n",
       "      <td>NaN</td>\n",
       "      <td>https://www.reddit.com/r/alexa/comments/ih4pme/music_podcasts_not_consistent/</td>\n",
       "      <td>JustWhy69</td>\n",
       "      <td>2020-08-26 11:44:35</td>\n",
       "    </tr>\n",
       "    <tr>\n",
       "      <th>12</th>\n",
       "      <td>alexa</td>\n",
       "      <td>igg5o3</td>\n",
       "      <td>t3_igg5o3</td>\n",
       "      <td>Alexa \"doesn't know how to set all lights to that setting\"</td>\n",
       "      <td>Hey everyone,\\n\\nI have Alexa in my bedroom, bathroom, and living room. I have multiple ceiling and lamp light fixtures connected to Alexa. For more than a year I've been able to say commands like \"Alexa, brighten all the lights of 100%\" or \"Alexa, turn off all the lights\" or \"Alexa, brighten living room lights to 50%\"\\n\\nBut now something must've happened and when asked to brighten all the lights to 100% Alexa responds by saying \"I don't know how to set all lights to that setting\"\\n\\nAny advice on how to fix this? I suspect I need to rename some of my room arrangements, but I'm not sure what exactly is the problem</td>\n",
       "      <td>0</td>\n",
       "      <td>0.40</td>\n",
       "      <td>2</td>\n",
       "      <td>NaN</td>\n",
       "      <td>https://www.reddit.com/r/alexa/comments/igg5o3/alexa_doesnt_know_how_to_set_all_lights_to_that/</td>\n",
       "      <td>needakeepatit</td>\n",
       "      <td>2020-08-25 09:59:45</td>\n",
       "    </tr>\n",
       "  </tbody>\n",
       "</table>\n",
       "</div>"
      ],
      "text/plain": [
       "   subreddit      id comment_link_id  \\\n",
       "3      alexa  ih4pme       t3_ih4pme   \n",
       "12     alexa  igg5o3       t3_igg5o3   \n",
       "\n",
       "                                                         title  \\\n",
       "3                             Music / Podcasts not consistent.   \n",
       "12  Alexa \"doesn't know how to set all lights to that setting\"   \n",
       "\n",
       "                                                                                                                                                                                                                                                                                                                                                                                                                                                                                                                                                                                                                                          selftext  \\\n",
       "3                                                                                                                                                                                                                                                                                                                                                                                        If im listening to something (such as a podcast) and I pause, when i come back after a few hours and ask to resume she starts the episode / track fro the beginning instead of where i was.\\n\\nAnyone else has this problem and has a solution?\\n\\nThanks   \n",
       "12  Hey everyone,\\n\\nI have Alexa in my bedroom, bathroom, and living room. I have multiple ceiling and lamp light fixtures connected to Alexa. For more than a year I've been able to say commands like \"Alexa, brighten all the lights of 100%\" or \"Alexa, turn off all the lights\" or \"Alexa, brighten living room lights to 50%\"\\n\\nBut now something must've happened and when asked to brighten all the lights to 100% Alexa responds by saying \"I don't know how to set all lights to that setting\"\\n\\nAny advice on how to fix this? I suspect I need to rename some of my room arrangements, but I'm not sure what exactly is the problem   \n",
       "\n",
       "    score  upvote_ratio  num_comments  flair  \\\n",
       "3       6          0.88             0    NaN   \n",
       "12      0          0.40             2    NaN   \n",
       "\n",
       "                                                                                                url  \\\n",
       "3                     https://www.reddit.com/r/alexa/comments/ih4pme/music_podcasts_not_consistent/   \n",
       "12  https://www.reddit.com/r/alexa/comments/igg5o3/alexa_doesnt_know_how_to_set_all_lights_to_that/   \n",
       "\n",
       "           author             created  \n",
       "3       JustWhy69 2020-08-26 11:44:35  \n",
       "12  needakeepatit 2020-08-25 09:59:45  "
      ]
     },
     "execution_count": 29,
     "metadata": {},
     "output_type": "execute_result"
    }
   ],
   "source": [
    "alexa_bugs.head(2)"
   ]
  },
  {
   "cell_type": "markdown",
   "metadata": {},
   "source": [
    "#### Search for posts with keywords that may indicate feature requests"
   ]
  },
  {
   "cell_type": "code",
   "execution_count": 30,
   "metadata": {},
   "outputs": [
    {
     "data": {
      "text/plain": [
       "(67, 12)"
      ]
     },
     "execution_count": 30,
     "metadata": {},
     "output_type": "execute_result"
    }
   ],
   "source": [
    "alexa_features = alexa[alexa['title'].str.contains('feature|request|feature request', regex=True) | alexa['selftext'].str.contains('feature|request|feature request', regex=True)]\n",
    "alexa_features.shape"
   ]
  },
  {
   "cell_type": "code",
   "execution_count": 31,
   "metadata": {},
   "outputs": [
    {
     "data": {
      "text/html": [
       "<div>\n",
       "<style scoped>\n",
       "    .dataframe tbody tr th:only-of-type {\n",
       "        vertical-align: middle;\n",
       "    }\n",
       "\n",
       "    .dataframe tbody tr th {\n",
       "        vertical-align: top;\n",
       "    }\n",
       "\n",
       "    .dataframe thead th {\n",
       "        text-align: right;\n",
       "    }\n",
       "</style>\n",
       "<table border=\"1\" class=\"dataframe\">\n",
       "  <thead>\n",
       "    <tr style=\"text-align: right;\">\n",
       "      <th></th>\n",
       "      <th>subreddit</th>\n",
       "      <th>id</th>\n",
       "      <th>comment_link_id</th>\n",
       "      <th>title</th>\n",
       "      <th>selftext</th>\n",
       "      <th>score</th>\n",
       "      <th>upvote_ratio</th>\n",
       "      <th>num_comments</th>\n",
       "      <th>flair</th>\n",
       "      <th>url</th>\n",
       "      <th>author</th>\n",
       "      <th>created</th>\n",
       "    </tr>\n",
       "  </thead>\n",
       "  <tbody>\n",
       "    <tr>\n",
       "      <th>2</th>\n",
       "      <td>alexa</td>\n",
       "      <td>ih8eq0</td>\n",
       "      <td>t3_ih8eq0</td>\n",
       "      <td>what alexa features could be in use for this ghost prank?</td>\n",
       "      <td>please note i am not a believer in ghosts and if i was i dont think theyd be able to communicate by alexa. thats why im pretty certain theres some trickery here.\\n\\nbasically, i believe someone i know is being pranked through an alexa to think her dorm is haunted. their alexa is connected to one of the roommates, but as far as we know, none of the others (a total of four.) \\n\\nthe alexa was acting odd already-playing music without any commands or apparent stimulation, randomly saying stuff. then, after playing a ghost app twice and discerning the ghost name as \"robert,\" on the same day the alexa randomly said M (owner of alexa) says: Robert\\n\\nafter that they held a like... q&amp;a with it where they wrote questions on a paper, crumpled it up, and the alexa answered in coherent one word responses in order of what they wrote. as far as i know, these did not include the \"M says...\" preface; it was just saying the words. no notification sound either. im wondering if any of you know what feature of the alexa could be used for this prank to comfort my friend and explain why shes likely being pranked by M and not actually experiencing a ghost. i dont think itd be anything too complex feature wise bc i did find a video where you can code it to say anything but i really dont think any of them would be able to do that, and its likely phone controlled. any ideas?</td>\n",
       "      <td>1</td>\n",
       "      <td>0.67</td>\n",
       "      <td>1</td>\n",
       "      <td>NaN</td>\n",
       "      <td>https://www.reddit.com/r/alexa/comments/ih8eq0/what_alexa_features_could_be_in_use_for_this/</td>\n",
       "      <td>tinyheartbag</td>\n",
       "      <td>2020-08-26 14:56:25</td>\n",
       "    </tr>\n",
       "    <tr>\n",
       "      <th>5</th>\n",
       "      <td>alexa</td>\n",
       "      <td>ih1s0i</td>\n",
       "      <td>t3_ih1s0i</td>\n",
       "      <td>Stop Alexa from asking to learn my voice</td>\n",
       "      <td>Is there anyway to permanently stop Alexa from asking to learn my voice?  I have searched and can’t find anything about my this request. Thanks for any help.</td>\n",
       "      <td>0</td>\n",
       "      <td>0.50</td>\n",
       "      <td>9</td>\n",
       "      <td>NaN</td>\n",
       "      <td>https://www.reddit.com/r/alexa/comments/ih1s0i/stop_alexa_from_asking_to_learn_my_voice/</td>\n",
       "      <td>teaky</td>\n",
       "      <td>2020-08-26 09:13:06</td>\n",
       "    </tr>\n",
       "  </tbody>\n",
       "</table>\n",
       "</div>"
      ],
      "text/plain": [
       "  subreddit      id comment_link_id  \\\n",
       "2     alexa  ih8eq0       t3_ih8eq0   \n",
       "5     alexa  ih1s0i       t3_ih1s0i   \n",
       "\n",
       "                                                       title  \\\n",
       "2  what alexa features could be in use for this ghost prank?   \n",
       "5                   Stop Alexa from asking to learn my voice   \n",
       "\n",
       "                                                                                                                                                                                                                                                                                                                                                                                                                                                                                                                                                                                                                                                                                                                                                                                                                                                                                                                                                                                                                                                                                                                                                                                                                                                                                                                                                                                                                      selftext  \\\n",
       "2  please note i am not a believer in ghosts and if i was i dont think theyd be able to communicate by alexa. thats why im pretty certain theres some trickery here.\\n\\nbasically, i believe someone i know is being pranked through an alexa to think her dorm is haunted. their alexa is connected to one of the roommates, but as far as we know, none of the others (a total of four.) \\n\\nthe alexa was acting odd already-playing music without any commands or apparent stimulation, randomly saying stuff. then, after playing a ghost app twice and discerning the ghost name as \"robert,\" on the same day the alexa randomly said M (owner of alexa) says: Robert\\n\\nafter that they held a like... q&a with it where they wrote questions on a paper, crumpled it up, and the alexa answered in coherent one word responses in order of what they wrote. as far as i know, these did not include the \"M says...\" preface; it was just saying the words. no notification sound either. im wondering if any of you know what feature of the alexa could be used for this prank to comfort my friend and explain why shes likely being pranked by M and not actually experiencing a ghost. i dont think itd be anything too complex feature wise bc i did find a video where you can code it to say anything but i really dont think any of them would be able to do that, and its likely phone controlled. any ideas?   \n",
       "5                                                                                                                                                                                                                                                                                                                                                                                                                                                                                                                                                                                                                                                                                                                                                                                                                                                                                                                                                                                                                                                                                                                                                                                                                                                                Is there anyway to permanently stop Alexa from asking to learn my voice?  I have searched and can’t find anything about my this request. Thanks for any help.   \n",
       "\n",
       "   score  upvote_ratio  num_comments  flair  \\\n",
       "2      1          0.67             1    NaN   \n",
       "5      0          0.50             9    NaN   \n",
       "\n",
       "                                                                                            url  \\\n",
       "2  https://www.reddit.com/r/alexa/comments/ih8eq0/what_alexa_features_could_be_in_use_for_this/   \n",
       "5      https://www.reddit.com/r/alexa/comments/ih1s0i/stop_alexa_from_asking_to_learn_my_voice/   \n",
       "\n",
       "         author             created  \n",
       "2  tinyheartbag 2020-08-26 14:56:25  \n",
       "5         teaky 2020-08-26 09:13:06  "
      ]
     },
     "execution_count": 31,
     "metadata": {},
     "output_type": "execute_result"
    }
   ],
   "source": [
    "alexa_features.head(2)"
   ]
  },
  {
   "cell_type": "markdown",
   "metadata": {},
   "source": [
    "#### Google"
   ]
  },
  {
   "cell_type": "code",
   "execution_count": 32,
   "metadata": {},
   "outputs": [
    {
     "data": {
      "text/plain": [
       "flair              \n",
       "Help                   253\n",
       "Bug                     54\n",
       "Other                   28\n",
       "Commands | How To's     18\n",
       "Features WishList       17\n",
       "Tips                    10\n",
       "News                    10\n",
       "NSFW - Language          5\n",
       "GH Trigger Warning       4\n",
       "Hacks                    2\n",
       "Product Review           1\n",
       "dtype: int64"
      ]
     },
     "execution_count": 32,
     "metadata": {},
     "output_type": "execute_result"
    }
   ],
   "source": [
    "google[['flair']].value_counts()"
   ]
  },
  {
   "cell_type": "code",
   "execution_count": 33,
   "metadata": {},
   "outputs": [
    {
     "data": {
      "image/png": "[encoded data removed]",
      "text/plain": [
       "<Figure size 1008x576 with 1 Axes>"
      ]
     },
     "metadata": {
      "needs_background": "light"
     },
     "output_type": "display_data"
    }
   ],
   "source": [
    "#save as dataframe for easy plotting\n",
    "google_flair_df = google[['flair']].value_counts(normalize=True).reset_index()\n",
    "google_flair_df.columns = ['flair','Percentage (%)']\n",
    "\n",
    "plt.figure(figsize=(14,8))\n",
    "sns.barplot(google_flair_df['flair'], \n",
    "            google_flair_df['Percentage (%)'], \n",
    "            alpha=0.8);\n",
    "plt.title('Google Home Posts by Flair', fontsize=16)\n",
    "plt.xticks(rotation=45);\n",
    "plt.savefig('./imgs/google_flair.jpeg',bbox_inches='tight');"
   ]
  },
  {
   "cell_type": "markdown",
   "metadata": {},
   "source": [
    "### We can infer here that most posts are related to help/bug questions. "
   ]
  },
  {
   "cell_type": "markdown",
   "metadata": {},
   "source": [
    "# Let's prep our data to make a model"
   ]
  },
  {
   "cell_type": "markdown",
   "metadata": {},
   "source": [
    "### Combine dataframes"
   ]
  },
  {
   "cell_type": "code",
   "execution_count": 34,
   "metadata": {},
   "outputs": [
    {
     "data": {
      "text/html": [
       "<div>\n",
       "<style scoped>\n",
       "    .dataframe tbody tr th:only-of-type {\n",
       "        vertical-align: middle;\n",
       "    }\n",
       "\n",
       "    .dataframe tbody tr th {\n",
       "        vertical-align: top;\n",
       "    }\n",
       "\n",
       "    .dataframe thead th {\n",
       "        text-align: right;\n",
       "    }\n",
       "</style>\n",
       "<table border=\"1\" class=\"dataframe\">\n",
       "  <thead>\n",
       "    <tr style=\"text-align: right;\">\n",
       "      <th></th>\n",
       "      <th>subreddit</th>\n",
       "      <th>id</th>\n",
       "      <th>comment_link_id</th>\n",
       "      <th>title</th>\n",
       "      <th>selftext</th>\n",
       "      <th>score</th>\n",
       "      <th>upvote_ratio</th>\n",
       "      <th>num_comments</th>\n",
       "      <th>flair</th>\n",
       "      <th>url</th>\n",
       "      <th>author</th>\n",
       "      <th>created</th>\n",
       "    </tr>\n",
       "  </thead>\n",
       "  <tbody>\n",
       "    <tr>\n",
       "      <th>0</th>\n",
       "      <td>googlehome</td>\n",
       "      <td>ihb3t9</td>\n",
       "      <td>t3_ihb3t9</td>\n",
       "      <td>Double up</td>\n",
       "      <td>Anyone know how to remove double light/sensor indicator on my Home app? I have a Fibaro motion sensor in my bedroom, but its listed twice. Thanks.</td>\n",
       "      <td>1</td>\n",
       "      <td>1.0</td>\n",
       "      <td>0</td>\n",
       "      <td>Help</td>\n",
       "      <td>https://www.reddit.com/r/googlehome/comments/ihb3t9/double_up/</td>\n",
       "      <td>stigjohan1974</td>\n",
       "      <td>2020-08-26 17:37:50</td>\n",
       "    </tr>\n",
       "    <tr>\n",
       "      <th>1</th>\n",
       "      <td>googlehome</td>\n",
       "      <td>ihatuu</td>\n",
       "      <td>t3_ihatuu</td>\n",
       "      <td>Is my mini done for? Was listening to a podcast and the lights started flashing, unresponsive to commands. Them it started beeping too</td>\n",
       "      <td>NaN</td>\n",
       "      <td>2</td>\n",
       "      <td>1.0</td>\n",
       "      <td>1</td>\n",
       "      <td>NaN</td>\n",
       "      <td>http://imgur.com/a/jAgmwfo</td>\n",
       "      <td>polkadotfuzz</td>\n",
       "      <td>2020-08-26 17:19:54</td>\n",
       "    </tr>\n",
       "  </tbody>\n",
       "</table>\n",
       "</div>"
      ],
      "text/plain": [
       "    subreddit      id comment_link_id  \\\n",
       "0  googlehome  ihb3t9       t3_ihb3t9   \n",
       "1  googlehome  ihatuu       t3_ihatuu   \n",
       "\n",
       "                                                                                                                                    title  \\\n",
       "0                                                                                                                               Double up   \n",
       "1  Is my mini done for? Was listening to a podcast and the lights started flashing, unresponsive to commands. Them it started beeping too   \n",
       "\n",
       "                                                                                                                                             selftext  \\\n",
       "0  Anyone know how to remove double light/sensor indicator on my Home app? I have a Fibaro motion sensor in my bedroom, but its listed twice. Thanks.   \n",
       "1                                                                                                                                                 NaN   \n",
       "\n",
       "   score  upvote_ratio  num_comments flair  \\\n",
       "0      1           1.0             0  Help   \n",
       "1      2           1.0             1   NaN   \n",
       "\n",
       "                                                              url  \\\n",
       "0  https://www.reddit.com/r/googlehome/comments/ihb3t9/double_up/   \n",
       "1                                      http://imgur.com/a/jAgmwfo   \n",
       "\n",
       "          author             created  \n",
       "0  stigjohan1974 2020-08-26 17:37:50  \n",
       "1   polkadotfuzz 2020-08-26 17:19:54  "
      ]
     },
     "execution_count": 34,
     "metadata": {},
     "output_type": "execute_result"
    }
   ],
   "source": [
    "#Use concat\n",
    "alexa_google = pd.concat([google, alexa])\n",
    "alexa_google.head(2)"
   ]
  },
  {
   "cell_type": "markdown",
   "metadata": {},
   "source": [
    "### Binarize subreddit column"
   ]
  },
  {
   "cell_type": "markdown",
   "metadata": {},
   "source": [
    "### `googlehome = 0`, `alexa = 1`"
   ]
  },
  {
   "cell_type": "code",
   "execution_count": 35,
   "metadata": {},
   "outputs": [
    {
     "data": {
      "text/html": [
       "<div>\n",
       "<style scoped>\n",
       "    .dataframe tbody tr th:only-of-type {\n",
       "        vertical-align: middle;\n",
       "    }\n",
       "\n",
       "    .dataframe tbody tr th {\n",
       "        vertical-align: top;\n",
       "    }\n",
       "\n",
       "    .dataframe thead th {\n",
       "        text-align: right;\n",
       "    }\n",
       "</style>\n",
       "<table border=\"1\" class=\"dataframe\">\n",
       "  <thead>\n",
       "    <tr style=\"text-align: right;\">\n",
       "      <th></th>\n",
       "      <th>subreddit</th>\n",
       "      <th>id</th>\n",
       "      <th>comment_link_id</th>\n",
       "      <th>title</th>\n",
       "      <th>selftext</th>\n",
       "      <th>score</th>\n",
       "      <th>upvote_ratio</th>\n",
       "      <th>num_comments</th>\n",
       "      <th>flair</th>\n",
       "      <th>url</th>\n",
       "      <th>author</th>\n",
       "      <th>created</th>\n",
       "      <th>class</th>\n",
       "    </tr>\n",
       "  </thead>\n",
       "  <tbody>\n",
       "    <tr>\n",
       "      <th>0</th>\n",
       "      <td>googlehome</td>\n",
       "      <td>ihb3t9</td>\n",
       "      <td>t3_ihb3t9</td>\n",
       "      <td>Double up</td>\n",
       "      <td>Anyone know how to remove double light/sensor indicator on my Home app? I have a Fibaro motion sensor in my bedroom, but its listed twice. Thanks.</td>\n",
       "      <td>1</td>\n",
       "      <td>1.0</td>\n",
       "      <td>0</td>\n",
       "      <td>Help</td>\n",
       "      <td>https://www.reddit.com/r/googlehome/comments/ihb3t9/double_up/</td>\n",
       "      <td>stigjohan1974</td>\n",
       "      <td>2020-08-26 17:37:50</td>\n",
       "      <td>0</td>\n",
       "    </tr>\n",
       "    <tr>\n",
       "      <th>1</th>\n",
       "      <td>googlehome</td>\n",
       "      <td>ihatuu</td>\n",
       "      <td>t3_ihatuu</td>\n",
       "      <td>Is my mini done for? Was listening to a podcast and the lights started flashing, unresponsive to commands. Them it started beeping too</td>\n",
       "      <td>NaN</td>\n",
       "      <td>2</td>\n",
       "      <td>1.0</td>\n",
       "      <td>1</td>\n",
       "      <td>NaN</td>\n",
       "      <td>http://imgur.com/a/jAgmwfo</td>\n",
       "      <td>polkadotfuzz</td>\n",
       "      <td>2020-08-26 17:19:54</td>\n",
       "      <td>0</td>\n",
       "    </tr>\n",
       "  </tbody>\n",
       "</table>\n",
       "</div>"
      ],
      "text/plain": [
       "    subreddit      id comment_link_id  \\\n",
       "0  googlehome  ihb3t9       t3_ihb3t9   \n",
       "1  googlehome  ihatuu       t3_ihatuu   \n",
       "\n",
       "                                                                                                                                    title  \\\n",
       "0                                                                                                                               Double up   \n",
       "1  Is my mini done for? Was listening to a podcast and the lights started flashing, unresponsive to commands. Them it started beeping too   \n",
       "\n",
       "                                                                                                                                             selftext  \\\n",
       "0  Anyone know how to remove double light/sensor indicator on my Home app? I have a Fibaro motion sensor in my bedroom, but its listed twice. Thanks.   \n",
       "1                                                                                                                                                 NaN   \n",
       "\n",
       "   score  upvote_ratio  num_comments flair  \\\n",
       "0      1           1.0             0  Help   \n",
       "1      2           1.0             1   NaN   \n",
       "\n",
       "                                                              url  \\\n",
       "0  https://www.reddit.com/r/googlehome/comments/ihb3t9/double_up/   \n",
       "1                                      http://imgur.com/a/jAgmwfo   \n",
       "\n",
       "          author             created  class  \n",
       "0  stigjohan1974 2020-08-26 17:37:50      0  \n",
       "1   polkadotfuzz 2020-08-26 17:19:54      0  "
      ]
     },
     "execution_count": 35,
     "metadata": {},
     "output_type": "execute_result"
    }
   ],
   "source": [
    "#Google = 0, Alexa = 1\n",
    "alexa_google['class'] = alexa_google['subreddit'].map({\"googlehome\":0,\n",
    "                                                       \"alexa\":1})\n",
    "alexa_google.head(2)"
   ]
  },
  {
   "cell_type": "markdown",
   "metadata": {},
   "source": [
    "### Check for null values"
   ]
  },
  {
   "cell_type": "code",
   "execution_count": 36,
   "metadata": {},
   "outputs": [
    {
     "data": {
      "text/plain": [
       "subreddit             0\n",
       "id                    0\n",
       "comment_link_id       0\n",
       "title                 0\n",
       "selftext            338\n",
       "score                 0\n",
       "upvote_ratio          0\n",
       "num_comments          0\n",
       "flair              1558\n",
       "url                   0\n",
       "author                8\n",
       "created               0\n",
       "class                 0\n",
       "dtype: int64"
      ]
     },
     "execution_count": 36,
     "metadata": {},
     "output_type": "execute_result"
    }
   ],
   "source": [
    "alexa_google.isnull().sum()"
   ]
  },
  {
   "cell_type": "markdown",
   "metadata": {},
   "source": [
    "### Combine `title` and `selftext` columns"
   ]
  },
  {
   "cell_type": "markdown",
   "metadata": {},
   "source": [
    "##### We are doing this to also solve the problem of null values in selftext."
   ]
  },
  {
   "cell_type": "code",
   "execution_count": 37,
   "metadata": {},
   "outputs": [],
   "source": [
    "#First let's add an empty string to the null values in selftext\n",
    "alexa_google['selftext'].fillna('',inplace=True)"
   ]
  },
  {
   "cell_type": "code",
   "execution_count": 38,
   "metadata": {},
   "outputs": [
    {
     "data": {
      "text/html": [
       "<div>\n",
       "<style scoped>\n",
       "    .dataframe tbody tr th:only-of-type {\n",
       "        vertical-align: middle;\n",
       "    }\n",
       "\n",
       "    .dataframe tbody tr th {\n",
       "        vertical-align: top;\n",
       "    }\n",
       "\n",
       "    .dataframe thead th {\n",
       "        text-align: right;\n",
       "    }\n",
       "</style>\n",
       "<table border=\"1\" class=\"dataframe\">\n",
       "  <thead>\n",
       "    <tr style=\"text-align: right;\">\n",
       "      <th></th>\n",
       "      <th>subreddit</th>\n",
       "      <th>id</th>\n",
       "      <th>comment_link_id</th>\n",
       "      <th>title</th>\n",
       "      <th>selftext</th>\n",
       "      <th>score</th>\n",
       "      <th>upvote_ratio</th>\n",
       "      <th>num_comments</th>\n",
       "      <th>flair</th>\n",
       "      <th>url</th>\n",
       "      <th>author</th>\n",
       "      <th>created</th>\n",
       "      <th>class</th>\n",
       "      <th>text</th>\n",
       "    </tr>\n",
       "  </thead>\n",
       "  <tbody>\n",
       "    <tr>\n",
       "      <th>0</th>\n",
       "      <td>googlehome</td>\n",
       "      <td>ihb3t9</td>\n",
       "      <td>t3_ihb3t9</td>\n",
       "      <td>Double up</td>\n",
       "      <td>Anyone know how to remove double light/sensor indicator on my Home app? I have a Fibaro motion sensor in my bedroom, but its listed twice. Thanks.</td>\n",
       "      <td>1</td>\n",
       "      <td>1.0</td>\n",
       "      <td>0</td>\n",
       "      <td>Help</td>\n",
       "      <td>https://www.reddit.com/r/googlehome/comments/ihb3t9/double_up/</td>\n",
       "      <td>stigjohan1974</td>\n",
       "      <td>2020-08-26 17:37:50</td>\n",
       "      <td>0</td>\n",
       "      <td>Double up Anyone know how to remove double light/sensor indicator on my Home app? I have a Fibaro motion sensor in my bedroom, but its listed twice. Thanks.</td>\n",
       "    </tr>\n",
       "    <tr>\n",
       "      <th>1</th>\n",
       "      <td>googlehome</td>\n",
       "      <td>ihatuu</td>\n",
       "      <td>t3_ihatuu</td>\n",
       "      <td>Is my mini done for? Was listening to a podcast and the lights started flashing, unresponsive to commands. Them it started beeping too</td>\n",
       "      <td></td>\n",
       "      <td>2</td>\n",
       "      <td>1.0</td>\n",
       "      <td>1</td>\n",
       "      <td>NaN</td>\n",
       "      <td>http://imgur.com/a/jAgmwfo</td>\n",
       "      <td>polkadotfuzz</td>\n",
       "      <td>2020-08-26 17:19:54</td>\n",
       "      <td>0</td>\n",
       "      <td>Is my mini done for? Was listening to a podcast and the lights started flashing, unresponsive to commands. Them it started beeping too</td>\n",
       "    </tr>\n",
       "  </tbody>\n",
       "</table>\n",
       "</div>"
      ],
      "text/plain": [
       "    subreddit      id comment_link_id  \\\n",
       "0  googlehome  ihb3t9       t3_ihb3t9   \n",
       "1  googlehome  ihatuu       t3_ihatuu   \n",
       "\n",
       "                                                                                                                                    title  \\\n",
       "0                                                                                                                               Double up   \n",
       "1  Is my mini done for? Was listening to a podcast and the lights started flashing, unresponsive to commands. Them it started beeping too   \n",
       "\n",
       "                                                                                                                                             selftext  \\\n",
       "0  Anyone know how to remove double light/sensor indicator on my Home app? I have a Fibaro motion sensor in my bedroom, but its listed twice. Thanks.   \n",
       "1                                                                                                                                                       \n",
       "\n",
       "   score  upvote_ratio  num_comments flair  \\\n",
       "0      1           1.0             0  Help   \n",
       "1      2           1.0             1   NaN   \n",
       "\n",
       "                                                              url  \\\n",
       "0  https://www.reddit.com/r/googlehome/comments/ihb3t9/double_up/   \n",
       "1                                      http://imgur.com/a/jAgmwfo   \n",
       "\n",
       "          author             created  class  \\\n",
       "0  stigjohan1974 2020-08-26 17:37:50      0   \n",
       "1   polkadotfuzz 2020-08-26 17:19:54      0   \n",
       "\n",
       "                                                                                                                                                           text  \n",
       "0  Double up Anyone know how to remove double light/sensor indicator on my Home app? I have a Fibaro motion sensor in my bedroom, but its listed twice. Thanks.  \n",
       "1                       Is my mini done for? Was listening to a podcast and the lights started flashing, unresponsive to commands. Them it started beeping too   "
      ]
     },
     "execution_count": 38,
     "metadata": {},
     "output_type": "execute_result"
    }
   ],
   "source": [
    "# Combine the title and selftext columns\n",
    "alexa_google['text'] = alexa_google['title'] + ' ' + alexa_google['selftext']\n",
    "alexa_google.head(2)"
   ]
  },
  {
   "cell_type": "code",
   "execution_count": 39,
   "metadata": {},
   "outputs": [
    {
     "data": {
      "text/plain": [
       "subreddit             0\n",
       "id                    0\n",
       "comment_link_id       0\n",
       "title                 0\n",
       "selftext              0\n",
       "score                 0\n",
       "upvote_ratio          0\n",
       "num_comments          0\n",
       "flair              1558\n",
       "url                   0\n",
       "author                8\n",
       "created               0\n",
       "class                 0\n",
       "text                  0\n",
       "dtype: int64"
      ]
     },
     "execution_count": 39,
     "metadata": {},
     "output_type": "execute_result"
    }
   ],
   "source": [
    "#check our work\n",
    "alexa_google.isnull().sum()"
   ]
  },
  {
   "cell_type": "markdown",
   "metadata": {},
   "source": [
    "## Save our data for later use"
   ]
  },
  {
   "cell_type": "code",
   "execution_count": 40,
   "metadata": {},
   "outputs": [],
   "source": [
    "alexa_google.to_csv('./data/alexa_google_cleaned.csv',index=False)"
   ]
  },
  {
   "cell_type": "markdown",
   "metadata": {},
   "source": [
    "# Additional Exploratory Data Analysis"
   ]
  },
  {
   "cell_type": "markdown",
   "metadata": {},
   "source": [
    "### Correlations"
   ]
  },
  {
   "cell_type": "code",
   "execution_count": 41,
   "metadata": {},
   "outputs": [
    {
     "data": {
      "image/png": "[encoded data removed]",
      "text/plain": [
       "<Figure size 432x288 with 2 Axes>"
      ]
     },
     "metadata": {
      "needs_background": "light"
     },
     "output_type": "display_data"
    }
   ],
   "source": [
    "corr = alexa_google[['score','num_comments','upvote_ratio']].corr()\n",
    "mask = np.zeros_like(corr)\n",
    "mask[np.triu_indices_from(mask)] = True\n",
    "sns.heatmap(corr,vmin=-1, vmax=1.1, annot=True,cmap='coolwarm', mask=mask)\n",
    "plt.title('Correlations with Score',fontsize=16);\n",
    "plt.savefig('./imgs/correlations.jpeg',bbox_inches='tight');"
   ]
  },
  {
   "cell_type": "markdown",
   "metadata": {},
   "source": [
    "## Sentiment Analysis - Post Title and Body"
   ]
  },
  {
   "cell_type": "code",
   "execution_count": 42,
   "metadata": {},
   "outputs": [
    {
     "name": "stdout",
     "output_type": "stream",
     "text": [
      "[{'neg': 0.0, 'neu': 0.867, 'pos': 0.133, 'compound': 0.5927, 'text': 'Double up Anyone know how to remove double light/sensor indicator on my Home app? I have a Fibaro motion sensor in my bedroom, but its listed twice. Thanks.'}, {'neg': 0.0, 'neu': 1.0, 'pos': 0.0, 'compound': 0.0, 'text': 'Is my mini done for? Was listening to a podcast and the lights started flashing, unresponsive to commands. Them it started beeping too '}, {'neg': 0.012, 'neu': 0.927, 'pos': 0.061, 'compound': 0.8406, 'text': \"I use a Google Home Max as my TV's soundbar... any way to control volume without voice/phone? I'm looking for the best way to adjust the volume on my Google Home Max that's connected to my TV. It is connected via a 3.5mm audio cable. \\n\\nI also have an Nvidia Shield as my main TV box. I can use the Google assistant in the Shield to control the volume, but through voice commands and not through the remote's volume control. I've tried using HDMI-CEC to control it, but that ends up controlling the TV volume. \\n\\nI also have an Nintendo Switch on the TV, so I don't want to resort to use the Shield's built in volume.\\n\\n&#x200B;\\n\\nAnyone else using their Google Home max this way? What are the best ways you've been able to use it as soundbar and with controlling volume.\"}]\n"
     ]
    }
   ],
   "source": [
    "vader = SentimentIntensityAnalyzer()\n",
    "results = []\n",
    "\n",
    "for text in alexa_google['text']:\n",
    "    pol_score = vader.polarity_scores(text)  #stores analysis in a list with dictionaries\n",
    "    pol_score['text'] = text                 #adds to the pol_score dictionary the text\n",
    "    results.append(pol_score)                #appends to the results list\n",
    "\n",
    "print(results[:3])\n",
    "\n",
    "#Adapted from https://www.learndatasci.com/tutorials/sentiment-analysis-reddit-headlines-pythons-nltk/"
   ]
  },
  {
   "cell_type": "code",
   "execution_count": 43,
   "metadata": {},
   "outputs": [
    {
     "data": {
      "text/html": [
       "<div>\n",
       "<style scoped>\n",
       "    .dataframe tbody tr th:only-of-type {\n",
       "        vertical-align: middle;\n",
       "    }\n",
       "\n",
       "    .dataframe tbody tr th {\n",
       "        vertical-align: top;\n",
       "    }\n",
       "\n",
       "    .dataframe thead th {\n",
       "        text-align: right;\n",
       "    }\n",
       "</style>\n",
       "<table border=\"1\" class=\"dataframe\">\n",
       "  <thead>\n",
       "    <tr style=\"text-align: right;\">\n",
       "      <th></th>\n",
       "      <th>neg</th>\n",
       "      <th>neu</th>\n",
       "      <th>pos</th>\n",
       "      <th>compound</th>\n",
       "      <th>text</th>\n",
       "    </tr>\n",
       "  </thead>\n",
       "  <tbody>\n",
       "    <tr>\n",
       "      <th>0</th>\n",
       "      <td>0.000</td>\n",
       "      <td>0.867</td>\n",
       "      <td>0.133</td>\n",
       "      <td>0.5927</td>\n",
       "      <td>Double up Anyone know how to remove double light/sensor indicator on my Home app? I have a Fibaro motion sensor in my bedroom, but its listed twice. Thanks.</td>\n",
       "    </tr>\n",
       "    <tr>\n",
       "      <th>1</th>\n",
       "      <td>0.000</td>\n",
       "      <td>1.000</td>\n",
       "      <td>0.000</td>\n",
       "      <td>0.0000</td>\n",
       "      <td>Is my mini done for? Was listening to a podcast and the lights started flashing, unresponsive to commands. Them it started beeping too</td>\n",
       "    </tr>\n",
       "    <tr>\n",
       "      <th>2</th>\n",
       "      <td>0.012</td>\n",
       "      <td>0.927</td>\n",
       "      <td>0.061</td>\n",
       "      <td>0.8406</td>\n",
       "      <td>I use a Google Home Max as my TV's soundbar... any way to control volume without voice/phone? I'm looking for the best way to adjust the volume on my Google Home Max that's connected to my TV. It is connected via a 3.5mm audio cable. \\n\\nI also have an Nvidia Shield as my main TV box. I can use the Google assistant in the Shield to control the volume, but through voice commands and not through the remote's volume control. I've tried using HDMI-CEC to control it, but that ends up controlling the TV volume. \\n\\nI also have an Nintendo Switch on the TV, so I don't want to resort to use the Shield's built in volume.\\n\\n&amp;#x200B;\\n\\nAnyone else using their Google Home max this way? What are the best ways you've been able to use it as soundbar and with controlling volume.</td>\n",
       "    </tr>\n",
       "    <tr>\n",
       "      <th>3</th>\n",
       "      <td>0.044</td>\n",
       "      <td>0.901</td>\n",
       "      <td>0.055</td>\n",
       "      <td>0.1431</td>\n",
       "      <td>Why can't I tell my Google Home to \"STOP\" anymore? If it was in the middle of giving me way more information than I needed, I used to say \"hey Google, stop\" and it would quit talking. I can't anymore. It doesn't hear me and it keeps talking. Can I fix this?</td>\n",
       "    </tr>\n",
       "    <tr>\n",
       "      <th>4</th>\n",
       "      <td>0.000</td>\n",
       "      <td>0.847</td>\n",
       "      <td>0.153</td>\n",
       "      <td>0.4404</td>\n",
       "      <td>Is it safe to delete Google Wifi app? now that Wifi is part of the Home app.</td>\n",
       "    </tr>\n",
       "  </tbody>\n",
       "</table>\n",
       "</div>"
      ],
      "text/plain": [
       "     neg    neu    pos  compound  \\\n",
       "0  0.000  0.867  0.133    0.5927   \n",
       "1  0.000  1.000  0.000    0.0000   \n",
       "2  0.012  0.927  0.061    0.8406   \n",
       "3  0.044  0.901  0.055    0.1431   \n",
       "4  0.000  0.847  0.153    0.4404   \n",
       "\n",
       "                                                                                                                                                                                                                                                                                                                                                                                                                                                                                                                                                                                                                                                                                                                                                                                                      text  \n",
       "0                                                                                                                                                                                                                                                                                                                                                                                                                                                                                                                                                                                                                                             Double up Anyone know how to remove double light/sensor indicator on my Home app? I have a Fibaro motion sensor in my bedroom, but its listed twice. Thanks.  \n",
       "1                                                                                                                                                                                                                                                                                                                                                                                                                                                                                                                                                                                                                                                                  Is my mini done for? Was listening to a podcast and the lights started flashing, unresponsive to commands. Them it started beeping too   \n",
       "2  I use a Google Home Max as my TV's soundbar... any way to control volume without voice/phone? I'm looking for the best way to adjust the volume on my Google Home Max that's connected to my TV. It is connected via a 3.5mm audio cable. \\n\\nI also have an Nvidia Shield as my main TV box. I can use the Google assistant in the Shield to control the volume, but through voice commands and not through the remote's volume control. I've tried using HDMI-CEC to control it, but that ends up controlling the TV volume. \\n\\nI also have an Nintendo Switch on the TV, so I don't want to resort to use the Shield's built in volume.\\n\\n&#x200B;\\n\\nAnyone else using their Google Home max this way? What are the best ways you've been able to use it as soundbar and with controlling volume.  \n",
       "3                                                                                                                                                                                                                                                                                                                                                                                                                                                                                                                                        Why can't I tell my Google Home to \"STOP\" anymore? If it was in the middle of giving me way more information than I needed, I used to say \"hey Google, stop\" and it would quit talking. I can't anymore. It doesn't hear me and it keeps talking. Can I fix this?  \n",
       "4                                                                                                                                                                                                                                                                                                                                                                                                                                                                                                                                                                                                                                                                                                                             Is it safe to delete Google Wifi app? now that Wifi is part of the Home app.  "
      ]
     },
     "execution_count": 43,
     "metadata": {},
     "output_type": "execute_result"
    }
   ],
   "source": [
    "df = pd.DataFrame.from_records(results)\n",
    "df.head()"
   ]
  },
  {
   "cell_type": "code",
   "execution_count": 44,
   "metadata": {},
   "outputs": [
    {
     "data": {
      "text/html": [
       "<div>\n",
       "<style scoped>\n",
       "    .dataframe tbody tr th:only-of-type {\n",
       "        vertical-align: middle;\n",
       "    }\n",
       "\n",
       "    .dataframe tbody tr th {\n",
       "        vertical-align: top;\n",
       "    }\n",
       "\n",
       "    .dataframe thead th {\n",
       "        text-align: right;\n",
       "    }\n",
       "</style>\n",
       "<table border=\"1\" class=\"dataframe\">\n",
       "  <thead>\n",
       "    <tr style=\"text-align: right;\">\n",
       "      <th></th>\n",
       "      <th>neg</th>\n",
       "      <th>neu</th>\n",
       "      <th>pos</th>\n",
       "      <th>compound</th>\n",
       "      <th>text</th>\n",
       "      <th>subreddit</th>\n",
       "      <th>id</th>\n",
       "      <th>comment_link_id</th>\n",
       "      <th>title</th>\n",
       "      <th>selftext</th>\n",
       "      <th>score</th>\n",
       "      <th>upvote_ratio</th>\n",
       "      <th>num_comments</th>\n",
       "      <th>flair</th>\n",
       "      <th>url</th>\n",
       "      <th>author</th>\n",
       "      <th>created</th>\n",
       "      <th>class</th>\n",
       "    </tr>\n",
       "  </thead>\n",
       "  <tbody>\n",
       "    <tr>\n",
       "      <th>0</th>\n",
       "      <td>0.0</td>\n",
       "      <td>0.867</td>\n",
       "      <td>0.133</td>\n",
       "      <td>0.5927</td>\n",
       "      <td>Double up Anyone know how to remove double light/sensor indicator on my Home app? I have a Fibaro motion sensor in my bedroom, but its listed twice. Thanks.</td>\n",
       "      <td>googlehome</td>\n",
       "      <td>ihb3t9</td>\n",
       "      <td>t3_ihb3t9</td>\n",
       "      <td>Double up</td>\n",
       "      <td>Anyone know how to remove double light/sensor indicator on my Home app? I have a Fibaro motion sensor in my bedroom, but its listed twice. Thanks.</td>\n",
       "      <td>1</td>\n",
       "      <td>1.0</td>\n",
       "      <td>0</td>\n",
       "      <td>Help</td>\n",
       "      <td>https://www.reddit.com/r/googlehome/comments/ihb3t9/double_up/</td>\n",
       "      <td>stigjohan1974</td>\n",
       "      <td>2020-08-26 17:37:50</td>\n",
       "      <td>0</td>\n",
       "    </tr>\n",
       "    <tr>\n",
       "      <th>1</th>\n",
       "      <td>0.0</td>\n",
       "      <td>1.000</td>\n",
       "      <td>0.000</td>\n",
       "      <td>0.0000</td>\n",
       "      <td>Is my mini done for? Was listening to a podcast and the lights started flashing, unresponsive to commands. Them it started beeping too</td>\n",
       "      <td>googlehome</td>\n",
       "      <td>ihatuu</td>\n",
       "      <td>t3_ihatuu</td>\n",
       "      <td>Is my mini done for? Was listening to a podcast and the lights started flashing, unresponsive to commands. Them it started beeping too</td>\n",
       "      <td></td>\n",
       "      <td>2</td>\n",
       "      <td>1.0</td>\n",
       "      <td>1</td>\n",
       "      <td>NaN</td>\n",
       "      <td>http://imgur.com/a/jAgmwfo</td>\n",
       "      <td>polkadotfuzz</td>\n",
       "      <td>2020-08-26 17:19:54</td>\n",
       "      <td>0</td>\n",
       "    </tr>\n",
       "  </tbody>\n",
       "</table>\n",
       "</div>"
      ],
      "text/plain": [
       "   neg    neu    pos  compound  \\\n",
       "0  0.0  0.867  0.133    0.5927   \n",
       "1  0.0  1.000  0.000    0.0000   \n",
       "\n",
       "                                                                                                                                                           text  \\\n",
       "0  Double up Anyone know how to remove double light/sensor indicator on my Home app? I have a Fibaro motion sensor in my bedroom, but its listed twice. Thanks.   \n",
       "1                       Is my mini done for? Was listening to a podcast and the lights started flashing, unresponsive to commands. Them it started beeping too    \n",
       "\n",
       "    subreddit      id comment_link_id  \\\n",
       "0  googlehome  ihb3t9       t3_ihb3t9   \n",
       "1  googlehome  ihatuu       t3_ihatuu   \n",
       "\n",
       "                                                                                                                                    title  \\\n",
       "0                                                                                                                               Double up   \n",
       "1  Is my mini done for? Was listening to a podcast and the lights started flashing, unresponsive to commands. Them it started beeping too   \n",
       "\n",
       "                                                                                                                                             selftext  \\\n",
       "0  Anyone know how to remove double light/sensor indicator on my Home app? I have a Fibaro motion sensor in my bedroom, but its listed twice. Thanks.   \n",
       "1                                                                                                                                                       \n",
       "\n",
       "   score  upvote_ratio  num_comments flair  \\\n",
       "0      1           1.0             0  Help   \n",
       "1      2           1.0             1   NaN   \n",
       "\n",
       "                                                              url  \\\n",
       "0  https://www.reddit.com/r/googlehome/comments/ihb3t9/double_up/   \n",
       "1                                      http://imgur.com/a/jAgmwfo   \n",
       "\n",
       "          author             created  class  \n",
       "0  stigjohan1974 2020-08-26 17:37:50      0  \n",
       "1   polkadotfuzz 2020-08-26 17:19:54      0  "
      ]
     },
     "execution_count": 44,
     "metadata": {},
     "output_type": "execute_result"
    }
   ],
   "source": [
    "sentiment = pd.merge(left=df, right=alexa_google, how='left', right_on='text', left_on='text')\n",
    "sentiment.head(2)"
   ]
  },
  {
   "cell_type": "code",
   "execution_count": 45,
   "metadata": {},
   "outputs": [
    {
     "data": {
      "image/png": "[encoded data removed]",
      "text/plain": [
       "<Figure size 864x576 with 1 Axes>"
      ]
     },
     "metadata": {
      "needs_background": "light"
     },
     "output_type": "display_data"
    }
   ],
   "source": [
    "plt.figure(figsize=(12,8))\n",
    "sns.scatterplot('neg','pos', data=sentiment, hue='subreddit',palette='bright', alpha=0.3)\n",
    "plt.title('Sentiment Analysis of Google Home and Alexa Posts',fontsize=16);\n",
    "plt.savefig('./imgs/sentiment_text_scatter.jpeg',bbox_inches='tight');"
   ]
  },
  {
   "cell_type": "code",
   "execution_count": 46,
   "metadata": {},
   "outputs": [
    {
     "data": {
      "text/plain": [
       "neg    0.045707\n",
       "neu    0.867115\n",
       "pos    0.087167\n",
       "dtype: float64"
      ]
     },
     "execution_count": 46,
     "metadata": {},
     "output_type": "execute_result"
    }
   ],
   "source": [
    "sentiment[sentiment['subreddit'] == 'googlehome'][['neg','neu','pos']].mean()"
   ]
  },
  {
   "cell_type": "code",
   "execution_count": 47,
   "metadata": {},
   "outputs": [
    {
     "data": {
      "image/png": "[encoded data removed]",
      "text/plain": [
       "<Figure size 720x576 with 1 Axes>"
      ]
     },
     "metadata": {
      "needs_background": "light"
     },
     "output_type": "display_data"
    }
   ],
   "source": [
    "alexa_post_sent = sentiment[sentiment['subreddit'] == 'alexa'][['neg','neu','pos']].mean().reset_index()\n",
    "alexa_post_sent.columns = ['Sentiment','Average Score']\n",
    "\n",
    "plt.figure(figsize=(10,8))\n",
    "sns.barplot(alexa_post_sent['Sentiment'],alexa_post_sent['Average Score'], palette='bright')\n",
    "plt.title('Sentiment Analysis of Alexa Posts',fontsize=16);\n",
    "plt.xlabel('Score')\n",
    "plt.savefig('./imgs/alexa_sentiment_text.jpeg',bbox_inches='tight');"
   ]
  },
  {
   "cell_type": "code",
   "execution_count": 48,
   "metadata": {},
   "outputs": [
    {
     "data": {
      "image/png": "[encoded data removed]",
      "text/plain": [
       "<Figure size 720x576 with 1 Axes>"
      ]
     },
     "metadata": {
      "needs_background": "light"
     },
     "output_type": "display_data"
    }
   ],
   "source": [
    "google_post_sent = sentiment[sentiment['subreddit'] == 'googlehome'][['neg','neu','pos']].mean().reset_index()\n",
    "google_post_sent.columns = ['Sentiment','Average Score']\n",
    "\n",
    "plt.figure(figsize=(10,8))\n",
    "sns.barplot(google_post_sent['Sentiment'],google_post_sent['Average Score'],palette='bright' )\n",
    "plt.title('Sentiment Analysis of Google Home Posts',fontsize=16);\n",
    "plt.xlabel('Score')\n",
    "plt.savefig('./imgs/google_sentiment_text.jpeg',bbox_inches='tight');"
   ]
  },
  {
   "cell_type": "markdown",
   "metadata": {},
   "source": [
    "### Investigate the compound score"
   ]
  },
  {
   "cell_type": "markdown",
   "metadata": {},
   "source": [
    "[The Compound score is a metric that calculates the sum of all the lexicon ratings which have been normalized between -1 (most extreme negative) and +1 (most extreme positive)](https://medium.com/analytics-vidhya/simplifying-social-media-sentiment-analysis-using-vader-in-python-f9e6ec6fc52f)"
   ]
  },
  {
   "cell_type": "code",
   "execution_count": 49,
   "metadata": {},
   "outputs": [
    {
     "data": {
      "image/png": "[encoded data removed]",
      "text/plain": [
       "<Figure size 864x576 with 1 Axes>"
      ]
     },
     "metadata": {
      "needs_background": "light"
     },
     "output_type": "display_data"
    }
   ],
   "source": [
    "#calculate positve, negative, or neutral counts based on compound score\n",
    "alexa_neg = sentiment[(sentiment['compound'] < -0.05) & (sentiment['subreddit'] == 'alexa')]['id'].count()\n",
    "alexa_neu = sentiment[(sentiment['compound'] >= -0.05) & (sentiment['compound'] <= 0.05) &(sentiment['subreddit'] == 'alexa')]['id'].count()\n",
    "alexa_pos = sentiment[(sentiment['compound'] > 0.05) &(sentiment['subreddit'] == 'alexa')]['id'].count()\n",
    "alexa_total = sentiment[sentiment['subreddit'] == 'alexa']['id'].count()\n",
    "\n",
    "\n",
    "\n",
    "plt.figure(figsize=(12,8))\n",
    "sns.barplot(['Negative','Neutral','Positive'],[(alexa_neg / alexa_total),(alexa_neu / alexa_total),(alexa_pos / alexa_total)], palette='bright')\n",
    "plt.title('Sentiment Analysis of Alexa Posts',fontsize=16);\n",
    "plt.xlabel('Compound Score')\n",
    "plt.ylabel('Percentage (%)')\n",
    "plt.savefig('./imgs/alexa_sentiment_compound.jpeg',bbox_inches='tight');"
   ]
  },
  {
   "cell_type": "code",
   "execution_count": 50,
   "metadata": {},
   "outputs": [
    {
     "name": "stdout",
     "output_type": "stream",
     "text": [
      "Percent Negative: 0.25925925925925924\n",
      "Percent Neutral: 0.11211211211211211\n",
      "Percent Positive: 0.6286286286286287\n"
     ]
    }
   ],
   "source": [
    "print(f'Percent Negative: {alexa_neg / alexa_total}')\n",
    "print(f'Percent Neutral: {alexa_neu / alexa_total}')\n",
    "print(f'Percent Positive: {alexa_pos / alexa_total}')"
   ]
  },
  {
   "cell_type": "code",
   "execution_count": 51,
   "metadata": {},
   "outputs": [
    {
     "data": {
      "image/png": "[encoded data removed]",
      "text/plain": [
       "<Figure size 864x576 with 1 Axes>"
      ]
     },
     "metadata": {
      "needs_background": "light"
     },
     "output_type": "display_data"
    }
   ],
   "source": [
    "#calculate positve, negative, or neutral counts based on compound score\n",
    "google_neg = sentiment[(sentiment['compound'] < -0.05) & (sentiment['subreddit'] == 'googlehome')]['id'].count()\n",
    "google_neu = sentiment[(sentiment['compound'] >= -0.05) & (sentiment['compound'] <= 0.05) &(sentiment['subreddit'] == 'googlehome')]['id'].count()\n",
    "google_pos = sentiment[(sentiment['compound'] > 0.05) &(sentiment['subreddit'] == 'googlehome')]['id'].count()\n",
    "google_total = sentiment[sentiment['subreddit'] == 'googlehome']['id'].count()\n",
    "\n",
    "plt.figure(figsize=(12,8))\n",
    "sns.barplot(['Negative','Neutral','Positive'],[(google_neg / google_total),(google_neu / google_total),(google_pos / google_total)], palette='bright')\n",
    "plt.title('Sentiment Analysis of Google Home Posts',fontsize=16);\n",
    "plt.xlabel('Compound Score')\n",
    "plt.ylabel('Percentage (%)')\n",
    "plt.savefig('./imgs/google_sentiment_compound.jpeg',bbox_inches='tight');"
   ]
  },
  {
   "cell_type": "code",
   "execution_count": 52,
   "metadata": {},
   "outputs": [
    {
     "name": "stdout",
     "output_type": "stream",
     "text": [
      "Percent Negative: 0.25752855659397716\n",
      "Percent Neutral: 0.14953271028037382\n",
      "Percent Positive: 0.592938733125649\n"
     ]
    }
   ],
   "source": [
    "print(f'Percent Negative: {google_neg / google_total}')\n",
    "print(f'Percent Neutral: {google_neu / google_total}')\n",
    "print(f'Percent Positive: {google_pos / google_total}')"
   ]
  },
  {
   "cell_type": "markdown",
   "metadata": {},
   "source": [
    "## Sentiment Analysis - Comments"
   ]
  },
  {
   "cell_type": "markdown",
   "metadata": {},
   "source": [
    "### Concat Comments Dataframes"
   ]
  },
  {
   "cell_type": "code",
   "execution_count": 53,
   "metadata": {},
   "outputs": [
    {
     "data": {
      "text/html": [
       "<div>\n",
       "<style scoped>\n",
       "    .dataframe tbody tr th:only-of-type {\n",
       "        vertical-align: middle;\n",
       "    }\n",
       "\n",
       "    .dataframe tbody tr th {\n",
       "        vertical-align: top;\n",
       "    }\n",
       "\n",
       "    .dataframe thead th {\n",
       "        text-align: right;\n",
       "    }\n",
       "</style>\n",
       "<table border=\"1\" class=\"dataframe\">\n",
       "  <thead>\n",
       "    <tr style=\"text-align: right;\">\n",
       "      <th></th>\n",
       "      <th>comment_id</th>\n",
       "      <th>comment_parent_id</th>\n",
       "      <th>comment_body</th>\n",
       "      <th>comment_link_id</th>\n",
       "    </tr>\n",
       "  </thead>\n",
       "  <tbody>\n",
       "    <tr>\n",
       "      <th>0</th>\n",
       "      <td>g2yxgmd</td>\n",
       "      <td>t3_iha4gi</td>\n",
       "      <td>Cool! I made one to remind me to drink water every half an hour. 😎</td>\n",
       "      <td>t3_iha4gi</td>\n",
       "    </tr>\n",
       "    <tr>\n",
       "      <th>1</th>\n",
       "      <td>g2ywxv5</td>\n",
       "      <td>t3_iha4gi</td>\n",
       "      <td>i love this!</td>\n",
       "      <td>t3_iha4gi</td>\n",
       "    </tr>\n",
       "  </tbody>\n",
       "</table>\n",
       "</div>"
      ],
      "text/plain": [
       "  comment_id comment_parent_id  \\\n",
       "0    g2yxgmd         t3_iha4gi   \n",
       "1    g2ywxv5         t3_iha4gi   \n",
       "\n",
       "                                                         comment_body  \\\n",
       "0  Cool! I made one to remind me to drink water every half an hour. 😎   \n",
       "1                                                        i love this!   \n",
       "\n",
       "  comment_link_id  \n",
       "0       t3_iha4gi  \n",
       "1       t3_iha4gi  "
      ]
     },
     "execution_count": 53,
     "metadata": {},
     "output_type": "execute_result"
    }
   ],
   "source": [
    "alexa_google_comments = pd.concat([alexa_comments, google_comments])\n",
    "alexa_google_comments.head(2)"
   ]
  },
  {
   "cell_type": "markdown",
   "metadata": {},
   "source": [
    "### Merge with Posts DataFrame"
   ]
  },
  {
   "cell_type": "code",
   "execution_count": 54,
   "metadata": {},
   "outputs": [
    {
     "data": {
      "text/html": [
       "<div>\n",
       "<style scoped>\n",
       "    .dataframe tbody tr th:only-of-type {\n",
       "        vertical-align: middle;\n",
       "    }\n",
       "\n",
       "    .dataframe tbody tr th {\n",
       "        vertical-align: top;\n",
       "    }\n",
       "\n",
       "    .dataframe thead th {\n",
       "        text-align: right;\n",
       "    }\n",
       "</style>\n",
       "<table border=\"1\" class=\"dataframe\">\n",
       "  <thead>\n",
       "    <tr style=\"text-align: right;\">\n",
       "      <th></th>\n",
       "      <th>comment_id</th>\n",
       "      <th>comment_parent_id</th>\n",
       "      <th>comment_body</th>\n",
       "      <th>comment_link_id</th>\n",
       "      <th>subreddit</th>\n",
       "      <th>id</th>\n",
       "      <th>title</th>\n",
       "      <th>selftext</th>\n",
       "      <th>score</th>\n",
       "      <th>upvote_ratio</th>\n",
       "      <th>num_comments</th>\n",
       "      <th>flair</th>\n",
       "      <th>url</th>\n",
       "      <th>author</th>\n",
       "      <th>created</th>\n",
       "      <th>class</th>\n",
       "      <th>text</th>\n",
       "    </tr>\n",
       "  </thead>\n",
       "  <tbody>\n",
       "    <tr>\n",
       "      <th>0</th>\n",
       "      <td>g2yxgmd</td>\n",
       "      <td>t3_iha4gi</td>\n",
       "      <td>Cool! I made one to remind me to drink water every half an hour. 😎</td>\n",
       "      <td>t3_iha4gi</td>\n",
       "      <td>alexa</td>\n",
       "      <td>iha4gi</td>\n",
       "      <td>I made a routine where Alexa puts me in a good mood with music, good news, jokes, compliments... then tells my lazy ass to clean the house.</td>\n",
       "      <td></td>\n",
       "      <td>6</td>\n",
       "      <td>1.0</td>\n",
       "      <td>2</td>\n",
       "      <td>NaN</td>\n",
       "      <td>https://www.reddit.com/gallery/iha4gi</td>\n",
       "      <td>Tyler-Savage</td>\n",
       "      <td>2020-08-26 16:36:08</td>\n",
       "      <td>1</td>\n",
       "      <td>I made a routine where Alexa puts me in a good mood with music, good news, jokes, compliments... then tells my lazy ass to clean the house.</td>\n",
       "    </tr>\n",
       "    <tr>\n",
       "      <th>1</th>\n",
       "      <td>g2ywxv5</td>\n",
       "      <td>t3_iha4gi</td>\n",
       "      <td>i love this!</td>\n",
       "      <td>t3_iha4gi</td>\n",
       "      <td>alexa</td>\n",
       "      <td>iha4gi</td>\n",
       "      <td>I made a routine where Alexa puts me in a good mood with music, good news, jokes, compliments... then tells my lazy ass to clean the house.</td>\n",
       "      <td></td>\n",
       "      <td>6</td>\n",
       "      <td>1.0</td>\n",
       "      <td>2</td>\n",
       "      <td>NaN</td>\n",
       "      <td>https://www.reddit.com/gallery/iha4gi</td>\n",
       "      <td>Tyler-Savage</td>\n",
       "      <td>2020-08-26 16:36:08</td>\n",
       "      <td>1</td>\n",
       "      <td>I made a routine where Alexa puts me in a good mood with music, good news, jokes, compliments... then tells my lazy ass to clean the house.</td>\n",
       "    </tr>\n",
       "  </tbody>\n",
       "</table>\n",
       "</div>"
      ],
      "text/plain": [
       "  comment_id comment_parent_id  \\\n",
       "0    g2yxgmd         t3_iha4gi   \n",
       "1    g2ywxv5         t3_iha4gi   \n",
       "\n",
       "                                                         comment_body  \\\n",
       "0  Cool! I made one to remind me to drink water every half an hour. 😎   \n",
       "1                                                        i love this!   \n",
       "\n",
       "  comment_link_id subreddit      id  \\\n",
       "0       t3_iha4gi     alexa  iha4gi   \n",
       "1       t3_iha4gi     alexa  iha4gi   \n",
       "\n",
       "                                                                                                                                         title  \\\n",
       "0  I made a routine where Alexa puts me in a good mood with music, good news, jokes, compliments... then tells my lazy ass to clean the house.   \n",
       "1  I made a routine where Alexa puts me in a good mood with music, good news, jokes, compliments... then tells my lazy ass to clean the house.   \n",
       "\n",
       "  selftext  score  upvote_ratio  num_comments flair  \\\n",
       "0               6           1.0             2   NaN   \n",
       "1               6           1.0             2   NaN   \n",
       "\n",
       "                                     url        author             created  \\\n",
       "0  https://www.reddit.com/gallery/iha4gi  Tyler-Savage 2020-08-26 16:36:08   \n",
       "1  https://www.reddit.com/gallery/iha4gi  Tyler-Savage 2020-08-26 16:36:08   \n",
       "\n",
       "   class  \\\n",
       "0      1   \n",
       "1      1   \n",
       "\n",
       "                                                                                                                                           text  \n",
       "0  I made a routine where Alexa puts me in a good mood with music, good news, jokes, compliments... then tells my lazy ass to clean the house.   \n",
       "1  I made a routine where Alexa puts me in a good mood with music, good news, jokes, compliments... then tells my lazy ass to clean the house.   "
      ]
     },
     "execution_count": 54,
     "metadata": {},
     "output_type": "execute_result"
    }
   ],
   "source": [
    "alexa_google_comments_merge = pd.merge(left=alexa_google_comments, right=alexa_google, how='left',left_on='comment_link_id', right_on='comment_link_id')\n",
    "alexa_google_comments_merge.head(2)"
   ]
  },
  {
   "cell_type": "code",
   "execution_count": 55,
   "metadata": {},
   "outputs": [
    {
     "data": {
      "text/html": [
       "<div>\n",
       "<style scoped>\n",
       "    .dataframe tbody tr th:only-of-type {\n",
       "        vertical-align: middle;\n",
       "    }\n",
       "\n",
       "    .dataframe tbody tr th {\n",
       "        vertical-align: top;\n",
       "    }\n",
       "\n",
       "    .dataframe thead th {\n",
       "        text-align: right;\n",
       "    }\n",
       "</style>\n",
       "<table border=\"1\" class=\"dataframe\">\n",
       "  <thead>\n",
       "    <tr style=\"text-align: right;\">\n",
       "      <th></th>\n",
       "      <th>comment_id</th>\n",
       "    </tr>\n",
       "    <tr>\n",
       "      <th>subreddit</th>\n",
       "      <th></th>\n",
       "    </tr>\n",
       "  </thead>\n",
       "  <tbody>\n",
       "    <tr>\n",
       "      <th>alexa</th>\n",
       "      <td>4482</td>\n",
       "    </tr>\n",
       "    <tr>\n",
       "      <th>googlehome</th>\n",
       "      <td>6233</td>\n",
       "    </tr>\n",
       "  </tbody>\n",
       "</table>\n",
       "</div>"
      ],
      "text/plain": [
       "            comment_id\n",
       "subreddit             \n",
       "alexa             4482\n",
       "googlehome        6233"
      ]
     },
     "execution_count": 55,
     "metadata": {},
     "output_type": "execute_result"
    }
   ],
   "source": [
    "#Let's see the difference in comment counts\n",
    "alexa_google_comments_merge.groupby('subreddit')[['comment_id']].count()"
   ]
  },
  {
   "cell_type": "code",
   "execution_count": 56,
   "metadata": {},
   "outputs": [],
   "source": [
    "vader_com = SentimentIntensityAnalyzer()\n",
    "results_com = []\n",
    "\n",
    "for comment in alexa_google_comments_merge['comment_body']:\n",
    "    pol_score_com = vader_com.polarity_scores(comment)  #stores analysis in a list with dictionaries\n",
    "    pol_score_com['comment_body'] = comment                 #adds to the pol_score dictionary the text\n",
    "    results_com.append(pol_score_com)                #appends to the results list\n",
    "\n",
    "#Adapted from https://www.learndatasci.com/tutorials/sentiment-analysis-reddit-headlines-pythons-nltk/"
   ]
  },
  {
   "cell_type": "code",
   "execution_count": 57,
   "metadata": {},
   "outputs": [
    {
     "data": {
      "text/html": [
       "<div>\n",
       "<style scoped>\n",
       "    .dataframe tbody tr th:only-of-type {\n",
       "        vertical-align: middle;\n",
       "    }\n",
       "\n",
       "    .dataframe tbody tr th {\n",
       "        vertical-align: top;\n",
       "    }\n",
       "\n",
       "    .dataframe thead th {\n",
       "        text-align: right;\n",
       "    }\n",
       "</style>\n",
       "<table border=\"1\" class=\"dataframe\">\n",
       "  <thead>\n",
       "    <tr style=\"text-align: right;\">\n",
       "      <th></th>\n",
       "      <th>neg</th>\n",
       "      <th>neu</th>\n",
       "      <th>pos</th>\n",
       "      <th>compound</th>\n",
       "      <th>comment_body</th>\n",
       "    </tr>\n",
       "  </thead>\n",
       "  <tbody>\n",
       "    <tr>\n",
       "      <th>0</th>\n",
       "      <td>0.0</td>\n",
       "      <td>0.822</td>\n",
       "      <td>0.178</td>\n",
       "      <td>0.3802</td>\n",
       "      <td>Cool! I made one to remind me to drink water every half an hour. 😎</td>\n",
       "    </tr>\n",
       "    <tr>\n",
       "      <th>1</th>\n",
       "      <td>0.0</td>\n",
       "      <td>0.182</td>\n",
       "      <td>0.818</td>\n",
       "      <td>0.6696</td>\n",
       "      <td>i love this!</td>\n",
       "    </tr>\n",
       "  </tbody>\n",
       "</table>\n",
       "</div>"
      ],
      "text/plain": [
       "   neg    neu    pos  compound  \\\n",
       "0  0.0  0.822  0.178    0.3802   \n",
       "1  0.0  0.182  0.818    0.6696   \n",
       "\n",
       "                                                         comment_body  \n",
       "0  Cool! I made one to remind me to drink water every half an hour. 😎  \n",
       "1                                                        i love this!  "
      ]
     },
     "execution_count": 57,
     "metadata": {},
     "output_type": "execute_result"
    }
   ],
   "source": [
    "df_com = pd.DataFrame.from_records(results_com)\n",
    "df_com.head(2)"
   ]
  },
  {
   "cell_type": "code",
   "execution_count": 58,
   "metadata": {},
   "outputs": [
    {
     "data": {
      "text/html": [
       "<div>\n",
       "<style scoped>\n",
       "    .dataframe tbody tr th:only-of-type {\n",
       "        vertical-align: middle;\n",
       "    }\n",
       "\n",
       "    .dataframe tbody tr th {\n",
       "        vertical-align: top;\n",
       "    }\n",
       "\n",
       "    .dataframe thead th {\n",
       "        text-align: right;\n",
       "    }\n",
       "</style>\n",
       "<table border=\"1\" class=\"dataframe\">\n",
       "  <thead>\n",
       "    <tr style=\"text-align: right;\">\n",
       "      <th></th>\n",
       "      <th>neg</th>\n",
       "      <th>neu</th>\n",
       "      <th>pos</th>\n",
       "      <th>compound</th>\n",
       "      <th>comment_body</th>\n",
       "      <th>comment_id</th>\n",
       "      <th>comment_parent_id</th>\n",
       "      <th>comment_link_id</th>\n",
       "      <th>subreddit</th>\n",
       "      <th>id</th>\n",
       "      <th>title</th>\n",
       "      <th>selftext</th>\n",
       "      <th>score</th>\n",
       "      <th>upvote_ratio</th>\n",
       "      <th>num_comments</th>\n",
       "      <th>flair</th>\n",
       "      <th>url</th>\n",
       "      <th>author</th>\n",
       "      <th>created</th>\n",
       "      <th>class</th>\n",
       "      <th>text</th>\n",
       "    </tr>\n",
       "  </thead>\n",
       "  <tbody>\n",
       "    <tr>\n",
       "      <th>0</th>\n",
       "      <td>0.0</td>\n",
       "      <td>0.822</td>\n",
       "      <td>0.178</td>\n",
       "      <td>0.3802</td>\n",
       "      <td>Cool! I made one to remind me to drink water every half an hour. 😎</td>\n",
       "      <td>g2yxgmd</td>\n",
       "      <td>t3_iha4gi</td>\n",
       "      <td>t3_iha4gi</td>\n",
       "      <td>alexa</td>\n",
       "      <td>iha4gi</td>\n",
       "      <td>I made a routine where Alexa puts me in a good mood with music, good news, jokes, compliments... then tells my lazy ass to clean the house.</td>\n",
       "      <td></td>\n",
       "      <td>6</td>\n",
       "      <td>1.0</td>\n",
       "      <td>2</td>\n",
       "      <td>NaN</td>\n",
       "      <td>https://www.reddit.com/gallery/iha4gi</td>\n",
       "      <td>Tyler-Savage</td>\n",
       "      <td>2020-08-26 16:36:08</td>\n",
       "      <td>1</td>\n",
       "      <td>I made a routine where Alexa puts me in a good mood with music, good news, jokes, compliments... then tells my lazy ass to clean the house.</td>\n",
       "    </tr>\n",
       "  </tbody>\n",
       "</table>\n",
       "</div>"
      ],
      "text/plain": [
       "   neg    neu    pos  compound  \\\n",
       "0  0.0  0.822  0.178    0.3802   \n",
       "\n",
       "                                                         comment_body  \\\n",
       "0  Cool! I made one to remind me to drink water every half an hour. 😎   \n",
       "\n",
       "  comment_id comment_parent_id comment_link_id subreddit      id  \\\n",
       "0    g2yxgmd         t3_iha4gi       t3_iha4gi     alexa  iha4gi   \n",
       "\n",
       "                                                                                                                                         title  \\\n",
       "0  I made a routine where Alexa puts me in a good mood with music, good news, jokes, compliments... then tells my lazy ass to clean the house.   \n",
       "\n",
       "  selftext  score  upvote_ratio  num_comments flair  \\\n",
       "0               6           1.0             2   NaN   \n",
       "\n",
       "                                     url        author             created  \\\n",
       "0  https://www.reddit.com/gallery/iha4gi  Tyler-Savage 2020-08-26 16:36:08   \n",
       "\n",
       "   class  \\\n",
       "0      1   \n",
       "\n",
       "                                                                                                                                           text  \n",
       "0  I made a routine where Alexa puts me in a good mood with music, good news, jokes, compliments... then tells my lazy ass to clean the house.   "
      ]
     },
     "execution_count": 58,
     "metadata": {},
     "output_type": "execute_result"
    }
   ],
   "source": [
    "sentiment_com = pd.merge(left=df_com, right=alexa_google_comments_merge, how='left',right_on='comment_body', left_on='comment_body')\n",
    "sentiment_com.head(1)"
   ]
  },
  {
   "cell_type": "code",
   "execution_count": 59,
   "metadata": {},
   "outputs": [
    {
     "data": {
      "image/png": "[encoded data removed]",
      "text/plain": [
       "<Figure size 864x576 with 1 Axes>"
      ]
     },
     "metadata": {
      "needs_background": "light"
     },
     "output_type": "display_data"
    }
   ],
   "source": [
    "plt.figure(figsize=(12,8))\n",
    "sns.scatterplot('neg','pos', data=sentiment_com, hue='subreddit',palette='bright', alpha=0.1)\n",
    "plt.title('Sentiment Analysis of Google Home and Alexa Comments');"
   ]
  },
  {
   "cell_type": "code",
   "execution_count": 60,
   "metadata": {},
   "outputs": [
    {
     "data": {
      "image/png": "[encoded data removed]",
      "text/plain": [
       "<Figure size 432x288 with 1 Axes>"
      ]
     },
     "metadata": {
      "needs_background": "light"
     },
     "output_type": "display_data"
    }
   ],
   "source": [
    "alexa_post_sent_com = sentiment_com[sentiment_com['subreddit'] == 'alexa'][['neg','neu','pos']].mean().reset_index()\n",
    "alexa_post_sent_com.columns = ['Sentiment','Average Score']\n",
    "\n",
    "sns.barplot(alexa_post_sent_com['Sentiment'],alexa_post_sent_com['Average Score'] )\n",
    "plt.title('Sentiment Analysis of Alexa Comments');"
   ]
  },
  {
   "cell_type": "code",
   "execution_count": 61,
   "metadata": {},
   "outputs": [
    {
     "data": {
      "image/png": "[encoded data removed]",
      "text/plain": [
       "<Figure size 432x288 with 1 Axes>"
      ]
     },
     "metadata": {
      "needs_background": "light"
     },
     "output_type": "display_data"
    }
   ],
   "source": [
    "google_post_sent_com = sentiment_com[sentiment_com['subreddit'] == 'googlehome'][['neg','neu','pos']].mean().reset_index()\n",
    "google_post_sent_com.columns = ['Sentiment','Average Score']\n",
    "\n",
    "sns.barplot(google_post_sent_com['Sentiment'],google_post_sent_com['Average Score'] )\n",
    "plt.title('Sentiment Analysis of Google Home Comments');"
   ]
  },
  {
   "cell_type": "markdown",
   "metadata": {},
   "source": [
    "### Investigate Compound Score"
   ]
  },
  {
   "cell_type": "code",
   "execution_count": 62,
   "metadata": {},
   "outputs": [
    {
     "data": {
      "image/png": "[encoded data removed]",
      "text/plain": [
       "<Figure size 864x576 with 1 Axes>"
      ]
     },
     "metadata": {
      "needs_background": "light"
     },
     "output_type": "display_data"
    }
   ],
   "source": [
    "#calculate positve, negative, or neutral counts based on compound score\n",
    "alexa_neg_com = sentiment_com[(sentiment_com['compound'] < -0.05) & (sentiment_com['subreddit'] == 'alexa')]['id'].count()\n",
    "alexa_neu_com = sentiment_com[(sentiment_com['compound'] >= -0.05) & (sentiment_com['compound'] <= 0.05) &(sentiment_com['subreddit'] == 'alexa')]['id'].count()\n",
    "alexa_pos_com = sentiment_com[(sentiment_com['compound'] > 0.05) &(sentiment_com['subreddit'] == 'alexa')]['id'].count()\n",
    "alexa_total_com = sentiment_com[sentiment_com['subreddit'] == 'alexa']['id'].count()\n",
    "\n",
    "\n",
    "\n",
    "plt.figure(figsize=(12,8))\n",
    "sns.barplot(['Negative','Neutral','Positive'],[(alexa_neg_com / alexa_total_com),(alexa_neu_com / alexa_total_com),(alexa_pos_com / alexa_total_com)], palette='bright')\n",
    "plt.title('Sentiment Analysis of Alexa Comments',fontsize=16);\n",
    "plt.xlabel('Compound Score')\n",
    "plt.ylabel('Percentage (%)')\n",
    "plt.savefig('./imgs/alexa_sentiment_com_compound.jpeg',bbox_inches='tight');"
   ]
  },
  {
   "cell_type": "code",
   "execution_count": 63,
   "metadata": {},
   "outputs": [
    {
     "name": "stdout",
     "output_type": "stream",
     "text": [
      "Percent Negative: 0.1508745247148289\n",
      "Percent Neutral: 0.45840304182509506\n",
      "Percent Positive: 0.39072243346007607\n"
     ]
    }
   ],
   "source": [
    "print(f'Percent Negative: {alexa_neg_com / alexa_total_com}')\n",
    "print(f'Percent Neutral: {alexa_neu_com / alexa_total_com}')\n",
    "print(f'Percent Positive: {alexa_pos_com / alexa_total_com}')"
   ]
  },
  {
   "cell_type": "code",
   "execution_count": 64,
   "metadata": {},
   "outputs": [
    {
     "data": {
      "image/png": "[encoded data removed]",
      "text/plain": [
       "<Figure size 864x576 with 1 Axes>"
      ]
     },
     "metadata": {
      "needs_background": "light"
     },
     "output_type": "display_data"
    }
   ],
   "source": [
    "#calculate positve, negative, or neutral counts based on compound score\n",
    "google_neg_com = sentiment_com[(sentiment_com['compound'] < -0.05) & (sentiment_com['subreddit'] == 'googlehome')]['id'].count()\n",
    "google_neu_com = sentiment_com[(sentiment_com['compound'] >= -0.05) & (sentiment_com['compound'] <= 0.05) &(sentiment_com['subreddit'] == 'googlehome')]['id'].count()\n",
    "google_pos_com = sentiment_com[(sentiment_com['compound'] > 0.05) &(sentiment_com['subreddit'] == 'googlehome')]['id'].count()\n",
    "google_total_com = sentiment_com[sentiment_com['subreddit'] == 'googlehome']['id'].count()\n",
    "\n",
    "\n",
    "\n",
    "plt.figure(figsize=(12,8))\n",
    "sns.barplot(['Negative','Neutral','Positive'],[(google_neg_com / google_total_com),(google_neu_com / google_total_com),(google_pos_com / google_total_com)], palette='bright')\n",
    "plt.title('Sentiment Analysis of Google Home Comments',fontsize=16);\n",
    "plt.xlabel('Compound Score')\n",
    "plt.ylabel('Percentage (%)')\n",
    "plt.savefig('./imgs/google_sentiment_com_compound.jpeg',bbox_inches='tight');"
   ]
  },
  {
   "cell_type": "code",
   "execution_count": 65,
   "metadata": {},
   "outputs": [
    {
     "name": "stdout",
     "output_type": "stream",
     "text": [
      "Percent Negative: 0.1689376443418014\n",
      "Percent Neutral: 0.448729792147806\n",
      "Percent Positive: 0.38233256351039263\n"
     ]
    }
   ],
   "source": [
    "print(f'Percent Negative: {google_neg_com / google_total_com}')\n",
    "print(f'Percent Neutral: {google_neu_com / google_total_com}')\n",
    "print(f'Percent Positive: {google_pos_com / google_total_com}')"
   ]
  },
  {
   "cell_type": "markdown",
   "metadata": {},
   "source": [
    "## Exploring Company Comparisons"
   ]
  },
  {
   "cell_type": "markdown",
   "metadata": {},
   "source": [
    "Let's look at posts that both have the word `Alexa` and `Google`"
   ]
  },
  {
   "cell_type": "code",
   "execution_count": 66,
   "metadata": {},
   "outputs": [
    {
     "data": {
      "text/html": [
       "<div>\n",
       "<style scoped>\n",
       "    .dataframe tbody tr th:only-of-type {\n",
       "        vertical-align: middle;\n",
       "    }\n",
       "\n",
       "    .dataframe tbody tr th {\n",
       "        vertical-align: top;\n",
       "    }\n",
       "\n",
       "    .dataframe thead th {\n",
       "        text-align: right;\n",
       "    }\n",
       "</style>\n",
       "<table border=\"1\" class=\"dataframe\">\n",
       "  <thead>\n",
       "    <tr style=\"text-align: right;\">\n",
       "      <th></th>\n",
       "      <th>neg</th>\n",
       "      <th>neu</th>\n",
       "      <th>pos</th>\n",
       "      <th>compound</th>\n",
       "      <th>text</th>\n",
       "      <th>subreddit</th>\n",
       "      <th>id</th>\n",
       "      <th>comment_link_id</th>\n",
       "      <th>title</th>\n",
       "      <th>selftext</th>\n",
       "      <th>score</th>\n",
       "      <th>upvote_ratio</th>\n",
       "      <th>num_comments</th>\n",
       "      <th>flair</th>\n",
       "      <th>url</th>\n",
       "      <th>author</th>\n",
       "      <th>created</th>\n",
       "      <th>class</th>\n",
       "    </tr>\n",
       "  </thead>\n",
       "  <tbody>\n",
       "    <tr>\n",
       "      <th>1005</th>\n",
       "      <td>0.000</td>\n",
       "      <td>1.000</td>\n",
       "      <td>0.000</td>\n",
       "      <td>0.0000</td>\n",
       "      <td>Can i use alexa for google meet?</td>\n",
       "      <td>alexa</td>\n",
       "      <td>if0jzg</td>\n",
       "      <td>t3_if0jzg</td>\n",
       "      <td>Can i use alexa for google meet?</td>\n",
       "      <td></td>\n",
       "      <td>0</td>\n",
       "      <td>0.50</td>\n",
       "      <td>1</td>\n",
       "      <td>NaN</td>\n",
       "      <td>https://www.reddit.com/r/alexa/comments/if0jzg/can_i_use_alexa_for_google_meet/</td>\n",
       "      <td>Apathy220</td>\n",
       "      <td>2020-08-23 02:48:56</td>\n",
       "      <td>1</td>\n",
       "    </tr>\n",
       "    <tr>\n",
       "      <th>1089</th>\n",
       "      <td>0.065</td>\n",
       "      <td>0.878</td>\n",
       "      <td>0.057</td>\n",
       "      <td>0.0077</td>\n",
       "      <td>Eufy ecosystem Is anyone using the eufy cams (indoor/outdoor)/smart doorbell/smart lock/sensors? I'm kind of leaning towards these now since I dont like what I'm reading about the wyze products. I wanted to bite the bullet on the wyze stuff but reading to much and info overload. I wanna kind of keep them all in one ecosystem if possible. I'm the eufy sensors can be used like the wyze say to turn on the lights in the kitchen at night when someone walks in. If my nest hello would only send instant alerts to my phone along with the google hub.....aww well gonna try out alexa. Thanks for any input...</td>\n",
       "      <td>alexa</td>\n",
       "      <td>ial4qn</td>\n",
       "      <td>t3_ial4qn</td>\n",
       "      <td>Eufy ecosystem</td>\n",
       "      <td>Is anyone using the eufy cams (indoor/outdoor)/smart doorbell/smart lock/sensors? I'm kind of leaning towards these now since I dont like what I'm reading about the wyze products. I wanted to bite the bullet on the wyze stuff but reading to much and info overload. I wanna kind of keep them all in one ecosystem if possible. I'm the eufy sensors can be used like the wyze say to turn on the lights in the kitchen at night when someone walks in. If my nest hello would only send instant alerts to my phone along with the google hub.....aww well gonna try out alexa. Thanks for any input...</td>\n",
       "      <td>0</td>\n",
       "      <td>0.50</td>\n",
       "      <td>0</td>\n",
       "      <td>NaN</td>\n",
       "      <td>https://www.reddit.com/r/alexa/comments/ial4qn/eufy_ecosystem/</td>\n",
       "      <td>murrshot</td>\n",
       "      <td>2020-08-15 20:05:48</td>\n",
       "      <td>1</td>\n",
       "    </tr>\n",
       "    <tr>\n",
       "      <th>1406</th>\n",
       "      <td>0.000</td>\n",
       "      <td>0.945</td>\n",
       "      <td>0.055</td>\n",
       "      <td>0.4836</td>\n",
       "      <td>Alexa regarding PC, Custom? Anyway? From google Ive saw Alexa cannot operate or open stuff on your pc i.e \"Alexa, Open (game name)\" Is there anyway to make this possible? Ive made my lights and such smart, I would like to see if I can use alexa to operate or launch things on my PC  I would use 'connect' but I cant seem to find the download for it and dont know if it works for games.</td>\n",
       "      <td>alexa</td>\n",
       "      <td>hso36p</td>\n",
       "      <td>t3_hso36p</td>\n",
       "      <td>Alexa regarding PC, Custom? Anyway?</td>\n",
       "      <td>From google Ive saw Alexa cannot operate or open stuff on your pc i.e \"Alexa, Open (game name)\" Is there anyway to make this possible? Ive made my lights and such smart, I would like to see if I can use alexa to operate or launch things on my PC  I would use 'connect' but I cant seem to find the download for it and dont know if it works for games.</td>\n",
       "      <td>0</td>\n",
       "      <td>0.33</td>\n",
       "      <td>2</td>\n",
       "      <td>NaN</td>\n",
       "      <td>https://www.reddit.com/r/alexa/comments/hso36p/alexa_regarding_pc_custom_anyway/</td>\n",
       "      <td>Pumpedhero</td>\n",
       "      <td>2020-07-16 20:03:20</td>\n",
       "      <td>1</td>\n",
       "    </tr>\n",
       "    <tr>\n",
       "      <th>1429</th>\n",
       "      <td>0.175</td>\n",
       "      <td>0.674</td>\n",
       "      <td>0.151</td>\n",
       "      <td>-0.1179</td>\n",
       "      <td>Does IP Isolation affect alexa devices? On a public internet and have been trying to setup a google home mini with no success and im pretty sure its to do with IP isolation, does alexa devices need ip isolation turned off to be able to connect it and use it?</td>\n",
       "      <td>alexa</td>\n",
       "      <td>hr7om1</td>\n",
       "      <td>t3_hr7om1</td>\n",
       "      <td>Does IP Isolation affect alexa devices?</td>\n",
       "      <td>On a public internet and have been trying to setup a google home mini with no success and im pretty sure its to do with IP isolation, does alexa devices need ip isolation turned off to be able to connect it and use it?</td>\n",
       "      <td>1</td>\n",
       "      <td>0.57</td>\n",
       "      <td>1</td>\n",
       "      <td>NaN</td>\n",
       "      <td>https://www.reddit.com/r/alexa/comments/hr7om1/does_ip_isolation_affect_alexa_devices/</td>\n",
       "      <td>ZurvivorLDG</td>\n",
       "      <td>2020-07-14 12:05:55</td>\n",
       "      <td>1</td>\n",
       "    </tr>\n",
       "    <tr>\n",
       "      <th>1727</th>\n",
       "      <td>0.036</td>\n",
       "      <td>0.927</td>\n",
       "      <td>0.037</td>\n",
       "      <td>-0.4345</td>\n",
       "      <td>Custom voice commands in routines Ok so i have a google home mini in my bedroom and i just got my alexa today and put it by my PC. been playing around with it and i can't find out how to replicate an action in my routine that is on my mini on the alexa ( would like to have the same routine on both so when im downstairs i can say the bedtime routine and my lights/tv will be on when i get upstairs). I have a roku tv and i have it set up on the mini so when i say \"ok google bedtime\" it will turn on my lamp+tv and after that i have a command in there saying \"launch xfinity app\" and that is the last step in the routine, but i can't seem to find out how to do that in the alexa app, yet if i say launch xfinity app to alexa it knows the tv and it launches no problem. I just need it to be added to the end of the routine as if i was saying it.</td>\n",
       "      <td>alexa</td>\n",
       "      <td>h9xkjy</td>\n",
       "      <td>t3_h9xkjy</td>\n",
       "      <td>Custom voice commands in routines</td>\n",
       "      <td>Ok so i have a google home mini in my bedroom and i just got my alexa today and put it by my PC. been playing around with it and i can't find out how to replicate an action in my routine that is on my mini on the alexa ( would like to have the same routine on both so when im downstairs i can say the bedtime routine and my lights/tv will be on when i get upstairs). I have a roku tv and i have it set up on the mini so when i say \"ok google bedtime\" it will turn on my lamp+tv and after that i have a command in there saying \"launch xfinity app\" and that is the last step in the routine, but i can't seem to find out how to do that in the alexa app, yet if i say launch xfinity app to alexa it knows the tv and it launches no problem. I just need it to be added to the end of the routine as if i was saying it.</td>\n",
       "      <td>1</td>\n",
       "      <td>0.66</td>\n",
       "      <td>3</td>\n",
       "      <td>NaN</td>\n",
       "      <td>https://www.reddit.com/r/alexa/comments/h9xkjy/custom_voice_commands_in_routines/</td>\n",
       "      <td>Remotag</td>\n",
       "      <td>2020-06-15 22:36:56</td>\n",
       "      <td>1</td>\n",
       "    </tr>\n",
       "    <tr>\n",
       "      <th>1828</th>\n",
       "      <td>0.000</td>\n",
       "      <td>0.892</td>\n",
       "      <td>0.108</td>\n",
       "      <td>0.8623</td>\n",
       "      <td>Can I connect Alexa to Google Calendar's reminders? Hey,\\n\\nso I received a new Echo Dot yesterday, and I was trying to connect it to my primary calendar, which is Google Calendar.\\n\\nI was able to connect it, but so far I am aonly able to have my appointments read out and created.\\n\\nHowever, I'd really like to also have reminders, which I primarily use in google calendar. So far whenever I create a reminder, it ends up in the alexa reminders. Also, it won't read out any.\\n\\nIs this possible?</td>\n",
       "      <td>alexa</td>\n",
       "      <td>gy95o1</td>\n",
       "      <td>t3_gy95o1</td>\n",
       "      <td>Can I connect Alexa to Google Calendar's reminders?</td>\n",
       "      <td>Hey,\\n\\nso I received a new Echo Dot yesterday, and I was trying to connect it to my primary calendar, which is Google Calendar.\\n\\nI was able to connect it, but so far I am aonly able to have my appointments read out and created.\\n\\nHowever, I'd really like to also have reminders, which I primarily use in google calendar. So far whenever I create a reminder, it ends up in the alexa reminders. Also, it won't read out any.\\n\\nIs this possible?</td>\n",
       "      <td>21</td>\n",
       "      <td>0.87</td>\n",
       "      <td>3</td>\n",
       "      <td>NaN</td>\n",
       "      <td>https://www.reddit.com/r/alexa/comments/gy95o1/can_i_connect_alexa_to_google_calendars_reminders/</td>\n",
       "      <td>Sossenbinder</td>\n",
       "      <td>2020-06-07 02:27:33</td>\n",
       "      <td>1</td>\n",
       "    </tr>\n",
       "    <tr>\n",
       "      <th>1893</th>\n",
       "      <td>0.074</td>\n",
       "      <td>0.895</td>\n",
       "      <td>0.031</td>\n",
       "      <td>-0.5486</td>\n",
       "      <td>Alexa Skill Spotlight: Finding Multimedia Remember that post a few weeks ago about a skill that tells you where movies and shows are streaming?\\n\\n[https://www.reddit.com/r/alexa/comments/giyc1s/i\\_made\\_this\\_alexa\\_and\\_googlehome\\_voice\\_app\\_to/](https://www.reddit.com/r/alexa/comments/giyc1s/i_made_this_alexa_and_googlehome_voice_app_to/) \\n\\nTurns out, there are a handful of skills that accomplish this, but not all are great. I spent some time collecting and reviewing a few of these Alexa Skills. Let me know what you think.\\n\\n[https://www.smarthomeexplained.com/alexa-skill-spotlight-finding-multimedia/](https://www.smarthomeexplained.com/alexa-skill-spotlight-finding-multimedia/)</td>\n",
       "      <td>alexa</td>\n",
       "      <td>gvbjjv</td>\n",
       "      <td>t3_gvbjjv</td>\n",
       "      <td>Alexa Skill Spotlight: Finding Multimedia</td>\n",
       "      <td>Remember that post a few weeks ago about a skill that tells you where movies and shows are streaming?\\n\\n[https://www.reddit.com/r/alexa/comments/giyc1s/i\\_made\\_this\\_alexa\\_and\\_googlehome\\_voice\\_app\\_to/](https://www.reddit.com/r/alexa/comments/giyc1s/i_made_this_alexa_and_googlehome_voice_app_to/) \\n\\nTurns out, there are a handful of skills that accomplish this, but not all are great. I spent some time collecting and reviewing a few of these Alexa Skills. Let me know what you think.\\n\\n[https://www.smarthomeexplained.com/alexa-skill-spotlight-finding-multimedia/](https://www.smarthomeexplained.com/alexa-skill-spotlight-finding-multimedia/)</td>\n",
       "      <td>5</td>\n",
       "      <td>0.70</td>\n",
       "      <td>0</td>\n",
       "      <td>NaN</td>\n",
       "      <td>https://www.reddit.com/r/alexa/comments/gvbjjv/alexa_skill_spotlight_finding_multimedia/</td>\n",
       "      <td>Drec2</td>\n",
       "      <td>2020-06-02 10:23:42</td>\n",
       "      <td>1</td>\n",
       "    </tr>\n",
       "  </tbody>\n",
       "</table>\n",
       "</div>"
      ],
      "text/plain": [
       "        neg    neu    pos  compound  \\\n",
       "1005  0.000  1.000  0.000    0.0000   \n",
       "1089  0.065  0.878  0.057    0.0077   \n",
       "1406  0.000  0.945  0.055    0.4836   \n",
       "1429  0.175  0.674  0.151   -0.1179   \n",
       "1727  0.036  0.927  0.037   -0.4345   \n",
       "1828  0.000  0.892  0.108    0.8623   \n",
       "1893  0.074  0.895  0.031   -0.5486   \n",
       "\n",
       "                                                                                                                                                                                                                                                                                                                                                                                                                                                                                                                                                                                                                                                                                                                                                                                                                                                                               text  \\\n",
       "1005                                                                                                                                                                                                                                                                                                                                                                                                                                                                                                                                                                                                                                                                                                                                                                                                                                              Can i use alexa for google meet?    \n",
       "1089                                                                                                                                                                                                                                                    Eufy ecosystem Is anyone using the eufy cams (indoor/outdoor)/smart doorbell/smart lock/sensors? I'm kind of leaning towards these now since I dont like what I'm reading about the wyze products. I wanted to bite the bullet on the wyze stuff but reading to much and info overload. I wanna kind of keep them all in one ecosystem if possible. I'm the eufy sensors can be used like the wyze say to turn on the lights in the kitchen at night when someone walks in. If my nest hello would only send instant alerts to my phone along with the google hub.....aww well gonna try out alexa. Thanks for any input...   \n",
       "1406                                                                                                                                                                                                                                                                                                                                                                                                                                                                              Alexa regarding PC, Custom? Anyway? From google Ive saw Alexa cannot operate or open stuff on your pc i.e \"Alexa, Open (game name)\" Is there anyway to make this possible? Ive made my lights and such smart, I would like to see if I can use alexa to operate or launch things on my PC  I would use 'connect' but I cant seem to find the download for it and dont know if it works for games.   \n",
       "1429                                                                                                                                                                                                                                                                                                                                                                                                                                                                                                                                                                                                             Does IP Isolation affect alexa devices? On a public internet and have been trying to setup a google home mini with no success and im pretty sure its to do with IP isolation, does alexa devices need ip isolation turned off to be able to connect it and use it?   \n",
       "1727  Custom voice commands in routines Ok so i have a google home mini in my bedroom and i just got my alexa today and put it by my PC. been playing around with it and i can't find out how to replicate an action in my routine that is on my mini on the alexa ( would like to have the same routine on both so when im downstairs i can say the bedtime routine and my lights/tv will be on when i get upstairs). I have a roku tv and i have it set up on the mini so when i say \"ok google bedtime\" it will turn on my lamp+tv and after that i have a command in there saying \"launch xfinity app\" and that is the last step in the routine, but i can't seem to find out how to do that in the alexa app, yet if i say launch xfinity app to alexa it knows the tv and it launches no problem. I just need it to be added to the end of the routine as if i was saying it.   \n",
       "1828                                                                                                                                                                                                                                                                                                                                                             Can I connect Alexa to Google Calendar's reminders? Hey,\\n\\nso I received a new Echo Dot yesterday, and I was trying to connect it to my primary calendar, which is Google Calendar.\\n\\nI was able to connect it, but so far I am aonly able to have my appointments read out and created.\\n\\nHowever, I'd really like to also have reminders, which I primarily use in google calendar. So far whenever I create a reminder, it ends up in the alexa reminders. Also, it won't read out any.\\n\\nIs this possible?   \n",
       "1893                                                                                                                                                        Alexa Skill Spotlight: Finding Multimedia Remember that post a few weeks ago about a skill that tells you where movies and shows are streaming?\\n\\n[https://www.reddit.com/r/alexa/comments/giyc1s/i\\_made\\_this\\_alexa\\_and\\_googlehome\\_voice\\_app\\_to/](https://www.reddit.com/r/alexa/comments/giyc1s/i_made_this_alexa_and_googlehome_voice_app_to/) \\n\\nTurns out, there are a handful of skills that accomplish this, but not all are great. I spent some time collecting and reviewing a few of these Alexa Skills. Let me know what you think.\\n\\n[https://www.smarthomeexplained.com/alexa-skill-spotlight-finding-multimedia/](https://www.smarthomeexplained.com/alexa-skill-spotlight-finding-multimedia/)   \n",
       "\n",
       "     subreddit      id comment_link_id  \\\n",
       "1005     alexa  if0jzg       t3_if0jzg   \n",
       "1089     alexa  ial4qn       t3_ial4qn   \n",
       "1406     alexa  hso36p       t3_hso36p   \n",
       "1429     alexa  hr7om1       t3_hr7om1   \n",
       "1727     alexa  h9xkjy       t3_h9xkjy   \n",
       "1828     alexa  gy95o1       t3_gy95o1   \n",
       "1893     alexa  gvbjjv       t3_gvbjjv   \n",
       "\n",
       "                                                    title  \\\n",
       "1005                     Can i use alexa for google meet?   \n",
       "1089                                       Eufy ecosystem   \n",
       "1406                  Alexa regarding PC, Custom? Anyway?   \n",
       "1429              Does IP Isolation affect alexa devices?   \n",
       "1727                    Custom voice commands in routines   \n",
       "1828  Can I connect Alexa to Google Calendar's reminders?   \n",
       "1893            Alexa Skill Spotlight: Finding Multimedia   \n",
       "\n",
       "                                                                                                                                                                                                                                                                                                                                                                                                                                                                                                                                                                                                                                                                                                                                                                                                                                         selftext  \\\n",
       "1005                                                                                                                                                                                                                                                                                                                                                                                                                                                                                                                                                                                                                                                                                                                                                                                                                                                \n",
       "1089                                                                                                                                                                                                                                 Is anyone using the eufy cams (indoor/outdoor)/smart doorbell/smart lock/sensors? I'm kind of leaning towards these now since I dont like what I'm reading about the wyze products. I wanted to bite the bullet on the wyze stuff but reading to much and info overload. I wanna kind of keep them all in one ecosystem if possible. I'm the eufy sensors can be used like the wyze say to turn on the lights in the kitchen at night when someone walks in. If my nest hello would only send instant alerts to my phone along with the google hub.....aww well gonna try out alexa. Thanks for any input...   \n",
       "1406                                                                                                                                                                                                                                                                                                                                                                                                                                                                                From google Ive saw Alexa cannot operate or open stuff on your pc i.e \"Alexa, Open (game name)\" Is there anyway to make this possible? Ive made my lights and such smart, I would like to see if I can use alexa to operate or launch things on my PC  I would use 'connect' but I cant seem to find the download for it and dont know if it works for games.   \n",
       "1429                                                                                                                                                                                                                                                                                                                                                                                                                                                                                                                                                                                                                   On a public internet and have been trying to setup a google home mini with no success and im pretty sure its to do with IP isolation, does alexa devices need ip isolation turned off to be able to connect it and use it?   \n",
       "1727  Ok so i have a google home mini in my bedroom and i just got my alexa today and put it by my PC. been playing around with it and i can't find out how to replicate an action in my routine that is on my mini on the alexa ( would like to have the same routine on both so when im downstairs i can say the bedtime routine and my lights/tv will be on when i get upstairs). I have a roku tv and i have it set up on the mini so when i say \"ok google bedtime\" it will turn on my lamp+tv and after that i have a command in there saying \"launch xfinity app\" and that is the last step in the routine, but i can't seem to find out how to do that in the alexa app, yet if i say launch xfinity app to alexa it knows the tv and it launches no problem. I just need it to be added to the end of the routine as if i was saying it.   \n",
       "1828                                                                                                                                                                                                                                                                                                                                                                               Hey,\\n\\nso I received a new Echo Dot yesterday, and I was trying to connect it to my primary calendar, which is Google Calendar.\\n\\nI was able to connect it, but so far I am aonly able to have my appointments read out and created.\\n\\nHowever, I'd really like to also have reminders, which I primarily use in google calendar. So far whenever I create a reminder, it ends up in the alexa reminders. Also, it won't read out any.\\n\\nIs this possible?   \n",
       "1893                                                                                                                                                                Remember that post a few weeks ago about a skill that tells you where movies and shows are streaming?\\n\\n[https://www.reddit.com/r/alexa/comments/giyc1s/i\\_made\\_this\\_alexa\\_and\\_googlehome\\_voice\\_app\\_to/](https://www.reddit.com/r/alexa/comments/giyc1s/i_made_this_alexa_and_googlehome_voice_app_to/) \\n\\nTurns out, there are a handful of skills that accomplish this, but not all are great. I spent some time collecting and reviewing a few of these Alexa Skills. Let me know what you think.\\n\\n[https://www.smarthomeexplained.com/alexa-skill-spotlight-finding-multimedia/](https://www.smarthomeexplained.com/alexa-skill-spotlight-finding-multimedia/)   \n",
       "\n",
       "      score  upvote_ratio  num_comments flair  \\\n",
       "1005      0          0.50             1   NaN   \n",
       "1089      0          0.50             0   NaN   \n",
       "1406      0          0.33             2   NaN   \n",
       "1429      1          0.57             1   NaN   \n",
       "1727      1          0.66             3   NaN   \n",
       "1828     21          0.87             3   NaN   \n",
       "1893      5          0.70             0   NaN   \n",
       "\n",
       "                                                                                                    url  \\\n",
       "1005                    https://www.reddit.com/r/alexa/comments/if0jzg/can_i_use_alexa_for_google_meet/   \n",
       "1089                                     https://www.reddit.com/r/alexa/comments/ial4qn/eufy_ecosystem/   \n",
       "1406                   https://www.reddit.com/r/alexa/comments/hso36p/alexa_regarding_pc_custom_anyway/   \n",
       "1429             https://www.reddit.com/r/alexa/comments/hr7om1/does_ip_isolation_affect_alexa_devices/   \n",
       "1727                  https://www.reddit.com/r/alexa/comments/h9xkjy/custom_voice_commands_in_routines/   \n",
       "1828  https://www.reddit.com/r/alexa/comments/gy95o1/can_i_connect_alexa_to_google_calendars_reminders/   \n",
       "1893           https://www.reddit.com/r/alexa/comments/gvbjjv/alexa_skill_spotlight_finding_multimedia/   \n",
       "\n",
       "            author             created  class  \n",
       "1005     Apathy220 2020-08-23 02:48:56      1  \n",
       "1089      murrshot 2020-08-15 20:05:48      1  \n",
       "1406    Pumpedhero 2020-07-16 20:03:20      1  \n",
       "1429   ZurvivorLDG 2020-07-14 12:05:55      1  \n",
       "1727       Remotag 2020-06-15 22:36:56      1  \n",
       "1828  Sossenbinder 2020-06-07 02:27:33      1  \n",
       "1893         Drec2 2020-06-02 10:23:42      1  "
      ]
     },
     "execution_count": 66,
     "metadata": {},
     "output_type": "execute_result"
    }
   ],
   "source": [
    "sentiment[sentiment['text'].str.contains('alexa.*google|google.*alexa', regex=True)] #count of 7\n",
    "\n",
    "#credit: https://stackoverflow.com/questions/4389644/regex-to-match-string-containing-two-names-in-any-order"
   ]
  },
  {
   "cell_type": "markdown",
   "metadata": {},
   "source": [
    "### Comments with both `alexa` and `google` in the text"
   ]
  },
  {
   "cell_type": "code",
   "execution_count": 67,
   "metadata": {},
   "outputs": [
    {
     "data": {
      "text/html": [
       "<div>\n",
       "<style scoped>\n",
       "    .dataframe tbody tr th:only-of-type {\n",
       "        vertical-align: middle;\n",
       "    }\n",
       "\n",
       "    .dataframe tbody tr th {\n",
       "        vertical-align: top;\n",
       "    }\n",
       "\n",
       "    .dataframe thead th {\n",
       "        text-align: right;\n",
       "    }\n",
       "</style>\n",
       "<table border=\"1\" class=\"dataframe\">\n",
       "  <thead>\n",
       "    <tr style=\"text-align: right;\">\n",
       "      <th></th>\n",
       "      <th>neg</th>\n",
       "      <th>neu</th>\n",
       "      <th>pos</th>\n",
       "      <th>compound</th>\n",
       "      <th>comment_body</th>\n",
       "      <th>comment_id</th>\n",
       "      <th>comment_parent_id</th>\n",
       "      <th>comment_link_id</th>\n",
       "      <th>subreddit</th>\n",
       "      <th>id</th>\n",
       "      <th>title</th>\n",
       "      <th>selftext</th>\n",
       "      <th>score</th>\n",
       "      <th>upvote_ratio</th>\n",
       "      <th>num_comments</th>\n",
       "      <th>flair</th>\n",
       "      <th>url</th>\n",
       "      <th>author</th>\n",
       "      <th>created</th>\n",
       "      <th>class</th>\n",
       "      <th>text</th>\n",
       "    </tr>\n",
       "  </thead>\n",
       "  <tbody>\n",
       "    <tr>\n",
       "      <th>267</th>\n",
       "      <td>0.054</td>\n",
       "      <td>0.770</td>\n",
       "      <td>0.176</td>\n",
       "      <td>0.8290</td>\n",
       "      <td>first thing i recommend to friends about alexa, is don't use it for music, unless your happy with poor audio quality and lots of voice input to make it seem like it works... best is to set up spotify with much better quality speakers in your home, and use the spotify app across all devices. alexa however is still the best for its custom routines, smart home devices and some skills compared to google, but both imo are simply not good enough for music playback...</td>\n",
       "      <td>g2ef3ii</td>\n",
       "      <td>t3_ie5i24</td>\n",
       "      <td>t3_ie5i24</td>\n",
       "      <td>alexa</td>\n",
       "      <td>ie5i24</td>\n",
       "      <td>Years later, Alexa is still piss poor. Why?</td>\n",
       "      <td>Here we are years later yet Prime Music with Alexa is still so bad that it makes paying for Music Unlimited a mistake.  \\n\\nHere I am sitting in my house on wifi, playing music from Prime on my iPhone to my Lounge group of Dots.   It will play for a couple minutes, break up, then die.  \\n\\nWhen I ask Alexa to continue playing the same album I’m told that it’s only available via Music Unlimited.  A moment ago I was playing this via my bog standard prime music.   This is not uncommon.  \\n\\nThen about a minute later it starts playing again.   \\n\\nWho is actually relying on this shitshow to play music?  It’s really weak ass.  God.   Is there a drive at Amazon to make us all buy vinyl again? Probably.</td>\n",
       "      <td>6</td>\n",
       "      <td>0.80</td>\n",
       "      <td>5</td>\n",
       "      <td>NaN</td>\n",
       "      <td>https://www.reddit.com/r/alexa/comments/ie5i24/years_later_alexa_is_still_piss_poor_why/</td>\n",
       "      <td>happyfeet2039</td>\n",
       "      <td>2020-08-21 14:15:29</td>\n",
       "      <td>1</td>\n",
       "      <td>Years later, Alexa is still piss poor. Why? Here we are years later yet Prime Music with Alexa is still so bad that it makes paying for Music Unlimited a mistake.  \\n\\nHere I am sitting in my house on wifi, playing music from Prime on my iPhone to my Lounge group of Dots.   It will play for a couple minutes, break up, then die.  \\n\\nWhen I ask Alexa to continue playing the same album I’m told that it’s only available via Music Unlimited.  A moment ago I was playing this via my bog standard prime music.   This is not uncommon.  \\n\\nThen about a minute later it starts playing again.   \\n\\nWho is actually relying on this shitshow to play music?  It’s really weak ass.  God.   Is there a drive at Amazon to make us all buy vinyl again? Probably.</td>\n",
       "    </tr>\n",
       "    <tr>\n",
       "      <th>568</th>\n",
       "      <td>0.075</td>\n",
       "      <td>0.868</td>\n",
       "      <td>0.057</td>\n",
       "      <td>-0.2247</td>\n",
       "      <td>That's so bad photoshop, just look at the bezels.\\n\\nJust get a cheap tablet you can get alexa and google assistant on it, use widgets, automate it with tasker and pincode? Has bluetooth you can build it on a stand or make your own stand with better speaker.</td>\n",
       "      <td>g1leirc</td>\n",
       "      <td>t3_i9ulz8</td>\n",
       "      <td>t3_i9ulz8</td>\n",
       "      <td>alexa</td>\n",
       "      <td>i9ulz8</td>\n",
       "      <td>On my echo show is there anyway to permanently show my google calendar?</td>\n",
       "      <td></td>\n",
       "      <td>26</td>\n",
       "      <td>0.84</td>\n",
       "      <td>24</td>\n",
       "      <td>NaN</td>\n",
       "      <td>https://i.redd.it/m12di373c1h51.jpg</td>\n",
       "      <td>GenericUser104</td>\n",
       "      <td>2020-08-14 14:21:52</td>\n",
       "      <td>1</td>\n",
       "      <td>On my echo show is there anyway to permanently show my google calendar?</td>\n",
       "    </tr>\n",
       "    <tr>\n",
       "      <th>731</th>\n",
       "      <td>0.035</td>\n",
       "      <td>0.751</td>\n",
       "      <td>0.214</td>\n",
       "      <td>0.8313</td>\n",
       "      <td>Yeah it’s confusing because the tv supports BEING the alexa/google device and also being CONTROLLED BY the Alexa/google device. Glad it’s working for you now. Next step is getting used to the terminology you have to use to have Alexa play what you want on the TV!</td>\n",
       "      <td>g1msaxv</td>\n",
       "      <td>t1_g1mrr8f</td>\n",
       "      <td>t3_i8kce5</td>\n",
       "      <td>alexa</td>\n",
       "      <td>i8kce5</td>\n",
       "      <td>LG TV issues</td>\n",
       "      <td>I'm trying to setup my new TV (LG 75SM8670AUA  [https://www.lg.com/us/tvs/lg-75SM8670AUA-4k-uhd-tv](https://www.lg.com/us/tvs/lg-75SM8670AUA-4k-uhd-tv) with WebOS 4.6) to connect to my Alexa devices, I have 3 echo dot's through the house.\\n\\nI am able to launch the Alexa app on the TV and log in just fine.  I've also created and logged into LG ThinQ app and can control the TV when it is powered on through the app.\\n\\nHowever, I am unable to control the TV through Alexa despite the advertising of this TV as Alexa compatible and not sure what the problem is.\\n\\nAfter logging into Alexa through the app on TV, the TV is added to my account and is shown in my list of devices as 'XXXX's webOS TV' (per attached picture) in the Alexa app on my iPhone.  However, I am unable to control the TV through my echo dot even though the device is listed.  Alexa tells me she can't find \"TV\", \"webOS TV\", \"XXXX's webOS TV\", \"LG TV\", etc.  In the TV's Alexa app, when I try to \"Add you Alexa device\" it says it's unable to find any other Alexa devices.  Everything is on the same WIFI network also.\\n\\nI then tried adding the LG ThinQ basic skill, and after logging into my LG account, the skill says my account is linked but when it searches for devices, my TV is not showing up to add.  I suspect this is because it was already added through the Alexa app on the TV?\\n\\nHas anyone else encountered this issue and know of a reliable solution?  I've tried de-registering the TV and just adding the skill, not logging into the TV's Alexa app and no luck as well.\\n\\nhttps://preview.redd.it/xlebxvcyhmg51.jpg?width=1125&amp;format=pjpg&amp;auto=webp&amp;s=0dad484e51e17eb99c7b847dcc5ab26507df4894</td>\n",
       "      <td>9</td>\n",
       "      <td>0.81</td>\n",
       "      <td>12</td>\n",
       "      <td>NaN</td>\n",
       "      <td>https://www.reddit.com/r/alexa/comments/i8kce5/lg_tv_issues/</td>\n",
       "      <td>Azf1fan</td>\n",
       "      <td>2020-08-12 12:27:32</td>\n",
       "      <td>1</td>\n",
       "      <td>LG TV issues I'm trying to setup my new TV (LG 75SM8670AUA  [https://www.lg.com/us/tvs/lg-75SM8670AUA-4k-uhd-tv](https://www.lg.com/us/tvs/lg-75SM8670AUA-4k-uhd-tv) with WebOS 4.6) to connect to my Alexa devices, I have 3 echo dot's through the house.\\n\\nI am able to launch the Alexa app on the TV and log in just fine.  I've also created and logged into LG ThinQ app and can control the TV when it is powered on through the app.\\n\\nHowever, I am unable to control the TV through Alexa despite the advertising of this TV as Alexa compatible and not sure what the problem is.\\n\\nAfter logging into Alexa through the app on TV, the TV is added to my account and is shown in my list of devices as 'XXXX's webOS TV' (per attached picture) in the Alexa app on my iPhone.  However, I am unable to control the TV through my echo dot even though the device is listed.  Alexa tells me she can't find \"TV\", \"webOS TV\", \"XXXX's webOS TV\", \"LG TV\", etc.  In the TV's Alexa app, when I try to \"Add you Alexa device\" it says it's unable to find any other Alexa devices.  Everything is on the same WIFI network also.\\n\\nI then tried adding the LG ThinQ basic skill, and after logging into my LG account, the skill says my account is linked but when it searches for devices, my TV is not showing up to add.  I suspect this is because it was already added through the Alexa app on the TV?\\n\\nHas anyone else encountered this issue and know of a reliable solution?  I've tried de-registering the TV and just adding the skill, not logging into the TV's Alexa app and no luck as well.\\n\\nhttps://preview.redd.it/xlebxvcyhmg51.jpg?width=1125&amp;format=pjpg&amp;auto=webp&amp;s=0dad484e51e17eb99c7b847dcc5ab26507df4894</td>\n",
       "    </tr>\n",
       "    <tr>\n",
       "      <th>2713</th>\n",
       "      <td>0.000</td>\n",
       "      <td>0.875</td>\n",
       "      <td>0.125</td>\n",
       "      <td>0.7650</td>\n",
       "      <td>It looks like a 2.1 setup with echo will only work with FireTV. I don’t know if it’s going to work plugged in through 3.5mm. \\n\\n\\nhttps://www.google.com/amp/s/www.pocket-lint.com/smart-home/news/amazon/150044-how-to-create-an-alexa-home-theatre-system-with-your-echo-and-fire-tv-devices.amphtml\\n\\nRegarding the microphones on Sonos One, I have one at my desk and it works great. My bathroom speaker hears me over the shower too.</td>\n",
       "      <td>fx9qm8w</td>\n",
       "      <td>t3_hn7jl8</td>\n",
       "      <td>t3_hn7jl8</td>\n",
       "      <td>alexa</td>\n",
       "      <td>hn7jl8</td>\n",
       "      <td>SONOS vs AMAZON Packages</td>\n",
       "      <td>\\n\\nHey Guys, thanks a lot to anyone that reads this and offers their opinion 😊  \\n \\n\\nI’m trying to make a decision here and I’m hoping you can help. I want a wireless setup because we like the minimal look in our living room and can’t decide between these packages from Sonos and Amazon.  \\n \\n\\nSONOS  \\n 2 x Sonos ONES  \\n 1 x Sonos Beam  \\n 1 x Sonos Sub = $1900AUD  \\n \\n\\nAMAZON  \\n 2 x Amazon Echo 3rd Gen  \\n 1 x Amazon Echo Sub. = $600AUD  \\n \\n\\nI’m aware the Sonos setup will sound better, but how much ‘better’? Is the Beam package worth the extra $1300?  \\n \\n\\nI was just going to plug the TV into the amazon echo via 3.5mm.  \\n I want to listen to music and watch HD sports/movies. I like that the Sonos can be mounted on stands. We like alexa and heard the Sonos ONES had poor microphones, however I’m really wondering does anyone have experience with the microphones on the BEAM? Are they better than the frowned upon mic’s in the ONE compared to Echo.  \\n \\n\\nI could also do a pair of Sonos 5’s for $1200 AUD or 2 x Echo Studio’s for $660.  \\n \\n\\nWhat’s the best value here? Anyone have experience with both products??  \\n \\n\\nThanks heaps for your help!!</td>\n",
       "      <td>8</td>\n",
       "      <td>0.83</td>\n",
       "      <td>19</td>\n",
       "      <td>NaN</td>\n",
       "      <td>https://www.reddit.com/r/alexa/comments/hn7jl8/sonos_vs_amazon_packages/</td>\n",
       "      <td>stirringlion</td>\n",
       "      <td>2020-07-07 18:20:02</td>\n",
       "      <td>1</td>\n",
       "      <td>SONOS vs AMAZON Packages   \\n\\nHey Guys, thanks a lot to anyone that reads this and offers their opinion 😊  \\n \\n\\nI’m trying to make a decision here and I’m hoping you can help. I want a wireless setup because we like the minimal look in our living room and can’t decide between these packages from Sonos and Amazon.  \\n \\n\\nSONOS  \\n 2 x Sonos ONES  \\n 1 x Sonos Beam  \\n 1 x Sonos Sub = $1900AUD  \\n \\n\\nAMAZON  \\n 2 x Amazon Echo 3rd Gen  \\n 1 x Amazon Echo Sub. = $600AUD  \\n \\n\\nI’m aware the Sonos setup will sound better, but how much ‘better’? Is the Beam package worth the extra $1300?  \\n \\n\\nI was just going to plug the TV into the amazon echo via 3.5mm.  \\n I want to listen to music and watch HD sports/movies. I like that the Sonos can be mounted on stands. We like alexa and heard the Sonos ONES had poor microphones, however I’m really wondering does anyone have experience with the microphones on the BEAM? Are they better than the frowned upon mic’s in the ONE compared to Echo.  \\n \\n\\nI could also do a pair of Sonos 5’s for $1200 AUD or 2 x Echo Studio’s for $660.  \\n \\n\\nWhat’s the best value here? Anyone have experience with both products??  \\n \\n\\nThanks heaps for your help!!</td>\n",
       "    </tr>\n",
       "    <tr>\n",
       "      <th>3485</th>\n",
       "      <td>0.078</td>\n",
       "      <td>0.922</td>\n",
       "      <td>0.000</td>\n",
       "      <td>-0.4380</td>\n",
       "      <td>Google home is not the holy grail but at least replies to me when i ask about random stuff, alexa keeps saying she can't help me and i can't remember the last time google home said that</td>\n",
       "      <td>fw3y7x2</td>\n",
       "      <td>t1_fw3vsld</td>\n",
       "      <td>t3_hg5j65</td>\n",
       "      <td>alexa</td>\n",
       "      <td>hg5j65</td>\n",
       "      <td>\"Alexa... nothing\" .. \"goodbye\"</td>\n",
       "      <td>Listening to radio.\\n\\nDecided to ask Alexa something\\n\\n\"Alexa...\"\\n\\nthen changed my mind and said\\n\\n\".. nothing\"\\n\\n..\\n\\nAlexa then says \"Goodbye\" and the radio mutes and turns off.  Then everytime I try to start the radio again.. it started muted then switches off again.\\n\\nWifi was OK.  Volume was OK.  Couldn't figure it out at all.\\n\\nHad to reset in the end and its fine now. Any idea what I/she'd done ???</td>\n",
       "      <td>17</td>\n",
       "      <td>0.85</td>\n",
       "      <td>4</td>\n",
       "      <td>NaN</td>\n",
       "      <td>https://www.reddit.com/r/alexa/comments/hg5j65/alexa_nothing_goodbye/</td>\n",
       "      <td>thewondermule</td>\n",
       "      <td>2020-06-26 04:10:36</td>\n",
       "      <td>1</td>\n",
       "      <td>\"Alexa... nothing\" .. \"goodbye\" Listening to radio.\\n\\nDecided to ask Alexa something\\n\\n\"Alexa...\"\\n\\nthen changed my mind and said\\n\\n\".. nothing\"\\n\\n..\\n\\nAlexa then says \"Goodbye\" and the radio mutes and turns off.  Then everytime I try to start the radio again.. it started muted then switches off again.\\n\\nWifi was OK.  Volume was OK.  Couldn't figure it out at all.\\n\\nHad to reset in the end and its fine now. Any idea what I/she'd done ???</td>\n",
       "    </tr>\n",
       "    <tr>\n",
       "      <th>3600</th>\n",
       "      <td>0.163</td>\n",
       "      <td>0.837</td>\n",
       "      <td>0.000</td>\n",
       "      <td>-0.7808</td>\n",
       "      <td>i'm annoyed that i can cast apple music to google speakers, but can't ask for music... and then i can ask alexa for apple music but can't cast to it. \\n\\nthis has been the most infuriating duality i experience daily.</td>\n",
       "      <td>fvxgwut</td>\n",
       "      <td>t1_fvx9hnj</td>\n",
       "      <td>t3_hfbcml</td>\n",
       "      <td>alexa</td>\n",
       "      <td>hfbcml</td>\n",
       "      <td>Echo Show appears in Google Chrome's Cast menu. Has anyone gotten this to work with anything? Everything I try it says \"Source not supported\"</td>\n",
       "      <td></td>\n",
       "      <td>17</td>\n",
       "      <td>0.83</td>\n",
       "      <td>5</td>\n",
       "      <td>NaN</td>\n",
       "      <td>https://i.redd.it/454xbr7ltx651.png</td>\n",
       "      <td>poolec4</td>\n",
       "      <td>2020-06-24 15:52:19</td>\n",
       "      <td>1</td>\n",
       "      <td>Echo Show appears in Google Chrome's Cast menu. Has anyone gotten this to work with anything? Everything I try it says \"Source not supported\"</td>\n",
       "    </tr>\n",
       "    <tr>\n",
       "      <th>4085</th>\n",
       "      <td>0.197</td>\n",
       "      <td>0.803</td>\n",
       "      <td>0.000</td>\n",
       "      <td>-0.7964</td>\n",
       "      <td>i switched from google home to alexa back about 6 months ago... i still use the google home app to turn lights and shit on from my phone. the alexa app is that bad.</td>\n",
       "      <td>g2o1m9l</td>\n",
       "      <td>t3_hdapdz</td>\n",
       "      <td>t3_hdapdz</td>\n",
       "      <td>alexa</td>\n",
       "      <td>hdapdz</td>\n",
       "      <td>the alexa app is crap. it's slow, laggy, fully of bugs, and just a pain in the arse to use.</td>\n",
       "      <td>title.  \\n\\n\\nthe actual devices are fine, but the app is shit.</td>\n",
       "      <td>172</td>\n",
       "      <td>0.95</td>\n",
       "      <td>47</td>\n",
       "      <td>NaN</td>\n",
       "      <td>https://www.reddit.com/r/alexa/comments/hdapdz/the_alexa_app_is_crap_its_slow_laggy_fully_of/</td>\n",
       "      <td>nxnjitsu</td>\n",
       "      <td>2020-06-21 10:23:42</td>\n",
       "      <td>1</td>\n",
       "      <td>the alexa app is crap. it's slow, laggy, fully of bugs, and just a pain in the arse to use. title.  \\n\\n\\nthe actual devices are fine, but the app is shit.</td>\n",
       "    </tr>\n",
       "    <tr>\n",
       "      <th>5630</th>\n",
       "      <td>0.000</td>\n",
       "      <td>0.819</td>\n",
       "      <td>0.181</td>\n",
       "      <td>0.8122</td>\n",
       "      <td>Sonos it is. Probably the simplest solution, especially if you family use iOS because of the Airplay features will make it very easy for them to use.\\n\\nIt is compatible with alexa &amp; google assistant too, much better performed with Alexa IMO.</td>\n",
       "      <td>ft7v7dy</td>\n",
       "      <td>t1_ft66re5</td>\n",
       "      <td>t3_gxxepa</td>\n",
       "      <td>alexa</td>\n",
       "      <td>gxxepa</td>\n",
       "      <td>Looking for High Quality speaker that is compatible with the Multi-room music option</td>\n",
       "      <td>My father is a bit of an audiophile, and wants a good, high quality speaker, but my mother is adamant in wanting something that can be grouped in the multi room music option, so we can have the same music playing through alexa in the living room and the kitchen.\\n\\nWe were previously using just an Echo Dot connected via Aux cable to a better speaker, but the aux port on that speaker has started to fail. I thought it would be a good idea then to go and purchase a smart soundbar that was alexa compatible, since it seemed to me that would allow for multi-room music, so we bought a Sonos soundbar, but it doesn't seem the alexa app wants to recognize that as a speaker availabe for multiroom. \\n\\nI'm worried that just returning the Sonos and buying a different brand will not resolve the issue, and with covid and everything going on rn it's very difficult to get ahold of my local Best Buy (that's about the only electronics store we've got around me), but without an actual person to talk to about this issue I'm pretty lost on what to do and/or look for\\n\\nDoes anyone have anything they can recommend that fits what I'm looking for?</td>\n",
       "      <td>8</td>\n",
       "      <td>0.76</td>\n",
       "      <td>11</td>\n",
       "      <td>NaN</td>\n",
       "      <td>https://www.reddit.com/r/alexa/comments/gxxepa/looking_for_high_quality_speaker_that_is/</td>\n",
       "      <td>DrWhoitt</td>\n",
       "      <td>2020-06-06 12:31:29</td>\n",
       "      <td>1</td>\n",
       "      <td>Looking for High Quality speaker that is compatible with the Multi-room music option My father is a bit of an audiophile, and wants a good, high quality speaker, but my mother is adamant in wanting something that can be grouped in the multi room music option, so we can have the same music playing through alexa in the living room and the kitchen.\\n\\nWe were previously using just an Echo Dot connected via Aux cable to a better speaker, but the aux port on that speaker has started to fail. I thought it would be a good idea then to go and purchase a smart soundbar that was alexa compatible, since it seemed to me that would allow for multi-room music, so we bought a Sonos soundbar, but it doesn't seem the alexa app wants to recognize that as a speaker availabe for multiroom. \\n\\nI'm worried that just returning the Sonos and buying a different brand will not resolve the issue, and with covid and everything going on rn it's very difficult to get ahold of my local Best Buy (that's about the only electronics store we've got around me), but without an actual person to talk to about this issue I'm pretty lost on what to do and/or look for\\n\\nDoes anyone have anything they can recommend that fits what I'm looking for?</td>\n",
       "    </tr>\n",
       "    <tr>\n",
       "      <th>6337</th>\n",
       "      <td>0.086</td>\n",
       "      <td>0.820</td>\n",
       "      <td>0.094</td>\n",
       "      <td>0.1540</td>\n",
       "      <td>i removed the alexa app from my computer because controlling lights and stuff from zones sucks... actually it kind of sucks on all the other apps too but it was way worse there.\\n\\nactually, does anyone know how to control the colour, brightness, and power state of multiple lights at once from the alexa app like you can in the google home app?</td>\n",
       "      <td>fs6cis3</td>\n",
       "      <td>t3_gsdau9</td>\n",
       "      <td>t3_gsdau9</td>\n",
       "      <td>alexa</td>\n",
       "      <td>gsdau9</td>\n",
       "      <td>Can I add the Alexa App for PC to a group?</td>\n",
       "      <td>Not sure if i'm being dumb and missing something or there is no functionality to this - I have a studio room with my PC in with the alexa app, and want to be able to control the lights and other devices in the room just by saying 'turn off the lights' for example. I can't find on my phone or app how to add this device to the room, i have an Alexa  Echo 3rd gen in here already - not sure if that would make any difference though.</td>\n",
       "      <td>8</td>\n",
       "      <td>0.83</td>\n",
       "      <td>7</td>\n",
       "      <td>NaN</td>\n",
       "      <td>https://www.reddit.com/r/alexa/comments/gsdau9/can_i_add_the_alexa_app_for_pc_to_a_group/</td>\n",
       "      <td>Lamb_Sauce</td>\n",
       "      <td>2020-05-28 12:46:47</td>\n",
       "      <td>1</td>\n",
       "      <td>Can I add the Alexa App for PC to a group? Not sure if i'm being dumb and missing something or there is no functionality to this - I have a studio room with my PC in with the alexa app, and want to be able to control the lights and other devices in the room just by saying 'turn off the lights' for example. I can't find on my phone or app how to add this device to the room, i have an Alexa  Echo 3rd gen in here already - not sure if that would make any difference though.</td>\n",
       "    </tr>\n",
       "    <tr>\n",
       "      <th>6573</th>\n",
       "      <td>0.035</td>\n",
       "      <td>0.706</td>\n",
       "      <td>0.259</td>\n",
       "      <td>0.8953</td>\n",
       "      <td>Not surprising that Google has a better answer. Generally it seems like Google does better at simple question/answer queries. Which makes sense to me. It's Google.\\n\\n&amp;#x200B;\\n\\nSeems like Alexa is improving though. At least it was about a year ago according to this:  [https://voicebot.ai/2019/08/19/google-again-leads-in-voice-assistant-iq-test-but-alexa-is-closing-the-gap-according-to-loup-ventures/](https://voicebot.ai/2019/08/19/google-again-leads-in-voice-assistant-iq-test-but-alexa-is-closing-the-gap-according-to-loup-ventures/)</td>\n",
       "      <td>fs4hqsq</td>\n",
       "      <td>t3_gr7hih</td>\n",
       "      <td>t3_gr7hih</td>\n",
       "      <td>alexa</td>\n",
       "      <td>gr7hih</td>\n",
       "      <td>\"Alexa, what is the purpose of Memorial Day?\"</td>\n",
       "      <td>**Me:** \"Alexa, what is the purpose of Memorial Day?\"  \\n**Alexa:** \"The purpose of Memorial Day is Memorial Day.\"\\n\\nAh, gotcha. And here I was thinking it was Rosh Hashanah\\n\\n**Me:** \"Hey Google, what is the purpose of Memorial Day?\"  \\n**Google Assistant:** \"...Memorial Day is observed on the last Monday of May. It was formerly known as Decoration Day and commemorates all men and women who have died in military service for the United States.\"\\n\\nI'd chuckle if this was a one-off misfire. Instead, it's one more reason on a growing pile of frustrations that have me using my Echos/Dots less and my Google Homies more.\\n\\nAlexa has gradually felt more like abandonware vs. a growing Echo-system over the past year or so.</td>\n",
       "      <td>3</td>\n",
       "      <td>0.67</td>\n",
       "      <td>5</td>\n",
       "      <td>NaN</td>\n",
       "      <td>https://www.reddit.com/r/alexa/comments/gr7hih/alexa_what_is_the_purpose_of_memorial_day/</td>\n",
       "      <td>Coldblackice</td>\n",
       "      <td>2020-05-26 15:47:18</td>\n",
       "      <td>1</td>\n",
       "      <td>\"Alexa, what is the purpose of Memorial Day?\" **Me:** \"Alexa, what is the purpose of Memorial Day?\"  \\n**Alexa:** \"The purpose of Memorial Day is Memorial Day.\"\\n\\nAh, gotcha. And here I was thinking it was Rosh Hashanah\\n\\n**Me:** \"Hey Google, what is the purpose of Memorial Day?\"  \\n**Google Assistant:** \"...Memorial Day is observed on the last Monday of May. It was formerly known as Decoration Day and commemorates all men and women who have died in military service for the United States.\"\\n\\nI'd chuckle if this was a one-off misfire. Instead, it's one more reason on a growing pile of frustrations that have me using my Echos/Dots less and my Google Homies more.\\n\\nAlexa has gradually felt more like abandonware vs. a growing Echo-system over the past year or so.</td>\n",
       "    </tr>\n",
       "    <tr>\n",
       "      <th>9703</th>\n",
       "      <td>0.124</td>\n",
       "      <td>0.876</td>\n",
       "      <td>0.000</td>\n",
       "      <td>-0.1779</td>\n",
       "      <td>That's weird, I'm able to control both series 5 I have since early 2019 https://mobilesyrup.com/2019/03/07/roku-voice-controls-amazon-alexa-google-assistant/</td>\n",
       "      <td>g1cqlas</td>\n",
       "      <td>t1_g1cpyeo</td>\n",
       "      <td>t3_i915o8</td>\n",
       "      <td>googlehome</td>\n",
       "      <td>i915o8</td>\n",
       "      <td>Anybody have a TCL tv that can confirm google home commands work on it in Canada?</td>\n",
       "      <td>After googling I see a few posts from a year ago saying it was not working in Canada but that a fix was on the way. Any updates on that?</td>\n",
       "      <td>9</td>\n",
       "      <td>1.00</td>\n",
       "      <td>9</td>\n",
       "      <td>Bug</td>\n",
       "      <td>https://www.reddit.com/r/googlehome/comments/i915o8/anybody_have_a_tcl_tv_that_can_confirm_google/</td>\n",
       "      <td>D-Raj</td>\n",
       "      <td>2020-08-13 07:44:33</td>\n",
       "      <td>0</td>\n",
       "      <td>Anybody have a TCL tv that can confirm google home commands work on it in Canada? After googling I see a few posts from a year ago saying it was not working in Canada but that a fix was on the way. Any updates on that?</td>\n",
       "    </tr>\n",
       "    <tr>\n",
       "      <th>13579</th>\n",
       "      <td>0.000</td>\n",
       "      <td>0.536</td>\n",
       "      <td>0.464</td>\n",
       "      <td>0.6369</td>\n",
       "      <td>I wish google did a whisper thing like alexa does</td>\n",
       "      <td>g01xqx4</td>\n",
       "      <td>t3_i24qir</td>\n",
       "      <td>t3_i24qir</td>\n",
       "      <td>googlehome</td>\n",
       "      <td>i24qir</td>\n",
       "      <td>Used Google technology to prank my wife last night</td>\n",
       "      <td>We have minis and some smart lights scattered around the house.  I was in bed and my wife was in the study and I could hear her telling the lights to turn off.  Of course, I whispered to the mini in the bedroom, \"Hey Google, turn on study lights\".  Took a few times before she caught on ;-)</td>\n",
       "      <td>23</td>\n",
       "      <td>0.83</td>\n",
       "      <td>5</td>\n",
       "      <td>NaN</td>\n",
       "      <td>https://www.reddit.com/r/googlehome/comments/i24qir/used_google_technology_to_prank_my_wife_last_night/</td>\n",
       "      <td>0_phuk</td>\n",
       "      <td>2020-08-01 19:35:12</td>\n",
       "      <td>0</td>\n",
       "      <td>Used Google technology to prank my wife last night We have minis and some smart lights scattered around the house.  I was in bed and my wife was in the study and I could hear her telling the lights to turn off.  Of course, I whispered to the mini in the bedroom, \"Hey Google, turn on study lights\".  Took a few times before she caught on ;-)</td>\n",
       "    </tr>\n",
       "  </tbody>\n",
       "</table>\n",
       "</div>"
      ],
      "text/plain": [
       "         neg    neu    pos  compound  \\\n",
       "267    0.054  0.770  0.176    0.8290   \n",
       "568    0.075  0.868  0.057   -0.2247   \n",
       "731    0.035  0.751  0.214    0.8313   \n",
       "2713   0.000  0.875  0.125    0.7650   \n",
       "3485   0.078  0.922  0.000   -0.4380   \n",
       "3600   0.163  0.837  0.000   -0.7808   \n",
       "4085   0.197  0.803  0.000   -0.7964   \n",
       "5630   0.000  0.819  0.181    0.8122   \n",
       "6337   0.086  0.820  0.094    0.1540   \n",
       "6573   0.035  0.706  0.259    0.8953   \n",
       "9703   0.124  0.876  0.000   -0.1779   \n",
       "13579  0.000  0.536  0.464    0.6369   \n",
       "\n",
       "                                                                                                                                                                                                                                                                                                                                                                                                                                                                                                                                                       comment_body  \\\n",
       "267                                                                               first thing i recommend to friends about alexa, is don't use it for music, unless your happy with poor audio quality and lots of voice input to make it seem like it works... best is to set up spotify with much better quality speakers in your home, and use the spotify app across all devices. alexa however is still the best for its custom routines, smart home devices and some skills compared to google, but both imo are simply not good enough for music playback...   \n",
       "568                                                                                                                                                                                                                                                                                              That's so bad photoshop, just look at the bezels.\\n\\nJust get a cheap tablet you can get alexa and google assistant on it, use widgets, automate it with tasker and pincode? Has bluetooth you can build it on a stand or make your own stand with better speaker.   \n",
       "731                                                                                                                                                                                                                                                                                         Yeah it’s confusing because the tv supports BEING the alexa/google device and also being CONTROLLED BY the Alexa/google device. Glad it’s working for you now. Next step is getting used to the terminology you have to use to have Alexa play what you want on the TV!   \n",
       "2713                                                                                                                 It looks like a 2.1 setup with echo will only work with FireTV. I don’t know if it’s going to work plugged in through 3.5mm. \\n\\n\\nhttps://www.google.com/amp/s/www.pocket-lint.com/smart-home/news/amazon/150044-how-to-create-an-alexa-home-theatre-system-with-your-echo-and-fire-tv-devices.amphtml\\n\\nRegarding the microphones on Sonos One, I have one at my desk and it works great. My bathroom speaker hears me over the shower too.   \n",
       "3485                                                                                                                                                                                                                                                                                                                                                                      Google home is not the holy grail but at least replies to me when i ask about random stuff, alexa keeps saying she can't help me and i can't remember the last time google home said that   \n",
       "3600                                                                                                                                                                                                                                                                                                                                       i'm annoyed that i can cast apple music to google speakers, but can't ask for music... and then i can ask alexa for apple music but can't cast to it. \\n\\nthis has been the most infuriating duality i experience daily.   \n",
       "4085                                                                                                                                                                                                                                                                                                                                                                                           i switched from google home to alexa back about 6 months ago... i still use the google home app to turn lights and shit on from my phone. the alexa app is that bad.   \n",
       "5630                                                                                                                                                                                                                                                                                                             Sonos it is. Probably the simplest solution, especially if you family use iOS because of the Airplay features will make it very easy for them to use.\\n\\nIt is compatible with alexa & google assistant too, much better performed with Alexa IMO.   \n",
       "6337                                                                                                                                                                                                      i removed the alexa app from my computer because controlling lights and stuff from zones sucks... actually it kind of sucks on all the other apps too but it was way worse there.\\n\\nactually, does anyone know how to control the colour, brightness, and power state of multiple lights at once from the alexa app like you can in the google home app?   \n",
       "6573   Not surprising that Google has a better answer. Generally it seems like Google does better at simple question/answer queries. Which makes sense to me. It's Google.\\n\\n&#x200B;\\n\\nSeems like Alexa is improving though. At least it was about a year ago according to this:  [https://voicebot.ai/2019/08/19/google-again-leads-in-voice-assistant-iq-test-but-alexa-is-closing-the-gap-according-to-loup-ventures/](https://voicebot.ai/2019/08/19/google-again-leads-in-voice-assistant-iq-test-but-alexa-is-closing-the-gap-according-to-loup-ventures/)   \n",
       "9703                                                                                                                                                                                                                                                                                                                                                                                                  That's weird, I'm able to control both series 5 I have since early 2019 https://mobilesyrup.com/2019/03/07/roku-voice-controls-amazon-alexa-google-assistant/   \n",
       "13579                                                                                                                                                                                                                                                                                                                                                                                                                                                                                                             I wish google did a whisper thing like alexa does   \n",
       "\n",
       "      comment_id comment_parent_id comment_link_id   subreddit      id  \\\n",
       "267      g2ef3ii         t3_ie5i24       t3_ie5i24       alexa  ie5i24   \n",
       "568      g1leirc         t3_i9ulz8       t3_i9ulz8       alexa  i9ulz8   \n",
       "731      g1msaxv        t1_g1mrr8f       t3_i8kce5       alexa  i8kce5   \n",
       "2713     fx9qm8w         t3_hn7jl8       t3_hn7jl8       alexa  hn7jl8   \n",
       "3485     fw3y7x2        t1_fw3vsld       t3_hg5j65       alexa  hg5j65   \n",
       "3600     fvxgwut        t1_fvx9hnj       t3_hfbcml       alexa  hfbcml   \n",
       "4085     g2o1m9l         t3_hdapdz       t3_hdapdz       alexa  hdapdz   \n",
       "5630     ft7v7dy        t1_ft66re5       t3_gxxepa       alexa  gxxepa   \n",
       "6337     fs6cis3         t3_gsdau9       t3_gsdau9       alexa  gsdau9   \n",
       "6573     fs4hqsq         t3_gr7hih       t3_gr7hih       alexa  gr7hih   \n",
       "9703     g1cqlas        t1_g1cpyeo       t3_i915o8  googlehome  i915o8   \n",
       "13579    g01xqx4         t3_i24qir       t3_i24qir  googlehome  i24qir   \n",
       "\n",
       "                                                                                                                                               title  \\\n",
       "267                                                                                                      Years later, Alexa is still piss poor. Why?   \n",
       "568                                                                          On my echo show is there anyway to permanently show my google calendar?   \n",
       "731                                                                                                                                     LG TV issues   \n",
       "2713                                                                                                                        SONOS vs AMAZON Packages   \n",
       "3485                                                                                                                 \"Alexa... nothing\" .. \"goodbye\"   \n",
       "3600   Echo Show appears in Google Chrome's Cast menu. Has anyone gotten this to work with anything? Everything I try it says \"Source not supported\"   \n",
       "4085                                                     the alexa app is crap. it's slow, laggy, fully of bugs, and just a pain in the arse to use.   \n",
       "5630                                                            Looking for High Quality speaker that is compatible with the Multi-room music option   \n",
       "6337                                                                                                      Can I add the Alexa App for PC to a group?   \n",
       "6573                                                                                                   \"Alexa, what is the purpose of Memorial Day?\"   \n",
       "9703                                                               Anybody have a TCL tv that can confirm google home commands work on it in Canada?   \n",
       "13579                                                                                             Used Google technology to prank my wife last night   \n",
       "\n",
       "                                                                                                                                                                                                                                                                                                                                                                                                                                                                                                                                                                                                                                                                                                                                                                                                                                                                                                                                                                                                                                                                                                                                                                                                                                                                                                                                                                                                                                                                                                                                                                                                                                                                                                                                        selftext  \\\n",
       "267                                                                                                                                                                                                                                                                                                                                                                                                                                                                                                                                                                                                                                                                                                                                                                                                                                                                                                                                                                                                            Here we are years later yet Prime Music with Alexa is still so bad that it makes paying for Music Unlimited a mistake.  \\n\\nHere I am sitting in my house on wifi, playing music from Prime on my iPhone to my Lounge group of Dots.   It will play for a couple minutes, break up, then die.  \\n\\nWhen I ask Alexa to continue playing the same album I’m told that it’s only available via Music Unlimited.  A moment ago I was playing this via my bog standard prime music.   This is not uncommon.  \\n\\nThen about a minute later it starts playing again.   \\n\\nWho is actually relying on this shitshow to play music?  It’s really weak ass.  God.   Is there a drive at Amazon to make us all buy vinyl again? Probably.   \n",
       "568                                                                                                                                                                                                                                                                                                                                                                                                                                                                                                                                                                                                                                                                                                                                                                                                                                                                                                                                                                                                                                                                                                                                                                                                                                                                                                                                                                                                                                                                                                                                                                                                                                                                                                                                                \n",
       "731    I'm trying to setup my new TV (LG 75SM8670AUA  [https://www.lg.com/us/tvs/lg-75SM8670AUA-4k-uhd-tv](https://www.lg.com/us/tvs/lg-75SM8670AUA-4k-uhd-tv) with WebOS 4.6) to connect to my Alexa devices, I have 3 echo dot's through the house.\\n\\nI am able to launch the Alexa app on the TV and log in just fine.  I've also created and logged into LG ThinQ app and can control the TV when it is powered on through the app.\\n\\nHowever, I am unable to control the TV through Alexa despite the advertising of this TV as Alexa compatible and not sure what the problem is.\\n\\nAfter logging into Alexa through the app on TV, the TV is added to my account and is shown in my list of devices as 'XXXX's webOS TV' (per attached picture) in the Alexa app on my iPhone.  However, I am unable to control the TV through my echo dot even though the device is listed.  Alexa tells me she can't find \"TV\", \"webOS TV\", \"XXXX's webOS TV\", \"LG TV\", etc.  In the TV's Alexa app, when I try to \"Add you Alexa device\" it says it's unable to find any other Alexa devices.  Everything is on the same WIFI network also.\\n\\nI then tried adding the LG ThinQ basic skill, and after logging into my LG account, the skill says my account is linked but when it searches for devices, my TV is not showing up to add.  I suspect this is because it was already added through the Alexa app on the TV?\\n\\nHas anyone else encountered this issue and know of a reliable solution?  I've tried de-registering the TV and just adding the skill, not logging into the TV's Alexa app and no luck as well.\\n\\nhttps://preview.redd.it/xlebxvcyhmg51.jpg?width=1125&format=pjpg&auto=webp&s=0dad484e51e17eb99c7b847dcc5ab26507df4894   \n",
       "2713                                                                                                                                                                                                                                                                                                                                                                                                                                                                                                                   \\n\\nHey Guys, thanks a lot to anyone that reads this and offers their opinion 😊  \\n \\n\\nI’m trying to make a decision here and I’m hoping you can help. I want a wireless setup because we like the minimal look in our living room and can’t decide between these packages from Sonos and Amazon.  \\n \\n\\nSONOS  \\n 2 x Sonos ONES  \\n 1 x Sonos Beam  \\n 1 x Sonos Sub = $1900AUD  \\n \\n\\nAMAZON  \\n 2 x Amazon Echo 3rd Gen  \\n 1 x Amazon Echo Sub. = $600AUD  \\n \\n\\nI’m aware the Sonos setup will sound better, but how much ‘better’? Is the Beam package worth the extra $1300?  \\n \\n\\nI was just going to plug the TV into the amazon echo via 3.5mm.  \\n I want to listen to music and watch HD sports/movies. I like that the Sonos can be mounted on stands. We like alexa and heard the Sonos ONES had poor microphones, however I’m really wondering does anyone have experience with the microphones on the BEAM? Are they better than the frowned upon mic’s in the ONE compared to Echo.  \\n \\n\\nI could also do a pair of Sonos 5’s for $1200 AUD or 2 x Echo Studio’s for $660.  \\n \\n\\nWhat’s the best value here? Anyone have experience with both products??  \\n \\n\\nThanks heaps for your help!!   \n",
       "3485                                                                                                                                                                                                                                                                                                                                                                                                                                                                                                                                                                                                                                                                                                                                                                                                                                                                                                                                                                                                                                                                                                                                                                                                                                                                                                           Listening to radio.\\n\\nDecided to ask Alexa something\\n\\n\"Alexa...\"\\n\\nthen changed my mind and said\\n\\n\".. nothing\"\\n\\n..\\n\\nAlexa then says \"Goodbye\" and the radio mutes and turns off.  Then everytime I try to start the radio again.. it started muted then switches off again.\\n\\nWifi was OK.  Volume was OK.  Couldn't figure it out at all.\\n\\nHad to reset in the end and its fine now. Any idea what I/she'd done ???   \n",
       "3600                                                                                                                                                                                                                                                                                                                                                                                                                                                                                                                                                                                                                                                                                                                                                                                                                                                                                                                                                                                                                                                                                                                                                                                                                                                                                                                                                                                                                                                                                                                                                                                                                                                                                                                                               \n",
       "4085                                                                                                                                                                                                                                                                                                                                                                                                                                                                                                                                                                                                                                                                                                                                                                                                                                                                                                                                                                                                                                                                                                                                                                                                                                                                                                                                                                                                                                                                                                                                                                                                                                                                             title.  \\n\\n\\nthe actual devices are fine, but the app is shit.   \n",
       "5630                                                                                                                                                                                                                                                                                                                                                                                                                                                                                                                                                        My father is a bit of an audiophile, and wants a good, high quality speaker, but my mother is adamant in wanting something that can be grouped in the multi room music option, so we can have the same music playing through alexa in the living room and the kitchen.\\n\\nWe were previously using just an Echo Dot connected via Aux cable to a better speaker, but the aux port on that speaker has started to fail. I thought it would be a good idea then to go and purchase a smart soundbar that was alexa compatible, since it seemed to me that would allow for multi-room music, so we bought a Sonos soundbar, but it doesn't seem the alexa app wants to recognize that as a speaker availabe for multiroom. \\n\\nI'm worried that just returning the Sonos and buying a different brand will not resolve the issue, and with covid and everything going on rn it's very difficult to get ahold of my local Best Buy (that's about the only electronics store we've got around me), but without an actual person to talk to about this issue I'm pretty lost on what to do and/or look for\\n\\nDoes anyone have anything they can recommend that fits what I'm looking for?   \n",
       "6337                                                                                                                                                                                                                                                                                                                                                                                                                                                                                                                                                                                                                                                                                                                                                                                                                                                                                                                                                                                                                                                                                                                                                                                                                                                                                             Not sure if i'm being dumb and missing something or there is no functionality to this - I have a studio room with my PC in with the alexa app, and want to be able to control the lights and other devices in the room just by saying 'turn off the lights' for example. I can't find on my phone or app how to add this device to the room, i have an Alexa  Echo 3rd gen in here already - not sure if that would make any difference though.   \n",
       "6573                                                                                                                                                                                                                                                                                                                                                                                                                                                                                                                                                                                                                                                                                                                                                                                                                                                                                                                                                                                     **Me:** \"Alexa, what is the purpose of Memorial Day?\"  \\n**Alexa:** \"The purpose of Memorial Day is Memorial Day.\"\\n\\nAh, gotcha. And here I was thinking it was Rosh Hashanah\\n\\n**Me:** \"Hey Google, what is the purpose of Memorial Day?\"  \\n**Google Assistant:** \"...Memorial Day is observed on the last Monday of May. It was formerly known as Decoration Day and commemorates all men and women who have died in military service for the United States.\"\\n\\nI'd chuckle if this was a one-off misfire. Instead, it's one more reason on a growing pile of frustrations that have me using my Echos/Dots less and my Google Homies more.\\n\\nAlexa has gradually felt more like abandonware vs. a growing Echo-system over the past year or so.   \n",
       "9703                                                                                                                                                                                                                                                                                                                                                                                                                                                                                                                                                                                                                                                                                                                                                                                                                                                                                                                                                                                                                                                                                                                                                                                                                                                                                                                                                                                                                                                                                                                                                                                                    After googling I see a few posts from a year ago saying it was not working in Canada but that a fix was on the way. Any updates on that?   \n",
       "13579                                                                                                                                                                                                                                                                                                                                                                                                                                                                                                                                                                                                                                                                                                                                                                                                                                                                                                                                                                                                                                                                                                                                                                                                                                                                                                                                                                                                                                         We have minis and some smart lights scattered around the house.  I was in bed and my wife was in the study and I could hear her telling the lights to turn off.  Of course, I whispered to the mini in the bedroom, \"Hey Google, turn on study lights\".  Took a few times before she caught on ;-)   \n",
       "\n",
       "       score  upvote_ratio  num_comments flair  \\\n",
       "267        6          0.80             5   NaN   \n",
       "568       26          0.84            24   NaN   \n",
       "731        9          0.81            12   NaN   \n",
       "2713       8          0.83            19   NaN   \n",
       "3485      17          0.85             4   NaN   \n",
       "3600      17          0.83             5   NaN   \n",
       "4085     172          0.95            47   NaN   \n",
       "5630       8          0.76            11   NaN   \n",
       "6337       8          0.83             7   NaN   \n",
       "6573       3          0.67             5   NaN   \n",
       "9703       9          1.00             9   Bug   \n",
       "13579     23          0.83             5   NaN   \n",
       "\n",
       "                                                                                                           url  \\\n",
       "267                   https://www.reddit.com/r/alexa/comments/ie5i24/years_later_alexa_is_still_piss_poor_why/   \n",
       "568                                                                        https://i.redd.it/m12di373c1h51.jpg   \n",
       "731                                               https://www.reddit.com/r/alexa/comments/i8kce5/lg_tv_issues/   \n",
       "2713                                  https://www.reddit.com/r/alexa/comments/hn7jl8/sonos_vs_amazon_packages/   \n",
       "3485                                     https://www.reddit.com/r/alexa/comments/hg5j65/alexa_nothing_goodbye/   \n",
       "3600                                                                       https://i.redd.it/454xbr7ltx651.png   \n",
       "4085             https://www.reddit.com/r/alexa/comments/hdapdz/the_alexa_app_is_crap_its_slow_laggy_fully_of/   \n",
       "5630                  https://www.reddit.com/r/alexa/comments/gxxepa/looking_for_high_quality_speaker_that_is/   \n",
       "6337                 https://www.reddit.com/r/alexa/comments/gsdau9/can_i_add_the_alexa_app_for_pc_to_a_group/   \n",
       "6573                 https://www.reddit.com/r/alexa/comments/gr7hih/alexa_what_is_the_purpose_of_memorial_day/   \n",
       "9703        https://www.reddit.com/r/googlehome/comments/i915o8/anybody_have_a_tcl_tv_that_can_confirm_google/   \n",
       "13579  https://www.reddit.com/r/googlehome/comments/i24qir/used_google_technology_to_prank_my_wife_last_night/   \n",
       "\n",
       "               author             created  class  \\\n",
       "267     happyfeet2039 2020-08-21 14:15:29      1   \n",
       "568    GenericUser104 2020-08-14 14:21:52      1   \n",
       "731           Azf1fan 2020-08-12 12:27:32      1   \n",
       "2713     stirringlion 2020-07-07 18:20:02      1   \n",
       "3485    thewondermule 2020-06-26 04:10:36      1   \n",
       "3600          poolec4 2020-06-24 15:52:19      1   \n",
       "4085         nxnjitsu 2020-06-21 10:23:42      1   \n",
       "5630         DrWhoitt 2020-06-06 12:31:29      1   \n",
       "6337       Lamb_Sauce 2020-05-28 12:46:47      1   \n",
       "6573     Coldblackice 2020-05-26 15:47:18      1   \n",
       "9703            D-Raj 2020-08-13 07:44:33      0   \n",
       "13579          0_phuk 2020-08-01 19:35:12      0   \n",
       "\n",
       "                                                                                                                                                                                                                                                                                                                                                                                                                                                                                                                                                                                                                                                                                                                                                                                                                                                                                                                                                                                                                                                                                                                                                                                                                                                                                                                                                                                                                                                                                                                                                                                                                                                                                                                                                         text  \n",
       "267                                                                                                                                                                                                                                                                                                                                                                                                                                                                                                                                                                                                                                                                                                                                                                                                                                                                                                                                                                             Years later, Alexa is still piss poor. Why? Here we are years later yet Prime Music with Alexa is still so bad that it makes paying for Music Unlimited a mistake.  \\n\\nHere I am sitting in my house on wifi, playing music from Prime on my iPhone to my Lounge group of Dots.   It will play for a couple minutes, break up, then die.  \\n\\nWhen I ask Alexa to continue playing the same album I’m told that it’s only available via Music Unlimited.  A moment ago I was playing this via my bog standard prime music.   This is not uncommon.  \\n\\nThen about a minute later it starts playing again.   \\n\\nWho is actually relying on this shitshow to play music?  It’s really weak ass.  God.   Is there a drive at Amazon to make us all buy vinyl again? Probably.  \n",
       "568                                                                                                                                                                                                                                                                                                                                                                                                                                                                                                                                                                                                                                                                                                                                                                                                                                                                                                                                                                                                                                                                                                                                                                                                                                                                                                                                                                                                                                                                                                                                                                                                                                                                                  On my echo show is there anyway to permanently show my google calendar?   \n",
       "731    LG TV issues I'm trying to setup my new TV (LG 75SM8670AUA  [https://www.lg.com/us/tvs/lg-75SM8670AUA-4k-uhd-tv](https://www.lg.com/us/tvs/lg-75SM8670AUA-4k-uhd-tv) with WebOS 4.6) to connect to my Alexa devices, I have 3 echo dot's through the house.\\n\\nI am able to launch the Alexa app on the TV and log in just fine.  I've also created and logged into LG ThinQ app and can control the TV when it is powered on through the app.\\n\\nHowever, I am unable to control the TV through Alexa despite the advertising of this TV as Alexa compatible and not sure what the problem is.\\n\\nAfter logging into Alexa through the app on TV, the TV is added to my account and is shown in my list of devices as 'XXXX's webOS TV' (per attached picture) in the Alexa app on my iPhone.  However, I am unable to control the TV through my echo dot even though the device is listed.  Alexa tells me she can't find \"TV\", \"webOS TV\", \"XXXX's webOS TV\", \"LG TV\", etc.  In the TV's Alexa app, when I try to \"Add you Alexa device\" it says it's unable to find any other Alexa devices.  Everything is on the same WIFI network also.\\n\\nI then tried adding the LG ThinQ basic skill, and after logging into my LG account, the skill says my account is linked but when it searches for devices, my TV is not showing up to add.  I suspect this is because it was already added through the Alexa app on the TV?\\n\\nHas anyone else encountered this issue and know of a reliable solution?  I've tried de-registering the TV and just adding the skill, not logging into the TV's Alexa app and no luck as well.\\n\\nhttps://preview.redd.it/xlebxvcyhmg51.jpg?width=1125&format=pjpg&auto=webp&s=0dad484e51e17eb99c7b847dcc5ab26507df4894  \n",
       "2713                                                                                                                                                                                                                                                                                                                                                                                                                                                                                                     SONOS vs AMAZON Packages   \\n\\nHey Guys, thanks a lot to anyone that reads this and offers their opinion 😊  \\n \\n\\nI’m trying to make a decision here and I’m hoping you can help. I want a wireless setup because we like the minimal look in our living room and can’t decide between these packages from Sonos and Amazon.  \\n \\n\\nSONOS  \\n 2 x Sonos ONES  \\n 1 x Sonos Beam  \\n 1 x Sonos Sub = $1900AUD  \\n \\n\\nAMAZON  \\n 2 x Amazon Echo 3rd Gen  \\n 1 x Amazon Echo Sub. = $600AUD  \\n \\n\\nI’m aware the Sonos setup will sound better, but how much ‘better’? Is the Beam package worth the extra $1300?  \\n \\n\\nI was just going to plug the TV into the amazon echo via 3.5mm.  \\n I want to listen to music and watch HD sports/movies. I like that the Sonos can be mounted on stands. We like alexa and heard the Sonos ONES had poor microphones, however I’m really wondering does anyone have experience with the microphones on the BEAM? Are they better than the frowned upon mic’s in the ONE compared to Echo.  \\n \\n\\nI could also do a pair of Sonos 5’s for $1200 AUD or 2 x Echo Studio’s for $660.  \\n \\n\\nWhat’s the best value here? Anyone have experience with both products??  \\n \\n\\nThanks heaps for your help!!  \n",
       "3485                                                                                                                                                                                                                                                                                                                                                                                                                                                                                                                                                                                                                                                                                                                                                                                                                                                                                                                                                                                                                                                                                                                                                                                                                                                                                        \"Alexa... nothing\" .. \"goodbye\" Listening to radio.\\n\\nDecided to ask Alexa something\\n\\n\"Alexa...\"\\n\\nthen changed my mind and said\\n\\n\".. nothing\"\\n\\n..\\n\\nAlexa then says \"Goodbye\" and the radio mutes and turns off.  Then everytime I try to start the radio again.. it started muted then switches off again.\\n\\nWifi was OK.  Volume was OK.  Couldn't figure it out at all.\\n\\nHad to reset in the end and its fine now. Any idea what I/she'd done ???  \n",
       "3600                                                                                                                                                                                                                                                                                                                                                                                                                                                                                                                                                                                                                                                                                                                                                                                                                                                                                                                                                                                                                                                                                                                                                                                                                                                                                                                                                                                                                                                                                                                                                                                                           Echo Show appears in Google Chrome's Cast menu. Has anyone gotten this to work with anything? Everything I try it says \"Source not supported\"   \n",
       "4085                                                                                                                                                                                                                                                                                                                                                                                                                                                                                                                                                                                                                                                                                                                                                                                                                                                                                                                                                                                                                                                                                                                                                                                                                                                                                                                                                                                                                                                                                                                                                                                              the alexa app is crap. it's slow, laggy, fully of bugs, and just a pain in the arse to use. title.  \\n\\n\\nthe actual devices are fine, but the app is shit.  \n",
       "5630                                                                                                                                                                                                                                                                                                                                                                                                                                                                                Looking for High Quality speaker that is compatible with the Multi-room music option My father is a bit of an audiophile, and wants a good, high quality speaker, but my mother is adamant in wanting something that can be grouped in the multi room music option, so we can have the same music playing through alexa in the living room and the kitchen.\\n\\nWe were previously using just an Echo Dot connected via Aux cable to a better speaker, but the aux port on that speaker has started to fail. I thought it would be a good idea then to go and purchase a smart soundbar that was alexa compatible, since it seemed to me that would allow for multi-room music, so we bought a Sonos soundbar, but it doesn't seem the alexa app wants to recognize that as a speaker availabe for multiroom. \\n\\nI'm worried that just returning the Sonos and buying a different brand will not resolve the issue, and with covid and everything going on rn it's very difficult to get ahold of my local Best Buy (that's about the only electronics store we've got around me), but without an actual person to talk to about this issue I'm pretty lost on what to do and/or look for\\n\\nDoes anyone have anything they can recommend that fits what I'm looking for?  \n",
       "6337                                                                                                                                                                                                                                                                                                                                                                                                                                                                                                                                                                                                                                                                                                                                                                                                                                                                                                                                                                                                                                                                                                                                                                                                                                                               Can I add the Alexa App for PC to a group? Not sure if i'm being dumb and missing something or there is no functionality to this - I have a studio room with my PC in with the alexa app, and want to be able to control the lights and other devices in the room just by saying 'turn off the lights' for example. I can't find on my phone or app how to add this device to the room, i have an Alexa  Echo 3rd gen in here already - not sure if that would make any difference though.  \n",
       "6573                                                                                                                                                                                                                                                                                                                                                                                                                                                                                                                                                                                                                                                                                                                                                                                                                                                                                                                                                    \"Alexa, what is the purpose of Memorial Day?\" **Me:** \"Alexa, what is the purpose of Memorial Day?\"  \\n**Alexa:** \"The purpose of Memorial Day is Memorial Day.\"\\n\\nAh, gotcha. And here I was thinking it was Rosh Hashanah\\n\\n**Me:** \"Hey Google, what is the purpose of Memorial Day?\"  \\n**Google Assistant:** \"...Memorial Day is observed on the last Monday of May. It was formerly known as Decoration Day and commemorates all men and women who have died in military service for the United States.\"\\n\\nI'd chuckle if this was a one-off misfire. Instead, it's one more reason on a growing pile of frustrations that have me using my Echos/Dots less and my Google Homies more.\\n\\nAlexa has gradually felt more like abandonware vs. a growing Echo-system over the past year or so.  \n",
       "9703                                                                                                                                                                                                                                                                                                                                                                                                                                                                                                                                                                                                                                                                                                                                                                                                                                                                                                                                                                                                                                                                                                                                                                                                                                                                                                                                                                                                                                                                                                                               Anybody have a TCL tv that can confirm google home commands work on it in Canada? After googling I see a few posts from a year ago saying it was not working in Canada but that a fix was on the way. Any updates on that?  \n",
       "13579                                                                                                                                                                                                                                                                                                                                                                                                                                                                                                                                                                                                                                                                                                                                                                                                                                                                                                                                                                                                                                                                                                                                                                                                                                                                                                                                                                                                   Used Google technology to prank my wife last night We have minis and some smart lights scattered around the house.  I was in bed and my wife was in the study and I could hear her telling the lights to turn off.  Of course, I whispered to the mini in the bedroom, \"Hey Google, turn on study lights\".  Took a few times before she caught on ;-)  "
      ]
     },
     "execution_count": 67,
     "metadata": {},
     "output_type": "execute_result"
    }
   ],
   "source": [
    "sentiment_com[sentiment_com['comment_body'].str.contains('alexa.*google|google.*alexa', regex=True)] #count of 12"
   ]
  },
  {
   "cell_type": "code",
   "execution_count": null,
   "metadata": {},
   "outputs": [],
   "source": [
    " "
   ]
  }
 ],
 "metadata": {
  "kernelspec": {
   "display_name": "Python 3",
   "language": "python",
   "name": "python3"
  },
  "language_info": {
   "codemirror_mode": {
    "name": "ipython",
    "version": 3
   },
   "file_extension": ".py",
   "mimetype": "text/x-python",
   "name": "python",
   "nbconvert_exporter": "python",
   "pygments_lexer": "ipython3",
   "version": "3.7.7"
  }
 },
 "nbformat": 4,
 "nbformat_minor": 4
}
