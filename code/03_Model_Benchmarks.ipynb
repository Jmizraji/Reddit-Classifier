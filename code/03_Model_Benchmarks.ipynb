{
 "cells": [
  {
   "cell_type": "code",
   "execution_count": 1,
   "metadata": {},
   "outputs": [],
   "source": [
    "#Imports\n",
    "import requests\n",
    "import pandas as pd\n",
    "from bs4 import BeautifulSoup\n",
    "import time\n",
    "import datetime as dt\n",
    "import praw\n",
    "\n",
    "import seaborn as sns\n",
    "import matplotlib.pyplot as plt\n",
    "\n",
    "from sklearn.model_selection import train_test_split, GridSearchCV, cross_val_score\n",
    "from sklearn.pipeline import Pipeline\n",
    "from sklearn.linear_model import LogisticRegression\n",
    "from sklearn.metrics import confusion_matrix, plot_confusion_matrix, plot_roc_curve\n",
    "from sklearn.feature_extraction.text import CountVectorizer, TfidfVectorizer\n",
    "from sklearn.ensemble import RandomForestClassifier, ExtraTreesClassifier"
   ]
  },
  {
   "cell_type": "code",
   "execution_count": 2,
   "metadata": {},
   "outputs": [],
   "source": [
    "#allows all columns to be scrolled\n",
    "pd.set_option('display.max_columns', None)\n",
    "\n",
    "# Source:https://stackoverflow.com/questions/47022070/display-all-dataframe-columns-in-a-jupyter-python-notebook/47022213 "
   ]
  },
  {
   "cell_type": "code",
   "execution_count": 3,
   "metadata": {},
   "outputs": [],
   "source": [
    "#displays all text in dataframes\n",
    "pd.set_option('display.max_colwidth', None)\n",
    "\n",
    "# https://stackoverflow.com/questions/25351968/how-to-display-full-non-truncated-dataframe-information-in-html-when-convertin"
   ]
  },
  {
   "cell_type": "markdown",
   "metadata": {},
   "source": [
    "# Read In Our Data"
   ]
  },
  {
   "cell_type": "code",
   "execution_count": 4,
   "metadata": {},
   "outputs": [],
   "source": [
    "alexa_google = pd.read_csv('./data/alexa_google_cleaned.csv')"
   ]
  },
  {
   "cell_type": "markdown",
   "metadata": {},
   "source": [
    "# Modeling"
   ]
  },
  {
   "cell_type": "markdown",
   "metadata": {},
   "source": [
    "## Train test split"
   ]
  },
  {
   "cell_type": "code",
   "execution_count": 5,
   "metadata": {},
   "outputs": [],
   "source": [
    "X = alexa_google['text']\n",
    "y = alexa_google['class']"
   ]
  },
  {
   "cell_type": "code",
   "execution_count": 6,
   "metadata": {},
   "outputs": [],
   "source": [
    "X_train, X_test, y_train, y_test = train_test_split(X,y, stratify=y)"
   ]
  },
  {
   "cell_type": "markdown",
   "metadata": {},
   "source": [
    "## Baseline Score"
   ]
  },
  {
   "cell_type": "code",
   "execution_count": 7,
   "metadata": {},
   "outputs": [
    {
     "data": {
      "text/plain": [
       "1    0.509184\n",
       "0    0.490816\n",
       "Name: class, dtype: float64"
      ]
     },
     "execution_count": 7,
     "metadata": {},
     "output_type": "execute_result"
    }
   ],
   "source": [
    "y.value_counts(normalize=True)"
   ]
  },
  {
   "cell_type": "markdown",
   "metadata": {},
   "source": [
    "### Our baseline is to predict correct more than 50% of the time"
   ]
  },
  {
   "cell_type": "markdown",
   "metadata": {},
   "source": [
    "-----------"
   ]
  },
  {
   "cell_type": "markdown",
   "metadata": {},
   "source": [
    "# Logistic Regression"
   ]
  },
  {
   "cell_type": "markdown",
   "metadata": {},
   "source": [
    "### Pipeline"
   ]
  },
  {
   "cell_type": "markdown",
   "metadata": {},
   "source": [
    "Going to add `CountVectorizer` with `stop_words='english'` to remove the common words from the dataset"
   ]
  },
  {
   "cell_type": "code",
   "execution_count": 8,
   "metadata": {},
   "outputs": [],
   "source": [
    "pipe_lr = Pipeline([\n",
    "    ('cvec', CountVectorizer(stop_words='english')),\n",
    "    ('lr', LogisticRegression())\n",
    "])"
   ]
  },
  {
   "cell_type": "code",
   "execution_count": 9,
   "metadata": {},
   "outputs": [],
   "source": [
    "pipe_params_lr = {\n",
    "    'cvec__max_features' : [2000, 3000, 4000, 5000], \n",
    "    'cvec__min_df' : [2,3],\n",
    "    'cvec__max_df' : [.90,95],\n",
    "    'cvec__ngram_range' : [(1,1), (1,2)]\n",
    "}"
   ]
  },
  {
   "cell_type": "code",
   "execution_count": 10,
   "metadata": {},
   "outputs": [],
   "source": [
    "gs_lr = GridSearchCV(pipe_lr, # what object are we optimizing?\n",
    "                  param_grid=pipe_params_lr, # what parameters values are we searching?\n",
    "                  cv = 5) # 5-fold cross-validation."
   ]
  },
  {
   "cell_type": "code",
   "execution_count": 11,
   "metadata": {},
   "outputs": [
    {
     "data": {
      "text/plain": [
       "GridSearchCV(cv=5,\n",
       "             estimator=Pipeline(steps=[('cvec',\n",
       "                                        CountVectorizer(stop_words='english')),\n",
       "                                       ('lr', LogisticRegression())]),\n",
       "             param_grid={'cvec__max_df': [0.9, 95],\n",
       "                         'cvec__max_features': [2000, 3000, 4000, 5000],\n",
       "                         'cvec__min_df': [2, 3],\n",
       "                         'cvec__ngram_range': [(1, 1), (1, 2)]})"
      ]
     },
     "execution_count": 11,
     "metadata": {},
     "output_type": "execute_result"
    }
   ],
   "source": [
    "gs_lr.fit(X_train, y_train)"
   ]
  },
  {
   "cell_type": "code",
   "execution_count": 12,
   "metadata": {},
   "outputs": [
    {
     "data": {
      "text/plain": [
       "Pipeline(steps=[('cvec',\n",
       "                 CountVectorizer(max_df=0.9, max_features=2000, min_df=3,\n",
       "                                 stop_words='english')),\n",
       "                ('lr', LogisticRegression())])"
      ]
     },
     "execution_count": 12,
     "metadata": {},
     "output_type": "execute_result"
    }
   ],
   "source": [
    "gs_lr.best_estimator_"
   ]
  },
  {
   "cell_type": "code",
   "execution_count": 13,
   "metadata": {},
   "outputs": [
    {
     "name": "stdout",
     "output_type": "stream",
     "text": [
      "Train accuracy: 0.9972789115646259\n",
      "Test accuracy: 0.9326530612244898\n"
     ]
    }
   ],
   "source": [
    "print(f'Train accuracy: {gs_lr.score(X_train, y_train)}')\n",
    "print(f'Test accuracy: {gs_lr.score(X_test, y_test)}')"
   ]
  },
  {
   "cell_type": "code",
   "execution_count": 14,
   "metadata": {},
   "outputs": [
    {
     "data": {
      "text/plain": [
       "0.9312925170068027"
      ]
     },
     "execution_count": 14,
     "metadata": {},
     "output_type": "execute_result"
    }
   ],
   "source": [
    "gs_lr.best_score_"
   ]
  },
  {
   "cell_type": "code",
   "execution_count": 15,
   "metadata": {},
   "outputs": [
    {
     "data": {
      "image/png": "[encoded data removed]",
      "text/plain": [
       "<Figure size 432x288 with 1 Axes>"
      ]
     },
     "metadata": {
      "needs_background": "light"
     },
     "output_type": "display_data"
    }
   ],
   "source": [
    "plot_roc_curve(gs_lr, X_test, y_test);\n",
    "plt.savefig('./imgs/log_reg1_curve.jpeg',bbox_inches='tight');"
   ]
  },
  {
   "cell_type": "code",
   "execution_count": 16,
   "metadata": {},
   "outputs": [],
   "source": [
    "preds_lr = gs_lr.predict(X_test)\n",
    "\n",
    "# Save confusion matrix values\n",
    "tn, fp, fn, tp = confusion_matrix(y_test, preds_lr).ravel()"
   ]
  },
  {
   "cell_type": "code",
   "execution_count": 17,
   "metadata": {},
   "outputs": [
    {
     "data": {
      "image/png": "[encoded data removed]",
      "text/plain": [
       "<Figure size 432x288 with 2 Axes>"
      ]
     },
     "metadata": {
      "needs_background": "light"
     },
     "output_type": "display_data"
    }
   ],
   "source": [
    "# View confusion matrix\n",
    "plot_confusion_matrix(gs_lr, X_test, y_test, cmap='Blues', values_format='d');\n",
    "plt.savefig('./imgs/log_reg1_confusion.jpeg',bbox_inches='tight');"
   ]
  },
  {
   "cell_type": "code",
   "execution_count": 18,
   "metadata": {},
   "outputs": [
    {
     "data": {
      "image/png": "[encoded data removed]",
      "text/plain": [
       "<Figure size 432x288 with 2 Axes>"
      ]
     },
     "metadata": {
      "needs_background": "light"
     },
     "output_type": "display_data"
    }
   ],
   "source": [
    "# View normalized confusion matrix\n",
    "plot_confusion_matrix(gs_lr, X_test, y_test, cmap='Blues', normalize='true');\n",
    "plt.savefig('./imgs/log_reg1_confusion_norm.jpeg',bbox_inches='tight');"
   ]
  },
  {
   "cell_type": "markdown",
   "metadata": {},
   "source": [
    "# Random Forest"
   ]
  },
  {
   "cell_type": "code",
   "execution_count": 19,
   "metadata": {},
   "outputs": [],
   "source": [
    "pipe_rf = Pipeline([\n",
    "    ('cvec', CountVectorizer(stop_words='english')),\n",
    "    ('rf', RandomForestClassifier())\n",
    "])"
   ]
  },
  {
   "cell_type": "code",
   "execution_count": 20,
   "metadata": {},
   "outputs": [],
   "source": [
    "model_params = {}\n",
    "count = 0"
   ]
  },
  {
   "cell_type": "code",
   "execution_count": 21,
   "metadata": {},
   "outputs": [
    {
     "data": {
      "text/html": [
       "<div>\n",
       "<style scoped>\n",
       "    .dataframe tbody tr th:only-of-type {\n",
       "        vertical-align: middle;\n",
       "    }\n",
       "\n",
       "    .dataframe tbody tr th {\n",
       "        vertical-align: top;\n",
       "    }\n",
       "\n",
       "    .dataframe thead th {\n",
       "        text-align: right;\n",
       "    }\n",
       "</style>\n",
       "<table border=\"1\" class=\"dataframe\">\n",
       "  <thead>\n",
       "    <tr style=\"text-align: right;\">\n",
       "      <th></th>\n",
       "      <th>rf__max_depth</th>\n",
       "      <th>rf__max_features</th>\n",
       "      <th>rf__n_estimators</th>\n",
       "      <th>score</th>\n",
       "    </tr>\n",
       "  </thead>\n",
       "  <tbody>\n",
       "    <tr>\n",
       "      <th>model_1</th>\n",
       "      <td>9</td>\n",
       "      <td>1000</td>\n",
       "      <td>95</td>\n",
       "      <td>0.934694</td>\n",
       "    </tr>\n",
       "  </tbody>\n",
       "</table>\n",
       "</div>"
      ],
      "text/plain": [
       "         rf__max_depth  rf__max_features  rf__n_estimators     score\n",
       "model_1              9              1000                95  0.934694"
      ]
     },
     "execution_count": 21,
     "metadata": {},
     "output_type": "execute_result"
    }
   ],
   "source": [
    "#Scaffolding\n",
    "\n",
    "params_rf = {\n",
    "    'rf__n_estimators' : [85,90,95], #number of trees\n",
    "    'rf__max_features' : [None,1000], \n",
    "    'rf__max_depth' : [6,3,9]\n",
    "    \n",
    "}\n",
    "\n",
    "gs_rf = GridSearchCV(pipe_rf, \n",
    "                 param_grid=params_rf,\n",
    "                 cv=5)\n",
    "\n",
    "gs_rf.fit(X_train, y_train)\n",
    "\n",
    "#this takes the best params dictionary and adds a column called score\n",
    "gs_rf.best_params_['score'] = gs_rf.best_score_\n",
    "\n",
    "#make a counter\n",
    "count +=1\n",
    "\n",
    "#create new column with best params\n",
    "model_params[f'model_{count}'] = gs_rf.best_params_\n",
    "\n",
    "#orient sideways\n",
    "model_df = pd.DataFrame.from_dict(model_params, orient='index')\n",
    "model_df\n",
    "\n",
    "#Code oriented from General Assembly DSI Lesson 6.03 Random Forests"
   ]
  },
  {
   "cell_type": "code",
   "execution_count": 22,
   "metadata": {},
   "outputs": [
    {
     "name": "stdout",
     "output_type": "stream",
     "text": [
      "Train accuracy: 0.9653061224489796\n",
      "Test accuracy: 0.9142857142857143\n"
     ]
    }
   ],
   "source": [
    "print(f'Train accuracy: {gs_rf.score(X_train, y_train)}')\n",
    "print(f'Test accuracy: {gs_rf.score(X_test, y_test)}')"
   ]
  },
  {
   "cell_type": "code",
   "execution_count": 23,
   "metadata": {},
   "outputs": [
    {
     "data": {
      "text/plain": [
       "{'rf__max_depth': 9,\n",
       " 'rf__max_features': 1000,\n",
       " 'rf__n_estimators': 95,\n",
       " 'score': 0.9346938775510203}"
      ]
     },
     "execution_count": 23,
     "metadata": {},
     "output_type": "execute_result"
    }
   ],
   "source": [
    "gs_rf.best_params_"
   ]
  },
  {
   "cell_type": "code",
   "execution_count": 24,
   "metadata": {},
   "outputs": [
    {
     "data": {
      "image/png": "[encoded data removed]",
      "text/plain": [
       "<Figure size 432x288 with 2 Axes>"
      ]
     },
     "metadata": {
      "needs_background": "light"
     },
     "output_type": "display_data"
    }
   ],
   "source": [
    "plot_confusion_matrix(gs_rf, X_test, y_test, cmap='Blues', normalize='true');\n",
    "plt.savefig('./imgs/rand_forest_confusion_norm.jpeg',bbox_inches='tight');"
   ]
  },
  {
   "cell_type": "code",
   "execution_count": 25,
   "metadata": {},
   "outputs": [
    {
     "data": {
      "image/png": "[encoded data removed]",
      "text/plain": [
       "<Figure size 432x288 with 1 Axes>"
      ]
     },
     "metadata": {
      "needs_background": "light"
     },
     "output_type": "display_data"
    }
   ],
   "source": [
    "plot_roc_curve(gs_rf, X_test, y_test);\n",
    "plt.savefig('./imgs/rf1_curve.jpeg',bbox_inches='tight');"
   ]
  },
  {
   "cell_type": "markdown",
   "metadata": {},
   "source": [
    "## Our models are both performing above 90% accuracy, let's investigate why?"
   ]
  },
  {
   "cell_type": "markdown",
   "metadata": {},
   "source": [
    "---------"
   ]
  },
  {
   "cell_type": "markdown",
   "metadata": {},
   "source": [
    "# Most Frequent Words"
   ]
  },
  {
   "cell_type": "code",
   "execution_count": 26,
   "metadata": {},
   "outputs": [],
   "source": [
    "def most_freq(subreddit):\n",
    "    \n",
    "    #instantiate CountVectorizer\n",
    "    cvec_df = CountVectorizer(stop_words='english')\n",
    "    \n",
    "    #select subreddit and fit\n",
    "    X_series = alexa_google[alexa_google['subreddit'] == subreddit]['text']\n",
    "    X_series =  cvec_df.fit_transform(X_series)\n",
    "    \n",
    "    #convert to a dataframe\n",
    "    X_df = pd.DataFrame(X_series.toarray(),\n",
    "    columns=cvec_df.get_feature_names())\n",
    "    \n",
    "    # create empty dictionary\n",
    "    top_words = {}\n",
    "\n",
    "    # loop through columns\n",
    "    for i in X_df.columns:\n",
    "        # save sum of each column in dictionary\n",
    "        top_words[i] =  X_df[i].sum()\n",
    "\n",
    "    # top_words to dataframe sorted by highest occurance\n",
    "    most_freq = pd.DataFrame(sorted(top_words.items(), key = lambda x: x[1], reverse = True))\n",
    "    \n",
    "    return most_freq"
   ]
  },
  {
   "cell_type": "markdown",
   "metadata": {},
   "source": [
    "### GoogleHome"
   ]
  },
  {
   "cell_type": "code",
   "execution_count": 27,
   "metadata": {},
   "outputs": [],
   "source": [
    "google_most_freq =  most_freq('googlehome')"
   ]
  },
  {
   "cell_type": "code",
   "execution_count": 28,
   "metadata": {},
   "outputs": [
    {
     "data": {
      "image/png": "[encoded data removed]",
      "text/plain": [
       "<Figure size 1440x576 with 1 Axes>"
      ]
     },
     "metadata": {
      "needs_background": "light"
     },
     "output_type": "display_data"
    }
   ],
   "source": [
    "plt.figure(figsize=(20,8))\n",
    "plt.bar(google_most_freq[0][:25], google_most_freq[1][:25])\n",
    "plt.title('Most Frequent Words in Google Home Subreddit',fontsize=18);\n",
    "plt.savefig('./imgs/google_most_freq_1.jpeg',bbox_inches='tight');"
   ]
  },
  {
   "cell_type": "markdown",
   "metadata": {},
   "source": [
    "### Alexa"
   ]
  },
  {
   "cell_type": "code",
   "execution_count": 29,
   "metadata": {},
   "outputs": [],
   "source": [
    "alexa_most_freq = most_freq('alexa')"
   ]
  },
  {
   "cell_type": "code",
   "execution_count": 30,
   "metadata": {},
   "outputs": [
    {
     "data": {
      "image/png": "[encoded data removed]",
      "text/plain": [
       "<Figure size 1440x576 with 1 Axes>"
      ]
     },
     "metadata": {
      "needs_background": "light"
     },
     "output_type": "display_data"
    }
   ],
   "source": [
    "plt.figure(figsize=(20,8))\n",
    "plt.bar(alexa_most_freq[0][:25], alexa_most_freq[1][:25])\n",
    "plt.title('Most Frequent Words in Alexa Subreddit',fontsize=18);\n",
    "plt.savefig('./imgs/alexa_most_freq_1.jpeg',bbox_inches='tight');"
   ]
  },
  {
   "cell_type": "markdown",
   "metadata": {},
   "source": [
    "## Conclusion: Since the words `alexa` and `google` show up so frequently in the posts, let's see if we can make it more challenging to predict the class by removing some of the most popular words."
   ]
  },
  {
   "cell_type": "markdown",
   "metadata": {},
   "source": [
    "#### Let's find which words are not in both datasets and choose which ones we want to take out."
   ]
  },
  {
   "cell_type": "code",
   "execution_count": 31,
   "metadata": {},
   "outputs": [],
   "source": [
    "# create two lists\n",
    "alexa_top_25 = [word for word in alexa_most_freq[0][:25]]\n",
    "google_top_25 = [word for word in google_most_freq[0][:25]]"
   ]
  },
  {
   "cell_type": "code",
   "execution_count": 32,
   "metadata": {},
   "outputs": [
    {
     "data": {
      "text/plain": [
       "['alexa',\n",
       " 'echo',\n",
       " 'amazon',\n",
       " 'turn',\n",
       " 'routine',\n",
       " 'dot',\n",
       " 'lights',\n",
       " 'skill',\n",
       " 'time',\n",
       " 'say',\n",
       " 'google',\n",
       " 'home',\n",
       " 'nest',\n",
       " 'mini',\n",
       " 'hub',\n",
       " 'speaker',\n",
       " 'wifi',\n",
       " 'assistant',\n",
       " 'phone',\n",
       " 'work']"
      ]
     },
     "execution_count": 32,
     "metadata": {},
     "output_type": "execute_result"
    }
   ],
   "source": [
    "#unique to each dataset\n",
    "words_to_remove = [i for i in alexa_top_25 + google_top_25 if i not in alexa_top_25 or i not in google_top_25]\n",
    "words_to_remove\n",
    "\n",
    "#code adapted from https://www.geeksforgeeks.org/python-difference-two-lists/"
   ]
  },
  {
   "cell_type": "code",
   "execution_count": 33,
   "metadata": {},
   "outputs": [
    {
     "data": {
      "text/plain": [
       "{'app',\n",
       " 'device',\n",
       " 'devices',\n",
       " 'just',\n",
       " 'know',\n",
       " 'like',\n",
       " 'music',\n",
       " 'play',\n",
       " 'set',\n",
       " 'spotify',\n",
       " 'tv',\n",
       " 'use',\n",
       " 've',\n",
       " 'want',\n",
       " 'way'}"
      ]
     },
     "execution_count": 33,
     "metadata": {},
     "output_type": "execute_result"
    }
   ],
   "source": [
    "#same in each dataset\n",
    "same_words = set(alexa_top_25) & set(google_top_25)\n",
    "same_words"
   ]
  }
 ],
 "metadata": {
  "kernelspec": {
   "display_name": "Python 3",
   "language": "python",
   "name": "python3"
  },
  "language_info": {
   "codemirror_mode": {
    "name": "ipython",
    "version": 3
   },
   "file_extension": ".py",
   "mimetype": "text/x-python",
   "name": "python",
   "nbconvert_exporter": "python",
   "pygments_lexer": "ipython3",
   "version": "3.7.7"
  }
 },
 "nbformat": 4,
 "nbformat_minor": 4
}
