{
 "cells": [
  {
   "cell_type": "code",
   "execution_count": 34,
   "metadata": {},
   "outputs": [],
   "source": [
    "#Imports\n",
    "import requests\n",
    "import pandas as pd\n",
    "import numpy as np\n",
    "from bs4 import BeautifulSoup\n",
    "import time\n",
    "import datetime as dt\n",
    "import praw\n",
    "import nltk\n",
    "\n",
    "import seaborn as sns\n",
    "import matplotlib.pyplot as plt\n",
    "\n",
    "from sklearn.preprocessing import StandardScaler\n",
    "from sklearn.model_selection import train_test_split, GridSearchCV, cross_val_score\n",
    "from sklearn.svm import LinearSVC\n",
    "from sklearn.pipeline import Pipeline\n",
    "from sklearn.linear_model import LogisticRegression\n",
    "from sklearn.metrics import confusion_matrix, plot_confusion_matrix\n",
    "from sklearn.feature_extraction.text import CountVectorizer, TfidfVectorizer\n",
    "from sklearn.naive_bayes import MultinomialNB\n",
    "from sklearn.ensemble import RandomForestClassifier, ExtraTreesClassifier, GradientBoostingClassifier, AdaBoostClassifier, VotingClassifier, BaggingClassifier\n",
    "from sklearn.tree import DecisionTreeClassifier"
   ]
  },
  {
   "cell_type": "code",
   "execution_count": 2,
   "metadata": {},
   "outputs": [],
   "source": [
    "#allows all columns to be scrolled\n",
    "pd.set_option('display.max_columns', None)\n",
    "\n",
    "# Source:https://stackoverflow.com/questions/47022070/display-all-dataframe-columns-in-a-jupyter-python-notebook/47022213 "
   ]
  },
  {
   "cell_type": "code",
   "execution_count": 3,
   "metadata": {},
   "outputs": [],
   "source": [
    "#displays all text in dataframes\n",
    "pd.set_option('display.max_colwidth', None)\n",
    "\n",
    "# https://stackoverflow.com/questions/25351968/how-to-display-full-non-truncated-dataframe-information-in-html-when-convertin"
   ]
  },
  {
   "cell_type": "markdown",
   "metadata": {},
   "source": [
    "# Read In Our Data"
   ]
  },
  {
   "cell_type": "code",
   "execution_count": 4,
   "metadata": {},
   "outputs": [],
   "source": [
    "alexa_google = pd.read_csv('./data/alexa_google_cleaned.csv')"
   ]
  },
  {
   "cell_type": "markdown",
   "metadata": {},
   "source": [
    "# Modeling"
   ]
  },
  {
   "cell_type": "markdown",
   "metadata": {},
   "source": [
    "## Train test split"
   ]
  },
  {
   "cell_type": "code",
   "execution_count": 5,
   "metadata": {},
   "outputs": [],
   "source": [
    "X = alexa_google['text']\n",
    "y = alexa_google['class']"
   ]
  },
  {
   "cell_type": "code",
   "execution_count": 6,
   "metadata": {},
   "outputs": [],
   "source": [
    "X_train, X_test, y_train, y_test = train_test_split(X,y, stratify=y)"
   ]
  },
  {
   "cell_type": "markdown",
   "metadata": {},
   "source": [
    "## Baseline Score"
   ]
  },
  {
   "cell_type": "code",
   "execution_count": 7,
   "metadata": {},
   "outputs": [
    {
     "data": {
      "text/plain": [
       "1    0.509184\n",
       "0    0.490816\n",
       "Name: class, dtype: float64"
      ]
     },
     "execution_count": 7,
     "metadata": {},
     "output_type": "execute_result"
    }
   ],
   "source": [
    "y.value_counts(normalize=True)"
   ]
  },
  {
   "cell_type": "markdown",
   "metadata": {},
   "source": [
    "### Our baseline is to predict correct more than 50% of the time"
   ]
  },
  {
   "cell_type": "markdown",
   "metadata": {},
   "source": [
    "-----------"
   ]
  },
  {
   "cell_type": "markdown",
   "metadata": {},
   "source": [
    "# Logistic Regression"
   ]
  },
  {
   "cell_type": "markdown",
   "metadata": {},
   "source": [
    "### To create more of a challenge, we are going to remove some of the most common words from the dataset such as `\"google\"` and `\"alexa\"`"
   ]
  },
  {
   "cell_type": "markdown",
   "metadata": {},
   "source": [
    "## Create Stopwords"
   ]
  },
  {
   "cell_type": "code",
   "execution_count": 8,
   "metadata": {},
   "outputs": [],
   "source": [
    "extra_stopwords = ['alexa',\n",
    " 'echo',\n",
    " 'amazon',\n",
    " 'dot',\n",
    " 'google',\n",
    " 'home',\n",
    " 'nest',\n",
    " 'assistant']"
   ]
  },
  {
   "cell_type": "code",
   "execution_count": 9,
   "metadata": {},
   "outputs": [],
   "source": [
    "#get the english stopwords\n",
    "new_stopwords = nltk.corpus.stopwords.words('english')\n",
    "\n",
    "#add our stopwords\n",
    "new_stopwords.extend(extra_stopwords)\n",
    "\n",
    "#Code adapted from Noah C at General Assembly"
   ]
  },
  {
   "cell_type": "markdown",
   "metadata": {},
   "source": [
    "# Modeling"
   ]
  },
  {
   "cell_type": "markdown",
   "metadata": {},
   "source": [
    "### Pipeline"
   ]
  },
  {
   "cell_type": "markdown",
   "metadata": {},
   "source": [
    "Going to add `CountVectorizer` with my `new_stopwords` to remove the common words from the dataset"
   ]
  },
  {
   "cell_type": "code",
   "execution_count": 10,
   "metadata": {},
   "outputs": [],
   "source": [
    "pipe_lr = Pipeline([\n",
    "    ('cvec', CountVectorizer(stop_words=new_stopwords)), #use our new stopwords\n",
    "    ('lr', LogisticRegression())\n",
    "])"
   ]
  },
  {
   "cell_type": "markdown",
   "metadata": {},
   "source": [
    "### Keep track of GridsearchCV runs"
   ]
  },
  {
   "cell_type": "code",
   "execution_count": 11,
   "metadata": {},
   "outputs": [],
   "source": [
    "model_params_lr = {}\n",
    "count_lr = 0"
   ]
  },
  {
   "cell_type": "code",
   "execution_count": 12,
   "metadata": {},
   "outputs": [
    {
     "data": {
      "text/html": [
       "<div>\n",
       "<style scoped>\n",
       "    .dataframe tbody tr th:only-of-type {\n",
       "        vertical-align: middle;\n",
       "    }\n",
       "\n",
       "    .dataframe tbody tr th {\n",
       "        vertical-align: top;\n",
       "    }\n",
       "\n",
       "    .dataframe thead th {\n",
       "        text-align: right;\n",
       "    }\n",
       "</style>\n",
       "<table border=\"1\" class=\"dataframe\">\n",
       "  <thead>\n",
       "    <tr style=\"text-align: right;\">\n",
       "      <th></th>\n",
       "      <th>cvec__max_df</th>\n",
       "      <th>cvec__max_features</th>\n",
       "      <th>cvec__min_df</th>\n",
       "      <th>cvec__ngram_range</th>\n",
       "      <th>score</th>\n",
       "    </tr>\n",
       "  </thead>\n",
       "  <tbody>\n",
       "    <tr>\n",
       "      <th>model_1</th>\n",
       "      <td>0.9</td>\n",
       "      <td>3000</td>\n",
       "      <td>2</td>\n",
       "      <td>(1, 2)</td>\n",
       "      <td>0.753741</td>\n",
       "    </tr>\n",
       "  </tbody>\n",
       "</table>\n",
       "</div>"
      ],
      "text/plain": [
       "         cvec__max_df  cvec__max_features  cvec__min_df cvec__ngram_range  \\\n",
       "model_1           0.9                3000             2            (1, 2)   \n",
       "\n",
       "            score  \n",
       "model_1  0.753741  "
      ]
     },
     "execution_count": 12,
     "metadata": {},
     "output_type": "execute_result"
    }
   ],
   "source": [
    "#Scaffolding\n",
    "pipe_params_lr = {\n",
    "    'cvec__max_features' : [2000, 3000, 4000, 5000], \n",
    "    'cvec__min_df' : [2,3],\n",
    "    'cvec__max_df' : [.90,95],\n",
    "    'cvec__ngram_range' : [(1,1), (1,2)]\n",
    "}\n",
    "\n",
    "gs_lr = GridSearchCV(pipe_lr, # what object are we optimizing?\n",
    "                  param_grid=pipe_params_lr, # what parameters values are we searching?\n",
    "                  cv = 5) # 5-fold cross-validation.\n",
    "\n",
    "gs_lr.fit(X_train, y_train)\n",
    "\n",
    "#this takes the best params dictionary and adds a column called score\n",
    "gs_lr.best_params_['score'] = gs_lr.best_score_\n",
    "\n",
    "#make a counter\n",
    "count_lr +=1\n",
    "\n",
    "#create new column with best params\n",
    "model_params_lr[f'model_{count_lr}'] = gs_lr.best_params_\n",
    "\n",
    "#orient sideways\n",
    "model_lr_df = pd.DataFrame.from_dict(model_params_lr, orient='index')\n",
    "model_lr_df"
   ]
  },
  {
   "cell_type": "code",
   "execution_count": 13,
   "metadata": {},
   "outputs": [
    {
     "data": {
      "text/plain": [
       "0.7537414965986393"
      ]
     },
     "execution_count": 13,
     "metadata": {},
     "output_type": "execute_result"
    }
   ],
   "source": [
    "gs_lr.best_score_ ##cross validated"
   ]
  },
  {
   "cell_type": "code",
   "execution_count": 14,
   "metadata": {},
   "outputs": [
    {
     "name": "stdout",
     "output_type": "stream",
     "text": [
      "Train accuracy: 0.9884353741496599\n",
      "Test accuracy: 0.7306122448979592\n"
     ]
    }
   ],
   "source": [
    "print(f'Train accuracy: {gs_lr.score(X_train, y_train)}')\n",
    "print(f'Test accuracy: {gs_lr.score(X_test, y_test)}')"
   ]
  },
  {
   "cell_type": "markdown",
   "metadata": {},
   "source": [
    "### Our model is very overfit. Where are we having the most trouble?"
   ]
  },
  {
   "cell_type": "code",
   "execution_count": 15,
   "metadata": {},
   "outputs": [],
   "source": [
    "preds_lr = gs_lr.predict(X_test)\n",
    "\n",
    "# Save confusion matrix values\n",
    "tn, fp, fn, tp = confusion_matrix(y_test, preds_lr).ravel()"
   ]
  },
  {
   "cell_type": "code",
   "execution_count": 16,
   "metadata": {},
   "outputs": [
    {
     "data": {
      "image/png": "[encoded data removed]",
      "text/plain": [
       "<Figure size 432x288 with 2 Axes>"
      ]
     },
     "metadata": {
      "needs_background": "light"
     },
     "output_type": "display_data"
    }
   ],
   "source": [
    "# View confusion matrix\n",
    "plot_confusion_matrix(gs_lr, X_test, y_test, cmap='Blues', values_format='d');"
   ]
  },
  {
   "cell_type": "code",
   "execution_count": 17,
   "metadata": {},
   "outputs": [
    {
     "data": {
      "image/png": "[encoded data removed]",
      "text/plain": [
       "<Figure size 432x288 with 2 Axes>"
      ]
     },
     "metadata": {
      "needs_background": "light"
     },
     "output_type": "display_data"
    }
   ],
   "source": [
    "# View normalized confusion matrix\n",
    "plot_confusion_matrix(gs_lr, X_test, y_test, cmap='Blues', normalize='true');"
   ]
  },
  {
   "cell_type": "markdown",
   "metadata": {},
   "source": [
    "# Random Forest"
   ]
  },
  {
   "cell_type": "code",
   "execution_count": 18,
   "metadata": {},
   "outputs": [],
   "source": [
    "pipe_rf = Pipeline([\n",
    "    ('cvec', CountVectorizer(stop_words=new_stopwords)), #use new stopwords\n",
    "    ('rf', RandomForestClassifier())\n",
    "])"
   ]
  },
  {
   "cell_type": "code",
   "execution_count": 19,
   "metadata": {},
   "outputs": [],
   "source": [
    "model_params = {}\n",
    "count = 0"
   ]
  },
  {
   "cell_type": "code",
   "execution_count": 20,
   "metadata": {},
   "outputs": [
    {
     "data": {
      "text/html": [
       "<div>\n",
       "<style scoped>\n",
       "    .dataframe tbody tr th:only-of-type {\n",
       "        vertical-align: middle;\n",
       "    }\n",
       "\n",
       "    .dataframe tbody tr th {\n",
       "        vertical-align: top;\n",
       "    }\n",
       "\n",
       "    .dataframe thead th {\n",
       "        text-align: right;\n",
       "    }\n",
       "</style>\n",
       "<table border=\"1\" class=\"dataframe\">\n",
       "  <thead>\n",
       "    <tr style=\"text-align: right;\">\n",
       "      <th></th>\n",
       "      <th>rf__max_depth</th>\n",
       "      <th>rf__max_features</th>\n",
       "      <th>rf__n_estimators</th>\n",
       "      <th>score</th>\n",
       "    </tr>\n",
       "  </thead>\n",
       "  <tbody>\n",
       "    <tr>\n",
       "      <th>model_1</th>\n",
       "      <td>6</td>\n",
       "      <td>None</td>\n",
       "      <td>95</td>\n",
       "      <td>0.709524</td>\n",
       "    </tr>\n",
       "  </tbody>\n",
       "</table>\n",
       "</div>"
      ],
      "text/plain": [
       "         rf__max_depth rf__max_features  rf__n_estimators     score\n",
       "model_1              6             None                95  0.709524"
      ]
     },
     "execution_count": 20,
     "metadata": {},
     "output_type": "execute_result"
    }
   ],
   "source": [
    "#Scaffolding\n",
    "\n",
    "params_rf = {\n",
    "    'rf__n_estimators' : [85,90,95], #number of trees\n",
    "    'rf__max_features' : [None], \n",
    "    'rf__max_depth' : [6]\n",
    "    \n",
    "}\n",
    "\n",
    "gs_rf = GridSearchCV(pipe_rf, \n",
    "                 param_grid=params_rf,\n",
    "                 cv=5)\n",
    "\n",
    "gs_rf.fit(X_train, y_train)\n",
    "\n",
    "#this takes the best params dictionary and adds a column called score\n",
    "gs_rf.best_params_['score'] = gs_rf.best_score_\n",
    "\n",
    "#make a counter\n",
    "count +=1\n",
    "\n",
    "#create new column with best params\n",
    "model_params[f'model_{count}'] = gs_rf.best_params_\n",
    "\n",
    "#orient sideways\n",
    "model_df = pd.DataFrame.from_dict(model_params, orient='index')\n",
    "model_df\n",
    "\n",
    "#adapted from DSI lesson "
   ]
  },
  {
   "cell_type": "code",
   "execution_count": 21,
   "metadata": {},
   "outputs": [
    {
     "name": "stdout",
     "output_type": "stream",
     "text": [
      "Train accuracy: 0.7285714285714285\n",
      "Test accuracy: 0.6693877551020408\n"
     ]
    }
   ],
   "source": [
    "print(f'Train accuracy: {gs_rf.score(X_train, y_train)}')\n",
    "print(f'Test accuracy: {gs_rf.score(X_test, y_test)}')"
   ]
  },
  {
   "cell_type": "markdown",
   "metadata": {},
   "source": [
    "## Our model is still performing above the baseline, but let's investigate how we might get a better prediction"
   ]
  },
  {
   "cell_type": "markdown",
   "metadata": {},
   "source": [
    "---------"
   ]
  },
  {
   "cell_type": "markdown",
   "metadata": {},
   "source": [
    "# Most Frequent Words"
   ]
  },
  {
   "cell_type": "code",
   "execution_count": 22,
   "metadata": {},
   "outputs": [],
   "source": [
    "def most_freq(subreddit):\n",
    "    \n",
    "    #instantiate CountVectorizer\n",
    "    cvec_df = CountVectorizer(stop_words=new_stopwords)\n",
    "    \n",
    "    #select subreddit and fit\n",
    "    X_series = alexa_google[alexa_google['subreddit'] == subreddit]['text']\n",
    "    X_series =  cvec_df.fit_transform(X_series)\n",
    "    \n",
    "    #convert to a dataframe\n",
    "    X_df = pd.DataFrame(X_series.toarray(),\n",
    "    columns=cvec_df.get_feature_names())\n",
    "    \n",
    "    # create empty dictionary\n",
    "    top_words = {}\n",
    "\n",
    "    # loop through columns\n",
    "    for i in X_df.columns:\n",
    "        # save sum of each column in dictionary\n",
    "        top_words[i] =  X_df[i].sum()\n",
    "\n",
    "    # top_words to dataframe sorted by highest occurance\n",
    "    most_freq = pd.DataFrame(sorted(top_words.items(), key = lambda x: x[1], reverse = True))\n",
    "    \n",
    "    return most_freq"
   ]
  },
  {
   "cell_type": "markdown",
   "metadata": {},
   "source": [
    "### GoogleHome"
   ]
  },
  {
   "cell_type": "code",
   "execution_count": 23,
   "metadata": {},
   "outputs": [],
   "source": [
    "google_most_freq =  most_freq('googlehome')"
   ]
  },
  {
   "cell_type": "code",
   "execution_count": 24,
   "metadata": {},
   "outputs": [
    {
     "data": {
      "image/png": "[encoded data removed]",
      "text/plain": [
       "<Figure size 1440x576 with 1 Axes>"
      ]
     },
     "metadata": {
      "needs_background": "light"
     },
     "output_type": "display_data"
    }
   ],
   "source": [
    "plt.figure(figsize=(20,8))\n",
    "plt.bar(google_most_freq[0][:25], google_most_freq[1][:25])\n",
    "plt.title('Most Frequent Words in GoogleHome Subreddit');"
   ]
  },
  {
   "cell_type": "markdown",
   "metadata": {},
   "source": [
    "### Alexa"
   ]
  },
  {
   "cell_type": "code",
   "execution_count": 25,
   "metadata": {},
   "outputs": [],
   "source": [
    "alexa_most_freq = most_freq('alexa')"
   ]
  },
  {
   "cell_type": "code",
   "execution_count": 26,
   "metadata": {},
   "outputs": [
    {
     "data": {
      "image/png": "[encoded data removed]",
      "text/plain": [
       "<Figure size 1440x576 with 1 Axes>"
      ]
     },
     "metadata": {
      "needs_background": "light"
     },
     "output_type": "display_data"
    }
   ],
   "source": [
    "plt.figure(figsize=(20,8))\n",
    "plt.bar(alexa_most_freq[0][:25], alexa_most_freq[1][:25])\n",
    "plt.title('Most Frequent Words in Alexa Subreddit');"
   ]
  },
  {
   "cell_type": "markdown",
   "metadata": {},
   "source": [
    "# Improving Random Forest with Bagging/Boosting and The Voting Classifier"
   ]
  },
  {
   "cell_type": "code",
   "execution_count": 27,
   "metadata": {},
   "outputs": [
    {
     "name": "stdout",
     "output_type": "stream",
     "text": [
      "Duration: 0.5662230968475341 min\n"
     ]
    },
    {
     "data": {
      "text/plain": [
       "{'vote__ada__n_estimators': 65,\n",
       " 'vote__bag__n_estimators': 75,\n",
       " 'vote__rf__max_depth': 6,\n",
       " 'vote__rf__max_features': None,\n",
       " 'vote__rf__n_estimators': 95}"
      ]
     },
     "execution_count": 27,
     "metadata": {},
     "output_type": "execute_result"
    }
   ],
   "source": [
    "#start timer\n",
    "t0 = time.time()\n",
    "\n",
    "#create a voting classifier\n",
    "vote = VotingClassifier([\n",
    "      ('bag', BaggingClassifier()),\n",
    "    ('ada', AdaBoostClassifier()),\n",
    "    ('rf', RandomForestClassifier()),\n",
    "#     ('svc', LinearSVC(max_iter=3000))\n",
    "])\n",
    "\n",
    "#create a pipeline\n",
    "pipe_boost = Pipeline([\n",
    "    ('cvec', CountVectorizer(stop_words=new_stopwords)),\n",
    "    ('vote', vote)\n",
    "])\n",
    "\n",
    "\n",
    "#will want to run through GridSearchCV\n",
    "\n",
    "params_boost = {\n",
    "    'vote__ada__n_estimators' : [65],\n",
    "    'vote__bag__n_estimators' : [75,80],\n",
    "    'vote__rf__n_estimators' : [95],\n",
    "    'vote__rf__max_features' : [None], \n",
    "    'vote__rf__max_depth' : [6]\n",
    "}\n",
    "\n",
    "gs_boost = GridSearchCV(pipe_boost,\n",
    "                 param_grid=params_boost,\n",
    "                 cv=5,\n",
    "                 n_jobs=8)\n",
    "\n",
    "gs_boost.fit(X_train, y_train)\n",
    "print(f'Duration: {(time.time() - t0)/ 60} min')\n",
    "\n",
    "gs_boost.best_params_"
   ]
  },
  {
   "cell_type": "code",
   "execution_count": 28,
   "metadata": {},
   "outputs": [
    {
     "name": "stdout",
     "output_type": "stream",
     "text": [
      "Train accuracy: 0.8850340136054422\n",
      "Test accuracy: 0.7326530612244898\n"
     ]
    }
   ],
   "source": [
    "print(f'Train accuracy: {gs_boost.score(X_train, y_train)}')\n",
    "print(f'Test accuracy: {gs_boost.score(X_test, y_test)}')"
   ]
  },
  {
   "cell_type": "markdown",
   "metadata": {},
   "source": [
    "# Naive Bayes"
   ]
  },
  {
   "cell_type": "code",
   "execution_count": 29,
   "metadata": {},
   "outputs": [],
   "source": [
    "pipe_nb = Pipeline([\n",
    "    ('cvec', CountVectorizer(stop_words=new_stopwords)),\n",
    "    ('nb',MultinomialNB())\n",
    "])\n",
    "\n"
   ]
  },
  {
   "cell_type": "code",
   "execution_count": 30,
   "metadata": {},
   "outputs": [],
   "source": [
    "model_params_nb = {}\n",
    "count_nb = 0"
   ]
  },
  {
   "cell_type": "code",
   "execution_count": 31,
   "metadata": {},
   "outputs": [
    {
     "data": {
      "text/html": [
       "<div>\n",
       "<style scoped>\n",
       "    .dataframe tbody tr th:only-of-type {\n",
       "        vertical-align: middle;\n",
       "    }\n",
       "\n",
       "    .dataframe tbody tr th {\n",
       "        vertical-align: top;\n",
       "    }\n",
       "\n",
       "    .dataframe thead th {\n",
       "        text-align: right;\n",
       "    }\n",
       "</style>\n",
       "<table border=\"1\" class=\"dataframe\">\n",
       "  <thead>\n",
       "    <tr style=\"text-align: right;\">\n",
       "      <th></th>\n",
       "      <th>cvec__max_df</th>\n",
       "      <th>cvec__max_features</th>\n",
       "      <th>cvec__min_df</th>\n",
       "      <th>cvec__ngram_range</th>\n",
       "      <th>score</th>\n",
       "    </tr>\n",
       "  </thead>\n",
       "  <tbody>\n",
       "    <tr>\n",
       "      <th>model_1</th>\n",
       "      <td>95</td>\n",
       "      <td>5000</td>\n",
       "      <td>3</td>\n",
       "      <td>(1, 2)</td>\n",
       "      <td>0.730612</td>\n",
       "    </tr>\n",
       "  </tbody>\n",
       "</table>\n",
       "</div>"
      ],
      "text/plain": [
       "         cvec__max_df  cvec__max_features  cvec__min_df cvec__ngram_range  \\\n",
       "model_1            95                5000             3            (1, 2)   \n",
       "\n",
       "            score  \n",
       "model_1  0.730612  "
      ]
     },
     "execution_count": 31,
     "metadata": {},
     "output_type": "execute_result"
    }
   ],
   "source": [
    "#Scaffolding\n",
    "pipe_params_nb = {\n",
    "    'cvec__max_features' : [2000,2500,5000], \n",
    "    'cvec__min_df' : [2,3],\n",
    "    'cvec__max_df' : [95],\n",
    "    'cvec__ngram_range' : [(1,2)]\n",
    "}\n",
    "\n",
    "gs_nb = GridSearchCV(pipe_nb, # what object are we optimizing?\n",
    "                  param_grid=pipe_params_nb, # what parameters values are we searching?\n",
    "                  cv = 5) # 5-fold cross-validation.\n",
    "\n",
    "gs_nb.fit(X_train, y_train)\n",
    "\n",
    "#this takes the best params dictionary and adds a column called score\n",
    "gs_nb.best_params_['score'] = gs_nb.best_score_\n",
    "\n",
    "#make a counter\n",
    "count_nb +=1\n",
    "\n",
    "#create new column with best params\n",
    "model_params_nb[f'model_{count_nb}'] = gs_nb.best_params_\n",
    "\n",
    "#orient sideways\n",
    "model_nb_df = pd.DataFrame.from_dict(model_params_nb, orient='index')\n",
    "model_nb_df"
   ]
  },
  {
   "cell_type": "code",
   "execution_count": 32,
   "metadata": {},
   "outputs": [
    {
     "name": "stdout",
     "output_type": "stream",
     "text": [
      "Train accuracy: 0.9081632653061225\n",
      "Test accuracy: 0.7428571428571429\n"
     ]
    }
   ],
   "source": [
    "print(f'Train accuracy: {gs_nb.score(X_train, y_train)}')\n",
    "print(f'Test accuracy: {gs_nb.score(X_test, y_test)}')"
   ]
  },
  {
   "cell_type": "markdown",
   "metadata": {},
   "source": [
    "# Conclusion: The Logistic Regression model was my best performing model, depending on how much variance you are okay with."
   ]
  },
  {
   "cell_type": "code",
   "execution_count": null,
   "metadata": {},
   "outputs": [],
   "source": []
  }
 ],
 "metadata": {
  "kernelspec": {
   "display_name": "Python 3",
   "language": "python",
   "name": "python3"
  },
  "language_info": {
   "codemirror_mode": {
    "name": "ipython",
    "version": 3
   },
   "file_extension": ".py",
   "mimetype": "text/x-python",
   "name": "python",
   "nbconvert_exporter": "python",
   "pygments_lexer": "ipython3",
   "version": "3.7.7"
  }
 },
 "nbformat": 4,
 "nbformat_minor": 4
}
